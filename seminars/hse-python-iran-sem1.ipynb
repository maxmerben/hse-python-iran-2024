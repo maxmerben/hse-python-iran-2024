{
 "cells": [
  {
   "cell_type": "markdown",
   "id": "75330583-925b-44c6-bfde-2ed6a5593296",
   "metadata": {},
   "source": [
    "# Семинар 1"
   ]
  },
  {
   "cell_type": "markdown",
   "id": "82d89f9a-373b-45c9-b235-20fc08af8d3b",
   "metadata": {},
   "source": [
    "## Подготовка рабочей среды"
   ]
  },
  {
   "cell_type": "markdown",
   "id": "91b92156-087a-44df-ad37-90850c26a319",
   "metadata": {},
   "source": [
    "- **Python** (язык программирования)\n",
    "- **Jupyter Notebook** («оболочка» для удобного написания кода)\n",
    "    - онлайн-альтернатива: [Google Colab](https://colab.google/)\n",
    "    - [гайд по запуску Jupyter Notebook](https://docs.jupyter.org/en/latest/running.html)"
   ]
  },
  {
   "cell_type": "markdown",
   "id": "05967b6a-70c7-47d7-bea3-4738253cd242",
   "metadata": {},
   "source": [
    "Jupyter Notebook позволяет создавать файлы формата `.ipynb` (*iPython notebooks*), или по-простому «**тетрадки**». Они состоят из автономных ячеек-блоков. Ячейки бывают двух типов: с кодом и с текстом."
   ]
  },
  {
   "cell_type": "markdown",
   "id": "b104a0f2-b0ad-44a0-89ef-420b4971e4c7",
   "metadata": {},
   "source": [
    "В ячейках с текстом можно использовать **Markdown** — минималистичный язык разметки текста. Вот **[краткая справка](https://www.markdownguide.org/cheat-sheet/)** по основным функциям Markdown.\n",
    "\n",
    "Самое главное, что может пригодиться: заголовки разных уровней, выделение **жирным** / *курсивом*, [гиперссылки](https://www.youtube.com/watch?v=f-gi8k4IRh8), простые списки."
   ]
  },
  {
   "cell_type": "markdown",
   "id": "b3512245-2bc9-4683-b5a9-230770900f71",
   "metadata": {},
   "source": [
    "## Операции с числами"
   ]
  },
  {
   "cell_type": "markdown",
   "id": "6180b451-aee1-4da7-aa19-887580a35f77",
   "metadata": {},
   "source": [
    "Сложение, вычитание, умножение и деление:"
   ]
  },
  {
   "cell_type": "code",
   "execution_count": 1,
   "id": "ca7311c9-0c09-42aa-b019-c827c6bfa2f6",
   "metadata": {},
   "outputs": [
    {
     "name": "stdout",
     "output_type": "stream",
     "text": [
      "34\n",
      "14\n",
      "240\n",
      "2.4\n"
     ]
    }
   ],
   "source": [
    "print(24 + 10)\n",
    "print(24 - 10)\n",
    "print(24 * 10)\n",
    "print(24 / 10)"
   ]
  },
  {
   "cell_type": "markdown",
   "id": "c76ee5dd-c6ad-4748-b4c5-3b0499a6504d",
   "metadata": {},
   "source": [
    "Деление нацело (без остатка) и остаток:"
   ]
  },
  {
   "cell_type": "code",
   "execution_count": 2,
   "id": "513d5e56-a443-4c89-abb3-3ee40438b62d",
   "metadata": {},
   "outputs": [
    {
     "name": "stdout",
     "output_type": "stream",
     "text": [
      "2.4\n",
      "2\n",
      "4\n"
     ]
    }
   ],
   "source": [
    "print(24 / 10)   # обычное деление\n",
    "print(24 // 10)  # без остатка\n",
    "print(24 % 10)   # остаток"
   ]
  },
  {
   "cell_type": "markdown",
   "id": "2e2af2d6-c7a4-41bb-97a1-886024bb081b",
   "metadata": {},
   "source": [
    "Можно использовать скобки, чтобы указывать порядок выполнения операций:"
   ]
  },
  {
   "cell_type": "code",
   "execution_count": 3,
   "id": "476eefbd-3d72-4f10-a71d-cef3b0b41f55",
   "metadata": {},
   "outputs": [
    {
     "data": {
      "text/plain": [
       "22.0"
      ]
     },
     "execution_count": 3,
     "metadata": {},
     "output_type": "execute_result"
    }
   ],
   "source": [
    "24 - 20 / 10"
   ]
  },
  {
   "cell_type": "code",
   "execution_count": 4,
   "id": "aa0f5546-2916-415c-8f59-dd0dc7b09a87",
   "metadata": {},
   "outputs": [
    {
     "data": {
      "text/plain": [
       "22.0"
      ]
     },
     "execution_count": 4,
     "metadata": {},
     "output_type": "execute_result"
    }
   ],
   "source": [
    "24 - (20 / 10)"
   ]
  },
  {
   "cell_type": "code",
   "execution_count": 5,
   "id": "77e9977f-047a-4a62-b929-6d0c83791f54",
   "metadata": {},
   "outputs": [
    {
     "data": {
      "text/plain": [
       "0.4"
      ]
     },
     "execution_count": 5,
     "metadata": {},
     "output_type": "execute_result"
    }
   ],
   "source": [
    "(24 - 20) / 10"
   ]
  },
  {
   "cell_type": "markdown",
   "id": "25b2c25d-332c-4f1e-a698-1f9377433e5c",
   "metadata": {},
   "source": [
    "## Переменные"
   ]
  },
  {
   "cell_type": "markdown",
   "id": "b42c0910-9cda-4bd1-990a-19166e852fcc",
   "metadata": {},
   "source": [
    "Переменные — это «ярлыки» для объектов."
   ]
  },
  {
   "cell_type": "code",
   "execution_count": 6,
   "id": "af7180c5-a9fa-4538-9303-262be681aa82",
   "metadata": {},
   "outputs": [],
   "source": [
    "x = 10"
   ]
  },
  {
   "cell_type": "code",
   "execution_count": 7,
   "id": "4b27cc6c-6f7a-4981-8b9d-8f0250234c72",
   "metadata": {},
   "outputs": [
    {
     "data": {
      "text/plain": [
       "10"
      ]
     },
     "execution_count": 7,
     "metadata": {},
     "output_type": "execute_result"
    }
   ],
   "source": [
    "x"
   ]
  },
  {
   "cell_type": "markdown",
   "id": "b7de5d88-ab1a-42f8-a065-c9d4d037fbb4",
   "metadata": {},
   "source": [
    "Объектом может быть число, строка или что-то ещё (пока что мы не знаем других вариантов):"
   ]
  },
  {
   "cell_type": "code",
   "execution_count": 8,
   "id": "68b2d326-967a-4167-84a3-6f7fdfcacbbe",
   "metadata": {},
   "outputs": [],
   "source": [
    "x = \"десять\""
   ]
  },
  {
   "cell_type": "markdown",
   "id": "73398a62-6a1e-4312-86b0-caaea9405210",
   "metadata": {},
   "source": [
    "Попытка вызвать переменную, которая ещё не определена, даёт ошибку, потому что питон не находит такой переменной в своей памяти:"
   ]
  },
  {
   "cell_type": "code",
   "execution_count": 9,
   "id": "e77411b2-6fc1-4e3e-bd5d-c252f713da59",
   "metadata": {},
   "outputs": [
    {
     "ename": "NameError",
     "evalue": "name 'y' is not defined",
     "output_type": "error",
     "traceback": [
      "\u001b[1;31m---------------------------------------------------------------------------\u001b[0m",
      "\u001b[1;31mNameError\u001b[0m                                 Traceback (most recent call last)",
      "Cell \u001b[1;32mIn[9], line 1\u001b[0m\n\u001b[1;32m----> 1\u001b[0m \u001b[43my\u001b[49m\n",
      "\u001b[1;31mNameError\u001b[0m: name 'y' is not defined"
     ]
    }
   ],
   "source": [
    "y"
   ]
  },
  {
   "cell_type": "code",
   "execution_count": 11,
   "id": "feff4fea-8078-42b1-89a4-cfb16be3b16d",
   "metadata": {},
   "outputs": [
    {
     "data": {
      "text/plain": [
       "14"
      ]
     },
     "execution_count": 11,
     "metadata": {},
     "output_type": "execute_result"
    }
   ],
   "source": [
    "y = 14\n",
    "y"
   ]
  },
  {
   "cell_type": "markdown",
   "id": "f6675f45-f952-44f5-8217-79840701f495",
   "metadata": {},
   "source": [
    "`print()` — это **функция**. Функции могут принимать «на вход» разные объекты и делать с ними что-то. Например, функция `print()` принимает на вход некоторое количество объектов и выводит на экран их содержимое. Запуская код с функцией, мы «вызываем» её, то есть заставляем её выполнить соответствующие действия.\n",
    "\n",
    "Объекты, которые функция принимает на вход, называются **аргументами** функции. Аргументы функции записываются в скобках после её названия (NB: *скобки нужны, даже если аргументов нет!*). Несколько аргументов перечисляются через запятую."
   ]
  },
  {
   "cell_type": "code",
   "execution_count": 12,
   "id": "976fa3fb-8e21-418b-ad38-d059902e0d14",
   "metadata": {},
   "outputs": [
    {
     "name": "stdout",
     "output_type": "stream",
     "text": [
      "текст\n"
     ]
    }
   ],
   "source": [
    "print(\"текст\")"
   ]
  },
  {
   "cell_type": "code",
   "execution_count": 13,
   "id": "bcf857a5-739e-4bc4-9a3a-e0c3cbb06db7",
   "metadata": {},
   "outputs": [
    {
     "name": "stdout",
     "output_type": "stream",
     "text": [
      "345\n"
     ]
    }
   ],
   "source": [
    "print(345)"
   ]
  },
  {
   "cell_type": "code",
   "execution_count": 14,
   "id": "7a69d4aa-2f15-4662-85da-8bb7beb53d31",
   "metadata": {},
   "outputs": [
    {
     "name": "stdout",
     "output_type": "stream",
     "text": [
      "десять\n"
     ]
    }
   ],
   "source": [
    "print(x)"
   ]
  },
  {
   "cell_type": "markdown",
   "id": "e2a35264-9c24-4605-ad43-80bdc3c2b2aa",
   "metadata": {},
   "source": [
    "Несколько аргументов `print()` по умолчанию выводятся через пробел:"
   ]
  },
  {
   "cell_type": "code",
   "execution_count": 15,
   "id": "eec25851-3388-461a-983e-815df27a3034",
   "metadata": {},
   "outputs": [
    {
     "name": "stdout",
     "output_type": "stream",
     "text": [
      "кто вообще придумал число 4\n",
      "кто вообще придумал число 4\n"
     ]
    }
   ],
   "source": [
    "print(\"кто\", \"вообще\", \"придумал\", \"число\", 4)\n",
    "print(\"кто вообще придумал число 4\")"
   ]
  },
  {
   "cell_type": "markdown",
   "id": "b359a864-f381-4022-9b83-673c7ff58bfe",
   "metadata": {},
   "source": [
    "Попытка вывести на экран несуществующую переменную приведёт к ошибке:"
   ]
  },
  {
   "cell_type": "code",
   "execution_count": 16,
   "id": "f92b7d74-63d4-4184-9427-e4cccf431853",
   "metadata": {},
   "outputs": [
    {
     "ename": "NameError",
     "evalue": "name 'z' is not defined",
     "output_type": "error",
     "traceback": [
      "\u001b[1;31m---------------------------------------------------------------------------\u001b[0m",
      "\u001b[1;31mNameError\u001b[0m                                 Traceback (most recent call last)",
      "Cell \u001b[1;32mIn[16], line 1\u001b[0m\n\u001b[1;32m----> 1\u001b[0m \u001b[38;5;28mprint\u001b[39m(\u001b[43mz\u001b[49m)\n",
      "\u001b[1;31mNameError\u001b[0m: name 'z' is not defined"
     ]
    }
   ],
   "source": [
    "print(z)"
   ]
  },
  {
   "cell_type": "markdown",
   "id": "7ed77761-05d1-4387-b493-f73bf5ab271d",
   "metadata": {},
   "source": [
    "Функция `input()` запрашивает данные у пользователя программы. Эти данные можно сохранить в переменную:"
   ]
  },
  {
   "cell_type": "code",
   "execution_count": 17,
   "id": "f1a7f8a8-7154-4248-8ff1-d341b8a52b77",
   "metadata": {},
   "outputs": [
    {
     "name": "stdin",
     "output_type": "stream",
     "text": [
      "Введите логин: saratov2001\n"
     ]
    }
   ],
   "source": [
    "x = input(\"Введите логин:\")"
   ]
  },
  {
   "cell_type": "code",
   "execution_count": 18,
   "id": "6cf81bee-86c1-4fe8-9f43-003b374e2b46",
   "metadata": {},
   "outputs": [
    {
     "data": {
      "text/plain": [
       "'saratov2001'"
      ]
     },
     "execution_count": 18,
     "metadata": {},
     "output_type": "execute_result"
    }
   ],
   "source": [
    "x"
   ]
  },
  {
   "cell_type": "markdown",
   "id": "e6ac64c4-3110-4a2f-9c1c-ef6078f4ac90",
   "metadata": {},
   "source": [
    "Объекты можно сравнивать между собой. Для этого используется оператор `==`:"
   ]
  },
  {
   "cell_type": "code",
   "execution_count": 19,
   "id": "dc8a9a7f-97cc-4bfa-b4bd-195e9337572c",
   "metadata": {},
   "outputs": [
    {
     "name": "stdout",
     "output_type": "stream",
     "text": [
      "False\n",
      "False\n",
      "False\n",
      "False\n"
     ]
    }
   ],
   "source": [
    "print(x == \"kaleme\")\n",
    "print(x == \"kaleme \")\n",
    "print(x == \"kalewe\")\n",
    "print(x == 0)"
   ]
  },
  {
   "cell_type": "code",
   "execution_count": 20,
   "id": "0a3fd4c4-bb67-4111-988a-bec2c88ff176",
   "metadata": {},
   "outputs": [
    {
     "name": "stdout",
     "output_type": "stream",
     "text": [
      "True\n",
      "False\n",
      "False\n"
     ]
    }
   ],
   "source": [
    "print(\"kaleme\" == \"kaleme\")\n",
    "print(\"kaleme\" == \"کلمه\")\n",
    "print(\"мир\" == \"война\")"
   ]
  },
  {
   "cell_type": "code",
   "execution_count": 21,
   "id": "150f6bd6-4fe1-4113-915e-83a73160699b",
   "metadata": {},
   "outputs": [
    {
     "name": "stdout",
     "output_type": "stream",
     "text": [
      "False\n",
      "True\n"
     ]
    }
   ],
   "source": [
    "print(\"алло,\" + \"салют\" == \"алло, салют\")\n",
    "print(2 * 2 * 2 * 2 * 2 == 2 ** 5)"
   ]
  },
  {
   "cell_type": "code",
   "execution_count": 22,
   "id": "7ccf99a6-7727-48f0-ae6d-2c35f2cc623a",
   "metadata": {},
   "outputs": [
    {
     "ename": "NameError",
     "evalue": "name 'z' is not defined",
     "output_type": "error",
     "traceback": [
      "\u001b[1;31m---------------------------------------------------------------------------\u001b[0m",
      "\u001b[1;31mNameError\u001b[0m                                 Traceback (most recent call last)",
      "Cell \u001b[1;32mIn[22], line 1\u001b[0m\n\u001b[1;32m----> 1\u001b[0m \u001b[38;5;28mprint\u001b[39m(x \u001b[38;5;241m==\u001b[39m \u001b[43mz\u001b[49m)\n",
      "\u001b[1;31mNameError\u001b[0m: name 'z' is not defined"
     ]
    }
   ],
   "source": [
    "print(x == z)"
   ]
  },
  {
   "cell_type": "markdown",
   "id": "80552ff2-fe4b-477e-a79d-b379c8e48635",
   "metadata": {},
   "source": [
    "**Внимание!** Не путай, иранист:\n",
    "- оператор `=` — для **приписывания**, он меняет содержание переменной и ничего не возвращает\n",
    "- оператор `==` — для **сравнения**, он не меняет содержание переменной и возвращает `True` или `False`\n",
    "_______"
   ]
  },
  {
   "cell_type": "markdown",
   "id": "ec83837d-eaa8-499c-aac4-b156b8e645ed",
   "metadata": {},
   "source": [
    "Числа также можно сравнивать с помощью операторов «больше» и «меньше»:"
   ]
  },
  {
   "cell_type": "code",
   "execution_count": 23,
   "id": "1e863ac0-6280-4bc8-b336-547396a579b7",
   "metadata": {},
   "outputs": [
    {
     "name": "stdout",
     "output_type": "stream",
     "text": [
      "True\n",
      "False\n",
      "False\n"
     ]
    }
   ],
   "source": [
    "print(3 < 4)\n",
    "print(4 < 4)\n",
    "print(8 < 4)"
   ]
  },
  {
   "cell_type": "code",
   "execution_count": 24,
   "id": "c3b79b8a-066c-460a-9f2f-33e1f7d206e1",
   "metadata": {},
   "outputs": [
    {
     "ename": "TypeError",
     "evalue": "'<' not supported between instances of 'str' and 'int'",
     "output_type": "error",
     "traceback": [
      "\u001b[1;31m---------------------------------------------------------------------------\u001b[0m",
      "\u001b[1;31mTypeError\u001b[0m                                 Traceback (most recent call last)",
      "Cell \u001b[1;32mIn[24], line 1\u001b[0m\n\u001b[1;32m----> 1\u001b[0m \u001b[38;5;28mprint\u001b[39m(\u001b[38;5;124;43m\"\u001b[39;49m\u001b[38;5;124;43mсто\u001b[39;49m\u001b[38;5;124;43m\"\u001b[39;49m\u001b[43m \u001b[49m\u001b[38;5;241;43m<\u001b[39;49m\u001b[43m \u001b[49m\u001b[38;5;241;43m4\u001b[39;49m)\n",
      "\u001b[1;31mTypeError\u001b[0m: '<' not supported between instances of 'str' and 'int'"
     ]
    }
   ],
   "source": [
    "print(\"сто\" < 4)"
   ]
  },
  {
   "cell_type": "markdown",
   "id": "14fb4354-d023-4c87-a8b2-7570d243676e",
   "metadata": {},
   "source": [
    "А также «больше или равно» и «меньше или равно» (прямо так пишется, знак «больше» или «меньше», а потом сразу «равно»):"
   ]
  },
  {
   "cell_type": "code",
   "execution_count": 25,
   "id": "a261e5d3-9610-4eed-8e66-ecc4e134ee0c",
   "metadata": {},
   "outputs": [
    {
     "name": "stdout",
     "output_type": "stream",
     "text": [
      "True\n",
      "True\n",
      "False\n"
     ]
    }
   ],
   "source": [
    "print(3 <= 4)\n",
    "print(4 <= 4)\n",
    "print(8 <= 4)"
   ]
  },
  {
   "cell_type": "markdown",
   "id": "faa50aa8-1b8b-4290-af0d-9d910932dd45",
   "metadata": {},
   "source": [
    "А также «не равно» (пишется как `!=`). Два числа, конечно же, будут «не равны» всегда, когда оператор «равно» будет выдавать `False`:"
   ]
  },
  {
   "cell_type": "code",
   "execution_count": 26,
   "id": "e92a25e0-e3bd-436e-bba7-936c5ad78f24",
   "metadata": {},
   "outputs": [
    {
     "name": "stdout",
     "output_type": "stream",
     "text": [
      "True\n",
      "False\n"
     ]
    }
   ],
   "source": [
    "print(7 * 7 == 49)\n",
    "print(7 * 7 == 47)"
   ]
  },
  {
   "cell_type": "code",
   "execution_count": 27,
   "id": "a8d040b1-7647-4299-a85b-69dbf2e496cf",
   "metadata": {},
   "outputs": [
    {
     "name": "stdout",
     "output_type": "stream",
     "text": [
      "False\n",
      "True\n"
     ]
    }
   ],
   "source": [
    "print(7 * 7 != 49)\n",
    "print(7 * 7 != 47)"
   ]
  },
  {
   "cell_type": "markdown",
   "id": "1dbab7e2-1347-4957-b9c0-d04975c6a849",
   "metadata": {},
   "source": [
    "## Операции со строками"
   ]
  },
  {
   "cell_type": "markdown",
   "id": "7579dc95-6200-469e-9c2c-5bb4f48243ad",
   "metadata": {},
   "source": [
    "### Арифметические операции"
   ]
  },
  {
   "cell_type": "markdown",
   "id": "10c06ffa-3d93-4cd5-9129-442ee1b12dce",
   "metadata": {},
   "source": [
    "Строки можно складывать:"
   ]
  },
  {
   "cell_type": "code",
   "execution_count": 28,
   "id": "33ef1ee1-6703-4d4e-9803-f2d8fc1923c2",
   "metadata": {},
   "outputs": [
    {
     "name": "stdout",
     "output_type": "stream",
     "text": [
      "птенчик любит кушать\n",
      "птенчиклюбиткушать\n"
     ]
    }
   ],
   "source": [
    "print(\"птенчик\", \"любит\", \"кушать\")\n",
    "print(\"птенчик\" + \"любит\" + \"кушать\")"
   ]
  },
  {
   "cell_type": "markdown",
   "id": "32f883fa-5691-4501-8cb3-c9e8cb3c7520",
   "metadata": {},
   "source": [
    "В отличие от `print()`, сложение не предусматривает пробелы. Их можно вставить иначе, если это необходимо:"
   ]
  },
  {
   "cell_type": "code",
   "execution_count": 29,
   "id": "0f6e129d-708c-42f3-a2b3-cc0bfc71eaad",
   "metadata": {},
   "outputs": [
    {
     "name": "stdout",
     "output_type": "stream",
     "text": [
      "птенчик любит кушать\n",
      "птенчик любит кушать\n"
     ]
    }
   ],
   "source": [
    "print(\"птенчик\" + \" \" + \"любит\" + \" \" + \"кушать\")\n",
    "print(\"птенчик \" + \"любит \" + \"кушать\")"
   ]
  },
  {
   "cell_type": "markdown",
   "id": "e10229dd-325f-4f38-b942-b9e81d22d09e",
   "metadata": {},
   "source": [
    "Другое отличие: операция сложения не просто выводит на экран, а **возвращает** новый объект. Это значит, что его можно записать в переменную:"
   ]
  },
  {
   "cell_type": "code",
   "execution_count": 30,
   "id": "70521be6-9740-4e1c-b00f-672bcba7c54c",
   "metadata": {},
   "outputs": [
    {
     "name": "stdout",
     "output_type": "stream",
     "text": [
      "птенчик любит кушать\n"
     ]
    }
   ],
   "source": [
    "stroka = \"птенчик \" + \"любит \" + \"кушать\"\n",
    "print(stroka)"
   ]
  },
  {
   "cell_type": "markdown",
   "id": "6ba87eba-4c9e-4218-8289-837badffe965",
   "metadata": {},
   "source": [
    "А `print()` просто выведет аргументы на экран, но в переменную ничего не запишет:"
   ]
  },
  {
   "cell_type": "code",
   "execution_count": 31,
   "id": "c51793c4-edce-4ff8-808b-866ae775f179",
   "metadata": {},
   "outputs": [
    {
     "name": "stdout",
     "output_type": "stream",
     "text": [
      "птенчик любит кушать\n",
      "None\n"
     ]
    }
   ],
   "source": [
    "stroka2 = print(\"птенчик \" + \"любит \" + \"кушать\")\n",
    "print(stroka2)"
   ]
  },
  {
   "cell_type": "markdown",
   "id": "1f17bd58-67e8-43ff-8d30-63dbe74dd533",
   "metadata": {},
   "source": [
    "Строки также можно умножать на числа:"
   ]
  },
  {
   "cell_type": "code",
   "execution_count": 32,
   "id": "7e64eb19-f1a0-49ef-9bbf-bb1dc5fd5a95",
   "metadata": {},
   "outputs": [
    {
     "name": "stdout",
     "output_type": "stream",
     "text": [
      "птенчик, а с ним \n",
      "птенчик, а с ним птенчик, а с ним птенчик, а с ним птенчик, а с ним птенчик, а с ним птенчик, а с ним птенчик, а с ним птенчик, а с ним птенчик, а с ним птенчик, а с ним птенчик, а с ним птенчик, а с ним птенчик, а с ним птенчик, а с ним птенчик, а с ним птенчик, а с ним птенчик, а с ним птенчик, а с ним птенчик, а с ним птенчик, а с ним птенчик, а с ним птенчик, а с ним птенчик, а с ним птенчик, а с ним птенчик, а с ним птенчик, а с ним птенчик, а с ним птенчик, а с ним птенчик, а с ним птенчик, а с ним птенчик, а с ним птенчик, а с ним птенчик, а с ним птенчик, а с ним птенчик, а с ним птенчик, а с ним птенчик, а с ним птенчик, а с ним птенчик, а с ним птенчик, а с ним птенчик, а с ним птенчик, а с ним птенчик, а с ним птенчик, а с ним птенчик, а с ним птенчик, а с ним птенчик, а с ним птенчик, а с ним птенчик, а с ним птенчик, а с ним птенчик, а с ним птенчик, а с ним птенчик, а с ним птенчик, а с ним птенчик, а с ним птенчик, а с ним птенчик, а с ним птенчик, а с ним птенчик, а с ним птенчик, а с ним птенчик, а с ним птенчик, а с ним птенчик, а с ним птенчик, а с ним птенчик, а с ним птенчик, а с ним птенчик, а с ним птенчик, а с ним птенчик, а с ним птенчик, а с ним птенчик, а с ним птенчик, а с ним птенчик, а с ним птенчик, а с ним птенчик, а с ним птенчик, а с ним птенчик, а с ним птенчик, а с ним птенчик, а с ним птенчик, а с ним птенчик, а с ним птенчик, а с ним птенчик, а с ним птенчик, а с ним птенчик, а с ним птенчик, а с ним птенчик, а с ним птенчик, а с ним птенчик, а с ним птенчик, а с ним птенчик, а с ним птенчик, а с ним птенчик, а с ним птенчик, а с ним птенчик, а с ним птенчик, а с ним птенчик, а с ним птенчик, а с ним птенчик, а с ним птенчик, а с ним \n"
     ]
    }
   ],
   "source": [
    "print(\"птенчик, а с ним \")\n",
    "print(\"птенчик, а с ним \" * 100)"
   ]
  },
  {
   "cell_type": "markdown",
   "id": "61c80616-e506-4bfb-823a-1449bbf5b899",
   "metadata": {},
   "source": [
    "Умножать строки друг на друга и вычитать одну из другой нельзя:"
   ]
  },
  {
   "cell_type": "code",
   "execution_count": 33,
   "id": "40b1a097-acd4-4d73-861f-fb573c94310b",
   "metadata": {},
   "outputs": [
    {
     "ename": "TypeError",
     "evalue": "unsupported operand type(s) for -: 'str' and 'str'",
     "output_type": "error",
     "traceback": [
      "\u001b[1;31m---------------------------------------------------------------------------\u001b[0m",
      "\u001b[1;31mTypeError\u001b[0m                                 Traceback (most recent call last)",
      "Cell \u001b[1;32mIn[33], line 1\u001b[0m\n\u001b[1;32m----> 1\u001b[0m \u001b[38;5;28mprint\u001b[39m(\u001b[43mstroka\u001b[49m\u001b[43m \u001b[49m\u001b[38;5;241;43m-\u001b[39;49m\u001b[43m \u001b[49m\u001b[38;5;124;43m\"\u001b[39;49m\u001b[38;5;124;43mкорм\u001b[39;49m\u001b[38;5;124;43m\"\u001b[39;49m)\n",
      "\u001b[1;31mTypeError\u001b[0m: unsupported operand type(s) for -: 'str' and 'str'"
     ]
    }
   ],
   "source": [
    "print(stroka - \"корм\")"
   ]
  },
  {
   "cell_type": "code",
   "execution_count": 34,
   "id": "cb90d43f-dc75-450f-bb2e-23223fafc821",
   "metadata": {},
   "outputs": [
    {
     "ename": "TypeError",
     "evalue": "can't multiply sequence by non-int of type 'str'",
     "output_type": "error",
     "traceback": [
      "\u001b[1;31m---------------------------------------------------------------------------\u001b[0m",
      "\u001b[1;31mTypeError\u001b[0m                                 Traceback (most recent call last)",
      "Cell \u001b[1;32mIn[34], line 1\u001b[0m\n\u001b[1;32m----> 1\u001b[0m \u001b[38;5;28mprint\u001b[39m(\u001b[43mstroka\u001b[49m\u001b[43m \u001b[49m\u001b[38;5;241;43m*\u001b[39;49m\u001b[43m \u001b[49m\u001b[38;5;124;43m\"\u001b[39;49m\u001b[38;5;124;43mкорм\u001b[39;49m\u001b[38;5;124;43m\"\u001b[39;49m)\n",
      "\u001b[1;31mTypeError\u001b[0m: can't multiply sequence by non-int of type 'str'"
     ]
    }
   ],
   "source": [
    "print(stroka * \"корм\")"
   ]
  },
  {
   "cell_type": "markdown",
   "id": "c52c5722-4d1c-4800-b87b-45d2664f0863",
   "metadata": {},
   "source": [
    "### Индексация"
   ]
  },
  {
   "cell_type": "markdown",
   "id": "408c5354-4a20-4a7b-af97-f31f2731d804",
   "metadata": {},
   "source": [
    "Строка — это такой объект, который состоит из отдельных элементов (в случае строки это символы). К этим элементам можно обращаться по номерам, которые называются **индексами**:"
   ]
  },
  {
   "cell_type": "code",
   "execution_count": 35,
   "id": "0c8d6f91-7407-43d8-9274-6f04709a174d",
   "metadata": {},
   "outputs": [
    {
     "name": "stdout",
     "output_type": "stream",
     "text": [
      "А\n",
      "Б\n",
      "И\n",
      "АБ\n"
     ]
    }
   ],
   "source": [
    "x = \"АБВГДЕЁЖЗИК\"\n",
    "print(x[0])\n",
    "print(x[1])\n",
    "print(x[9])\n",
    "print(x[0]+x[1])"
   ]
  },
  {
   "cell_type": "markdown",
   "id": "44bd354b-7f13-4a30-a49a-ef8d3e7ede31",
   "metadata": {},
   "source": [
    "**Внимание!** Важно запомнить: при индексации отсчёт начинается с `0`, а не с `1`.\n",
    "_________\r\n"
   ]
  },
  {
   "cell_type": "markdown",
   "id": "0c6d7c9f-7839-40ab-ba3a-ac199fdaae0e",
   "metadata": {},
   "source": [
    "Если запросить элемент с индексом, которого нет в строке (размер строки меньше), то программа выдаст ошибку:"
   ]
  },
  {
   "cell_type": "code",
   "execution_count": 36,
   "id": "b135c278-2896-477d-a6d1-eaae1fde13e3",
   "metadata": {},
   "outputs": [
    {
     "ename": "IndexError",
     "evalue": "string index out of range",
     "output_type": "error",
     "traceback": [
      "\u001b[1;31m---------------------------------------------------------------------------\u001b[0m",
      "\u001b[1;31mIndexError\u001b[0m                                Traceback (most recent call last)",
      "Cell \u001b[1;32mIn[36], line 1\u001b[0m\n\u001b[1;32m----> 1\u001b[0m \u001b[43mx\u001b[49m\u001b[43m[\u001b[49m\u001b[38;5;241;43m12\u001b[39;49m\u001b[43m]\u001b[49m\n",
      "\u001b[1;31mIndexError\u001b[0m: string index out of range"
     ]
    }
   ],
   "source": [
    "x[12]"
   ]
  },
  {
   "cell_type": "markdown",
   "id": "c5a1292d-638f-47d5-9d8a-6276f137b31c",
   "metadata": {},
   "source": [
    "Чтобы выбрать сразу несколько последовательных элементов, можно использовать **срезы**:"
   ]
  },
  {
   "cell_type": "code",
   "execution_count": 37,
   "id": "fe57388f-1ba7-40a1-b837-e764e10f6c81",
   "metadata": {},
   "outputs": [
    {
     "name": "stdout",
     "output_type": "stream",
     "text": [
      "АБВГД\n",
      "ЁЖИК\n"
     ]
    }
   ],
   "source": [
    "print(x[0:5])\n",
    "print(x[6:8] + x[9:11])"
   ]
  },
  {
   "cell_type": "markdown",
   "id": "7b3fb374-fe1f-442b-b307-1a6c2653f349",
   "metadata": {},
   "source": [
    "**Внимание!** В срезе указывается два числа:\n",
    "- до двоеточия — индекс, с которого начинается срез;\n",
    "- после двоеточия — индекс, *до* которого (не включая его) срез останавливается."
   ]
  },
  {
   "cell_type": "code",
   "execution_count": 38,
   "id": "9a8e9da5-8598-48e0-8b83-d7fe39e5ad3b",
   "metadata": {},
   "outputs": [
    {
     "name": "stdout",
     "output_type": "stream",
     "text": [
      "0123456789\n",
      "23456\n"
     ]
    }
   ],
   "source": [
    "numbers = \"0123456789\"\n",
    "print(numbers)\n",
    "print(numbers[2:7])"
   ]
  },
  {
   "cell_type": "markdown",
   "id": "aab7c127-08ab-4a22-a2bd-e1f05257c9b7",
   "metadata": {},
   "source": [
    "Одно из чисел в срезе можно пропустить. Тогда срез будет продолжаться, пока с одной из сторон строчка не закончится:"
   ]
  },
  {
   "cell_type": "code",
   "execution_count": 39,
   "id": "e8b41ed8-e1c8-4b3b-bb10-c3d4432b5e0a",
   "metadata": {},
   "outputs": [
    {
     "name": "stdout",
     "output_type": "stream",
     "text": [
      "01234\n",
      "56789\n"
     ]
    }
   ],
   "source": [
    "print(numbers[:5])\n",
    "print(numbers[5:])"
   ]
  },
  {
   "cell_type": "markdown",
   "id": "71eeaaa5-4707-4107-93d3-d1b7f8c18ac5",
   "metadata": {},
   "source": [
    "Соответственно, если не указать ни одну границу, то срез будет включать в себя всю строчку. Это не очень осмысленно, потому что быстрее просто запросить саму эту строчку:"
   ]
  },
  {
   "cell_type": "code",
   "execution_count": 40,
   "id": "f4db9fd8-284b-41d8-a236-da71f2ca0894",
   "metadata": {},
   "outputs": [
    {
     "name": "stdout",
     "output_type": "stream",
     "text": [
      "0123456789\n",
      "0123456789\n"
     ]
    }
   ],
   "source": [
    "print(numbers)\n",
    "print(numbers[:])"
   ]
  },
  {
   "cell_type": "markdown",
   "id": "dd791e11-02a1-4d4d-8e2e-498a4e84d3df",
   "metadata": {},
   "source": [
    "Есть специальная хитрость для того, чтобы отсчитывать индексы не только с начала строки, но и с конца. Для этого надо сделать индекс отрицательным:"
   ]
  },
  {
   "cell_type": "code",
   "execution_count": 41,
   "id": "fc584ba5-ca01-4c81-a775-5823d0c8c6bd",
   "metadata": {},
   "outputs": [
    {
     "name": "stdout",
     "output_type": "stream",
     "text": [
      "А\n",
      "К\n"
     ]
    }
   ],
   "source": [
    "x = \"АБВГДЕЁЖЗИК\"\n",
    "print(x[0])\n",
    "print(x[-1])"
   ]
  },
  {
   "cell_type": "markdown",
   "id": "4bfa9ed4-d8c7-4a7b-9692-5e1385fabbc5",
   "metadata": {},
   "source": [
    "Да, всё запутанно: первая буква получается с индексом `0`, а первая с конца — не `-0`, как мы бы, может быть, ожидали (так вообще нельзя сделать), а с индексом `-1`. Ничего страшного! Со временем вы освоитесь и привыкнете."
   ]
  },
  {
   "cell_type": "code",
   "execution_count": 42,
   "id": "d7cfd1f0-a1d1-467a-a1e8-ca18a2d9844e",
   "metadata": {},
   "outputs": [
    {
     "name": "stdout",
     "output_type": "stream",
     "text": [
      "от четвёртого символа с конца до второго с конца: ЖЗ\n"
     ]
    }
   ],
   "source": [
    "print(\"от четвёртого символа с конца до второго с конца:\", x[-4:-2])"
   ]
  },
  {
   "cell_type": "code",
   "execution_count": 43,
   "id": "3602f1fd-a365-4f3d-be9e-8bf00dc57bea",
   "metadata": {},
   "outputs": [
    {
     "name": "stdout",
     "output_type": "stream",
     "text": [
      "от второго с начала до второго с конца: ВГДЕЁЖЗ\n"
     ]
    }
   ],
   "source": [
    "print(\"от второго с начала до второго с конца:\", x[2:-2])"
   ]
  },
  {
   "cell_type": "code",
   "execution_count": 44,
   "id": "ae2bb0bc-934d-4782-8f1d-e5bd4cc98e51",
   "metadata": {},
   "outputs": [
    {
     "name": "stdout",
     "output_type": "stream",
     "text": [
      "от шестого с конца до конца строки: ЕЁЖЗИК\n"
     ]
    }
   ],
   "source": [
    "print(\"от шестого с конца до конца строки:\", x[-6:])"
   ]
  },
  {
   "cell_type": "markdown",
   "id": "26f1734a-211f-4906-9edd-82b50acbf618",
   "metadata": {},
   "source": [
    "### Варианты вывода строк"
   ]
  },
  {
   "cell_type": "markdown",
   "id": "02c75064-d042-4559-bc0d-1122eb16c216",
   "metadata": {},
   "source": [
    "Есть несколько более гибких способов выводить строки на экран. Первый способ — **форматирование**. Если слева от строки (слева от открывающих кавычек) приписать букву `f`, то такая строка станет «форматированной строкой», или «**f-строкой**». Внутри такой строки можно будет добавлять названия переменных, и в итоговой строке сохранятся их значения. Названия переменных надо обрамлять фигурными скобками `{}`. Осторожно, не запутайтесь в разных видах скобок!"
   ]
  },
  {
   "cell_type": "code",
   "execution_count": 45,
   "id": "02170971-36ac-4001-b208-6dd5c54ffe4d",
   "metadata": {},
   "outputs": [
    {
     "name": "stdout",
     "output_type": "stream",
     "text": [
      "[Алонцев 2019: 34–35]\n"
     ]
    }
   ],
   "source": [
    "author = \"Алонцев\"\n",
    "year = 2019\n",
    "pages = \"34–35\"\n",
    "\n",
    "print(f\"[{author} {year}: {pages}]\")"
   ]
  },
  {
   "cell_type": "markdown",
   "id": "1d9e060e-5d85-46be-b05d-499babe217c0",
   "metadata": {},
   "source": [
    "Если мы вдруг забудем написать `f` перед строкой, то питон не поймёт, что мы хотим достать переменные:"
   ]
  },
  {
   "cell_type": "code",
   "execution_count": 46,
   "id": "361259c1-ddea-423b-931c-f59cf6a3a31c",
   "metadata": {},
   "outputs": [
    {
     "name": "stdout",
     "output_type": "stream",
     "text": [
      "[{author} {year}: {pages}]\n"
     ]
    }
   ],
   "source": [
    "print(\"[{author} {year}: {pages}]\")"
   ]
  },
  {
   "cell_type": "markdown",
   "id": "e8813527-1a20-4179-a705-f74ce4b19ff8",
   "metadata": {},
   "source": [
    "Внутрь фигурных скобок можно помещать не только переменные, но и вообще любые выражения:"
   ]
  },
  {
   "cell_type": "code",
   "execution_count": 47,
   "id": "b6561980-cb99-490d-8d23-cc0d5a3b0e51",
   "metadata": {},
   "outputs": [
    {
     "name": "stdout",
     "output_type": "stream",
     "text": [
      "Число 34 — очень интересное. Если умножить на два, то будет 68.\n",
      "А если нацело разделить на восемь, прибавить 20 и всё это возвести во вторую степень — будет аж 576.\n"
     ]
    }
   ],
   "source": [
    "n = 34\n",
    "\n",
    "print(f\"Число {n} — очень интересное. Если умножить на два, то будет {n*2}.\")\n",
    "print(f\"А если нацело разделить на восемь, прибавить 20 и всё это возвести во вторую степень — будет аж {(n//8+20) ** 2}.\")"
   ]
  },
  {
   "cell_type": "code",
   "execution_count": 48,
   "id": "ea717c1f-0cd0-47d2-8b77-104b80a8a0f9",
   "metadata": {},
   "outputs": [
    {
     "name": "stdout",
     "output_type": "stream",
     "text": [
      "Первая буква: «К». Две последние буквы: «ея». По-моему, красиво!\n"
     ]
    }
   ],
   "source": [
    "stroka = \"Кассиопея\"\n",
    "\n",
    "print(f\"Первая буква: «{stroka[0]}». Две последние буквы: «{stroka[-2:]}». По-моему, красиво!\")"
   ]
  },
  {
   "cell_type": "markdown",
   "id": "e6c7b5bb-f905-45df-a216-2df93954cf1b",
   "metadata": {},
   "source": [
    "_______"
   ]
  },
  {
   "cell_type": "markdown",
   "id": "616e9865-12e6-40c4-a7cc-7a415891e911",
   "metadata": {},
   "source": [
    "Другой способ красиво оформлять вывод — использовать **именованные аргументы** функции `print()`. Эти аргументы называются `sep` и `end`.\n",
    "\n",
    "Аргумент `sep` — это **сеп**аратор. Он указывает, что функция `print()` будет вставлять между выводимыми на экран объектами:"
   ]
  },
  {
   "cell_type": "code",
   "execution_count": 49,
   "id": "19863164-6a74-4413-951f-3f88cf2f8124",
   "metadata": {},
   "outputs": [
    {
     "name": "stdout",
     "output_type": "stream",
     "text": [
      "Москва—Париж—Тегеран\n"
     ]
    }
   ],
   "source": [
    "print(\"Москва\", \"Париж\", \"Тегеран\", sep=\"—\")"
   ]
  },
  {
   "cell_type": "code",
   "execution_count": 50,
   "id": "9c9bced8-e18d-4029-913c-177ea0ac2215",
   "metadata": {},
   "outputs": [
    {
     "name": "stdout",
     "output_type": "stream",
     "text": [
      "Москва, Париж, Тегеран\n"
     ]
    }
   ],
   "source": [
    "print(\"Москва\", \"Париж\", \"Тегеран\", sep=\", \")"
   ]
  },
  {
   "cell_type": "code",
   "execution_count": 51,
   "id": "7f39c9d9-0083-4335-acd5-7ef31ed37999",
   "metadata": {},
   "outputs": [
    {
     "name": "stdout",
     "output_type": "stream",
     "text": [
      "Москва.............Париж.............Тегеран\n"
     ]
    }
   ],
   "source": [
    "print(\"Москва\", \"Париж\", \"Тегеран\", sep=\".............\")"
   ]
  },
  {
   "cell_type": "markdown",
   "id": "032a04da-bab3-48c7-8906-7e0e3ff10ca3",
   "metadata": {},
   "source": [
    "По умолчанию `sep` — это пробел. Это значит, что если его не указать эксплицитно, то между объектами будет выводиться пробел (как и было раньше, когда мы использовали эту функцию):"
   ]
  },
  {
   "cell_type": "code",
   "execution_count": 52,
   "id": "04888570-734d-40f1-8d64-2704038ab71d",
   "metadata": {},
   "outputs": [
    {
     "name": "stdout",
     "output_type": "stream",
     "text": [
      "Москва Париж Тегеран\n",
      "Москва Париж Тегеран\n"
     ]
    }
   ],
   "source": [
    "print(\"Москва\", \"Париж\", \"Тегеран\")\n",
    "print(\"Москва\", \"Париж\", \"Тегеран\", sep=\" \")"
   ]
  },
  {
   "cell_type": "markdown",
   "id": "a94c0488-ee50-4fa5-8e83-0668f4ae274e",
   "metadata": {},
   "source": [
    "Аргумент `end` указывает, что закончит вывод строки. По умолчанию это символ `\"\\n\"` — так обозначается переход на новую строку. Именно поэтому, если запустить несколько функций `print()` подряд, то результат будет напечатан на разных строчках:"
   ]
  },
  {
   "cell_type": "code",
   "execution_count": 53,
   "id": "ace0ecf2-4cc4-4b80-add9-8b173225ec4d",
   "metadata": {},
   "outputs": [
    {
     "name": "stdout",
     "output_type": "stream",
     "text": [
      "Памир вперёд!\n",
      "Памир вперёд!\n",
      "Памир вперёд!\n"
     ]
    }
   ],
   "source": [
    "print(\"Памир вперёд!\")\n",
    "print(\"Памир вперёд!\")\n",
    "print(\"Памир вперёд!\")"
   ]
  },
  {
   "cell_type": "code",
   "execution_count": 54,
   "id": "de1bd319-63c5-4c11-b23b-63edf01bfa6e",
   "metadata": {},
   "outputs": [
    {
     "name": "stdout",
     "output_type": "stream",
     "text": [
      "Памир вперёд!\n",
      "Памир вперёд!\n",
      "Памир вперёд!\n"
     ]
    }
   ],
   "source": [
    "print(\"Памир вперёд!\", end=\"\\n\")\n",
    "print(\"Памир вперёд!\", end=\"\\n\")\n",
    "print(\"Памир вперёд!\", end=\"\\n\")"
   ]
  },
  {
   "cell_type": "markdown",
   "id": "bb1feb75-6538-42d7-95db-e60faaf231dc",
   "metadata": {},
   "source": [
    "Но это можно изменить, если указать другой `end`. Например, если указать пустую строку, то следующий `print()` начнётся там же, где остановился предыдущий. А ещё можно указать любые другие последовательности символов:"
   ]
  },
  {
   "cell_type": "code",
   "execution_count": 55,
   "id": "ff2dad8c-f453-402c-b33b-b2be599eb966",
   "metadata": {},
   "outputs": [
    {
     "name": "stdout",
     "output_type": "stream",
     "text": [
      "Это принт номер один.А это принт номер два.=====Невероятно, но это принт номер три.Конец!"
     ]
    }
   ],
   "source": [
    "print(\"Это принт номер один.\", end=\"\")\n",
    "print(\"А это принт номер два.\", end=\"=====\")\n",
    "print(\"Невероятно, но это принт номер три.\", end=\"Конец!\")"
   ]
  },
  {
   "cell_type": "markdown",
   "id": "b6885fd5-c1d5-4780-81b7-a9bfb6495eba",
   "metadata": {},
   "source": [
    "Заметьте, что между основными аргументами `print()` и «концовкой» `end` **не** используется сепаратор `sep`. Поэтому `end` не стоит воспринимать как «последний» основной аргумент:"
   ]
  },
  {
   "cell_type": "code",
   "execution_count": 56,
   "id": "606134d8-a882-4d0c-9b4f-827c3bf12f55",
   "metadata": {},
   "outputs": [
    {
     "name": "stdout",
     "output_type": "stream",
     "text": [
      "Москва→→→Париж→→→Тегеран→→→Кейптаун\n",
      "Москва→→→Париж→→→ТегеранКейптаун"
     ]
    }
   ],
   "source": [
    "print(\"Москва\", \"Париж\", \"Тегеран\", \"Кейптаун\", sep=\"→→→\")\n",
    "\n",
    "print(\"Москва\", \"Париж\", \"Тегеран\", sep=\"→→→\", end=\"Кейптаун\")"
   ]
  },
  {
   "cell_type": "markdown",
   "id": "3e589dd3-4ce5-4afa-ab44-b508ebf09e8a",
   "metadata": {},
   "source": [
    "_______\n",
    "**Внимание**! Несколько важных правил, которые надо запомнить:\n",
    "1. Именованные аргументы всегда идут после неименованных.\n",
    "2. Иногда именованные аргументы можно не именовать (то есть вставлять в функцию без указания имени), но в случае с функцией `print()` это надо делать всегда. (Да и вообще по жизни так лучше делать всегда.)"
   ]
  },
  {
   "cell_type": "markdown",
   "id": "65c720ef-5e99-404e-aaa5-400ebdd4c0f4",
   "metadata": {},
   "source": [
    "Если подать именованные аргументы перед неименованными, будет ошибка:"
   ]
  },
  {
   "cell_type": "code",
   "execution_count": 57,
   "id": "96f66d30-7850-45ed-89b3-2640cf6ca6d6",
   "metadata": {},
   "outputs": [
    {
     "name": "stdout",
     "output_type": "stream",
     "text": [
      "Тут никакой ошибки нет. === И быть не может.\n"
     ]
    }
   ],
   "source": [
    "print(\"Тут никакой ошибки нет.\", \"И быть не может.\", sep=\" === \")"
   ]
  },
  {
   "cell_type": "code",
   "execution_count": 58,
   "id": "99f1abc5-b4a8-421d-8d92-629ad96df866",
   "metadata": {},
   "outputs": [
    {
     "ename": "SyntaxError",
     "evalue": "positional argument follows keyword argument (3541642268.py, line 1)",
     "output_type": "error",
     "traceback": [
      "\u001b[1;36m  Cell \u001b[1;32mIn[58], line 1\u001b[1;36m\u001b[0m\n\u001b[1;33m    print(sep=\" === \", \"А вот тут ошибка будет.\", \"Зуб даю.\")\u001b[0m\n\u001b[1;37m                                                            ^\u001b[0m\n\u001b[1;31mSyntaxError\u001b[0m\u001b[1;31m:\u001b[0m positional argument follows keyword argument\n"
     ]
    }
   ],
   "source": [
    "print(sep=\" === \", \"А вот тут ошибка будет.\", \"Зуб даю.\")"
   ]
  },
  {
   "cell_type": "markdown",
   "id": "833e7ad0-20e4-4276-b157-43a933ece05b",
   "metadata": {},
   "source": [
    "Если подать именованные аргументы без имени, то `print()` просто не поймёт, что вы имели в виду, что вот эта строчка в конце должна была быть, например, сепаратором:"
   ]
  },
  {
   "cell_type": "code",
   "execution_count": 59,
   "id": "58a5e8bd-5be6-4112-92c9-04fa926a8903",
   "metadata": {},
   "outputs": [
    {
     "name": "stdout",
     "output_type": "stream",
     "text": [
      "Привет! :) Как дела? :) Давай поболтаем?\n"
     ]
    }
   ],
   "source": [
    "print(\"Привет!\", \"Как дела?\", \"Давай поболтаем?\", sep=\" :) \")"
   ]
  },
  {
   "cell_type": "code",
   "execution_count": 60,
   "id": "86c6cb7b-f013-4bfd-b16b-fca5f2ea74f8",
   "metadata": {},
   "outputs": [
    {
     "name": "stdout",
     "output_type": "stream",
     "text": [
      "Привет! Как дела? Давай поболтаем?  :) \n"
     ]
    }
   ],
   "source": [
    "print(\"Привет!\", \"Как дела?\", \"Давай поболтаем?\", \" :) \")"
   ]
  },
  {
   "cell_type": "markdown",
   "id": "313af2af-4345-4d4f-a8e9-0e50f27a1a3a",
   "metadata": {},
   "source": [
    "## Типы данных"
   ]
  },
  {
   "cell_type": "markdown",
   "id": "edd696d1-e61b-45e3-b371-be33df68a669",
   "metadata": {},
   "source": [
    "Каждый объект принадлежит к определённому типу. Тип объекта определяет, например, какие функции можно применять к этому объекту."
   ]
  },
  {
   "cell_type": "markdown",
   "id": "dc13e09a-4b0b-4bcb-8314-eb47c2c77fce",
   "metadata": {},
   "source": [
    "Пока что нам будут нужны четыре типа данных:\n",
    "\n",
    "- `int` (целые числа)\n",
    "- `float` (вещественные числа, то есть числа с «плавающей» запятой)\n",
    "- `str` (строки текста)\n",
    "- `bool` (логические, или «булевы» значения: `True` и `False`)"
   ]
  },
  {
   "cell_type": "markdown",
   "id": "d2f4a7cf-6ab9-458c-8166-580064af3ab1",
   "metadata": {},
   "source": [
    "Определить тип переменной можно с помощью функции `type()`:"
   ]
  },
  {
   "cell_type": "code",
   "execution_count": 61,
   "id": "8b4ce5a4-cd3c-431a-acb4-28d2a944a1ce",
   "metadata": {},
   "outputs": [
    {
     "name": "stdout",
     "output_type": "stream",
     "text": [
      "<class 'str'>\n"
     ]
    }
   ],
   "source": [
    "print(type(\"stroka\"))"
   ]
  },
  {
   "cell_type": "code",
   "execution_count": 62,
   "id": "50f58b07-12ba-4d65-b0d1-f846c5ae0e29",
   "metadata": {},
   "outputs": [
    {
     "name": "stdout",
     "output_type": "stream",
     "text": [
      "<class 'int'>\n"
     ]
    }
   ],
   "source": [
    "print(type(0))"
   ]
  },
  {
   "cell_type": "code",
   "execution_count": 63,
   "id": "0efc21c5-515e-4839-a18e-3b2006a40b28",
   "metadata": {},
   "outputs": [
    {
     "name": "stdout",
     "output_type": "stream",
     "text": [
      "<class 'int'>\n"
     ]
    }
   ],
   "source": [
    "print(type(-45))"
   ]
  },
  {
   "cell_type": "code",
   "execution_count": 64,
   "id": "7c6b43ba-d34c-4ef4-92b9-c6de7139e619",
   "metadata": {},
   "outputs": [
    {
     "name": "stdout",
     "output_type": "stream",
     "text": [
      "<class 'str'>\n"
     ]
    }
   ],
   "source": [
    "print(type(\"-45\"))"
   ]
  },
  {
   "cell_type": "code",
   "execution_count": 65,
   "id": "fe1db76f-d1cd-445f-8110-6cdb85871258",
   "metadata": {},
   "outputs": [
    {
     "name": "stdout",
     "output_type": "stream",
     "text": [
      "<class 'float'>\n"
     ]
    }
   ],
   "source": [
    "print(type(34.67))"
   ]
  },
  {
   "cell_type": "markdown",
   "id": "c03af282-5812-4137-865c-82b84b6665c4",
   "metadata": {},
   "source": [
    "Заметьте, что числа типа `float` не обязательно имеют ненулевую дробную часть. Этот тип может хранить и целые числа. Что на самом деле отличает его от `int`, так это то, что он всегда содержит «плавающую» запятую (*NB*: в питоне запятая перед дробной частью обозначается точкой). Можно сказать так: числа `float` — это такие числа, которые всегда имеют дробную часть, если учитывать, что эта дробная часть может быть нулём."
   ]
  },
  {
   "cell_type": "code",
   "execution_count": 66,
   "id": "f2f65a0b-1024-4eee-b6a9-4d6a63320fc0",
   "metadata": {},
   "outputs": [
    {
     "name": "stdout",
     "output_type": "stream",
     "text": [
      "<class 'float'>\n"
     ]
    }
   ],
   "source": [
    "print(type(9.0))"
   ]
  },
  {
   "cell_type": "code",
   "execution_count": 67,
   "id": "87bdb49a-83f8-4453-a5f3-164b16811ab4",
   "metadata": {},
   "outputs": [
    {
     "name": "stdout",
     "output_type": "stream",
     "text": [
      "<class 'int'>\n"
     ]
    }
   ],
   "source": [
    "print(type(9))"
   ]
  },
  {
   "cell_type": "markdown",
   "id": "38e34900-fa23-451a-bb81-0b0ab5169b32",
   "metadata": {},
   "source": [
    "Соответственно этому отличаются типы чисел, которые мы получаем в результате точного деления `//` и деления нацело `//`. В первом случае мы получаем `float`, во втором — `int`."
   ]
  },
  {
   "cell_type": "code",
   "execution_count": 68,
   "id": "2ca31919-333f-4464-ab76-8a8bcc924c1a",
   "metadata": {},
   "outputs": [
    {
     "name": "stdout",
     "output_type": "stream",
     "text": [
      "Переменная: 4.5, тип: <class 'float'>\n",
      "Переменная: 4, тип: <class 'int'>\n"
     ]
    }
   ],
   "source": [
    "a = 45 / 10\n",
    "print(f\"Переменная: {a}, тип: {type(a)}\")\n",
    "b = 45 // 10\n",
    "print(f\"Переменная: {b}, тип: {type(b)}\")"
   ]
  },
  {
   "cell_type": "markdown",
   "id": "1482bdf0-3292-4ed3-a80c-76aa4609aa1c",
   "metadata": {},
   "source": [
    "Так будет даже в тех случаях, когда число делится нацело:"
   ]
  },
  {
   "cell_type": "code",
   "execution_count": 69,
   "id": "b016c22e-0098-4ba1-8030-f1313c3ed230",
   "metadata": {},
   "outputs": [
    {
     "name": "stdout",
     "output_type": "stream",
     "text": [
      "Переменная: 5.0, тип: <class 'float'>\n",
      "Переменная: 5, тип: <class 'int'>\n"
     ]
    }
   ],
   "source": [
    "a = 45 / 9\n",
    "print(f\"Переменная: {a}, тип: {type(a)}\")\n",
    "b = 45 // 9\n",
    "print(f\"Переменная: {b}, тип: {type(b)}\")"
   ]
  },
  {
   "cell_type": "markdown",
   "id": "db18e9a3-f00e-468f-8212-ab64d29f23c7",
   "metadata": {},
   "source": [
    "Выражения, в которых мы сравниваем два объекта, имеют тип `bool`. Они всегда имеют либо значение `True`, либо значение `False`."
   ]
  },
  {
   "cell_type": "code",
   "execution_count": 70,
   "id": "d2a648dc-81a5-4ab8-b4e0-ca9fd830848f",
   "metadata": {},
   "outputs": [
    {
     "name": "stdout",
     "output_type": "stream",
     "text": [
      "Переменная: True\n",
      "Тип: <class 'bool'>\n"
     ]
    }
   ],
   "source": [
    "print(\"Переменная:\", 2 * 2 == 4)\n",
    "print(\"Тип:\", type(2 * 2 == 4))"
   ]
  },
  {
   "cell_type": "code",
   "execution_count": 71,
   "id": "7ff49c59-5f1d-4c13-95a2-7dc3adbcb2e6",
   "metadata": {},
   "outputs": [
    {
     "name": "stdout",
     "output_type": "stream",
     "text": [
      "Переменная: False\n",
      "Тип: <class 'bool'>\n"
     ]
    }
   ],
   "source": [
    "print(\"Переменная:\", 4 * 4 < 10)\n",
    "print(\"Тип:\", type(4 * 4 < 10))"
   ]
  },
  {
   "cell_type": "markdown",
   "id": "b909ec3e-0d2d-4812-9c89-95501e2a2f71",
   "metadata": {},
   "source": [
    "______\n",
    "Тип объекта часто можно изменить «насильно». Для этого используются функции, совпадающие с названиями типов:"
   ]
  },
  {
   "cell_type": "code",
   "execution_count": 72,
   "id": "de28a34d-1369-4a80-b0ca-613f3b49bca0",
   "metadata": {},
   "outputs": [
    {
     "name": "stdout",
     "output_type": "stream",
     "text": [
      "Переменная: 4.084, тип: <class 'float'>\n",
      "Переменная: 4, тип: <class 'int'>\n"
     ]
    }
   ],
   "source": [
    "a = 4.084\n",
    "print(f\"Переменная: {a}, тип: {type(a)}\")\n",
    "\n",
    "a = int(a)\n",
    "print(f\"Переменная: {a}, тип: {type(a)}\")"
   ]
  },
  {
   "cell_type": "code",
   "execution_count": 73,
   "id": "8f2213ca-4364-48e4-b363-223c819fc59f",
   "metadata": {},
   "outputs": [
    {
     "name": "stdout",
     "output_type": "stream",
     "text": [
      "Переменная: 2345.0, тип: <class 'str'>\n",
      "Переменная: 2345.0, тип: <class 'float'>\n",
      "4690.0\n"
     ]
    }
   ],
   "source": [
    "a = \"2345.0\"\n",
    "print(f\"Переменная: {a}, тип: {type(a)}\")\n",
    "\n",
    "a = float(a)\n",
    "print(f\"Переменная: {a}, тип: {type(a)}\")\n",
    "print(a * 2)"
   ]
  },
  {
   "cell_type": "code",
   "execution_count": 74,
   "id": "d666e26c-104a-4bf5-9ea2-a42c941e8b86",
   "metadata": {},
   "outputs": [
    {
     "name": "stdout",
     "output_type": "stream",
     "text": [
      "Переменная: 46708, тип: <class 'int'>\n",
      "Переменная: 46708, тип: <class 'str'>\n",
      "Первый символ в этой строке: 4\n"
     ]
    }
   ],
   "source": [
    "a = 46708\n",
    "print(f\"Переменная: {a}, тип: {type(a)}\")\n",
    "\n",
    "a = str(a)\n",
    "print(f\"Переменная: {a}, тип: {type(a)}\")\n",
    "print(f\"Первый символ в этой строке: {a[0]}\")"
   ]
  },
  {
   "cell_type": "markdown",
   "id": "21716cec-695f-45d9-b849-b492876f4615",
   "metadata": {},
   "source": [
    "Не всегда изменение типа осмысленно. Например, если попытаться преобразовать в число (через `int` или `float`) строку, которая состоит из цифр, то всё получится. А если подать строку, которая не выглядит как число, то ничего не выйдет:"
   ]
  },
  {
   "cell_type": "code",
   "execution_count": 75,
   "id": "3eb2131a-8bb6-4cf1-b714-7954cecd8bfb",
   "metadata": {},
   "outputs": [
    {
     "name": "stdout",
     "output_type": "stream",
     "text": [
      "Переменная: питончик не бей, я число, тип: <class 'str'>\n"
     ]
    },
    {
     "ename": "ValueError",
     "evalue": "could not convert string to float: 'питончик не бей, я число'",
     "output_type": "error",
     "traceback": [
      "\u001b[1;31m---------------------------------------------------------------------------\u001b[0m",
      "\u001b[1;31mValueError\u001b[0m                                Traceback (most recent call last)",
      "Cell \u001b[1;32mIn[75], line 4\u001b[0m\n\u001b[0;32m      1\u001b[0m a \u001b[38;5;241m=\u001b[39m \u001b[38;5;124m\"\u001b[39m\u001b[38;5;124mпитончик не бей, я число\u001b[39m\u001b[38;5;124m\"\u001b[39m\n\u001b[0;32m      2\u001b[0m \u001b[38;5;28mprint\u001b[39m(\u001b[38;5;124mf\u001b[39m\u001b[38;5;124m\"\u001b[39m\u001b[38;5;124mПеременная: \u001b[39m\u001b[38;5;132;01m{\u001b[39;00ma\u001b[38;5;132;01m}\u001b[39;00m\u001b[38;5;124m, тип: \u001b[39m\u001b[38;5;132;01m{\u001b[39;00m\u001b[38;5;28mtype\u001b[39m(a)\u001b[38;5;132;01m}\u001b[39;00m\u001b[38;5;124m\"\u001b[39m)\n\u001b[1;32m----> 4\u001b[0m a \u001b[38;5;241m=\u001b[39m \u001b[38;5;28;43mfloat\u001b[39;49m\u001b[43m(\u001b[49m\u001b[43ma\u001b[49m\u001b[43m)\u001b[49m\n\u001b[0;32m      5\u001b[0m \u001b[38;5;28mprint\u001b[39m(\u001b[38;5;124mf\u001b[39m\u001b[38;5;124m\"\u001b[39m\u001b[38;5;124mПеременная: \u001b[39m\u001b[38;5;132;01m{\u001b[39;00ma\u001b[38;5;132;01m}\u001b[39;00m\u001b[38;5;124m, тип: \u001b[39m\u001b[38;5;132;01m{\u001b[39;00m\u001b[38;5;28mtype\u001b[39m(a)\u001b[38;5;132;01m}\u001b[39;00m\u001b[38;5;124m\"\u001b[39m)\n\u001b[0;32m      6\u001b[0m \u001b[38;5;28mprint\u001b[39m(a \u001b[38;5;241m*\u001b[39m \u001b[38;5;241m2\u001b[39m)\n",
      "\u001b[1;31mValueError\u001b[0m: could not convert string to float: 'питончик не бей, я число'"
     ]
    }
   ],
   "source": [
    "a = \"питончик не бей, я число\"\n",
    "print(f\"Переменная: {a}, тип: {type(a)}\")\n",
    "\n",
    "a = float(a)\n",
    "print(f\"Переменная: {a}, тип: {type(a)}\")\n",
    "print(a * 2)"
   ]
  },
  {
   "cell_type": "markdown",
   "id": "052cbef2-d96e-41e8-b9e4-48f79c939f21",
   "metadata": {},
   "source": [
    "Конфликт между разными типами может проявляться и в других случаях. Например, число `int` можно сравнить с `float`:"
   ]
  },
  {
   "cell_type": "code",
   "execution_count": 76,
   "id": "2756e1d4-a10c-446f-963e-30065e51e1bb",
   "metadata": {},
   "outputs": [
    {
     "name": "stdout",
     "output_type": "stream",
     "text": [
      "True\n"
     ]
    }
   ],
   "source": [
    "a = 17\n",
    "b = 23.5\n",
    "print(a < b)"
   ]
  },
  {
   "cell_type": "markdown",
   "id": "7ea640fa-5617-405c-b52a-a71dc18cac5e",
   "metadata": {},
   "source": [
    "А вот сравнить, что больше — строчка или число, не получится:"
   ]
  },
  {
   "cell_type": "code",
   "execution_count": 77,
   "id": "3c98537a-5bc2-4408-b321-a810a6e516d6",
   "metadata": {},
   "outputs": [
    {
     "ename": "TypeError",
     "evalue": "'<' not supported between instances of 'int' and 'str'",
     "output_type": "error",
     "traceback": [
      "\u001b[1;31m---------------------------------------------------------------------------\u001b[0m",
      "\u001b[1;31mTypeError\u001b[0m                                 Traceback (most recent call last)",
      "Cell \u001b[1;32mIn[77], line 3\u001b[0m\n\u001b[0;32m      1\u001b[0m a \u001b[38;5;241m=\u001b[39m \u001b[38;5;241m17\u001b[39m\n\u001b[0;32m      2\u001b[0m b \u001b[38;5;241m=\u001b[39m \u001b[38;5;124m\"\u001b[39m\u001b[38;5;124m23.5\u001b[39m\u001b[38;5;124m\"\u001b[39m\n\u001b[1;32m----> 3\u001b[0m \u001b[38;5;28mprint\u001b[39m(\u001b[43ma\u001b[49m\u001b[43m \u001b[49m\u001b[38;5;241;43m<\u001b[39;49m\u001b[43m \u001b[49m\u001b[43mb\u001b[49m)\n",
      "\u001b[1;31mTypeError\u001b[0m: '<' not supported between instances of 'int' and 'str'"
     ]
    }
   ],
   "source": [
    "a = 17\n",
    "b = \"23.5\"\n",
    "print(a < b)"
   ]
  },
  {
   "cell_type": "markdown",
   "id": "b7bb6728-e99a-4d94-a598-b47b45f992f2",
   "metadata": {},
   "source": [
    "## NB: Вывод в Jupyter"
   ]
  },
  {
   "cell_type": "markdown",
   "id": "ad6846dc-a352-462b-a2db-3d0d563d3d79",
   "metadata": {},
   "source": [
    "В Jupyter Notebook можно выводить данные на экран не только с помощью `print()`, но и просто пропечатывая желаемое выражение / переменную в конце ячейки."
   ]
  },
  {
   "cell_type": "code",
   "execution_count": 78,
   "id": "31a827b8-4ff3-42de-886f-1ebecd0e2151",
   "metadata": {},
   "outputs": [],
   "source": [
    "stroka = \"Вот такие пироги!\""
   ]
  },
  {
   "cell_type": "code",
   "execution_count": 79,
   "id": "b68b1838-35ce-4a33-bc06-4a8aca8c6c61",
   "metadata": {},
   "outputs": [
    {
     "name": "stdout",
     "output_type": "stream",
     "text": [
      "Вот такие пироги!\n"
     ]
    }
   ],
   "source": [
    "print(stroka)"
   ]
  },
  {
   "cell_type": "code",
   "execution_count": 80,
   "id": "dd26f5ba-e9c7-4b9b-a2c5-953fb9164f7e",
   "metadata": {},
   "outputs": [
    {
     "data": {
      "text/plain": [
       "'Вот такие пироги!'"
      ]
     },
     "execution_count": 80,
     "metadata": {},
     "output_type": "execute_result"
    }
   ],
   "source": [
    "stroka"
   ]
  },
  {
   "cell_type": "markdown",
   "id": "f4345f1b-c487-4cbc-8b8d-92ff8b92db5a",
   "metadata": {},
   "source": [
    "Иногда результат этих двух способов отличается! Например:"
   ]
  },
  {
   "cell_type": "code",
   "execution_count": 81,
   "id": "e478dfd6-9cbb-4dab-a3c6-25a3a831dcc8",
   "metadata": {},
   "outputs": [
    {
     "name": "stdout",
     "output_type": "stream",
     "text": [
      "1\n",
      "2\n",
      "3\n"
     ]
    }
   ],
   "source": [
    "print(1)\n",
    "print(2)\n",
    "print(3)"
   ]
  },
  {
   "cell_type": "code",
   "execution_count": 82,
   "id": "c09821f8-fa52-407a-a6ba-43d429e0e1e2",
   "metadata": {},
   "outputs": [
    {
     "data": {
      "text/plain": [
       "3"
      ]
     },
     "execution_count": 82,
     "metadata": {},
     "output_type": "execute_result"
    }
   ],
   "source": [
    "1\n",
    "2\n",
    "3"
   ]
  },
  {
   "cell_type": "markdown",
   "id": "a6299d70-ab8f-48bf-85f0-f02b33994fbe",
   "metadata": {},
   "source": [
    "**Внимание!** Если в задании указано: «распечатайте», «выведите на экран»… — пользуйтесь функцией `print()`. Она точно выведет всё, что нужно, в правильном виде."
   ]
  }
 ],
 "metadata": {
  "kernelspec": {
   "display_name": "Python 3 (ipykernel)",
   "language": "python",
   "name": "python3"
  },
  "language_info": {
   "codemirror_mode": {
    "name": "ipython",
    "version": 3
   },
   "file_extension": ".py",
   "mimetype": "text/x-python",
   "name": "python",
   "nbconvert_exporter": "python",
   "pygments_lexer": "ipython3",
   "version": "3.11.4"
  }
 },
 "nbformat": 4,
 "nbformat_minor": 5
}
