{
 "cells": [
  {
   "cell_type": "markdown",
   "id": "75330583-925b-44c6-bfde-2ed6a5593296",
   "metadata": {},
   "source": [
    "# Семинар 1"
   ]
  },
  {
   "cell_type": "markdown",
   "id": "82d89f9a-373b-45c9-b235-20fc08af8d3b",
   "metadata": {
    "jp-MarkdownHeadingCollapsed": true
   },
   "source": [
    "## Подготовка рабочей среды"
   ]
  },
  {
   "cell_type": "markdown",
   "id": "91b92156-087a-44df-ad37-90850c26a319",
   "metadata": {},
   "source": [
    "- **Python** (язык программирования)\n",
    "- **Jupyter Notebook** («оболочка» для удобного написания кода)\n",
    "    - онлайн-альтернатива: [Google Colab](https://colab.google/)\n",
    "    - [гайд по запуску Jupyter Notebook](https://docs.jupyter.org/en/latest/running.html)"
   ]
  },
  {
   "cell_type": "markdown",
   "id": "05967b6a-70c7-47d7-bea3-4738253cd242",
   "metadata": {},
   "source": [
    "Jupyter Notebook позволяет создавать файлы формата `.ipynb` (*iPython notebooks*), или по-простому «**тетрадки**». Они состоят из автономных ячеек-блоков. Ячейки бывают двух типов: с кодом и с текстом."
   ]
  },
  {
   "cell_type": "markdown",
   "id": "b104a0f2-b0ad-44a0-89ef-420b4971e4c7",
   "metadata": {},
   "source": [
    "В ячейках с текстом можно использовать **Markdown** — минималистичный язык разметки текста. Вот **[краткая справка](https://www.markdownguide.org/cheat-sheet/)** по основным функциям Markdown.\n",
    "\n",
    "Самое главное, что может пригодиться: заголовки разных уровней, выделение **жирным** / *курсивом*, [гиперссылки](https://www.youtube.com/watch?v=f-gi8k4IRh8), простые списки."
   ]
  },
  {
   "cell_type": "markdown",
   "id": "b3512245-2bc9-4683-b5a9-230770900f71",
   "metadata": {
    "jp-MarkdownHeadingCollapsed": true
   },
   "source": [
    "## Операции с числами"
   ]
  },
  {
   "cell_type": "code",
   "execution_count": null,
   "id": "ca7311c9-0c09-42aa-b019-c827c6bfa2f6",
   "metadata": {},
   "outputs": [],
   "source": [
    "# сложение, вычитание, умножение, деление"
   ]
  },
  {
   "cell_type": "code",
   "execution_count": null,
   "id": "f099e8dd-e649-413b-a2c8-bf5a298e51e1",
   "metadata": {},
   "outputs": [],
   "source": [
    "# около деления"
   ]
  },
  {
   "cell_type": "code",
   "execution_count": null,
   "id": "476eefbd-3d72-4f10-a71d-cef3b0b41f55",
   "metadata": {},
   "outputs": [],
   "source": [
    "# порядок операций"
   ]
  },
  {
   "cell_type": "markdown",
   "id": "25b2c25d-332c-4f1e-a698-1f9377433e5c",
   "metadata": {
    "jp-MarkdownHeadingCollapsed": true
   },
   "source": [
    "## Переменные"
   ]
  },
  {
   "cell_type": "markdown",
   "id": "b42c0910-9cda-4bd1-990a-19166e852fcc",
   "metadata": {},
   "source": [
    "Переменные — это «ярлыки» для объектов."
   ]
  },
  {
   "cell_type": "code",
   "execution_count": null,
   "id": "fe8c5cfa-3ebf-4c2f-9f1b-122754e6ec6c",
   "metadata": {},
   "outputs": [],
   "source": []
  },
  {
   "cell_type": "markdown",
   "id": "f6675f45-f952-44f5-8217-79840701f495",
   "metadata": {},
   "source": [
    "`print()` — это **функция**. Функции могут принимать «на вход» разные объекты и делать с ними что-то. Например, функция `print()` принимает на вход некоторое количество объектов и выводит на экран их содержимое. Запуская код с функцией, мы «вызываем» её, то есть заставляем её выполнить соответствующие действия.\n",
    "\n",
    "Объекты, которые функция принимает на вход, называются **аргументами** функции. Аргументы функции записываются в скобках после её названия (NB: *скобки нужны, даже если аргументов нет!*). Несколько аргументов перечисляются через запятую."
   ]
  },
  {
   "cell_type": "code",
   "execution_count": null,
   "id": "976fa3fb-8e21-418b-ad38-d059902e0d14",
   "metadata": {},
   "outputs": [],
   "source": []
  },
  {
   "cell_type": "markdown",
   "id": "7ed77761-05d1-4387-b493-f73bf5ab271d",
   "metadata": {},
   "source": [
    "Функция `input()` запрашивает данные у пользователя программы:"
   ]
  },
  {
   "cell_type": "code",
   "execution_count": null,
   "id": "f1a7f8a8-7154-4248-8ff1-d341b8a52b77",
   "metadata": {},
   "outputs": [],
   "source": []
  },
  {
   "cell_type": "code",
   "execution_count": null,
   "id": "dc8a9a7f-97cc-4bfa-b4bd-195e9337572c",
   "metadata": {},
   "outputs": [],
   "source": [
    "# равенство"
   ]
  },
  {
   "cell_type": "markdown",
   "id": "1dbab7e2-1347-4957-b9c0-d04975c6a849",
   "metadata": {
    "jp-MarkdownHeadingCollapsed": true
   },
   "source": [
    "## Операции со строками"
   ]
  },
  {
   "cell_type": "code",
   "execution_count": null,
   "id": "33ef1ee1-6703-4d4e-9803-f2d8fc1923c2",
   "metadata": {},
   "outputs": [],
   "source": [
    "# кавычки"
   ]
  },
  {
   "cell_type": "code",
   "execution_count": null,
   "id": "40b1a097-acd4-4d73-861f-fb573c94310b",
   "metadata": {},
   "outputs": [],
   "source": [
    "# сложение и умножение"
   ]
  },
  {
   "cell_type": "code",
   "execution_count": null,
   "id": "0c8d6f91-7407-43d8-9274-6f04709a174d",
   "metadata": {},
   "outputs": [],
   "source": [
    "# индексация"
   ]
  },
  {
   "cell_type": "code",
   "execution_count": null,
   "id": "02170971-36ac-4001-b208-6dd5c54ffe4d",
   "metadata": {},
   "outputs": [],
   "source": [
    "# форматирование строк"
   ]
  },
  {
   "cell_type": "code",
   "execution_count": null,
   "id": "19863164-6a74-4413-951f-3f88cf2f8124",
   "metadata": {},
   "outputs": [],
   "source": [
    "# sep & end"
   ]
  },
  {
   "cell_type": "code",
   "execution_count": null,
   "id": "e682a159-2a1a-4479-9cb0-757d7d23e43a",
   "metadata": {},
   "outputs": [],
   "source": [
    "# вложение функций"
   ]
  },
  {
   "cell_type": "markdown",
   "id": "313af2af-4345-4d4f-a8e9-0e50f27a1a3a",
   "metadata": {
    "jp-MarkdownHeadingCollapsed": true
   },
   "source": [
    "## Типы данных"
   ]
  },
  {
   "cell_type": "markdown",
   "id": "edd696d1-e61b-45e3-b371-be33df68a669",
   "metadata": {},
   "source": [
    "Каждый объект принадлежит к определённому типу. Тип объекта определяет, например, какие функции можно применять к этому объекту."
   ]
  },
  {
   "cell_type": "markdown",
   "id": "dc13e09a-4b0b-4bcb-8314-eb47c2c77fce",
   "metadata": {},
   "source": [
    "Пока что нам будут нужны четыре типа данных:\n",
    "\n",
    "- `int` (целые числа)\n",
    "- `float` (вещественные числа, то есть числа с «плавающей» запятой)\n",
    "- `str` (строки текста)\n",
    "- `bool` (логические, или «булевы» значения: `True` и `False`)"
   ]
  },
  {
   "cell_type": "markdown",
   "id": "d2f4a7cf-6ab9-458c-8166-580064af3ab1",
   "metadata": {},
   "source": [
    "Определить тип переменной можно с помощью функции `type()`:"
   ]
  },
  {
   "cell_type": "code",
   "execution_count": null,
   "id": "50f58b07-12ba-4d65-b0d1-f846c5ae0e29",
   "metadata": {},
   "outputs": [],
   "source": []
  },
  {
   "cell_type": "code",
   "execution_count": null,
   "id": "3be49c30-9dd6-4a2a-bbf7-0685ef3fd553",
   "metadata": {},
   "outputs": [],
   "source": [
    "# сравнение и bool"
   ]
  },
  {
   "cell_type": "code",
   "execution_count": null,
   "id": "de28a34d-1369-4a80-b0ca-613f3b49bca0",
   "metadata": {},
   "outputs": [],
   "source": [
    "# изменение типа объекта"
   ]
  },
  {
   "cell_type": "code",
   "execution_count": null,
   "id": "2756e1d4-a10c-446f-963e-30065e51e1bb",
   "metadata": {},
   "outputs": [],
   "source": [
    "# конфликт типов"
   ]
  },
  {
   "cell_type": "markdown",
   "id": "4a574f00-b697-4ab3-b322-3b58e00763b8",
   "metadata": {},
   "source": [
    "## Дополнительные материалы"
   ]
  },
  {
   "cell_type": "markdown",
   "id": "b7bb6728-e99a-4d94-a598-b47b45f992f2",
   "metadata": {
    "jp-MarkdownHeadingCollapsed": true
   },
   "source": [
    "#### NB: Вывод в Jupyter"
   ]
  },
  {
   "cell_type": "markdown",
   "id": "ad6846dc-a352-462b-a2db-3d0d563d3d79",
   "metadata": {},
   "source": [
    "В Jupyter Notebook можно выводить данные на экран не только с помощью `print()`, но и просто пропечатывая желаемое выражение / переменную в конце ячейки."
   ]
  },
  {
   "cell_type": "code",
   "execution_count": null,
   "id": "31a827b8-4ff3-42de-886f-1ebecd0e2151",
   "metadata": {},
   "outputs": [],
   "source": []
  },
  {
   "cell_type": "markdown",
   "id": "f4345f1b-c487-4cbc-8b8d-92ff8b92db5a",
   "metadata": {},
   "source": [
    "Иногда результат этих двух способов отличается!\n",
    "\n",
    "Если в задании указано: «распечатайте», «выведите на экран»… — пользуйтесь функцией `print()`."
   ]
  },
  {
   "cell_type": "code",
   "execution_count": null,
   "id": "e478dfd6-9cbb-4dab-a3c6-25a3a831dcc8",
   "metadata": {},
   "outputs": [],
   "source": []
  },
  {
   "cell_type": "markdown",
   "id": "1b124fea-8942-4c2d-a854-16e3c186a148",
   "metadata": {
    "jp-MarkdownHeadingCollapsed": true
   },
   "source": [
    "#### Задача 1.1"
   ]
  },
  {
   "cell_type": "markdown",
   "id": "af5ed348-82df-47d1-88b7-0ddcfb0ab925",
   "metadata": {},
   "source": [
    "Записывая языковые данные, мы иногда обозначаем информант:ок специальными кодами (чтобы, с одной стороны, анонимизировать личность человека, а с другой, иметь возможность различать данные, полученные от разных людей). Напишем программу, которая будет генерировать такой код из имени и года рождения человека, а заодно будет помечать, относится этот человек к группе «молодых» или «взрослых» носителей.\n",
    "\n",
    "1. Спросить у пользователя имя информант:ки (например, `'Ингеборга'`)\n",
    "2. Спросить у пользователя год рождения информант:ки (целое число, например, `1992`)\n",
    "3. Вывести на экран фразу `\"Код:\"`, а затем код формата «первая буква имени + две последних цифры года рождения».\n",
    "4. Вывести на экран фразу `\"Взрослый:\"`, а затем в той же строке:\n",
    "   - `True`, если информант:ка родилась в 1990 году или раньше\n",
    "   - `False`, если информант:ка родилась позже 1990 года\n",
    "\n",
    "Например:\n",
    "\n",
    "```\n",
    "> Ингеборга\n",
    "> 1992\n",
    "Код: И92\n",
    "Взрослый: False\n",
    "```"
   ]
  },
  {
   "cell_type": "code",
   "execution_count": null,
   "id": "beac29a2-bfa4-456b-a705-a1245d1c6052",
   "metadata": {},
   "outputs": [],
   "source": [
    "name = \n",
    "year = "
   ]
  },
  {
   "cell_type": "code",
   "execution_count": null,
   "id": "40291ab1-2a97-40f6-960f-220671831477",
   "metadata": {},
   "outputs": [],
   "source": [
    "# ваше решение"
   ]
  },
  {
   "cell_type": "markdown",
   "id": "8d064fc2-def1-4c9b-9aef-045675360a9f",
   "metadata": {
    "jp-MarkdownHeadingCollapsed": true
   },
   "source": [
    "#### Задача 1.2"
   ]
  },
  {
   "cell_type": "markdown",
   "id": "e77f10a5-dd3f-4957-8a84-54386aefccce",
   "metadata": {},
   "source": [
    "В стране Лимерике только что прошли выборы президента. Каждый из жителей Лимерики проголосовал за одного из двух кандидатов. Нам поручено подсчитать базовую статистику по их итогам.\n",
    "\n",
    "1. Спросить у пользователя три целых числа:\n",
    "   - количество потенциальных избиратель:ниц (некоторые из них пришли проголосовать, а некоторые нет)\n",
    "   - число избиратель:ниц, которые проголосовали за кандидата по имени Арис\n",
    "   - число избиратель:ниц, которые проголосовали за кандидата по имени Брамб\n",
    "2. Вывести на экран, снабдив краткими пояснительными комментариями:\n",
    "   - процент голосов, которые получил Арис (по отношению ко всем проголосовавшим)\n",
    "   - процент голосов, которые получил Брамб (по отношению ко всем проголосовавшим)\n",
    "   - число не проголосовавших (сколько человек не пришло на выборы)\n",
    "   - явка (сколько человек пришло голосовать из числа всех потенциальных избирателей)\n",
    "  \n",
    "Например:\n",
    "\n",
    "```\r\n",
    "> 1000\r\n",
    "> 420\r\n",
    "> 380\r\n",
    "Арис: 52.5 %\r\n",
    "Брамб: 47.5 %\r\n",
    "Не голосовало: 200 чел.\r\n",
    "Явка: 80.0 %\r\n",
    "``````"
   ]
  },
  {
   "cell_type": "code",
   "execution_count": null,
   "id": "59cb383a-59c1-4e6a-b0d1-1aaca5cc67a4",
   "metadata": {},
   "outputs": [],
   "source": [
    "n =             # кол-во избиратель:ниц\n",
    "a =             # голоса за Ариса\n",
    "b =             # голоса за Брамба"
   ]
  },
  {
   "cell_type": "code",
   "execution_count": null,
   "id": "25e7733a-0bce-45f8-83f2-2520eddda216",
   "metadata": {},
   "outputs": [],
   "source": [
    "# ваше решение"
   ]
  },
  {
   "cell_type": "markdown",
   "id": "91fbad73-2635-4395-8f15-52df4d5eb11d",
   "metadata": {
    "jp-MarkdownHeadingCollapsed": true
   },
   "source": [
    "#### Задача 1.3"
   ]
  },
  {
   "cell_type": "markdown",
   "id": "b7e87ecc-04d1-44f2-a102-30c4609eee57",
   "metadata": {},
   "source": [
    "1. Спросить у пользователя слово (например, `'учиться'`).\n",
    "2. Спросить у пользователя целое число (например, `5`).\n",
    "3. Вывести на экран фразу, в которой этот глагол повторён нужное число раз. Предпоследний и последний повтор должны быть разделены запятой и словами «и ещё раз», а все остальные — запятой и пробелом.\n",
    "\n",
    "Например:\n",
    "\n",
    "```\n",
    "> учиться\n",
    "> 5\n",
    "учиться, учиться, учиться, учиться, и ещё раз учиться!\n",
    "\n",
    "> борщ\n",
    "> 15\n",
    "борщ, борщ, борщ, борщ, борщ, борщ, борщ, борщ, борщ, борщ, борщ, борщ, борщ, борщ, и ещё раз борщ!\n",
    "```"
   ]
  },
  {
   "cell_type": "code",
   "execution_count": null,
   "id": "d0f6c701-45a3-4a59-8926-ade3db39cd49",
   "metadata": {},
   "outputs": [],
   "source": [
    "verb = \n",
    "n = "
   ]
  },
  {
   "cell_type": "code",
   "execution_count": null,
   "id": "93f36e5f-e6eb-4358-a272-64a7c70e09a9",
   "metadata": {},
   "outputs": [],
   "source": [
    "# ваше решение"
   ]
  }
 ],
 "metadata": {
  "kernelspec": {
   "display_name": "Python 3 (ipykernel)",
   "language": "python",
   "name": "python3"
  },
  "language_info": {
   "codemirror_mode": {
    "name": "ipython",
    "version": 3
   },
   "file_extension": ".py",
   "mimetype": "text/x-python",
   "name": "python",
   "nbconvert_exporter": "python",
   "pygments_lexer": "ipython3",
   "version": "3.11.4"
  }
 },
 "nbformat": 4,
 "nbformat_minor": 5
}
