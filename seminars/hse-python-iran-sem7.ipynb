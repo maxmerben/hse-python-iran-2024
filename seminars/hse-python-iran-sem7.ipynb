{
 "cells": [
  {
   "cell_type": "markdown",
   "id": "cea17432-ea86-4cb1-bed1-bdd795b70aa0",
   "metadata": {},
   "source": [
    "# Семинар 7"
   ]
  },
  {
   "cell_type": "markdown",
   "id": "7bb4ee7f-b2b7-4024-a722-5dbc6ceeacd2",
   "metadata": {},
   "source": [
    "## Словари"
   ]
  },
  {
   "cell_type": "markdown",
   "id": "3d69a351-97ee-4d4a-b2c3-badee2a4f109",
   "metadata": {},
   "source": [
    "**Словари** — последний базовый тип данных в питоне, который мы изучим. Словари — это такие списки, у которых в качестве «индексов» можно задавать разные неупорядоченные объекты. Такие «индексы» у словарей называются **ключами**. Если у списков конкретный элемент можно достать по индексу, то **значения** словаря можно достать по ключу. Таким образом, словари состоят не просто из элементов (как списки), а из пар «*ключ*»–«*значение*». Это делает работу с разными структурами данных значительно проще и интуитивнее.\n",
    "\n",
    "В питоне словари называются `dict`. Объявляются они так: между ключом и значением пишется двоеточие, а между парами «ключ»–«значение» — запятые (как между элементами списка). Обрамляется всё это содержимое фигурными скобками:\n",
    "\n",
    "```\n",
    "slovar = {КЛЮЧ1: ЗНАЧЕНИЕ1, КЛЮЧ2: ЗНАЧЕНИЕ2, …}\n",
    "```"
   ]
  },
  {
   "cell_type": "markdown",
   "id": "d48b5399-0aad-415f-9bca-d6a0e7ff34ef",
   "metadata": {},
   "source": [
    "Например, сделаем словарь, в котором будет содержаться, буквально, словарь! Вот так:"
   ]
  },
  {
   "cell_type": "code",
   "execution_count": 1,
   "id": "5127e41a-3447-4b33-b101-05570c420e5f",
   "metadata": {},
   "outputs": [
    {
     "name": "stdout",
     "output_type": "stream",
     "text": [
      "{'havāpeymā': 'самолёт', 'puš': 'одежда', 'xun': 'кровь'}\n",
      "<class 'dict'>\n"
     ]
    }
   ],
   "source": [
    "slovar = {\n",
    "    \"havāpeymā\": \"самолёт\",\n",
    "    \"puš\": \"одежда\",\n",
    "    \"xun\": \"кровь\"\n",
    "}\n",
    "print(slovar)\n",
    "print(type(slovar))"
   ]
  },
  {
   "cell_type": "markdown",
   "id": "96b71f81-379c-4d5c-9c58-491b725aff2e",
   "metadata": {},
   "source": [
    "Теперь для каждого из персидских слов в словаре мы можем получить его значение. Для этого нужно обратиться к ключу (персидскому слову) как к индексу списка:"
   ]
  },
  {
   "cell_type": "code",
   "execution_count": 2,
   "id": "20bb0267-a140-4832-9883-ad0fe5c3a4d8",
   "metadata": {},
   "outputs": [
    {
     "name": "stdout",
     "output_type": "stream",
     "text": [
      "одежда\n",
      "кровь\n"
     ]
    }
   ],
   "source": [
    "print(slovar[\"puš\"])\n",
    "print(slovar[\"xun\"])"
   ]
  },
  {
   "cell_type": "markdown",
   "id": "ed3e9671-231f-48cb-ae72-ec1a9d5b9acd",
   "metadata": {},
   "source": [
    "Как и с индексами, если обратиться к несуществующему ключу, то получится ошибка — только уже не `IndexError`, а `KeyError`:"
   ]
  },
  {
   "cell_type": "code",
   "execution_count": 3,
   "id": "dfdacd78-e4b1-4b00-8891-fd5474a1c91b",
   "metadata": {},
   "outputs": [
    {
     "ename": "KeyError",
     "evalue": "'āb'",
     "output_type": "error",
     "traceback": [
      "\u001b[1;31m---------------------------------------------------------------------------\u001b[0m",
      "\u001b[1;31mKeyError\u001b[0m                                  Traceback (most recent call last)",
      "Cell \u001b[1;32mIn[3], line 1\u001b[0m\n\u001b[1;32m----> 1\u001b[0m \u001b[38;5;28mprint\u001b[39m(\u001b[43mslovar\u001b[49m\u001b[43m[\u001b[49m\u001b[38;5;124;43m\"\u001b[39;49m\u001b[38;5;124;43māb\u001b[39;49m\u001b[38;5;124;43m\"\u001b[39;49m\u001b[43m]\u001b[49m)\n",
      "\u001b[1;31mKeyError\u001b[0m: 'āb'"
     ]
    }
   ],
   "source": [
    "print(slovar[\"āb\"])"
   ]
  },
  {
   "cell_type": "markdown",
   "id": "60d7236a-4992-4939-908b-eed63061075d",
   "metadata": {},
   "source": [
    "Если вдруг нужно создать пустой словарь, для этого есть два способа: (1) пустые фигурные скобки `{}` (обратите внимание, что так создаются словари, а *не множества*!) или (2) функция `dict()`:"
   ]
  },
  {
   "cell_type": "code",
   "execution_count": 4,
   "id": "87dbb87f-d42b-4662-bb99-7e6e5c8e1a29",
   "metadata": {},
   "outputs": [
    {
     "name": "stdout",
     "output_type": "stream",
     "text": [
      "{}\n",
      "<class 'dict'>\n"
     ]
    }
   ],
   "source": [
    "empty_slovar = {}\n",
    "print(empty_slovar)\n",
    "print(type(empty_slovar))"
   ]
  },
  {
   "cell_type": "code",
   "execution_count": 5,
   "id": "204f6a98-bda5-4a5a-810a-d17cb1fda935",
   "metadata": {},
   "outputs": [
    {
     "name": "stdout",
     "output_type": "stream",
     "text": [
      "{}\n",
      "<class 'dict'>\n"
     ]
    }
   ],
   "source": [
    "empty_slovar = dict()\n",
    "print(empty_slovar)\n",
    "print(type(empty_slovar))"
   ]
  },
  {
   "cell_type": "markdown",
   "id": "25422dd9-cbb8-4474-8170-c57a5a8ebb59",
   "metadata": {},
   "source": [
    "### Ключи и значения"
   ]
  },
  {
   "cell_type": "markdown",
   "id": "ee9824fa-c06d-4791-b34a-fd884ca74d8a",
   "metadata": {},
   "source": [
    "И ключи, и значения могут быть объектами самых разных типов. У значений нет вообще никаких ограничений — они могут быть числами, строками, логическими выражениями, списками, кортежами, множествами или словарями. Например, можно сделать словарь, в котором будут храниться обозначения чисел на разных языках. Его ключами будут числа, а значениями — другие словари (в которых, в свою очередь, ключами будут разные языки, а значениями — числительные):"
   ]
  },
  {
   "cell_type": "code",
   "execution_count": 6,
   "id": "aa2ddbf3-b083-4c4a-aaa0-257bd10d4276",
   "metadata": {},
   "outputs": [
    {
     "name": "stdout",
     "output_type": "stream",
     "text": [
      "{'Russian': ['два', 'две'], 'English': 'two', 'Persian': 'do'}\n",
      "['два', 'две']\n",
      "do\n"
     ]
    }
   ],
   "source": [
    "numerals = {\n",
    "    1: {\"Russian\": [\"один\", \"одна\", \"одно\", \"одни\"], \"English\": \"one\", \"Persian\": \"yek\"},\n",
    "    2: {\"Russian\": [\"два\", \"две\"], \"English\": \"two\", \"Persian\": \"do\"},\n",
    "    3: {\"Russian\": \"три\", \"English\": \"three\", \"Persian\": \"se\"},\n",
    "    4: {\"Russian\": \"четыре\", \"English\": \"four\", \"Persian\": \"čahār\"}\n",
    "}\n",
    "\n",
    "print(numerals[2])\n",
    "print(numerals[2][\"Russian\"])\n",
    "print(numerals[2][\"Persian\"])"
   ]
  },
  {
   "cell_type": "markdown",
   "id": "d6017e0b-c8b5-4cd2-886d-9ab0e97e3121",
   "metadata": {},
   "source": [
    "А вот у ключей есть некоторые ограничения. Ключами могут быть только неизменяемые типы данных. Это значит, что списки, множества и словари не могут быть ключами словарей. Если ключом нужно сделать последовательность, то придётся использовать кортеж:"
   ]
  },
  {
   "cell_type": "code",
   "execution_count": 7,
   "id": "0cc44127-a889-498b-85c1-4d4cbbf9fb41",
   "metadata": {},
   "outputs": [
    {
     "name": "stdout",
     "output_type": "stream",
     "text": [
      "{0: 'значение'}\n",
      "{0.0: 'значение'}\n",
      "{'null': 'значение'}\n",
      "{True: 'значение'}\n",
      "{('a', 'b'): 'значение'}\n"
     ]
    }
   ],
   "source": [
    "print({0: \"значение\"})            # <-- int\n",
    "print({0.0: \"значение\"})          # <-- float\n",
    "print({\"null\": \"значение\"})       # <-- str\n",
    "print({True: \"значение\"})         # <-- bool\n",
    "print({(\"a\", \"b\"): \"значение\"})   # <-- tuple"
   ]
  },
  {
   "cell_type": "code",
   "execution_count": 8,
   "id": "bb92ff8c-5b2f-4228-9a7d-4d4a21a9c931",
   "metadata": {},
   "outputs": [
    {
     "ename": "TypeError",
     "evalue": "unhashable type: 'list'",
     "output_type": "error",
     "traceback": [
      "\u001b[1;31m---------------------------------------------------------------------------\u001b[0m",
      "\u001b[1;31mTypeError\u001b[0m                                 Traceback (most recent call last)",
      "Cell \u001b[1;32mIn[8], line 1\u001b[0m\n\u001b[1;32m----> 1\u001b[0m \u001b[38;5;28mprint\u001b[39m({[\u001b[38;5;124m\"\u001b[39m\u001b[38;5;124ma\u001b[39m\u001b[38;5;124m\"\u001b[39m, \u001b[38;5;124m\"\u001b[39m\u001b[38;5;124mb\u001b[39m\u001b[38;5;124m\"\u001b[39m]: \u001b[38;5;124m\"\u001b[39m\u001b[38;5;124mзначение\u001b[39m\u001b[38;5;124m\"\u001b[39m})   \u001b[38;5;66;03m# <-- list нельзя\u001b[39;00m\n",
      "\u001b[1;31mTypeError\u001b[0m: unhashable type: 'list'"
     ]
    }
   ],
   "source": [
    "print({[\"a\", \"b\"]: \"значение\"})   # <-- list нельзя"
   ]
  },
  {
   "cell_type": "code",
   "execution_count": 9,
   "id": "44c2587e-dc06-4556-bc27-7cf3e3ba34b1",
   "metadata": {},
   "outputs": [
    {
     "ename": "TypeError",
     "evalue": "unhashable type: 'set'",
     "output_type": "error",
     "traceback": [
      "\u001b[1;31m---------------------------------------------------------------------------\u001b[0m",
      "\u001b[1;31mTypeError\u001b[0m                                 Traceback (most recent call last)",
      "Cell \u001b[1;32mIn[9], line 1\u001b[0m\n\u001b[1;32m----> 1\u001b[0m \u001b[38;5;28mprint\u001b[39m({ {\u001b[38;5;124m\"\u001b[39m\u001b[38;5;124ma\u001b[39m\u001b[38;5;124m\"\u001b[39m, \u001b[38;5;124m\"\u001b[39m\u001b[38;5;124mb\u001b[39m\u001b[38;5;124m\"\u001b[39m}: \u001b[38;5;124m\"\u001b[39m\u001b[38;5;124mзначение\u001b[39m\u001b[38;5;124m\"\u001b[39m})  \u001b[38;5;66;03m# <-- set нельзя\u001b[39;00m\n",
      "\u001b[1;31mTypeError\u001b[0m: unhashable type: 'set'"
     ]
    }
   ],
   "source": [
    "print({ {\"a\", \"b\"}: \"значение\"})  # <-- set нельзя"
   ]
  },
  {
   "cell_type": "code",
   "execution_count": 10,
   "id": "6edc8ef5-197a-40ff-85ec-82b36d4d17ac",
   "metadata": {},
   "outputs": [
    {
     "ename": "TypeError",
     "evalue": "unhashable type: 'dict'",
     "output_type": "error",
     "traceback": [
      "\u001b[1;31m---------------------------------------------------------------------------\u001b[0m",
      "\u001b[1;31mTypeError\u001b[0m                                 Traceback (most recent call last)",
      "Cell \u001b[1;32mIn[10], line 1\u001b[0m\n\u001b[1;32m----> 1\u001b[0m \u001b[38;5;28mprint\u001b[39m({ {\u001b[38;5;124m\"\u001b[39m\u001b[38;5;124ma\u001b[39m\u001b[38;5;124m\"\u001b[39m: \u001b[38;5;124m\"\u001b[39m\u001b[38;5;124mb\u001b[39m\u001b[38;5;124m\"\u001b[39m}: \u001b[38;5;124m\"\u001b[39m\u001b[38;5;124mзначение\u001b[39m\u001b[38;5;124m\"\u001b[39m})  \u001b[38;5;66;03m# <-- dict нельзя\u001b[39;00m\n",
      "\u001b[1;31mTypeError\u001b[0m: unhashable type: 'dict'"
     ]
    }
   ],
   "source": [
    "print({ {\"a\": \"b\"}: \"значение\"})  # <-- dict нельзя"
   ]
  },
  {
   "cell_type": "markdown",
   "id": "9d92ea2f-5891-40e6-9282-ee0fa22f89db",
   "metadata": {},
   "source": [
    "### Работа с элементами словаря"
   ]
  },
  {
   "cell_type": "markdown",
   "id": "25db4353-c444-4122-8604-3ce15f254d9d",
   "metadata": {},
   "source": [
    "Итак, к элементу можно обратиться по ключу. Так же по ключу можно и присвоить ключу другое значение. Например, заменим значение какому-нибудь персидскому слову на другое:"
   ]
  },
  {
   "cell_type": "code",
   "execution_count": 11,
   "id": "fcc998ae-23be-4590-8c32-7c6cc64a0622",
   "metadata": {},
   "outputs": [
    {
     "name": "stdout",
     "output_type": "stream",
     "text": [
      "{'havāpeymā': 'самолёт', 'puš': 'одежда', 'xun': 'кровь'}\n",
      "{'havāpeymā': 'самолёт', 'puš': 'палатка', 'xun': 'кровь'}\n"
     ]
    }
   ],
   "source": [
    "print(slovar)\n",
    "slovar[\"puš\"] = \"палатка\"\n",
    "print(slovar)"
   ]
  },
  {
   "cell_type": "markdown",
   "id": "f3ac4e86-0549-4d71-a47f-2f53534e1e8b",
   "metadata": {},
   "source": [
    "Однако есть также и отличие от списков. Чтобы добавить в список новый элемент, надо воспользоваться методом `.append`. Если вместо этого попробовать просто присвоить новое значение индексу, которого пока нет в списке, то ничего не получится:"
   ]
  },
  {
   "cell_type": "code",
   "execution_count": 12,
   "id": "761ee9e9-1738-4023-8d06-8c59d362ac7e",
   "metadata": {},
   "outputs": [
    {
     "name": "stdout",
     "output_type": "stream",
     "text": [
      "[13, 5.6, -20]\n"
     ]
    }
   ],
   "source": [
    "spisok = [13, 5.6, -20]\n",
    "print(spisok)"
   ]
  },
  {
   "cell_type": "code",
   "execution_count": 13,
   "id": "7b81ef46-0551-4537-924c-9f8321cf9519",
   "metadata": {},
   "outputs": [
    {
     "ename": "IndexError",
     "evalue": "list assignment index out of range",
     "output_type": "error",
     "traceback": [
      "\u001b[1;31m---------------------------------------------------------------------------\u001b[0m",
      "\u001b[1;31mIndexError\u001b[0m                                Traceback (most recent call last)",
      "Cell \u001b[1;32mIn[13], line 2\u001b[0m\n\u001b[0;32m      1\u001b[0m spisok[\u001b[38;5;241m2\u001b[39m] \u001b[38;5;241m=\u001b[39m \u001b[38;5;124m\"\u001b[39m\u001b[38;5;124mnovoe znachenie\u001b[39m\u001b[38;5;124m\"\u001b[39m       \u001b[38;5;66;03m# <-- работает, потому что индекс 2 есть\u001b[39;00m\n\u001b[1;32m----> 2\u001b[0m \u001b[43mspisok\u001b[49m\u001b[43m[\u001b[49m\u001b[38;5;241;43m3\u001b[39;49m\u001b[43m]\u001b[49m \u001b[38;5;241m=\u001b[39m \u001b[38;5;124m\"\u001b[39m\u001b[38;5;124meshe odno znachenie\u001b[39m\u001b[38;5;124m\"\u001b[39m   \u001b[38;5;66;03m# <-- не работает, так как индекса 3 ещё нет\u001b[39;00m\n",
      "\u001b[1;31mIndexError\u001b[0m: list assignment index out of range"
     ]
    }
   ],
   "source": [
    "spisok[2] = \"novoe znachenie\"       # <-- работает, потому что индекс 2 есть\n",
    "spisok[3] = \"eshe odno znachenie\"   # <-- не работает, так как индекса 3 ещё нет"
   ]
  },
  {
   "cell_type": "markdown",
   "id": "035a5915-63ce-4aed-8eaa-c0244a9262c6",
   "metadata": {},
   "source": [
    "Словари работают иначе. В словаре можно добавить новое значение по ключу, которого в словаре ещё нет:"
   ]
  },
  {
   "cell_type": "code",
   "execution_count": 14,
   "id": "87d6aa24-37a7-40fd-9558-9eef8cb5cbc8",
   "metadata": {},
   "outputs": [
    {
     "name": "stdout",
     "output_type": "stream",
     "text": [
      "{'havāpeymā': 'самолёт', 'puš': 'палатка', 'xun': 'кровь', 'xat': 'почерк'}\n"
     ]
    }
   ],
   "source": [
    "slovar[\"xat\"] = \"почерк\"       # <-- работает несмотря на то, что ключа \"xat\" раньше не было\n",
    "print(slovar)"
   ]
  },
  {
   "cell_type": "markdown",
   "id": "cc53f71f-428e-43f8-9dd0-8ebe5cfce2f2",
   "metadata": {},
   "source": [
    "Чтобы удалить элементы из словаря, потребуется специальная конструкция с командой `del`. Сначала нужно написать `del`, а затем — словарь и в квадратных скобках ключ, который вы хотите удалить. Обратите внимание на то, что эта команда — не функция, так что с ней не используются скобки:"
   ]
  },
  {
   "cell_type": "code",
   "execution_count": 15,
   "id": "51387f0e-3e06-474c-9da3-4143eb98799c",
   "metadata": {},
   "outputs": [
    {
     "name": "stdout",
     "output_type": "stream",
     "text": [
      "{'havāpeymā': 'самолёт', 'puš': 'палатка', 'xun': 'кровь', 'xat': 'почерк'}\n",
      "{'havāpeymā': 'самолёт', 'xun': 'кровь', 'xat': 'почерк'}\n"
     ]
    }
   ],
   "source": [
    "print(slovar)\n",
    "del slovar[\"puš\"]\n",
    "print(slovar)"
   ]
  },
  {
   "cell_type": "markdown",
   "id": "9695bd1c-ad15-42a5-894c-230ed10604bb",
   "metadata": {},
   "source": [
    "**Внимание!** Словарь является **упорядоченным** типом данных. Это значит, что ключи (и значения) сохраняются в том порядке, в котором вы их объявляете. А если в словарь добавляются новые элементы, они оказываются в конце."
   ]
  },
  {
   "cell_type": "markdown",
   "id": "81968d07-416c-4842-b21f-f5f966d8c3af",
   "metadata": {},
   "source": [
    "### Итерация по словарям"
   ]
  },
  {
   "cell_type": "markdown",
   "id": "212d15a4-8017-416d-a7dd-3faa43b2297b",
   "metadata": {},
   "source": [
    "Словарь — итерируемый объект. Однако если пройтись по нему циклом `for`, то «элементами» итерации окажутся только ключи:"
   ]
  },
  {
   "cell_type": "code",
   "execution_count": 16,
   "id": "ae6e4857-38db-4fa9-8244-09be7845c213",
   "metadata": {},
   "outputs": [
    {
     "name": "stdout",
     "output_type": "stream",
     "text": [
      "havāpeymā\n",
      "xun\n",
      "xat\n"
     ]
    }
   ],
   "source": [
    "for kluch in slovar:\n",
    "    print(kluch)"
   ]
  },
  {
   "cell_type": "markdown",
   "id": "c9637bb8-8043-47a5-b24e-636237c1b64e",
   "metadata": {},
   "source": [
    "Вывести значения в цикле тоже можно — для этого надо внутри цикла вывести значение по ключу (в квадратных скобках):"
   ]
  },
  {
   "cell_type": "code",
   "execution_count": 17,
   "id": "21536564-88f9-4157-bdbe-ae7385feff4a",
   "metadata": {},
   "outputs": [
    {
     "name": "stdout",
     "output_type": "stream",
     "text": [
      "havāpeymā самолёт\n",
      "xun кровь\n",
      "xat почерк\n"
     ]
    }
   ],
   "source": [
    "for kluch in slovar:\n",
    "    print(kluch, slovar[kluch])"
   ]
  },
  {
   "cell_type": "markdown",
   "id": "d2c6c602-200f-4f88-a501-563ec903e586",
   "metadata": {},
   "source": [
    "Так же и если попытаться узнать, есть ли в словаре какой-то объект, с помощью оператора `in`, питон будет искать этот объект только в ключах. Например, и `\"xun\"`, и `\"кровь\"` есть в словаре, но первое слово — ключ, а второе — значение:"
   ]
  },
  {
   "cell_type": "code",
   "execution_count": 18,
   "id": "90a09c84-86ca-4c69-8d76-1ae001ce0087",
   "metadata": {},
   "outputs": [
    {
     "name": "stdout",
     "output_type": "stream",
     "text": [
      "True\n",
      "False\n"
     ]
    }
   ],
   "source": [
    "print(\"xun\" in slovar)\n",
    "print(\"кровь\" in slovar)"
   ]
  },
  {
   "cell_type": "markdown",
   "id": "923ea36c-d741-4970-8bfb-6a710bc30fda",
   "metadata": {},
   "source": [
    "Наконец, если сделать из словаря список, кортеж или множество, то в нём сохранятся только ключи:"
   ]
  },
  {
   "cell_type": "code",
   "execution_count": 19,
   "id": "a736c8e5-751b-43f2-ab9b-fdb08534270b",
   "metadata": {},
   "outputs": [
    {
     "name": "stdout",
     "output_type": "stream",
     "text": [
      "['havāpeymā', 'xun', 'xat']\n"
     ]
    }
   ],
   "source": [
    "print(list(slovar))"
   ]
  },
  {
   "cell_type": "markdown",
   "id": "e671b46e-ce20-4dfa-a834-0cd1e54fb046",
   "metadata": {},
   "source": [
    "Как же делать все эти операции не с ключами, а со значениями? У словаря есть специальные методы, которые помогут вычленить:\n",
    "- все ключи (`dict.keys()`)\n",
    "- все значения (`dict.values()`)\n",
    "- все пары «ключ»–«значение» в виде кортежей (`dict.items()`)"
   ]
  },
  {
   "cell_type": "code",
   "execution_count": 20,
   "id": "5928e7d5-8291-41d1-be33-ee1bd242c0f7",
   "metadata": {},
   "outputs": [
    {
     "name": "stdout",
     "output_type": "stream",
     "text": [
      "{'havāpeymā': 'самолёт', 'xun': 'кровь', 'xat': 'почерк'}\n",
      "dict_keys(['havāpeymā', 'xun', 'xat'])\n",
      "dict_values(['самолёт', 'кровь', 'почерк'])\n",
      "dict_items([('havāpeymā', 'самолёт'), ('xun', 'кровь'), ('xat', 'почерк')])\n"
     ]
    }
   ],
   "source": [
    "print(slovar)\n",
    "print(slovar.keys())\n",
    "print(slovar.values())\n",
    "print(slovar.items())"
   ]
  },
  {
   "cell_type": "markdown",
   "id": "21bb556d-a4f2-4989-8312-1e7822faa6f4",
   "metadata": {},
   "source": [
    "Получившиеся в результате этих методов объекты — специальных типов (`dict_keys`, `dict_values`, `dict_items`). Ничего сложного в этих типах нет, главное — что по ним можно итерировать (или при необходимости превратить в список):"
   ]
  },
  {
   "cell_type": "code",
   "execution_count": 21,
   "id": "63a8f7be-d9b3-42a6-8b9d-a1e9cc3f571a",
   "metadata": {},
   "outputs": [
    {
     "name": "stdout",
     "output_type": "stream",
     "text": [
      "('havāpeymā', 'самолёт')\n",
      "('xun', 'кровь')\n",
      "('xat', 'почерк')\n"
     ]
    }
   ],
   "source": [
    "for item in slovar.items():\n",
    "    print(item)"
   ]
  },
  {
   "cell_type": "code",
   "execution_count": 22,
   "id": "67d874ce-3a6e-4ecc-b05c-8134fd1cbe7a",
   "metadata": {},
   "outputs": [
    {
     "name": "stdout",
     "output_type": "stream",
     "text": [
      "False\n",
      "False\n"
     ]
    }
   ],
   "source": [
    "print(\"одежда\" in slovar)\n",
    "print(\"одежда\" in slovar.values())"
   ]
  },
  {
   "cell_type": "markdown",
   "id": "5acb6fe3-e858-4881-a8e7-d08d0ace6fc2",
   "metadata": {},
   "source": [
    "К словарю и к его ключам и значениям также можно применить, например, функцию `len()`. Так как каждому ключу соответствует одно значение, число ключей и число значений в словаре всегда будет одно и то же:"
   ]
  },
  {
   "cell_type": "code",
   "execution_count": 23,
   "id": "3e16de8c-b054-4670-b78a-125537c3ac83",
   "metadata": {},
   "outputs": [
    {
     "name": "stdout",
     "output_type": "stream",
     "text": [
      "3\n",
      "3\n",
      "3\n",
      "3\n"
     ]
    }
   ],
   "source": [
    "print(len(slovar))\n",
    "print(len(slovar.keys()))\n",
    "print(len(slovar.values()))\n",
    "print(len(slovar.items()))"
   ]
  }
 ],
 "metadata": {
  "kernelspec": {
   "display_name": "Python 3 (ipykernel)",
   "language": "python",
   "name": "python3"
  },
  "language_info": {
   "codemirror_mode": {
    "name": "ipython",
    "version": 3
   },
   "file_extension": ".py",
   "mimetype": "text/x-python",
   "name": "python",
   "nbconvert_exporter": "python",
   "pygments_lexer": "ipython3",
   "version": "3.11.4"
  }
 },
 "nbformat": 4,
 "nbformat_minor": 5
}
