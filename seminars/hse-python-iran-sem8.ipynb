{
 "cells": [
  {
   "cell_type": "markdown",
   "id": "cea17432-ea86-4cb1-bed1-bdd795b70aa0",
   "metadata": {},
   "source": [
    "# Семинар 8"
   ]
  },
  {
   "cell_type": "markdown",
   "id": "7a59a7a6-07ff-4b32-bcde-ac2ec1c212dc",
   "metadata": {},
   "source": [
    "## Некоторые штуки"
   ]
  },
  {
   "cell_type": "markdown",
   "id": "0c4f896d-1002-4633-990e-81b932a79f81",
   "metadata": {},
   "source": [
    "В этом разделе рассматриваются две полезные вещи: (1) функция `round()` и (2) использование нескольких служебных переменных в цикле `for`.\n",
    "\n",
    "Функция `round()` позволяет округлить число. По умолчанию число округляется до целого (и даёт тип `int`), но можно указать количество нужных знаков после запятой отдельным аргументом:"
   ]
  },
  {
   "cell_type": "code",
   "execution_count": 1,
   "id": "c50d3ac5-317f-46ac-bb98-476c3727a6f5",
   "metadata": {},
   "outputs": [
    {
     "name": "stdout",
     "output_type": "stream",
     "text": [
      "3.141592653589793\n",
      "3\n",
      "3.142\n"
     ]
    }
   ],
   "source": [
    "pi = 3.141592653589793\n",
    "print(pi)\n",
    "print(round(pi))\n",
    "print(round(pi, 3))"
   ]
  },
  {
   "cell_type": "markdown",
   "id": "7434f1f1-f6e2-4e36-ab94-e1184d0b6455",
   "metadata": {},
   "source": [
    "В [прошлый раз](https://github.com/maxmerben/hse-python-iran-2024/blob/main/seminars/hse-python-iran-sem7.ipynb) мы рассмотрели метод словарей `.items()`, который преобразует пары «ключ»–«значение» в кортежи внутри большого псевдо-списка. Так можно легко добираться и до ключей, и до значений изнутри цикла:"
   ]
  },
  {
   "cell_type": "code",
   "execution_count": 2,
   "id": "b6749a6f-0c5b-4aaa-9594-6fdf9862f305",
   "metadata": {},
   "outputs": [
    {
     "name": "stdout",
     "output_type": "stream",
     "text": [
      "a яблоко\n",
      "c корица\n",
      "b банан\n"
     ]
    }
   ],
   "source": [
    "slovar = {\"a\": \"яблоко\", \"c\": \"корица\", \"b\": \"банан\"}\n",
    "for pair in slovar.items():\n",
    "    print(pair[0], pair[1])"
   ]
  },
  {
   "cell_type": "markdown",
   "id": "1c7403ed-1b49-416c-bd57-2398267176c4",
   "metadata": {},
   "source": [
    "Однако это всё же не очень удобно, ведь для обращения к ключам и значениям приходится пользоваться индексами ($0$ и $1$).\n",
    "Можно сделать иначе: после `for` определить не одну, а сразу две служебных переменных — для ключа и значения:"
   ]
  },
  {
   "cell_type": "code",
   "execution_count": 3,
   "id": "56f0d5d8-0c4f-433b-a1dd-2b8e10f03dd2",
   "metadata": {},
   "outputs": [
    {
     "name": "stdout",
     "output_type": "stream",
     "text": [
      "a яблоко\n",
      "c корица\n",
      "b банан\n"
     ]
    }
   ],
   "source": [
    "for key, value in slovar.items():\n",
    "    print(key, value)"
   ]
  },
  {
   "cell_type": "markdown",
   "id": "901d4c30-b2ed-4256-867d-70a38ffa110f",
   "metadata": {},
   "source": [
    "Таким образом можно итерировать не только по ключам и значениям словаря, но и по любым последовательностям, элементами которых являются другие последовательности. Вот пример из [задачи 5.2](https://github.com/maxmerben/hse-python-iran-2024/blob/main/seminars/hse-python-iran-sem5-tasks.ipynb):"
   ]
  },
  {
   "cell_type": "code",
   "execution_count": 4,
   "id": "8755c3bb-609d-4f15-97fd-260ac9a9ae20",
   "metadata": {},
   "outputs": [],
   "source": [
    "data = [[4, 2, 2],\n",
    "        [100, 11, 3]]"
   ]
  },
  {
   "cell_type": "code",
   "execution_count": 5,
   "id": "27529a0d-d391-4b0c-92a8-5e4b30939ee3",
   "metadata": {},
   "outputs": [
    {
     "name": "stdout",
     "output_type": "stream",
     "text": [
      "син: 4, сад: 2, се: 2\n",
      "син: 100, сад: 11, се: 3\n"
     ]
    }
   ],
   "source": [
    "for sin, sad, se in data:\n",
    "    print(f\"син: {sin}, сад: {sad}, се: {se}\")"
   ]
  },
  {
   "cell_type": "markdown",
   "id": "7bb4ee7f-b2b7-4024-a722-5dbc6ceeacd2",
   "metadata": {},
   "source": [
    "## Сортировки"
   ]
  },
  {
   "cell_type": "markdown",
   "id": "9bab1001-356e-417a-8f59-84e6449e4d80",
   "metadata": {},
   "source": [
    "Иногда нам нужно отсортировать содержимое списка определённым способом. Например, отсортировать числа по их значению:"
   ]
  },
  {
   "cell_type": "code",
   "execution_count": 6,
   "id": "a49fcc2b-ef6e-47f6-8f2a-43c02f0c4710",
   "metadata": {},
   "outputs": [],
   "source": [
    "spisok = [400, -400, -3.5, 0.07, 12, 0.0001, 34, 12.0]"
   ]
  },
  {
   "cell_type": "markdown",
   "id": "f4ab28ed-2736-49e5-ad6d-3f3f7b410c0a",
   "metadata": {},
   "source": [
    "Для этого пригодится функция **`sorted()`**. Эта функция — основной способ **сортировать итерируемые объекты** в питоне. Она сравнивает все объекты между собой уже известными нам операторами (`>`, `<`, `==`) и расставляет их по порядку, от наименьшего к наибольшему:"
   ]
  },
  {
   "cell_type": "code",
   "execution_count": 7,
   "id": "7db440c4-bcf9-4687-9116-763cea96e88e",
   "metadata": {},
   "outputs": [
    {
     "name": "stdout",
     "output_type": "stream",
     "text": [
      "[400, -400, -3.5, 0.07, 12, 0.0001, 34, 12.0]\n",
      "[-400, -3.5, 0.0001, 0.07, 12, 12.0, 34, 400]\n"
     ]
    }
   ],
   "source": [
    "print(spisok)\n",
    "print(sorted(spisok))"
   ]
  },
  {
   "cell_type": "markdown",
   "id": "db178336-108c-4c91-8159-85a70902db60",
   "metadata": {},
   "source": [
    "Сравнивать между собой можно не только числа, но и строки. При сравнении двух символов учитывается их номер в Юникоде (большой таблице символов, которая встроена в наши компьютеры и телефоны — каждому символу приписан уникальный номер). (Рекомендую прочитать [небольшую статью про Юникод](https://habr.com/ru/companies/vk/articles/547084), чтобы лучше понимать, что это.) В таком случае «больше» оказывается тот символ, у которого больше номер по Юникоду. Например, все буквы латинского алфавита идут по алфавиту, поэтому, конечно же, буква `\"b\"` «меньше» `\"q\"`. Но при этом важно, что заглавные и строчные буквы в Юникоде — разные символы, и заглавные идут до строчных, поэтому `\"B\"` «больше» `\"b\"`. Кириллические буквы в Юникоде расположены после латинских и поэтому всегда «больше» латинских, а арабские буквы — ещё дальше (и поэтому ещё «больше»):"
   ]
  },
  {
   "cell_type": "code",
   "execution_count": 8,
   "id": "f34c725c-fa28-4b4c-bf4d-871669732fb1",
   "metadata": {},
   "outputs": [
    {
     "name": "stdout",
     "output_type": "stream",
     "text": [
      "False\n",
      "True\n",
      "True\n"
     ]
    }
   ],
   "source": [
    "print(\"b\" > \"q\")\n",
    "print(\"b\" > \"B\")  # верно, потому что все заглавные буквы имеют меньший номер в Юникоде → «меньше», чем строчные\n",
    "print(\"b\" > \"Q\")  # верно, потому что все заглавные буквы имеют меньший номер в Юникоде → «меньше», чем строчные"
   ]
  },
  {
   "cell_type": "code",
   "execution_count": 9,
   "id": "ae062f42-6518-44ae-8bcb-7e8ef39f07e4",
   "metadata": {},
   "outputs": [
    {
     "name": "stdout",
     "output_type": "stream",
     "text": [
      "True\n",
      "True\n"
     ]
    }
   ],
   "source": [
    "print(\"ы\" > \"q\")  # верно, потому что все кириллические буквы имеют больший номер в Юникоде → «больше», чем латинские\n",
    "print(\"ق\" > \"q\")  # верно, потому что все арабские буквы имеют больший номер в Юникоде → «больше», чем латинские"
   ]
  },
  {
   "cell_type": "markdown",
   "id": "bd20ca84-1268-4c7f-a125-a119e20e5dbb",
   "metadata": {},
   "source": [
    "В таком случае легко предсказать, как рассортируются разные символы:"
   ]
  },
  {
   "cell_type": "code",
   "execution_count": 10,
   "id": "5a3f9a3d-4f11-4bb1-bf12-b76148fb4081",
   "metadata": {},
   "outputs": [
    {
     "name": "stdout",
     "output_type": "stream",
     "text": [
      "['d', 'D', 'ص', 's', 'ж', 'ظ', 'Q', 'Ю']\n",
      "['D', 'Q', 'd', 's', 'Ю', 'ж', 'ص', 'ظ']\n"
     ]
    }
   ],
   "source": [
    "bukvar = [\"d\", \"D\", \"ص\", \"s\", \"ж\", \"ظ\", \"Q\",  \"Ю\"]\n",
    "print(bukvar)\n",
    "print(sorted(bukvar))"
   ]
  },
  {
   "cell_type": "markdown",
   "id": "0379b39c-e481-44e4-a503-e382a113de06",
   "metadata": {},
   "source": [
    "Сравнивать можно не только строки, состоящие из одного символа, но и целые последовательности символов. Для этого питон сравнивает первые символы двух строк, а если они одинаковые, сравнивает вторые, и так далее:"
   ]
  },
  {
   "cell_type": "code",
   "execution_count": 11,
   "id": "5d098099-7be4-4b9e-8ffc-a33249471704",
   "metadata": {},
   "outputs": [
    {
     "name": "stdout",
     "output_type": "stream",
     "text": [
      "True\n",
      "True\n"
     ]
    }
   ],
   "source": [
    "print(\"axyz\" < \"bxyz\")  # сравнение первой пары символов (\"a\" и \"b\")\n",
    "print(\"axyz\" < \"bcde\")  # сравнение первой пары символов (\"a\" и \"b\")"
   ]
  },
  {
   "cell_type": "code",
   "execution_count": 12,
   "id": "92d3731f-6ab6-4623-8b2b-e573d59317e9",
   "metadata": {},
   "outputs": [
    {
     "name": "stdout",
     "output_type": "stream",
     "text": [
      "True\n",
      "True\n"
     ]
    }
   ],
   "source": [
    "print(\"abcd\" < \"axyz\")  # первые символы двух строк одинаковые → сравнение второго символа (\"b\" и \"x\")\n",
    "print(\"abcd\" < \"abcq\")  # первые три символа одинаковые → сравнение четвёртого симвоа (\"d\" и \"q\")"
   ]
  },
  {
   "cell_type": "markdown",
   "id": "384f73bf-0577-400d-a90c-0d4d1bb1921d",
   "metadata": {},
   "source": [
    "Если можно сравнивать, значит, можно и сортировать:"
   ]
  },
  {
   "cell_type": "code",
   "execution_count": 13,
   "id": "d7f4a565-9b9d-4070-92c4-b1439a2f3883",
   "metadata": {},
   "outputs": [
    {
     "name": "stdout",
     "output_type": "stream",
     "text": [
      "['AB', 'ab', 'bc', 'ac', 'aac', 'aa', 'b', 'AAA', 'abc']\n",
      "['AAA', 'AB', 'aa', 'aac', 'ab', 'abc', 'ac', 'b', 'bc']\n"
     ]
    }
   ],
   "source": [
    "spistrok = [\"AB\", \"ab\", \"bc\", \"ac\", \"aac\", \"aa\", \"b\", \"AAA\", \"abc\"]\n",
    "print(spistrok)\n",
    "print(sorted(spistrok))"
   ]
  },
  {
   "cell_type": "markdown",
   "id": "12668ff2-63c5-41d3-9211-e280092fa554",
   "metadata": {},
   "source": [
    "## Аргументы `sorted()`"
   ]
  },
  {
   "cell_type": "markdown",
   "id": "984adb9e-5253-4c00-98d6-251b5212fd15",
   "metadata": {},
   "source": [
    "В функцию `sorted()` можно подать ещё два именованных аргумента: `reverse` и `key`.\n",
    "\n",
    "Аргумент **`reverse`** указывает, будет ли сортировка проводиться от наименьшего к наибольшему или наоборот (`reverse=True`). Этим аргументом должно быть логическое значение (`True` или `False`). По умолчанию (если не подавать этот аргумент) оно равно `False`, поэтому по умолчанию список сортируется от наименьшего к наибольшему:"
   ]
  },
  {
   "cell_type": "code",
   "execution_count": 14,
   "id": "b8c6090e-fddf-4d68-b883-7d22ef298d70",
   "metadata": {},
   "outputs": [
    {
     "name": "stdout",
     "output_type": "stream",
     "text": [
      "['AAA', 'AB', 'aa', 'aac', 'ab', 'abc', 'ac', 'b', 'bc']\n",
      "['AAA', 'AB', 'aa', 'aac', 'ab', 'abc', 'ac', 'b', 'bc']\n",
      "['bc', 'b', 'ac', 'abc', 'ab', 'aac', 'aa', 'AB', 'AAA']\n"
     ]
    }
   ],
   "source": [
    "print(sorted(spistrok))\n",
    "print(sorted(spistrok, reverse=False))\n",
    "print(sorted(spistrok, reverse=True))"
   ]
  },
  {
   "cell_type": "markdown",
   "id": "fd9094e5-9b53-432c-9906-d208a08ae68c",
   "metadata": {},
   "source": [
    "Ещё один аргумент, **`key`**, позволяет эксплицитно указать, по какому *параметру* будет идти сортировка. В качестве аргумента `key` подаётся функция. Питон создаёт копию сортируемого списка и применяет к нему эту функцию, а потом сортирует исходный список по изменённому. Это звучит сложно, так что проще показать на примере. Например, если подать функцию `len`, то сортировка будет идти как бы по длине элементов. Обратите внимание, что функция подаётся без скобок:"
   ]
  },
  {
   "cell_type": "code",
   "execution_count": 15,
   "id": "cd967ba5-43a5-45d5-b76e-beb3191edf6a",
   "metadata": {},
   "outputs": [
    {
     "name": "stdout",
     "output_type": "stream",
     "text": [
      "['AAA', 'AB', 'aa', 'aac', 'ab', 'abc', 'ac', 'b', 'bc']\n",
      "['b', 'AB', 'ab', 'bc', 'ac', 'aa', 'aac', 'AAA', 'abc']\n"
     ]
    }
   ],
   "source": [
    "print(sorted(spistrok))\n",
    "print(sorted(spistrok, key=len))   # сначала строки из одного символа, потом двух, потом трёх"
   ]
  },
  {
   "cell_type": "markdown",
   "id": "aa0450e0-37fa-40bb-b1e1-ed591d45586f",
   "metadata": {},
   "source": [
    "Например, аргумент `key` поможет нам отсортировать строки по алфавиту без учёта регистра — для этого подадим в него метод строк `.lower()` (все буквы станут строчными):"
   ]
  },
  {
   "cell_type": "code",
   "execution_count": 16,
   "id": "1b1710b3-1571-42a0-8dfc-acba522ff5ac",
   "metadata": {},
   "outputs": [
    {
     "name": "stdout",
     "output_type": "stream",
     "text": [
      "['aa', 'AAA', 'aac', 'AB', 'ab', 'abc', 'ac', 'b', 'bc']\n"
     ]
    }
   ],
   "source": [
    "print(sorted(spistrok, key=str.lower))"
   ]
  },
  {
   "cell_type": "markdown",
   "id": "b85d98c9-6144-459e-b7d6-798fc980ec4e",
   "metadata": {},
   "source": [
    "Также можно сортировать, например, списки списков или кортежей. Возьмём список, в котором хранятся кортежи, и попробуем отсортировать этот список по размеру вложенных кортежей:"
   ]
  },
  {
   "cell_type": "code",
   "execution_count": 17,
   "id": "f173d66e-0e2b-4bd4-8762-1fb8b470bcf4",
   "metadata": {},
   "outputs": [
    {
     "name": "stdout",
     "output_type": "stream",
     "text": [
      "[(100,), (0, 1, 2), (0, 1, 2, 555), (0, 1, 2, 3, 4)]\n"
     ]
    }
   ],
   "source": [
    "spisok = [\n",
    "    (0, 1, 2, 3, 4),\n",
    "    (0, 1, 2),\n",
    "    (0, 1, 2, 555),\n",
    "    (100,)\n",
    "]\n",
    "print(sorted(spisok, key=len))"
   ]
  },
  {
   "cell_type": "markdown",
   "id": "1d450f1d-75b3-4708-ad54-96a798ad90bf",
   "metadata": {},
   "source": [
    "## Сортировка словарей"
   ]
  },
  {
   "cell_type": "markdown",
   "id": "7e9756aa-5e99-4bc1-8eb7-b615d3a15ed2",
   "metadata": {},
   "source": [
    "Попробуем отсортировать словарь:"
   ]
  },
  {
   "cell_type": "code",
   "execution_count": 18,
   "id": "e67f2e99-7efa-4260-b84f-ff954a18572b",
   "metadata": {},
   "outputs": [],
   "source": [
    "slovar = {\"a\": \"яблоко\", \"c\": \"корица\", \"b\": \"банан\"}"
   ]
  },
  {
   "cell_type": "code",
   "execution_count": 19,
   "id": "1212b233-b577-4966-aac3-aa9607783626",
   "metadata": {},
   "outputs": [
    {
     "name": "stdout",
     "output_type": "stream",
     "text": [
      "{'a': 'яблоко', 'c': 'корица', 'b': 'банан'}\n",
      "['a', 'b', 'c']\n",
      "<class 'list'>\n"
     ]
    }
   ],
   "source": [
    "print(slovar)\n",
    "print(sorted(slovar))\n",
    "print(type(sorted(slovar)))"
   ]
  },
  {
   "cell_type": "markdown",
   "id": "e30acc5d-f7b2-4484-ae4d-6b7ba440dfef",
   "metadata": {},
   "source": [
    "Как видите, мы получили отсортированные ключи словаря — в формате списка. То есть отсортировать сам список (поменять порядок пар «ключ»–«значение» внутри словаря) таким образом мы не можем. Зато можно, например, отсортировать все значения:"
   ]
  },
  {
   "cell_type": "code",
   "execution_count": 20,
   "id": "09f81620-eace-41e6-9ad7-9db73ffd2482",
   "metadata": {},
   "outputs": [
    {
     "name": "stdout",
     "output_type": "stream",
     "text": [
      "{'a': 'яблоко', 'c': 'корица', 'b': 'банан'}\n",
      "['банан', 'корица', 'яблоко']\n"
     ]
    }
   ],
   "source": [
    "print(slovar)\n",
    "print(sorted(slovar.values()))"
   ]
  },
  {
   "cell_type": "markdown",
   "id": "778557ea-b41b-428c-8896-889d66049c09",
   "metadata": {},
   "source": [
    "Больше про сортировки можно узнать [здесь](https://docs.python.org/3/howto/sorting.html) — кое-что из этого мы ещё изучим во второй половине курса!"
   ]
  }
 ],
 "metadata": {
  "kernelspec": {
   "display_name": "Python 3 (ipykernel)",
   "language": "python",
   "name": "python3"
  },
  "language_info": {
   "codemirror_mode": {
    "name": "ipython",
    "version": 3
   },
   "file_extension": ".py",
   "mimetype": "text/x-python",
   "name": "python",
   "nbconvert_exporter": "python",
   "pygments_lexer": "ipython3",
   "version": "3.11.4"
  }
 },
 "nbformat": 4,
 "nbformat_minor": 5
}
