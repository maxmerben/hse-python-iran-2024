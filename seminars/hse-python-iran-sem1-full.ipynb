{
 "cells": [
  {
   "cell_type": "markdown",
   "id": "75330583-925b-44c6-bfde-2ed6a5593296",
   "metadata": {},
   "source": [
    "# Семинар 1"
   ]
  },
  {
   "cell_type": "markdown",
   "id": "82d89f9a-373b-45c9-b235-20fc08af8d3b",
   "metadata": {},
   "source": [
    "## Подготовка рабочей среды"
   ]
  },
  {
   "cell_type": "markdown",
   "id": "91b92156-087a-44df-ad37-90850c26a319",
   "metadata": {},
   "source": [
    "- **Python** (язык программирования)\n",
    "- **Jupyter Notebook** («оболочка» для удобного написания кода)\n",
    "    - онлайн-альтернатива: [Google Colab](https://colab.google/)\n",
    "    - [гайд по запуску Jupyter Notebook](https://docs.jupyter.org/en/latest/running.html)"
   ]
  },
  {
   "cell_type": "markdown",
   "id": "05967b6a-70c7-47d7-bea3-4738253cd242",
   "metadata": {},
   "source": [
    "Jupyter Notebook позволяет создавать файлы формата `.ipynb` (*iPython notebooks*), или по-простому «**тетрадки**». Они состоят из автономных ячеек-блоков. Ячейки бывают двух типов: с кодом и с текстом."
   ]
  },
  {
   "cell_type": "markdown",
   "id": "b104a0f2-b0ad-44a0-89ef-420b4971e4c7",
   "metadata": {},
   "source": [
    "В ячейках с текстом можно использовать **Markdown** — минималистичный язык разметки текста. Вот **[краткая справка](https://www.markdownguide.org/cheat-sheet/)** по основным функциям Markdown.\n",
    "\n",
    "Самое главное, что может пригодиться: заголовки разных уровней, выделение **жирным** / *курсивом*, [гиперссылки](https://www.youtube.com/watch?v=f-gi8k4IRh8), простые списки."
   ]
  },
  {
   "cell_type": "markdown",
   "id": "b3512245-2bc9-4683-b5a9-230770900f71",
   "metadata": {},
   "source": [
    "## Операции с числами"
   ]
  },
  {
   "cell_type": "markdown",
   "id": "6180b451-aee1-4da7-aa19-887580a35f77",
   "metadata": {},
   "source": [
    "Сложение, вычитание, умножение и деление:"
   ]
  },
  {
   "cell_type": "code",
   "execution_count": 1,
   "id": "ca7311c9-0c09-42aa-b019-c827c6bfa2f6",
   "metadata": {},
   "outputs": [
    {
     "name": "stdout",
     "output_type": "stream",
     "text": [
      "34\n",
      "14\n",
      "240\n",
      "2.4\n"
     ]
    }
   ],
   "source": [
    "print(24 + 10)\n",
    "print(24 - 10)\n",
    "print(24 * 10)\n",
    "print(24 / 10)"
   ]
  },
  {
   "cell_type": "markdown",
   "id": "c76ee5dd-c6ad-4748-b4c5-3b0499a6504d",
   "metadata": {},
   "source": [
    "Деление нацело (без остатка) и остаток:"
   ]
  },
  {
   "cell_type": "code",
   "execution_count": 2,
   "id": "513d5e56-a443-4c89-abb3-3ee40438b62d",
   "metadata": {},
   "outputs": [
    {
     "name": "stdout",
     "output_type": "stream",
     "text": [
      "2.4\n",
      "2\n",
      "4\n"
     ]
    }
   ],
   "source": [
    "print(24 / 10)   # обычное деление\n",
    "print(24 // 10)  # без остатка\n",
    "print(24 % 10)   # остаток"
   ]
  },
  {
   "cell_type": "markdown",
   "id": "2e2af2d6-c7a4-41bb-97a1-886024bb081b",
   "metadata": {},
   "source": [
    "Можно использовать скобки, чтобы указывать порядок выполнения операций:"
   ]
  },
  {
   "cell_type": "code",
   "execution_count": 3,
   "id": "476eefbd-3d72-4f10-a71d-cef3b0b41f55",
   "metadata": {},
   "outputs": [
    {
     "data": {
      "text/plain": [
       "22.0"
      ]
     },
     "execution_count": 3,
     "metadata": {},
     "output_type": "execute_result"
    }
   ],
   "source": [
    "24 - 20 / 10"
   ]
  },
  {
   "cell_type": "code",
   "execution_count": 4,
   "id": "aa0f5546-2916-415c-8f59-dd0dc7b09a87",
   "metadata": {},
   "outputs": [
    {
     "data": {
      "text/plain": [
       "22.0"
      ]
     },
     "execution_count": 4,
     "metadata": {},
     "output_type": "execute_result"
    }
   ],
   "source": [
    "24 - (20 / 10)"
   ]
  },
  {
   "cell_type": "code",
   "execution_count": 5,
   "id": "77e9977f-047a-4a62-b929-6d0c83791f54",
   "metadata": {},
   "outputs": [
    {
     "data": {
      "text/plain": [
       "0.4"
      ]
     },
     "execution_count": 5,
     "metadata": {},
     "output_type": "execute_result"
    }
   ],
   "source": [
    "(24 - 20) / 10"
   ]
  },
  {
   "cell_type": "markdown",
   "id": "25b2c25d-332c-4f1e-a698-1f9377433e5c",
   "metadata": {},
   "source": [
    "## Переменные"
   ]
  },
  {
   "cell_type": "markdown",
   "id": "b42c0910-9cda-4bd1-990a-19166e852fcc",
   "metadata": {},
   "source": [
    "Переменные — это «ярлыки» для объектов."
   ]
  },
  {
   "cell_type": "code",
   "execution_count": 6,
   "id": "af7180c5-a9fa-4538-9303-262be681aa82",
   "metadata": {},
   "outputs": [],
   "source": [
    "x = 10"
   ]
  },
  {
   "cell_type": "code",
   "execution_count": 7,
   "id": "4b27cc6c-6f7a-4981-8b9d-8f0250234c72",
   "metadata": {},
   "outputs": [
    {
     "data": {
      "text/plain": [
       "10"
      ]
     },
     "execution_count": 7,
     "metadata": {},
     "output_type": "execute_result"
    }
   ],
   "source": [
    "x"
   ]
  },
  {
   "cell_type": "markdown",
   "id": "b7de5d88-ab1a-42f8-a065-c9d4d037fbb4",
   "metadata": {},
   "source": [
    "Объектом может быть число, строка или что-то ещё (пока что мы не знаем других вариантов):"
   ]
  },
  {
   "cell_type": "code",
   "execution_count": 8,
   "id": "68b2d326-967a-4167-84a3-6f7fdfcacbbe",
   "metadata": {},
   "outputs": [],
   "source": [
    "x = \"десять\""
   ]
  },
  {
   "cell_type": "markdown",
   "id": "73398a62-6a1e-4312-86b0-caaea9405210",
   "metadata": {},
   "source": [
    "Попытка вызвать переменную, которая ещё не определена, даёт ошибку, потому что питон не находит такой переменной в своей памяти:"
   ]
  },
  {
   "cell_type": "code",
   "execution_count": 9,
   "id": "e77411b2-6fc1-4e3e-bd5d-c252f713da59",
   "metadata": {},
   "outputs": [
    {
     "ename": "NameError",
     "evalue": "name 'y' is not defined",
     "output_type": "error",
     "traceback": [
      "\u001b[1;31m---------------------------------------------------------------------------\u001b[0m",
      "\u001b[1;31mNameError\u001b[0m                                 Traceback (most recent call last)",
      "Cell \u001b[1;32mIn[9], line 1\u001b[0m\n\u001b[1;32m----> 1\u001b[0m \u001b[43my\u001b[49m\n",
      "\u001b[1;31mNameError\u001b[0m: name 'y' is not defined"
     ]
    }
   ],
   "source": [
    "y"
   ]
  },
  {
   "cell_type": "code",
   "execution_count": 10,
   "id": "feff4fea-8078-42b1-89a4-cfb16be3b16d",
   "metadata": {},
   "outputs": [
    {
     "data": {
      "text/plain": [
       "14"
      ]
     },
     "execution_count": 10,
     "metadata": {},
     "output_type": "execute_result"
    }
   ],
   "source": [
    "y = 14\n",
    "y"
   ]
  },
  {
   "cell_type": "markdown",
   "id": "f6675f45-f952-44f5-8217-79840701f495",
   "metadata": {},
   "source": [
    "`print()` — это **функция**. Функции могут принимать «на вход» разные объекты и делать с ними что-то. Например, функция `print()` принимает на вход некоторое количество объектов и выводит на экран их содержимое. Запуская код с функцией, мы «вызываем» её, то есть заставляем её выполнить соответствующие действия.\n",
    "\n",
    "Объекты, которые функция принимает на вход, называются **аргументами** функции. Аргументы функции записываются в скобках после её названия (NB: *скобки нужны, даже если аргументов нет!*). Несколько аргументов перечисляются через запятую."
   ]
  },
  {
   "cell_type": "code",
   "execution_count": 11,
   "id": "976fa3fb-8e21-418b-ad38-d059902e0d14",
   "metadata": {},
   "outputs": [
    {
     "name": "stdout",
     "output_type": "stream",
     "text": [
      "текст\n"
     ]
    }
   ],
   "source": [
    "print(\"текст\")"
   ]
  },
  {
   "cell_type": "code",
   "execution_count": 12,
   "id": "bcf857a5-739e-4bc4-9a3a-e0c3cbb06db7",
   "metadata": {},
   "outputs": [
    {
     "name": "stdout",
     "output_type": "stream",
     "text": [
      "345\n"
     ]
    }
   ],
   "source": [
    "print(345)"
   ]
  },
  {
   "cell_type": "code",
   "execution_count": 13,
   "id": "7a69d4aa-2f15-4662-85da-8bb7beb53d31",
   "metadata": {},
   "outputs": [
    {
     "name": "stdout",
     "output_type": "stream",
     "text": [
      "десять\n"
     ]
    }
   ],
   "source": [
    "print(x)"
   ]
  },
  {
   "cell_type": "markdown",
   "id": "e2a35264-9c24-4605-ad43-80bdc3c2b2aa",
   "metadata": {},
   "source": [
    "Несколько аргументов `print()` по умолчанию выводятся через пробел:"
   ]
  },
  {
   "cell_type": "code",
   "execution_count": 14,
   "id": "eec25851-3388-461a-983e-815df27a3034",
   "metadata": {},
   "outputs": [
    {
     "name": "stdout",
     "output_type": "stream",
     "text": [
      "кто вообще придумал число 4\n",
      "кто вообще придумал число 4\n"
     ]
    }
   ],
   "source": [
    "print(\"кто\", \"вообще\", \"придумал\", \"число\", 4)\n",
    "print(\"кто вообще придумал число 4\")"
   ]
  },
  {
   "cell_type": "markdown",
   "id": "b359a864-f381-4022-9b83-673c7ff58bfe",
   "metadata": {},
   "source": [
    "Попытка вывести на экран несуществующую переменную приведёт к ошибке:"
   ]
  },
  {
   "cell_type": "code",
   "execution_count": 15,
   "id": "f92b7d74-63d4-4184-9427-e4cccf431853",
   "metadata": {},
   "outputs": [
    {
     "ename": "NameError",
     "evalue": "name 'z' is not defined",
     "output_type": "error",
     "traceback": [
      "\u001b[1;31m---------------------------------------------------------------------------\u001b[0m",
      "\u001b[1;31mNameError\u001b[0m                                 Traceback (most recent call last)",
      "Cell \u001b[1;32mIn[15], line 1\u001b[0m\n\u001b[1;32m----> 1\u001b[0m \u001b[38;5;28mprint\u001b[39m(\u001b[43mz\u001b[49m)\n",
      "\u001b[1;31mNameError\u001b[0m: name 'z' is not defined"
     ]
    }
   ],
   "source": [
    "print(z)"
   ]
  },
  {
   "cell_type": "markdown",
   "id": "7ed77761-05d1-4387-b493-f73bf5ab271d",
   "metadata": {},
   "source": [
    "Функция `input()` запрашивает данные у пользователя программы. Эти данные можно сохранить в переменную:"
   ]
  },
  {
   "cell_type": "code",
   "execution_count": 16,
   "id": "f1a7f8a8-7154-4248-8ff1-d341b8a52b77",
   "metadata": {},
   "outputs": [
    {
     "name": "stdin",
     "output_type": "stream",
     "text": [
      "Введите логин: kaleme\n"
     ]
    }
   ],
   "source": [
    "x = input(\"Введите логин:\")"
   ]
  },
  {
   "cell_type": "code",
   "execution_count": 17,
   "id": "6cf81bee-86c1-4fe8-9f43-003b374e2b46",
   "metadata": {},
   "outputs": [
    {
     "data": {
      "text/plain": [
       "'kaleme'"
      ]
     },
     "execution_count": 17,
     "metadata": {},
     "output_type": "execute_result"
    }
   ],
   "source": [
    "x"
   ]
  },
  {
   "cell_type": "markdown",
   "id": "e6ac64c4-3110-4a2f-9c1c-ef6078f4ac90",
   "metadata": {},
   "source": [
    "Объекты можно сравнивать между собой. Для этого используется оператор `==`:"
   ]
  },
  {
   "cell_type": "code",
   "execution_count": 18,
   "id": "dc8a9a7f-97cc-4bfa-b4bd-195e9337572c",
   "metadata": {},
   "outputs": [
    {
     "name": "stdout",
     "output_type": "stream",
     "text": [
      "True\n",
      "False\n",
      "False\n",
      "False\n"
     ]
    }
   ],
   "source": [
    "print(x == \"kaleme\")\n",
    "print(x == \"kaleme \")\n",
    "print(x == \"kalewe\")\n",
    "print(x == 0)"
   ]
  },
  {
   "cell_type": "code",
   "execution_count": 19,
   "id": "0a3fd4c4-bb67-4111-988a-bec2c88ff176",
   "metadata": {},
   "outputs": [
    {
     "name": "stdout",
     "output_type": "stream",
     "text": [
      "True\n",
      "False\n",
      "False\n"
     ]
    }
   ],
   "source": [
    "print(\"kaleme\" == \"kaleme\")\n",
    "print(\"kaleme\" == \"کلمه\")\n",
    "print(\"мир\" == \"война\")"
   ]
  },
  {
   "cell_type": "code",
   "execution_count": 20,
   "id": "150f6bd6-4fe1-4113-915e-83a73160699b",
   "metadata": {},
   "outputs": [
    {
     "name": "stdout",
     "output_type": "stream",
     "text": [
      "False\n",
      "True\n"
     ]
    }
   ],
   "source": [
    "print(\"алло,\" + \"салют\" == \"алло, салют\")\n",
    "print(2 * 2 * 2 * 2 * 2 == 2 ** 5)"
   ]
  },
  {
   "cell_type": "code",
   "execution_count": 21,
   "id": "7ccf99a6-7727-48f0-ae6d-2c35f2cc623a",
   "metadata": {},
   "outputs": [
    {
     "ename": "NameError",
     "evalue": "name 'z' is not defined",
     "output_type": "error",
     "traceback": [
      "\u001b[1;31m---------------------------------------------------------------------------\u001b[0m",
      "\u001b[1;31mNameError\u001b[0m                                 Traceback (most recent call last)",
      "Cell \u001b[1;32mIn[21], line 1\u001b[0m\n\u001b[1;32m----> 1\u001b[0m \u001b[38;5;28mprint\u001b[39m(x \u001b[38;5;241m==\u001b[39m \u001b[43mz\u001b[49m)\n",
      "\u001b[1;31mNameError\u001b[0m: name 'z' is not defined"
     ]
    }
   ],
   "source": [
    "print(x == z)"
   ]
  },
  {
   "cell_type": "markdown",
   "id": "80552ff2-fe4b-477e-a79d-b379c8e48635",
   "metadata": {},
   "source": [
    "**Внимание!** Не путай, иранист:\n",
    "- оператор `=` — для **приписывания**, он меняет содержание переменной и ничего не возвращает\n",
    "- оператор `==` — для **сравнения**, он не меняет содержание переменной и возвращает `True` или `False`\n",
    "_______"
   ]
  },
  {
   "cell_type": "markdown",
   "id": "ec83837d-eaa8-499c-aac4-b156b8e645ed",
   "metadata": {},
   "source": [
    "Числа также можно сравнивать с помощью операторов «больше» и «меньше»:"
   ]
  },
  {
   "cell_type": "code",
   "execution_count": 22,
   "id": "1e863ac0-6280-4bc8-b336-547396a579b7",
   "metadata": {},
   "outputs": [
    {
     "name": "stdout",
     "output_type": "stream",
     "text": [
      "True\n",
      "False\n",
      "False\n"
     ]
    }
   ],
   "source": [
    "print(3 < 4)\n",
    "print(4 < 4)\n",
    "print(8 < 4)"
   ]
  },
  {
   "cell_type": "code",
   "execution_count": 23,
   "id": "c3b79b8a-066c-460a-9f2f-33e1f7d206e1",
   "metadata": {},
   "outputs": [
    {
     "ename": "TypeError",
     "evalue": "'<' not supported between instances of 'str' and 'int'",
     "output_type": "error",
     "traceback": [
      "\u001b[1;31m---------------------------------------------------------------------------\u001b[0m",
      "\u001b[1;31mTypeError\u001b[0m                                 Traceback (most recent call last)",
      "Cell \u001b[1;32mIn[23], line 1\u001b[0m\n\u001b[1;32m----> 1\u001b[0m \u001b[38;5;28mprint\u001b[39m(\u001b[38;5;124;43m\"\u001b[39;49m\u001b[38;5;124;43mсто\u001b[39;49m\u001b[38;5;124;43m\"\u001b[39;49m\u001b[43m \u001b[49m\u001b[38;5;241;43m<\u001b[39;49m\u001b[43m \u001b[49m\u001b[38;5;241;43m4\u001b[39;49m)\n",
      "\u001b[1;31mTypeError\u001b[0m: '<' not supported between instances of 'str' and 'int'"
     ]
    }
   ],
   "source": [
    "print(\"сто\" < 4)"
   ]
  },
  {
   "cell_type": "markdown",
   "id": "14fb4354-d023-4c87-a8b2-7570d243676e",
   "metadata": {},
   "source": [
    "А также «больше или равно» и «меньше или равно» (прямо так пишется, знак «больше» или «меньше», а потом сразу «равно»):"
   ]
  },
  {
   "cell_type": "code",
   "execution_count": 24,
   "id": "a261e5d3-9610-4eed-8e66-ecc4e134ee0c",
   "metadata": {},
   "outputs": [
    {
     "name": "stdout",
     "output_type": "stream",
     "text": [
      "True\n",
      "True\n",
      "False\n"
     ]
    }
   ],
   "source": [
    "print(3 <= 4)\n",
    "print(4 <= 4)\n",
    "print(8 <= 4)"
   ]
  },
  {
   "cell_type": "markdown",
   "id": "faa50aa8-1b8b-4290-af0d-9d910932dd45",
   "metadata": {},
   "source": [
    "А также «не равно» (пишется как `!=`). Два числа, конечно же, будут «не равны» всегда, когда оператор «равно» будет выдавать `False`:"
   ]
  },
  {
   "cell_type": "code",
   "execution_count": 25,
   "id": "e92a25e0-e3bd-436e-bba7-936c5ad78f24",
   "metadata": {},
   "outputs": [
    {
     "name": "stdout",
     "output_type": "stream",
     "text": [
      "True\n",
      "False\n"
     ]
    }
   ],
   "source": [
    "print(7 * 7 == 49)\n",
    "print(7 * 7 == 47)"
   ]
  },
  {
   "cell_type": "code",
   "execution_count": 26,
   "id": "a8d040b1-7647-4299-a85b-69dbf2e496cf",
   "metadata": {},
   "outputs": [
    {
     "name": "stdout",
     "output_type": "stream",
     "text": [
      "False\n",
      "True\n"
     ]
    }
   ],
   "source": [
    "print(7 * 7 != 49)\n",
    "print(7 * 7 != 47)"
   ]
  },
  {
   "cell_type": "markdown",
   "id": "1dbab7e2-1347-4957-b9c0-d04975c6a849",
   "metadata": {},
   "source": [
    "## Операции со строками"
   ]
  },
  {
   "cell_type": "markdown",
   "id": "7579dc95-6200-469e-9c2c-5bb4f48243ad",
   "metadata": {},
   "source": [
    "### Арифметические операции"
   ]
  },
  {
   "cell_type": "markdown",
   "id": "10c06ffa-3d93-4cd5-9129-442ee1b12dce",
   "metadata": {},
   "source": [
    "Строки можно складывать:"
   ]
  },
  {
   "cell_type": "code",
   "execution_count": 27,
   "id": "33ef1ee1-6703-4d4e-9803-f2d8fc1923c2",
   "metadata": {},
   "outputs": [
    {
     "name": "stdout",
     "output_type": "stream",
     "text": [
      "птенчик любит кушать\n",
      "птенчиклюбиткушать\n"
     ]
    }
   ],
   "source": [
    "print(\"птенчик\", \"любит\", \"кушать\")\n",
    "print(\"птенчик\" + \"любит\" + \"кушать\")"
   ]
  },
  {
   "cell_type": "markdown",
   "id": "32f883fa-5691-4501-8cb3-c9e8cb3c7520",
   "metadata": {},
   "source": [
    "В отличие от `print()`, сложение не предусматривает пробелы. Их можно вставить иначе, если это необходимо:"
   ]
  },
  {
   "cell_type": "code",
   "execution_count": 28,
   "id": "0f6e129d-708c-42f3-a2b3-cc0bfc71eaad",
   "metadata": {},
   "outputs": [
    {
     "name": "stdout",
     "output_type": "stream",
     "text": [
      "птенчик любит кушать\n",
      "птенчик любит кушать\n"
     ]
    }
   ],
   "source": [
    "print(\"птенчик\" + \" \" + \"любит\" + \" \" + \"кушать\")\n",
    "print(\"птенчик \" + \"любит \" + \"кушать\")"
   ]
  },
  {
   "cell_type": "markdown",
   "id": "e10229dd-325f-4f38-b942-b9e81d22d09e",
   "metadata": {},
   "source": [
    "Другое отличие: операция сложения не просто выводит на экран, а **возвращает** новый объект. Это значит, что его можно записать в переменную:"
   ]
  },
  {
   "cell_type": "code",
   "execution_count": 29,
   "id": "70521be6-9740-4e1c-b00f-672bcba7c54c",
   "metadata": {},
   "outputs": [
    {
     "name": "stdout",
     "output_type": "stream",
     "text": [
      "птенчик любит кушать\n"
     ]
    }
   ],
   "source": [
    "stroka = \"птенчик \" + \"любит \" + \"кушать\"\n",
    "print(stroka)"
   ]
  },
  {
   "cell_type": "markdown",
   "id": "6ba87eba-4c9e-4218-8289-837badffe965",
   "metadata": {},
   "source": [
    "А `print()` просто выведет аргументы на экран, но в переменную ничего не запишет:"
   ]
  },
  {
   "cell_type": "code",
   "execution_count": 30,
   "id": "c51793c4-edce-4ff8-808b-866ae775f179",
   "metadata": {},
   "outputs": [
    {
     "name": "stdout",
     "output_type": "stream",
     "text": [
      "птенчик любит кушать\n",
      "None\n"
     ]
    }
   ],
   "source": [
    "stroka2 = print(\"птенчик \" + \"любит \" + \"кушать\")\n",
    "print(stroka2)"
   ]
  },
  {
   "cell_type": "markdown",
   "id": "1f17bd58-67e8-43ff-8d30-63dbe74dd533",
   "metadata": {},
   "source": [
    "Строки также можно умножать на числа:"
   ]
  },
  {
   "cell_type": "code",
   "execution_count": 31,
   "id": "7e64eb19-f1a0-49ef-9bbf-bb1dc5fd5a95",
   "metadata": {},
   "outputs": [
    {
     "name": "stdout",
     "output_type": "stream",
     "text": [
      "птенчик, а с ним \n",
      "птенчик, а с ним птенчик, а с ним птенчик, а с ним птенчик, а с ним птенчик, а с ним птенчик, а с ним птенчик, а с ним птенчик, а с ним птенчик, а с ним птенчик, а с ним птенчик, а с ним птенчик, а с ним птенчик, а с ним птенчик, а с ним птенчик, а с ним птенчик, а с ним птенчик, а с ним птенчик, а с ним птенчик, а с ним птенчик, а с ним птенчик, а с ним птенчик, а с ним птенчик, а с ним птенчик, а с ним птенчик, а с ним птенчик, а с ним птенчик, а с ним птенчик, а с ним птенчик, а с ним птенчик, а с ним птенчик, а с ним птенчик, а с ним птенчик, а с ним птенчик, а с ним птенчик, а с ним птенчик, а с ним птенчик, а с ним птенчик, а с ним птенчик, а с ним птенчик, а с ним птенчик, а с ним птенчик, а с ним птенчик, а с ним птенчик, а с ним птенчик, а с ним птенчик, а с ним птенчик, а с ним птенчик, а с ним птенчик, а с ним птенчик, а с ним птенчик, а с ним птенчик, а с ним птенчик, а с ним птенчик, а с ним птенчик, а с ним птенчик, а с ним птенчик, а с ним птенчик, а с ним птенчик, а с ним птенчик, а с ним птенчик, а с ним птенчик, а с ним птенчик, а с ним птенчик, а с ним птенчик, а с ним птенчик, а с ним птенчик, а с ним птенчик, а с ним птенчик, а с ним птенчик, а с ним птенчик, а с ним птенчик, а с ним птенчик, а с ним птенчик, а с ним птенчик, а с ним птенчик, а с ним птенчик, а с ним птенчик, а с ним птенчик, а с ним птенчик, а с ним птенчик, а с ним птенчик, а с ним птенчик, а с ним птенчик, а с ним птенчик, а с ним птенчик, а с ним птенчик, а с ним птенчик, а с ним птенчик, а с ним птенчик, а с ним птенчик, а с ним птенчик, а с ним птенчик, а с ним птенчик, а с ним птенчик, а с ним птенчик, а с ним птенчик, а с ним птенчик, а с ним птенчик, а с ним птенчик, а с ним \n"
     ]
    }
   ],
   "source": [
    "print(\"птенчик, а с ним \")\n",
    "print(\"птенчик, а с ним \" * 100)"
   ]
  },
  {
   "cell_type": "markdown",
   "id": "61c80616-e506-4bfb-823a-1449bbf5b899",
   "metadata": {},
   "source": [
    "Умножать строки друг на друга и вычитать одну из другой нельзя:"
   ]
  },
  {
   "cell_type": "code",
   "execution_count": 32,
   "id": "40b1a097-acd4-4d73-861f-fb573c94310b",
   "metadata": {},
   "outputs": [
    {
     "ename": "TypeError",
     "evalue": "unsupported operand type(s) for -: 'str' and 'str'",
     "output_type": "error",
     "traceback": [
      "\u001b[1;31m---------------------------------------------------------------------------\u001b[0m",
      "\u001b[1;31mTypeError\u001b[0m                                 Traceback (most recent call last)",
      "Cell \u001b[1;32mIn[32], line 1\u001b[0m\n\u001b[1;32m----> 1\u001b[0m \u001b[38;5;28mprint\u001b[39m(\u001b[43mstroka\u001b[49m\u001b[43m \u001b[49m\u001b[38;5;241;43m-\u001b[39;49m\u001b[43m \u001b[49m\u001b[38;5;124;43m\"\u001b[39;49m\u001b[38;5;124;43mкорм\u001b[39;49m\u001b[38;5;124;43m\"\u001b[39;49m)\n",
      "\u001b[1;31mTypeError\u001b[0m: unsupported operand type(s) for -: 'str' and 'str'"
     ]
    }
   ],
   "source": [
    "print(stroka - \"корм\")"
   ]
  },
  {
   "cell_type": "code",
   "execution_count": 33,
   "id": "cb90d43f-dc75-450f-bb2e-23223fafc821",
   "metadata": {},
   "outputs": [
    {
     "ename": "TypeError",
     "evalue": "can't multiply sequence by non-int of type 'str'",
     "output_type": "error",
     "traceback": [
      "\u001b[1;31m---------------------------------------------------------------------------\u001b[0m",
      "\u001b[1;31mTypeError\u001b[0m                                 Traceback (most recent call last)",
      "Cell \u001b[1;32mIn[33], line 1\u001b[0m\n\u001b[1;32m----> 1\u001b[0m \u001b[38;5;28mprint\u001b[39m(\u001b[43mstroka\u001b[49m\u001b[43m \u001b[49m\u001b[38;5;241;43m*\u001b[39;49m\u001b[43m \u001b[49m\u001b[38;5;124;43m\"\u001b[39;49m\u001b[38;5;124;43mкорм\u001b[39;49m\u001b[38;5;124;43m\"\u001b[39;49m)\n",
      "\u001b[1;31mTypeError\u001b[0m: can't multiply sequence by non-int of type 'str'"
     ]
    }
   ],
   "source": [
    "print(stroka * \"корм\")"
   ]
  },
  {
   "cell_type": "markdown",
   "id": "c52c5722-4d1c-4800-b87b-45d2664f0863",
   "metadata": {},
   "source": [
    "### Индексация"
   ]
  },
  {
   "cell_type": "markdown",
   "id": "408c5354-4a20-4a7b-af97-f31f2731d804",
   "metadata": {},
   "source": [
    "Строка — это такой объект, который состоит из отдельных элементов (в случае строки это символы). К этим элементам можно обращаться по номерам, которые называются **индексами**:"
   ]
  },
  {
   "cell_type": "code",
   "execution_count": 34,
   "id": "0c8d6f91-7407-43d8-9274-6f04709a174d",
   "metadata": {},
   "outputs": [
    {
     "name": "stdout",
     "output_type": "stream",
     "text": [
      "А\n",
      "Б\n",
      "И\n",
      "АБ\n"
     ]
    }
   ],
   "source": [
    "x = \"АБВГДЕЁЖЗИК\"\n",
    "print(x[0])\n",
    "print(x[1])\n",
    "print(x[9])\n",
    "print(x[0]+x[1])"
   ]
  },
  {
   "cell_type": "markdown",
   "id": "44bd354b-7f13-4a30-a49a-ef8d3e7ede31",
   "metadata": {},
   "source": [
    "**Внимание!** Важно запомнить: при индексации отсчёт начинается с `0`, а не с `1`.\n",
    "_________\r\n"
   ]
  },
  {
   "cell_type": "markdown",
   "id": "0c6d7c9f-7839-40ab-ba3a-ac199fdaae0e",
   "metadata": {},
   "source": [
    "Если запросить элемент с индексом, которого нет в строке (размер строки меньше), то программа выдаст ошибку:"
   ]
  },
  {
   "cell_type": "code",
   "execution_count": 35,
   "id": "b135c278-2896-477d-a6d1-eaae1fde13e3",
   "metadata": {},
   "outputs": [
    {
     "ename": "IndexError",
     "evalue": "string index out of range",
     "output_type": "error",
     "traceback": [
      "\u001b[1;31m---------------------------------------------------------------------------\u001b[0m",
      "\u001b[1;31mIndexError\u001b[0m                                Traceback (most recent call last)",
      "Cell \u001b[1;32mIn[35], line 1\u001b[0m\n\u001b[1;32m----> 1\u001b[0m \u001b[43mx\u001b[49m\u001b[43m[\u001b[49m\u001b[38;5;241;43m12\u001b[39;49m\u001b[43m]\u001b[49m\n",
      "\u001b[1;31mIndexError\u001b[0m: string index out of range"
     ]
    }
   ],
   "source": [
    "x[12]"
   ]
  },
  {
   "cell_type": "markdown",
   "id": "c5a1292d-638f-47d5-9d8a-6276f137b31c",
   "metadata": {},
   "source": [
    "Чтобы выбрать сразу несколько последовательных элементов, можно использовать **срезы**:"
   ]
  },
  {
   "cell_type": "code",
   "execution_count": 36,
   "id": "fe57388f-1ba7-40a1-b837-e764e10f6c81",
   "metadata": {},
   "outputs": [
    {
     "name": "stdout",
     "output_type": "stream",
     "text": [
      "АБВГД\n",
      "ЁЖИК\n"
     ]
    }
   ],
   "source": [
    "print(x[0:5])\n",
    "print(x[6:8] + x[9:11])"
   ]
  },
  {
   "cell_type": "markdown",
   "id": "7b3fb374-fe1f-442b-b307-1a6c2653f349",
   "metadata": {},
   "source": [
    "**Внимание!** В срезе указывается два числа:\n",
    "- до двоеточия — индекс, с которого начинается срез;\n",
    "- после двоеточия — индекс, *до* которого (не включая его) срез останавливается."
   ]
  },
  {
   "cell_type": "code",
   "execution_count": 37,
   "id": "9a8e9da5-8598-48e0-8b83-d7fe39e5ad3b",
   "metadata": {},
   "outputs": [
    {
     "name": "stdout",
     "output_type": "stream",
     "text": [
      "0123456789\n",
      "23456\n"
     ]
    }
   ],
   "source": [
    "numbers = \"0123456789\"\n",
    "print(numbers)\n",
    "print(numbers[2:7])"
   ]
  },
  {
   "cell_type": "markdown",
   "id": "02c75064-d042-4559-bc0d-1122eb16c216",
   "metadata": {},
   "source": [
    "*Дальше мы ещё не проходили!*\n",
    "_________________"
   ]
  },
  {
   "cell_type": "code",
   "execution_count": null,
   "id": "02170971-36ac-4001-b208-6dd5c54ffe4d",
   "metadata": {},
   "outputs": [],
   "source": [
    "# форматирование строк"
   ]
  },
  {
   "cell_type": "code",
   "execution_count": null,
   "id": "19863164-6a74-4413-951f-3f88cf2f8124",
   "metadata": {},
   "outputs": [],
   "source": [
    "# sep & end"
   ]
  },
  {
   "cell_type": "code",
   "execution_count": null,
   "id": "e682a159-2a1a-4479-9cb0-757d7d23e43a",
   "metadata": {},
   "outputs": [],
   "source": [
    "# вложение функций"
   ]
  },
  {
   "cell_type": "markdown",
   "id": "313af2af-4345-4d4f-a8e9-0e50f27a1a3a",
   "metadata": {},
   "source": [
    "## Типы данных"
   ]
  },
  {
   "cell_type": "markdown",
   "id": "edd696d1-e61b-45e3-b371-be33df68a669",
   "metadata": {},
   "source": [
    "Каждый объект принадлежит к определённому типу. Тип объекта определяет, например, какие функции можно применять к этому объекту."
   ]
  },
  {
   "cell_type": "markdown",
   "id": "dc13e09a-4b0b-4bcb-8314-eb47c2c77fce",
   "metadata": {},
   "source": [
    "Пока что нам будут нужны четыре типа данных:\n",
    "\n",
    "- `int` (целые числа)\n",
    "- `float` (вещественные числа, то есть числа с «плавающей» запятой)\n",
    "- `str` (строки текста)\n",
    "- `bool` (логические, или «булевы» значения: `True` и `False`)"
   ]
  },
  {
   "cell_type": "markdown",
   "id": "d2f4a7cf-6ab9-458c-8166-580064af3ab1",
   "metadata": {},
   "source": [
    "Определить тип переменной можно с помощью функции `type()`:"
   ]
  },
  {
   "cell_type": "code",
   "execution_count": null,
   "id": "50f58b07-12ba-4d65-b0d1-f846c5ae0e29",
   "metadata": {},
   "outputs": [],
   "source": []
  },
  {
   "cell_type": "code",
   "execution_count": null,
   "id": "3be49c30-9dd6-4a2a-bbf7-0685ef3fd553",
   "metadata": {},
   "outputs": [],
   "source": [
    "# сравнение и bool"
   ]
  },
  {
   "cell_type": "code",
   "execution_count": null,
   "id": "de28a34d-1369-4a80-b0ca-613f3b49bca0",
   "metadata": {},
   "outputs": [],
   "source": [
    "# изменение типа объекта"
   ]
  },
  {
   "cell_type": "code",
   "execution_count": null,
   "id": "2756e1d4-a10c-446f-963e-30065e51e1bb",
   "metadata": {},
   "outputs": [],
   "source": [
    "# конфликт типов"
   ]
  },
  {
   "cell_type": "markdown",
   "id": "4a574f00-b697-4ab3-b322-3b58e00763b8",
   "metadata": {},
   "source": [
    "## Дополнительные задачи"
   ]
  },
  {
   "cell_type": "markdown",
   "id": "b7bb6728-e99a-4d94-a598-b47b45f992f2",
   "metadata": {},
   "source": [
    "#### NB: Вывод в Jupyter"
   ]
  },
  {
   "cell_type": "markdown",
   "id": "ad6846dc-a352-462b-a2db-3d0d563d3d79",
   "metadata": {},
   "source": [
    "В Jupyter Notebook можно выводить данные на экран не только с помощью `print()`, но и просто пропечатывая желаемое выражение / переменную в конце ячейки."
   ]
  },
  {
   "cell_type": "code",
   "execution_count": 38,
   "id": "31a827b8-4ff3-42de-886f-1ebecd0e2151",
   "metadata": {},
   "outputs": [],
   "source": [
    "stroka = \"Вот такие пироги!\""
   ]
  },
  {
   "cell_type": "code",
   "execution_count": 39,
   "id": "b68b1838-35ce-4a33-bc06-4a8aca8c6c61",
   "metadata": {},
   "outputs": [
    {
     "name": "stdout",
     "output_type": "stream",
     "text": [
      "Вот такие пироги!\n"
     ]
    }
   ],
   "source": [
    "print(stroka)"
   ]
  },
  {
   "cell_type": "code",
   "execution_count": 40,
   "id": "dd26f5ba-e9c7-4b9b-a2c5-953fb9164f7e",
   "metadata": {},
   "outputs": [
    {
     "data": {
      "text/plain": [
       "'Вот такие пироги!'"
      ]
     },
     "execution_count": 40,
     "metadata": {},
     "output_type": "execute_result"
    }
   ],
   "source": [
    "stroka"
   ]
  },
  {
   "cell_type": "markdown",
   "id": "f4345f1b-c487-4cbc-8b8d-92ff8b92db5a",
   "metadata": {},
   "source": [
    "Иногда результат этих двух способов отличается! Например:"
   ]
  },
  {
   "cell_type": "code",
   "execution_count": 41,
   "id": "e478dfd6-9cbb-4dab-a3c6-25a3a831dcc8",
   "metadata": {},
   "outputs": [
    {
     "name": "stdout",
     "output_type": "stream",
     "text": [
      "1\n",
      "2\n",
      "3\n"
     ]
    }
   ],
   "source": [
    "print(1)\n",
    "print(2)\n",
    "print(3)"
   ]
  },
  {
   "cell_type": "code",
   "execution_count": 42,
   "id": "c09821f8-fa52-407a-a6ba-43d429e0e1e2",
   "metadata": {},
   "outputs": [
    {
     "data": {
      "text/plain": [
       "3"
      ]
     },
     "execution_count": 42,
     "metadata": {},
     "output_type": "execute_result"
    }
   ],
   "source": [
    "1\n",
    "2\n",
    "3"
   ]
  },
  {
   "cell_type": "markdown",
   "id": "a6299d70-ab8f-48bf-85f0-f02b33994fbe",
   "metadata": {},
   "source": [
    "**Внимание!** Если в задании указано: «распечатайте», «выведите на экран»… — пользуйтесь функцией `print()`. Она точно выведет всё, что нужно, в правильном виде."
   ]
  },
  {
   "cell_type": "markdown",
   "id": "1b124fea-8942-4c2d-a854-16e3c186a148",
   "metadata": {},
   "source": [
    "#### Задача 1.1. Полевые данные"
   ]
  },
  {
   "cell_type": "markdown",
   "id": "af5ed348-82df-47d1-88b7-0ddcfb0ab925",
   "metadata": {},
   "source": [
    "Записывая языковые данные, мы иногда обозначаем информант:ок специальными кодами (чтобы, с одной стороны, анонимизировать личность человека, а с другой, иметь возможность различать данные, полученные от разных людей). Напишем программу, которая будет генерировать такой код из имени и года рождения человека, а заодно будет помечать, относится этот человек к группе «молодых» или «взрослых» носителей.\n",
    "\n",
    "1. Спросить у пользователя имя информант:ки (например, `'Ингеборга'`)\n",
    "2. Спросить у пользователя год рождения информант:ки (целое число, например, `1992`)\n",
    "3. Вывести на экран фразу `\"Код:\"`, а затем код формата «первая буква имени + две последних цифры года рождения».\n",
    "4. Вывести на экран фразу `\"Взрослый:\"`, а затем в той же строке:\n",
    "   - `True`, если информант:ка родилась в 1990 году или раньше\n",
    "   - `False`, если информант:ка родилась позже 1990 года\n",
    "\n",
    "Например:\n",
    "\n",
    "```\n",
    "> Ингеборга\n",
    "> 1992\n",
    "Код: И92\n",
    "Взрослый: False\n",
    "```"
   ]
  },
  {
   "cell_type": "code",
   "execution_count": null,
   "id": "beac29a2-bfa4-456b-a705-a1245d1c6052",
   "metadata": {},
   "outputs": [],
   "source": [
    "name = \n",
    "year = "
   ]
  },
  {
   "cell_type": "code",
   "execution_count": null,
   "id": "40291ab1-2a97-40f6-960f-220671831477",
   "metadata": {},
   "outputs": [],
   "source": [
    "# ваше решение"
   ]
  },
  {
   "cell_type": "markdown",
   "id": "8d064fc2-def1-4c9b-9aef-045675360a9f",
   "metadata": {},
   "source": [
    "#### Задача 1.2. Выборы в Лимерике (пока что не решаем)"
   ]
  },
  {
   "cell_type": "markdown",
   "id": "e77f10a5-dd3f-4957-8a84-54386aefccce",
   "metadata": {},
   "source": [
    "В стране Лимерике только что прошли выборы президента. Каждый из жителей Лимерики мог прийти на участок и проголосовать за одного из двух кандидатов. Нам поручено подсчитать базовую статистику по итогам выборов.\n",
    "\n",
    "1. Спросить у пользователя три целых числа:\n",
    "   - количество потенциальных избиратель:ниц (некоторые из них пришли проголосовать, а некоторые нет)\n",
    "   - число избиратель:ниц, которые проголосовали за кандидата по имени Арис\n",
    "   - число избиратель:ниц, которые проголосовали за кандидата по имени Брамб\n",
    "2. Вывести на экран, снабдив краткими пояснительными комментариями:\n",
    "   - процент голосов, которые получил Арис (по отношению ко всем проголосовавшим)\n",
    "   - процент голосов, которые получил Брамб (по отношению ко всем проголосовавшим)\n",
    "   - число не проголосовавших (сколько человек не пришло на выборы)\n",
    "   - явка (сколько человек пришло голосовать из числа всех потенциальных избирателей)\n",
    "  \n",
    "Например:\n",
    "\n",
    "```\r\n",
    "> 1000\r\n",
    "> 420\r\n",
    "> 380\r\n",
    "Арис: 52.5 %\r\n",
    "Брамб: 47.5 %\r\n",
    "Не голосовало: 200 чел.\r\n",
    "Явка: 80.0 %\r\n",
    "``````"
   ]
  },
  {
   "cell_type": "code",
   "execution_count": null,
   "id": "59cb383a-59c1-4e6a-b0d1-1aaca5cc67a4",
   "metadata": {},
   "outputs": [],
   "source": [
    "n =             # кол-во избиратель:ниц\n",
    "a =             # голоса за Ариса\n",
    "b =             # голоса за Брамба"
   ]
  },
  {
   "cell_type": "code",
   "execution_count": null,
   "id": "25e7733a-0bce-45f8-83f2-2520eddda216",
   "metadata": {},
   "outputs": [],
   "source": [
    "# ваше решение"
   ]
  },
  {
   "cell_type": "markdown",
   "id": "91fbad73-2635-4395-8f15-52df4d5eb11d",
   "metadata": {},
   "source": [
    "#### Задача 1.3. Учиться, учиться, учиться (пока что не решаем)"
   ]
  },
  {
   "cell_type": "markdown",
   "id": "b7e87ecc-04d1-44f2-a102-30c4609eee57",
   "metadata": {},
   "source": [
    "1. Спросить у пользователя слово (например, `'учиться'`).\n",
    "2. Спросить у пользователя целое число (например, `5`).\n",
    "3. Вывести на экран фразу, в которой этот глагол повторён нужное число раз. Предпоследний и последний повтор должны быть разделены запятой и словами «и ещё раз», а все остальные — запятой и пробелом.\n",
    "\n",
    "Например:\n",
    "\n",
    "```\n",
    "> учиться\n",
    "> 5\n",
    "учиться, учиться, учиться, учиться, и ещё раз учиться!\n",
    "\n",
    "> борщ\n",
    "> 15\n",
    "борщ, борщ, борщ, борщ, борщ, борщ, борщ, борщ, борщ, борщ, борщ, борщ, борщ, борщ, и ещё раз борщ!\n",
    "```"
   ]
  },
  {
   "cell_type": "code",
   "execution_count": null,
   "id": "d0f6c701-45a3-4a59-8926-ade3db39cd49",
   "metadata": {},
   "outputs": [],
   "source": [
    "verb = \n",
    "n = "
   ]
  },
  {
   "cell_type": "code",
   "execution_count": null,
   "id": "93f36e5f-e6eb-4358-a272-64a7c70e09a9",
   "metadata": {},
   "outputs": [],
   "source": [
    "# ваше решение"
   ]
  }
 ],
 "metadata": {
  "kernelspec": {
   "display_name": "Python 3 (ipykernel)",
   "language": "python",
   "name": "python3"
  },
  "language_info": {
   "codemirror_mode": {
    "name": "ipython",
    "version": 3
   },
   "file_extension": ".py",
   "mimetype": "text/x-python",
   "name": "python",
   "nbconvert_exporter": "python",
   "pygments_lexer": "ipython3",
   "version": "3.11.4"
  }
 },
 "nbformat": 4,
 "nbformat_minor": 5
}
