{
 "cells": [
  {
   "cell_type": "markdown",
   "id": "cea17432-ea86-4cb1-bed1-bdd795b70aa0",
   "metadata": {},
   "source": [
    "# Семинар 5"
   ]
  },
  {
   "cell_type": "markdown",
   "id": "69cf16d0-65fc-44a9-9d6e-f175e92aea96",
   "metadata": {},
   "source": [
    "## Методы строк и списков"
   ]
  },
  {
   "cell_type": "markdown",
   "id": "bbc48461-716c-4d6f-8f6e-274ca746600c",
   "metadata": {},
   "source": [
    "Ниже перечислены команды, которые вам нужно освоить самостоятельно, просмотрев **[Тему 5](https://edu.hse.ru/course/view.php?id=133389&section=5)** из онлайн-курса.\n",
    "\n",
    "_____"
   ]
  },
  {
   "cell_type": "markdown",
   "id": "f188a691-e9a4-4227-b2d9-86df6d5d7286",
   "metadata": {},
   "source": [
    "**Методы строк**:\n",
    "1. `.split()` (**разделить** строку на подстроки с помощью разделителя)\n",
    "    - принимает на вход аргумент-разделитель (по умолчанию пробельные символы: пробел, табуляция `\\t`, красная строка `\\n`)\n",
    "    - возвращает список строк\n",
    "2. `.strip()` (убрать **лишние символы** с краёв строки)\n",
    "    - принимает символы, которые нужно убрать (по умолчанию пробельные символы: пробел, табуляция `\\t`, красная строка `\\n`)\n",
    "    - возвращает новую строку\n",
    "3. `.replace()` (найти все вхождения подстроки в строке и **заменить** их на другую подстроку)\n",
    "    - принимает два аргумента: подстроку, которую нужно найти, и подстроку, на которую её нужно заменить\n",
    "    - возвращает новую строку\n",
    "4. `.find()` (**найти** первое вхождение подстроки в строке *слева*) и `.rfind()` (**найти** первое вхождение подстроки в строке *справа*)\n",
    "    - принимает подстроку, которую нужно найти\n",
    "    - возвращает индекс первого элемента подстроки\n",
    "5. `.count()` (найти подстроку в строке и **посчитать** все её вхождения)\n",
    "    - принимает подстроку, которую нужно найти и посчитать\n",
    "    - возвращает число вхождений подстроки\n",
    "6. `.upper()` (превращает все буквы в строке в **заглавные**)\n",
    "    - возвращает новую строку\n",
    "7. `.lower()` (превращает все буквы в строке в **строчные**)\n",
    "    - возвращает новую строку\n",
    "8. `.join()` (**объединяет** элементы списка в одну большую строку, используя разделитель)\n",
    "    - метод применяется к строке-разделителю\n",
    "    - принимает список в качестве аргумента\n",
    "    - возвращает строку с элементами списка\n",
    "\n",
    "Примеры:"
   ]
  },
  {
   "cell_type": "code",
   "execution_count": 1,
   "id": "34e9fc4d-89d6-4234-99b3-dc94656a2d3e",
   "metadata": {},
   "outputs": [],
   "source": [
    "stroka = \"Арамзамзам!\""
   ]
  },
  {
   "cell_type": "code",
   "execution_count": 2,
   "id": "998cd221-95f9-49ed-b28f-8a83adea0b42",
   "metadata": {},
   "outputs": [
    {
     "name": "stdout",
     "output_type": "stream",
     "text": [
      "['Ар', 'з', 'з', '!']\n"
     ]
    }
   ],
   "source": [
    "print(stroka.split(\"ам\"))"
   ]
  },
  {
   "cell_type": "code",
   "execution_count": 3,
   "id": "1aa33830-c339-445d-8dfa-d0adbd6f2e0f",
   "metadata": {},
   "outputs": [
    {
     "name": "stdout",
     "output_type": "stream",
     "text": [
      "Арамзамзам\n"
     ]
    }
   ],
   "source": [
    "print(stroka.strip(\"!\"))"
   ]
  },
  {
   "cell_type": "code",
   "execution_count": 4,
   "id": "b600d615-905c-4779-b5fe-2fea15064cf1",
   "metadata": {},
   "outputs": [
    {
     "name": "stdout",
     "output_type": "stream",
     "text": [
      "АрАМзАМзАМ!\n"
     ]
    }
   ],
   "source": [
    "print(stroka.replace(\"ам\", \"АМ\"))"
   ]
  },
  {
   "cell_type": "code",
   "execution_count": 5,
   "id": "4487ec03-32ec-465a-b3b8-d9dfe9e19274",
   "metadata": {},
   "outputs": [
    {
     "name": "stdout",
     "output_type": "stream",
     "text": [
      "2\n",
      "4\n",
      "-1\n",
      "8\n"
     ]
    }
   ],
   "source": [
    "print(stroka.find(\"ам\"))\n",
    "print(stroka.find(\"зам\"))\n",
    "print(stroka.find(\"сам\"))  # такой подстроки нет —> возвращает -1\n",
    "\n",
    "print(stroka.rfind(\"ам\"))"
   ]
  },
  {
   "cell_type": "code",
   "execution_count": 6,
   "id": "07c49c9f-2f99-4c3a-84cf-453c144e6a47",
   "metadata": {},
   "outputs": [
    {
     "name": "stdout",
     "output_type": "stream",
     "text": [
      "3\n"
     ]
    }
   ],
   "source": [
    "print(stroka.count(\"ам\"))"
   ]
  },
  {
   "cell_type": "code",
   "execution_count": 7,
   "id": "eae8bbbd-ff63-4ce6-9382-110cc2413035",
   "metadata": {},
   "outputs": [
    {
     "name": "stdout",
     "output_type": "stream",
     "text": [
      "АРАМЗАМЗАМ!\n",
      "арамзамзам!\n"
     ]
    }
   ],
   "source": [
    "print(stroka.upper())\n",
    "print(stroka.lower())"
   ]
  },
  {
   "cell_type": "code",
   "execution_count": 8,
   "id": "56f79d65-8b55-4423-bcc3-4f7b95070402",
   "metadata": {},
   "outputs": [
    {
     "name": "stdout",
     "output_type": "stream",
     "text": [
      "Persian, and then Polish, and then Portuguese, and then Punjabi\n"
     ]
    }
   ],
   "source": [
    "languages = [\"Persian\", \"Polish\", \"Portuguese\", \"Punjabi\"]\n",
    "print(\", and then \".join(languages))"
   ]
  },
  {
   "cell_type": "markdown",
   "id": "014cc332-30fd-4ac7-b679-b4b32aee82fe",
   "metadata": {},
   "source": [
    "↑ Обратите внимание на очень специфический синтаксис метода `.join()`: этот метод применяется к строке, которая «склеивает» список, а сам список подаётся аргументом!"
   ]
  },
  {
   "cell_type": "markdown",
   "id": "651d09c8-c111-46d5-ad21-6037786a405e",
   "metadata": {},
   "source": [
    "____"
   ]
  },
  {
   "cell_type": "markdown",
   "id": "52b85e96-cd69-4c8c-a95b-dc82d12d90f6",
   "metadata": {},
   "source": [
    "9. специальные методы для **проверки содержимого строки** (возвращают логическое выражение `bool`):\n",
    "    1. `.isdigit()` (верно ли, что строка состоит только из цифр?)\n",
    "    2. `.islower()` (верно ли, что строка состоит только из строчных букв?)\n",
    "    3. `.isupper()` (верно ли, что строка состоит только из заглавных букв?)\n",
    "    4. `.isalpha()` (верно ли, что строка состоит только из букв?)\n",
    "    5. `.isalnum()` (верно ли, что строка состоит только из букв и цифр?)\n",
    "    6. `.startswith()` (верно ли, что строка начинается с подстроки, которая подаётся как аргумент?)\n",
    "    7. `.endswith()` (верно ли, что строка заканчивается на подстроку, которая подаётся как аргумент?)\n",
    "\n",
    "Примеры:"
   ]
  },
  {
   "cell_type": "code",
   "execution_count": 9,
   "id": "546c20c3-305c-4dc2-a720-d65d0cfca345",
   "metadata": {},
   "outputs": [
    {
     "name": "stdout",
     "output_type": "stream",
     "text": [
      "True\n",
      "False\n"
     ]
    }
   ],
   "source": [
    "print(\"2005\".isdigit())\n",
    "print(\"2005-й\".isdigit())"
   ]
  },
  {
   "cell_type": "code",
   "execution_count": 10,
   "id": "42b7c315-1adb-4dea-9cb7-214df0087912",
   "metadata": {},
   "outputs": [
    {
     "name": "stdout",
     "output_type": "stream",
     "text": [
      "True\n",
      "False\n",
      "True\n",
      "False\n"
     ]
    }
   ],
   "source": [
    "print(\"изабелла\".islower())\n",
    "print(\"Изабелла\".islower())\n",
    "\n",
    "print(\"ИЗАБЕЛЛА\".isupper())\n",
    "print(\"Изабелла\".isupper())"
   ]
  },
  {
   "cell_type": "code",
   "execution_count": 11,
   "id": "3bf69bcb-4890-44ae-92dc-adea66bf0bc4",
   "metadata": {},
   "outputs": [
    {
     "name": "stdout",
     "output_type": "stream",
     "text": [
      "True\n",
      "False\n",
      "True\n"
     ]
    }
   ],
   "source": [
    "meals = \"первое, второе, и только потом десерт\"\n",
    "\n",
    "print(meals.startswith(\"первое\"))\n",
    "print(meals.startswith(\"десерт\"))\n",
    "print(meals.endswith(\"десерт\"))"
   ]
  },
  {
   "cell_type": "markdown",
   "id": "2c15932b-2602-4f7f-bd65-787f4fba3862",
   "metadata": {},
   "source": [
    "____"
   ]
  },
  {
   "cell_type": "markdown",
   "id": "9db0e113-e620-4309-9e12-c9a885665289",
   "metadata": {},
   "source": [
    "**Методы списков**:\n",
    "\n",
    "10. `.append()` (**добавить** новый элемент в список)\n",
    "    - принимает новый элемент, который нужно добавить\n",
    "    - *ничего не возвращает!*\n",
    "12. `.remove()` (найти элемент с нужным значением в списке и **удалить** его)\n",
    "    - принимает объект, идентичный которому нужно найти в списке и удалить\n",
    "    - *ничего не возвращает!*\n",
    "13. `.index()` (найти элемент с нужным значением в списке и получить его **индекс**)\n",
    "    - принимает объект, идентичный которому нужно найти в списке\n",
    "    - возвращает индекс объекта\n",
    "14. `.count()` (найти элемент с нужным значением в списке и **посчитать** все его вхождения)\n",
    "    - принимает объект, идентичные которому нужно найти и посчитать\n",
    "    - возвращает число вхождений объекта\n",
    "\n",
    "Примеры:"
   ]
  },
  {
   "cell_type": "code",
   "execution_count": 12,
   "id": "6b3c74fc-9e38-4444-af38-e81a643771bd",
   "metadata": {},
   "outputs": [],
   "source": [
    "languages = [\"Persian\", \"Polish\", \"Persian\", \"Portuguese\", \"Punjabi\"]"
   ]
  },
  {
   "cell_type": "code",
   "execution_count": 13,
   "id": "8b41805d-97e1-4ce7-a1fa-5335dde66a59",
   "metadata": {},
   "outputs": [
    {
     "name": "stdout",
     "output_type": "stream",
     "text": [
      "['Persian', 'Polish', 'Persian', 'Portuguese', 'Punjabi', 'Pashto']\n"
     ]
    }
   ],
   "source": [
    "languages.append(\"Pashto\")\n",
    "print(languages)"
   ]
  },
  {
   "cell_type": "code",
   "execution_count": 14,
   "id": "a6e3b9fe-622e-4ffa-9e70-768b6700ae52",
   "metadata": {},
   "outputs": [
    {
     "name": "stdout",
     "output_type": "stream",
     "text": [
      "['Persian', 'Polish', 'Persian', 'Portuguese', 'Pashto']\n"
     ]
    }
   ],
   "source": [
    "languages.remove(\"Punjabi\")\n",
    "print(languages)"
   ]
  },
  {
   "cell_type": "markdown",
   "id": "57a0fdf7-657e-4783-a626-83ebbe1b4c5f",
   "metadata": {},
   "source": [
    "↑ Обратите внимание, что методы `.append()` и `.remove()` **изменяют содержимое списка** на месте. Это значит, что результат этих действий сохраняется при вызове метода, и список не нужно перезаписывать. То есть **НЕ нужно** делать так:\n",
    "\n",
    "```\n",
    "languages = languages.append(\"Pashto\")\n",
    "```"
   ]
  },
  {
   "cell_type": "code",
   "execution_count": 15,
   "id": "a326ad97-f370-48be-9d79-9967f678c2a2",
   "metadata": {},
   "outputs": [
    {
     "name": "stdout",
     "output_type": "stream",
     "text": [
      "3\n"
     ]
    }
   ],
   "source": [
    "print(languages.index(\"Portuguese\"))"
   ]
  },
  {
   "cell_type": "code",
   "execution_count": 16,
   "id": "d5ba632e-2db0-4ffd-8663-210a3cfaa200",
   "metadata": {},
   "outputs": [
    {
     "name": "stdout",
     "output_type": "stream",
     "text": [
      "2\n"
     ]
    }
   ],
   "source": [
    "print(languages.count(\"Persian\"))"
   ]
  },
  {
   "cell_type": "markdown",
   "id": "fdab7568-26b4-4669-bbce-01d31eb88e8d",
   "metadata": {},
   "source": [
    "**Внимание!** Методы можно стакать так же, как функции — для более компактной записи кода. Например:"
   ]
  },
  {
   "cell_type": "code",
   "execution_count": 19,
   "id": "9baf116d-0025-41f5-96e0-45088df83883",
   "metadata": {},
   "outputs": [
    {
     "name": "stdout",
     "output_type": "stream",
     "text": [
      "3\n"
     ]
    }
   ],
   "source": [
    "stroka = \"длИнНоШеЕе\"\n",
    "stroka_strochnaya = stroka.lower()\n",
    "print(stroka_strochnaya.count(\"е\"))"
   ]
  },
  {
   "cell_type": "code",
   "execution_count": 20,
   "id": "9fd45102-35e3-4f68-a21e-09612eda5680",
   "metadata": {},
   "outputs": [
    {
     "name": "stdout",
     "output_type": "stream",
     "text": [
      "3\n"
     ]
    }
   ],
   "source": [
    "stroka = \"длИнНоШеЕе\"\n",
    "print(stroka.lower().count(\"е\"))"
   ]
  },
  {
   "cell_type": "markdown",
   "id": "4e614f39-cca2-4fd9-a7a0-2c72950b3f8a",
   "metadata": {},
   "source": [
    "____"
   ]
  },
  {
   "cell_type": "markdown",
   "id": "e86c96d0-4e4d-4f07-aae1-55d6e62af3e8",
   "metadata": {},
   "source": [
    "Функции, облегчающие работу со списками и кортежами:"
   ]
  },
  {
   "cell_type": "markdown",
   "id": "baf9cb6a-6f96-4177-84f5-c21b6a9f8354",
   "metadata": {},
   "source": [
    "14. `max()` (найти **максимум** из списка чисел)\n",
    "15. `min()` (найти **минимум** из списка чисел)\n",
    "16. `sum()` (найти **сумму** списка чисел)\n",
    "\n",
    "Примеры:"
   ]
  },
  {
   "cell_type": "code",
   "execution_count": 21,
   "id": "40744f1b-ad79-4a65-b2ea-14fea78db60c",
   "metadata": {},
   "outputs": [],
   "source": [
    "numbers = [21, 3, 13, 55, 8, 2, 34, 5]"
   ]
  },
  {
   "cell_type": "code",
   "execution_count": 22,
   "id": "b45d8417-eac0-4275-8095-7c4871534b78",
   "metadata": {},
   "outputs": [
    {
     "name": "stdout",
     "output_type": "stream",
     "text": [
      "2\n",
      "55\n",
      "141\n"
     ]
    }
   ],
   "source": [
    "print(min(numbers))\n",
    "print(max(numbers))\n",
    "print(sum(numbers))"
   ]
  },
  {
   "cell_type": "markdown",
   "id": "fa5a1d97-74b5-4c7a-b998-5e71e183b5d3",
   "metadata": {},
   "source": [
    "17. `map()` (**применить функцию** к каждому элементу списка)\n",
    "    - принимает функцию, которую нужно применить, и список, к которому её нужно применить\n",
    "    - возвращает итерируемый объект типа `map` (его можно превратить в список функцией `list`)\n",
    "\n",
    "Примеры:"
   ]
  },
  {
   "cell_type": "code",
   "execution_count": 23,
   "id": "246ec987-d8c0-43bf-a87e-09ae659b23e5",
   "metadata": {},
   "outputs": [
    {
     "name": "stdout",
     "output_type": "stream",
     "text": [
      "['Persian', 'Polish', 'Persian', 'Portuguese', 'Pashto']\n",
      "['PERSIAN', 'POLISH', 'PERSIAN', 'PORTUGUESE', 'PASHTO']\n",
      "[7, 6, 7, 10, 6]\n"
     ]
    }
   ],
   "source": [
    "print(languages)\n",
    "print(list(map(str.upper, languages)))\n",
    "print(list(map(len, languages)))"
   ]
  },
  {
   "cell_type": "markdown",
   "id": "15d18c13-f475-4029-9de0-940f47b121d3",
   "metadata": {},
   "source": [
    "____"
   ]
  },
  {
   "cell_type": "markdown",
   "id": "df19d5c1-5086-4f1f-84e7-39fc0857388d",
   "metadata": {},
   "source": [
    "## Кортежи"
   ]
  },
  {
   "cell_type": "markdown",
   "id": "6baf6157-393d-4899-a9fc-7ccecac58a15",
   "metadata": {},
   "source": [
    "**Кортежи** очень похожи на списки. Единственное их отличие от списков в том, что они — **неизменяемые** объекты. В питоне они называются `tuple`.\n",
    "\n",
    "Кортежи создаются с помощью круглых скобок. Например, вот список и кортеж с названиями некоторых произведений писателя [Садега Хедаята](https://ru.wikipedia.org/wiki/%D0%A5%D0%B5%D0%B4%D0%B0%D1%8F%D1%82,_%D0%A1%D0%B0%D0%B4%D0%B5%D0%B3):"
   ]
  },
  {
   "cell_type": "code",
   "execution_count": 24,
   "id": "f7a31616-59f4-4843-8f97-c51d27b7013d",
   "metadata": {},
   "outputs": [
    {
     "name": "stdout",
     "output_type": "stream",
     "text": [
      "['Zende be Gūr', 'Se qatre xūn', 'Sāye Rošan', 'Būf-e Kūr', 'Sag-e Velgard', 'Fardā']\n",
      "6\n",
      "<class 'list'>\n"
     ]
    }
   ],
   "source": [
    "corpus_list = [\"Zende be Gūr\", \"Se qatre xūn\", \"Sāye Rošan\", \"Būf-e Kūr\", \"Sag-e Velgard\", \"Fardā\"]\n",
    "print(corpus_list)\n",
    "print(len(corpus_list))\n",
    "print(type(corpus_list))"
   ]
  },
  {
   "cell_type": "code",
   "execution_count": 25,
   "id": "75c2647e-66e0-42c0-be8d-53c8700a7363",
   "metadata": {},
   "outputs": [
    {
     "name": "stdout",
     "output_type": "stream",
     "text": [
      "('Zende be Gūr', 'Se qatre xūn', 'Sāye Rošan', 'Būf-e Kūr', 'Sag-e Velgard', 'Fardā')\n",
      "6\n",
      "<class 'tuple'>\n"
     ]
    }
   ],
   "source": [
    "corpus_tuple = (\"Zende be Gūr\", \"Se qatre xūn\", \"Sāye Rošan\", \"Būf-e Kūr\", \"Sag-e Velgard\", \"Fardā\")\n",
    "print(corpus_tuple)\n",
    "print(len(corpus_tuple))\n",
    "print(type(corpus_tuple))"
   ]
  },
  {
   "cell_type": "markdown",
   "id": "c4467ce5-9a70-47e9-9675-3384e2fd5c8a",
   "metadata": {},
   "source": [
    "Кортежи отличаются только в тех случаях, когда программа пытается изменить содержимое кортежа: это сделать невозможно. В частности, кортежи не поддерживают ни приписывание нового значения отдельному элементу (по индексу), ни методы, меняющие содержимое списка (`.append()` и `.remove()`):"
   ]
  },
  {
   "cell_type": "code",
   "execution_count": 26,
   "id": "32164656-2360-480e-8f42-a3b92c3f9f90",
   "metadata": {},
   "outputs": [
    {
     "name": "stdout",
     "output_type": "stream",
     "text": [
      "['Zende be Gūr', 'Se qatre xūn', 'Sāye Rošan', 'Būf-e Kūr', 'Sag-e Velgard', 'Fardā']\n",
      "['Zende be Gūr', 'Se qatre xūn', 'Sāye Rošan', 'Būf-e Kūr', 'Sag-e Velgard', 'Velengārī']\n"
     ]
    }
   ],
   "source": [
    "print(corpus_list)\n",
    "corpus_list[5] = \"Velengārī\"\n",
    "print(corpus_list)"
   ]
  },
  {
   "cell_type": "code",
   "execution_count": 27,
   "id": "788c8749-203c-4e54-99d8-d9970aec77d2",
   "metadata": {},
   "outputs": [
    {
     "name": "stdout",
     "output_type": "stream",
     "text": [
      "['Zende be Gūr', 'Se qatre xūn', 'Sāye Rošan', 'Būf-e Kūr', 'Velengārī']\n"
     ]
    }
   ],
   "source": [
    "corpus_list.remove(\"Sag-e Velgard\")\n",
    "print(corpus_list)"
   ]
  },
  {
   "cell_type": "code",
   "execution_count": 28,
   "id": "c60119b4-39d0-4971-af8c-74d7405854b9",
   "metadata": {},
   "outputs": [
    {
     "name": "stdout",
     "output_type": "stream",
     "text": [
      "('Zende be Gūr', 'Se qatre xūn', 'Sāye Rošan', 'Būf-e Kūr', 'Sag-e Velgard', 'Fardā')\n"
     ]
    },
    {
     "ename": "TypeError",
     "evalue": "'tuple' object does not support item assignment",
     "output_type": "error",
     "traceback": [
      "\u001b[1;31m---------------------------------------------------------------------------\u001b[0m",
      "\u001b[1;31mTypeError\u001b[0m                                 Traceback (most recent call last)",
      "Cell \u001b[1;32mIn[28], line 2\u001b[0m\n\u001b[0;32m      1\u001b[0m \u001b[38;5;28mprint\u001b[39m(corpus_tuple)\n\u001b[1;32m----> 2\u001b[0m \u001b[43mcorpus_tuple\u001b[49m\u001b[43m[\u001b[49m\u001b[38;5;241;43m5\u001b[39;49m\u001b[43m]\u001b[49m \u001b[38;5;241m=\u001b[39m \u001b[38;5;124m\"\u001b[39m\u001b[38;5;124mVelengārī\u001b[39m\u001b[38;5;124m\"\u001b[39m\n\u001b[0;32m      3\u001b[0m \u001b[38;5;28mprint\u001b[39m(corpus_tuple)\n",
      "\u001b[1;31mTypeError\u001b[0m: 'tuple' object does not support item assignment"
     ]
    }
   ],
   "source": [
    "print(corpus_tuple)\n",
    "corpus_tuple[5] = \"Velengārī\"\n",
    "print(corpus_tuple)"
   ]
  },
  {
   "cell_type": "code",
   "execution_count": 29,
   "id": "76aeaed8-801a-4a70-8ded-3c2fb139df11",
   "metadata": {},
   "outputs": [
    {
     "ename": "AttributeError",
     "evalue": "'tuple' object has no attribute 'remove'",
     "output_type": "error",
     "traceback": [
      "\u001b[1;31m---------------------------------------------------------------------------\u001b[0m",
      "\u001b[1;31mAttributeError\u001b[0m                            Traceback (most recent call last)",
      "Cell \u001b[1;32mIn[29], line 1\u001b[0m\n\u001b[1;32m----> 1\u001b[0m \u001b[43mcorpus_tuple\u001b[49m\u001b[38;5;241;43m.\u001b[39;49m\u001b[43mremove\u001b[49m(\u001b[38;5;124m\"\u001b[39m\u001b[38;5;124mSag-e Velgard\u001b[39m\u001b[38;5;124m\"\u001b[39m)\n\u001b[0;32m      2\u001b[0m \u001b[38;5;28mprint\u001b[39m(corpus_tuple)\n",
      "\u001b[1;31mAttributeError\u001b[0m: 'tuple' object has no attribute 'remove'"
     ]
    }
   ],
   "source": [
    "corpus_tuple.remove(\"Sag-e Velgard\")\n",
    "print(corpus_tuple)"
   ]
  },
  {
   "cell_type": "markdown",
   "id": "e0dd890d-1156-4472-8018-2ca542d132ca",
   "metadata": {},
   "source": [
    "**Внимание!** Кортежи создаются с помощью круглых скобок, но круглые скобки в питоне очень многофункциональны. Поэтому для создания кортежей в питоне есть дополнительное правило: при объявлении кортежа в нём должна быть хотя бы одна запятая, разделяющая элементы. Это важно при создании кортежей из одного элемента: в них нужно добавить запятую перед закрывающей скобкой, чтобы питон понял, что вы хотите сделать кортеж. Иначе он просто проигнорирует скобки:"
   ]
  },
  {
   "cell_type": "code",
   "execution_count": 30,
   "id": "434f9c0e-4cc2-41e6-882f-8c7b2a71a2b1",
   "metadata": {},
   "outputs": [
    {
     "name": "stdout",
     "output_type": "stream",
     "text": [
      "['bahār']\n",
      "<class 'list'>\n"
     ]
    }
   ],
   "source": [
    "spisok = [\"bahār\"]\n",
    "print(spisok)\n",
    "print(type(spisok))"
   ]
  },
  {
   "cell_type": "code",
   "execution_count": 31,
   "id": "68e1b685-1952-401b-99bf-2ad9e8fe1c59",
   "metadata": {},
   "outputs": [
    {
     "name": "stdout",
     "output_type": "stream",
     "text": [
      "bahār\n",
      "<class 'str'>\n"
     ]
    }
   ],
   "source": [
    "spisok = (\"bahār\")   # <--- неправильный способ создать кортеж\n",
    "print(spisok)\n",
    "print(type(spisok))"
   ]
  },
  {
   "cell_type": "code",
   "execution_count": 32,
   "id": "cfd1b308-06ba-4bca-93e9-bdf228404308",
   "metadata": {},
   "outputs": [
    {
     "name": "stdout",
     "output_type": "stream",
     "text": [
      "('bahār',)\n",
      "<class 'tuple'>\n"
     ]
    }
   ],
   "source": [
    "spisok = (\"bahār\",)   # <--- правильный способ создать кортеж\n",
    "print(spisok)\n",
    "print(type(spisok))"
   ]
  },
  {
   "cell_type": "markdown",
   "id": "a22cb4ae-31de-4a8f-829b-a380469995a4",
   "metadata": {},
   "source": [
    "## Цикл `for`"
   ]
  },
  {
   "cell_type": "markdown",
   "id": "a6689b87-2e4c-4048-aecb-8d3b2ac74192",
   "metadata": {},
   "source": [
    "**Цикл `for`** — новый тип цикла. Он предназначен для итерации по элементам итерируемого объекта (списка, кортежа, строки). Он имеет такой синтаксис:\n",
    "\n",
    "```\n",
    "for {ЭЛЕМЕНТ} in {СПИСОК}:\n",
    "    {ДЕЙСТВИЕ 1}\n",
    "    {ДЕЙСТВИЕ 2}\n",
    "    {...}\n",
    "```\n",
    "\n",
    "Цикл буквально говорит: для каждого элемента в списке, сделай вот эти действия."
   ]
  },
  {
   "cell_type": "markdown",
   "id": "7b4c4a99-2e00-4217-b299-f87a415fbe96",
   "metadata": {},
   "source": [
    "Например, допустим, нам нужно пройти по всем элементам списка `corpus_list` и вывести на экран все названия книг прописными буквами. Это можно сделать с помощью цикла `while` и счётчика — как мы уже умеем:"
   ]
  },
  {
   "cell_type": "code",
   "execution_count": 33,
   "id": "308dd3f0-be6a-4f1c-8ca6-8eff29510cad",
   "metadata": {},
   "outputs": [
    {
     "name": "stdout",
     "output_type": "stream",
     "text": [
      "ZENDE BE GŪR\n",
      "SE QATRE XŪN\n",
      "SĀYE ROŠAN\n",
      "BŪF-E KŪR\n",
      "VELENGĀRĪ\n"
     ]
    }
   ],
   "source": [
    "i = 0\n",
    "while i < len(corpus_list):\n",
    "    print(corpus_list[i].upper())\n",
    "    i += 1"
   ]
  },
  {
   "cell_type": "markdown",
   "id": "04661737-3759-4cb0-b1f8-600179185057",
   "metadata": {},
   "source": [
    "Однако это можно сделать проще (без счётчиков, обращения к элементам по индексу и прописывания ограничения на длину списка), с помощью цикла `for`. Нужно написать такой цикл:"
   ]
  },
  {
   "cell_type": "code",
   "execution_count": 34,
   "id": "2db2f0af-5441-4169-a189-c424c8e5a2c0",
   "metadata": {},
   "outputs": [
    {
     "name": "stdout",
     "output_type": "stream",
     "text": [
      "ZENDE BE GŪR\n",
      "SE QATRE XŪN\n",
      "SĀYE ROŠAN\n",
      "BŪF-E KŪR\n",
      "VELENGĀRĪ\n"
     ]
    }
   ],
   "source": [
    "for book in corpus_list:\n",
    "    print(book.upper())"
   ]
  },
  {
   "cell_type": "markdown",
   "id": "8b0b7025-ef23-4279-b249-be4aaf714241",
   "metadata": {},
   "source": [
    "Во многом цикл `for` похож на своего собрата `while`. В частности, в нём также можно использовать команду `break`, которая «ломает» цикл и выходит из него. Сравните тот же самый код без `break` и с ним; во втором случае после нахождения первой книги, начинающейся с буквы `\"S\"`, цикл закончится:"
   ]
  },
  {
   "cell_type": "code",
   "execution_count": 35,
   "id": "3f16cbbc-515d-446b-a3b0-73c2629e145a",
   "metadata": {},
   "outputs": [
    {
     "name": "stdout",
     "output_type": "stream",
     "text": [
      "SE QATRE XŪN\n",
      "SĀYE ROŠAN\n",
      "— Всё!\n"
     ]
    }
   ],
   "source": [
    "for book in corpus_list:\n",
    "    if book[0] == \"S\":\n",
    "        print(book.upper())\n",
    "print(\"— Всё!\")"
   ]
  },
  {
   "cell_type": "code",
   "execution_count": 36,
   "id": "72727e2f-4386-4e54-a51c-aa5e74248271",
   "metadata": {},
   "outputs": [
    {
     "name": "stdout",
     "output_type": "stream",
     "text": [
      "SE QATRE XŪN\n",
      "— Всё!\n"
     ]
    }
   ],
   "source": [
    "for book in corpus_list:\n",
    "    if book[0] == \"S\":\n",
    "        print(book.upper())\n",
    "        break\n",
    "print(\"— Всё!\")"
   ]
  },
  {
   "cell_type": "markdown",
   "id": "679b55e8-d89a-4493-b55e-c801d44f2f75",
   "metadata": {},
   "source": [
    "____\n",
    "\n",
    "**Внимание!** Откуда при работе цикла берётся переменная `book`? Ведь мы раньше не приписывали ей никакого значения! Почему питон не выдаёт ошибку, откуда берёт её значение?\n",
    "\n",
    "Дело в том, что переменная `book` *получает значение* в начале каждой итерации цикла. Это **служебная переменная**, похожая на счётчики, которые мы использовали с циклом `while`; она нужна, чтобы в каждой конкретной итерации цикл помнил, где он в данный момент остановился.\n",
    "\n",
    "Это значит, что **содержимое списка не получится изменить** изнутри цикла **с помощью этой служебной переменной**. Например, вот что будет, если мы попытаемся заменить каждое название книги на прописные буквы, приписывая `book` новые значения:"
   ]
  },
  {
   "cell_type": "code",
   "execution_count": 37,
   "id": "2c63ff53-bc37-4102-a01a-869afee6be7d",
   "metadata": {},
   "outputs": [
    {
     "name": "stdout",
     "output_type": "stream",
     "text": [
      "['Zende be Gūr', 'Se qatre xūn', 'Sāye Rošan', 'Būf-e Kūr', 'Velengārī']\n",
      "original: Zende be Gūr\n",
      "  edited: ZENDE BE GŪR\n",
      "original: Se qatre xūn\n",
      "  edited: SE QATRE XŪN\n",
      "original: Sāye Rošan\n",
      "  edited: SĀYE ROŠAN\n",
      "original: Būf-e Kūr\n",
      "  edited: BŪF-E KŪR\n",
      "original: Velengārī\n",
      "  edited: VELENGĀRĪ\n",
      "['Zende be Gūr', 'Se qatre xūn', 'Sāye Rošan', 'Būf-e Kūr', 'Velengārī']\n"
     ]
    }
   ],
   "source": [
    "print(corpus_list)\n",
    "\n",
    "for book in corpus_list:\n",
    "    print(\"original:\", book)\n",
    "    book = book.upper()\n",
    "    print(\"  edited:\", book)   # <--- по этому print() мы убеждаемся, что приписывание действительно произошло\n",
    "\n",
    "print(corpus_list)             # <--- но здесь мы видим, что список не поменялся"
   ]
  },
  {
   "cell_type": "markdown",
   "id": "1092857f-c0af-448a-9b00-5487cd54bbf0",
   "metadata": {},
   "source": [
    "Список не меняется, потому что мы приписываем новое значение служебной переменной `book`, но она не связана с элементами списка. Как решить эту проблему? Для этого нам понадобится использовать слегка модифицированную версию цикла `for` с привлечением функции `range()`."
   ]
  },
  {
   "cell_type": "markdown",
   "id": "9426ab96-7025-4049-a217-bdf2d917e87e",
   "metadata": {},
   "source": [
    "## Функция `range()`"
   ]
  },
  {
   "cell_type": "markdown",
   "id": "7b76dd14-91e6-4a19-b5fb-f22179edcecd",
   "metadata": {},
   "source": [
    "Функция **`range()`** (англ. *диапазон*) создаёт **диапазон**, то есть естественную последовательность чисел из числового ряда. Она работает очень похоже на срезы: может принимать в качестве аргументов начало и конец диапазона. Если подать всего один аргумент, питон подумает, что это конец диапазона, а начало по умолчанию будет равно $0$. Как и в срезах, начальный номер включается в диапазон, а конечный не включается:"
   ]
  },
  {
   "cell_type": "code",
   "execution_count": 38,
   "id": "1dfe2906-6c42-40d0-8e90-63973bd51eb2",
   "metadata": {},
   "outputs": [
    {
     "name": "stdout",
     "output_type": "stream",
     "text": [
      "5 6 7 8 9 "
     ]
    }
   ],
   "source": [
    "numbers = range(5, 10)\n",
    "for n in numbers:\n",
    "    print(n, end=\" \")"
   ]
  },
  {
   "cell_type": "code",
   "execution_count": 39,
   "id": "0056b070-70b7-40ee-ae77-be1f5633f3ac",
   "metadata": {},
   "outputs": [
    {
     "name": "stdout",
     "output_type": "stream",
     "text": [
      "0 1 2 3 4 5 6 7 8 9 "
     ]
    }
   ],
   "source": [
    "numbers = range(10)\n",
    "for n in numbers:\n",
    "    print(n, end=\" \")"
   ]
  },
  {
   "cell_type": "code",
   "execution_count": 40,
   "id": "7668dde8-f132-4edf-8b2f-ad9e4c364ba6",
   "metadata": {},
   "outputs": [
    {
     "name": "stdout",
     "output_type": "stream",
     "text": [
      "Kahnemuiyp\n",
      "muiyp\n"
     ]
    }
   ],
   "source": [
    "name = \"Kahnemuiypour\"\n",
    "print(name[:10])\n",
    "print(name[5:10])"
   ]
  },
  {
   "cell_type": "markdown",
   "id": "b332dc4a-0ad1-4e23-bd58-1079b85da805",
   "metadata": {},
   "source": [
    "Обратите внимание, что функция `range()` возвращает не нормальный список, а особый объект особого типа `range`. Нас это пугать не должно: для нас важно, что это итерируемый объект (по нему можно пройтись циклом). Ну а если приспичит, то его всегда можно превратить в список функцией `list()`:"
   ]
  },
  {
   "cell_type": "code",
   "execution_count": 41,
   "id": "1458dbde-8b8f-4f6c-8856-68b29acc3730",
   "metadata": {},
   "outputs": [
    {
     "name": "stdout",
     "output_type": "stream",
     "text": [
      "range(0, 10)\n",
      "<class 'range'>\n"
     ]
    }
   ],
   "source": [
    "numbers = range(10)\n",
    "print(numbers)\n",
    "print(type(numbers))"
   ]
  },
  {
   "cell_type": "code",
   "execution_count": 42,
   "id": "e37dc06e-99d9-405c-bdf0-9c6ebf4a605e",
   "metadata": {},
   "outputs": [
    {
     "name": "stdout",
     "output_type": "stream",
     "text": [
      "[0, 1, 2, 3, 4, 5, 6, 7, 8, 9]\n",
      "<class 'list'>\n"
     ]
    }
   ],
   "source": [
    "numbers = list(numbers)\n",
    "print(numbers)\n",
    "print(type(numbers))"
   ]
  },
  {
   "cell_type": "markdown",
   "id": "49d833a3-f45d-4d93-b21d-bc0e1576fdee",
   "metadata": {},
   "source": [
    "____\n",
    "\n",
    "Небольшое дополнение к срезам и диапазонам: у обоих инструментов, кроме двух уже известных вам аргументов (начало и конец), есть также третий аргумент: **шаг**. По умолчанию шаг равен $1$, и поэтому срезы и диапазоны включают каждый *первый* элемент. Если эксплицитно подать шаг $2$, то срезы и диапазоны будут включать каждый *второй* элемент. Например, так можно вывести чётные числа:"
   ]
  },
  {
   "cell_type": "code",
   "execution_count": 43,
   "id": "9a4dd06e-d162-4b2e-978a-c7bd31ed81e5",
   "metadata": {},
   "outputs": [
    {
     "name": "stdout",
     "output_type": "stream",
     "text": [
      "0 2 4 6 8 "
     ]
    }
   ],
   "source": [
    "numbers = range(0, 10, 2)\n",
    "for n in numbers:\n",
    "    print(n, end=\" \")"
   ]
  },
  {
   "cell_type": "markdown",
   "id": "0fad1894-8d44-4e9c-b983-529faacd2105",
   "metadata": {},
   "source": [
    "То же можно применить в срезе. Третий аргумент в срезе также подаётся через двоеточие. При этом, в отличие от диапазона `range()`, в срезе все аргументы опциональны. К примеру, можно опустить первый аргумент (по умолчанию начало строки) и второй аргумент (по умолчанию конец строки), оставив только третий (шаг):"
   ]
  },
  {
   "cell_type": "code",
   "execution_count": 44,
   "id": "395465b0-e0f4-4168-9c86-e183995926f6",
   "metadata": {},
   "outputs": [
    {
     "name": "stdout",
     "output_type": "stream",
     "text": [
      "Kheuyor\n"
     ]
    }
   ],
   "source": [
    "name = \"Kahnemuiypour\"\n",
    "print(name[::2])"
   ]
  },
  {
   "cell_type": "markdown",
   "id": "9f93e39d-da25-4140-a439-da62a1311b03",
   "metadata": {},
   "source": [
    "## Конструкция `for i in … range()`"
   ]
  },
  {
   "cell_type": "markdown",
   "id": "10f8a3b9-85b6-476a-929a-e63a25c3067c",
   "metadata": {},
   "source": [
    "Как же функция `range()` поможет нам менять список изнутри цикла?\n",
    "\n",
    "Эта функция поможет нам найти список индексов любого списка — для этого достаточно вызвать `range()` и подать в качестве аргумента длину списка:"
   ]
  },
  {
   "cell_type": "code",
   "execution_count": 45,
   "id": "6c26f413-81e5-408d-8aa7-aa64aa347c2c",
   "metadata": {},
   "outputs": [
    {
     "name": "stdout",
     "output_type": "stream",
     "text": [
      "['Zende be Gūr', 'Se qatre xūn', 'Sāye Rošan', 'Būf-e Kūr', 'Velengārī']\n",
      "5\n",
      "range(0, 5)\n"
     ]
    }
   ],
   "source": [
    "print(corpus_list)\n",
    "print(len(corpus_list))\n",
    "print(range(len(corpus_list)))"
   ]
  },
  {
   "cell_type": "markdown",
   "id": "73587b74-8c1d-43e8-8603-85dab2b84c9f",
   "metadata": {},
   "source": [
    "А затем мы можем запустить цикл `for` не по элементам списка, а по индексам, а внутри цикла вызывать по индексу нужный элемент. Индекс будем записывать в служебную переменную (назовём её `i`):"
   ]
  },
  {
   "cell_type": "code",
   "execution_count": 46,
   "id": "81ec231f-edb5-442c-9156-538da6f44474",
   "metadata": {},
   "outputs": [
    {
     "name": "stdout",
     "output_type": "stream",
     "text": [
      "Zende be Gūr\n",
      "Se qatre xūn\n",
      "Sāye Rošan\n",
      "Būf-e Kūr\n",
      "Velengārī\n"
     ]
    }
   ],
   "source": [
    "for i in range(len(corpus_list)):\n",
    "    print(corpus_list[i])"
   ]
  },
  {
   "cell_type": "markdown",
   "id": "69ab93db-087d-41d1-9807-5ed035f6710a",
   "metadata": {},
   "source": [
    "И вот с таким циклом мы уже можем менять содержимое изнутри — потому что *теперь мы знаем индекс* элемента, на котором сейчас остановился цикл, этот индекс хранится в переменной `i`:"
   ]
  },
  {
   "cell_type": "code",
   "execution_count": 47,
   "id": "2ea8f8f0-d1d9-4f3a-83cd-0c4c98bb812c",
   "metadata": {},
   "outputs": [
    {
     "name": "stdout",
     "output_type": "stream",
     "text": [
      "Zende be Gūr\n",
      "ZENDE BE GŪR\n",
      "Se qatre xūn\n",
      "SE QATRE XŪN\n",
      "Sāye Rošan\n",
      "SĀYE ROŠAN\n",
      "Būf-e Kūr\n",
      "BŪF-E KŪR\n",
      "Velengārī\n",
      "VELENGĀRĪ\n",
      "['ZENDE BE GŪR', 'SE QATRE XŪN', 'SĀYE ROŠAN', 'BŪF-E KŪR', 'VELENGĀRĪ']\n"
     ]
    }
   ],
   "source": [
    "for i in range(len(corpus_list)):\n",
    "    print(corpus_list[i])\n",
    "    corpus_list[i] = corpus_list[i].upper()\n",
    "    print(corpus_list[i])\n",
    "\n",
    "print(corpus_list)"
   ]
  },
  {
   "cell_type": "markdown",
   "id": "4d3be293-1e94-433c-bd43-94f98128355e",
   "metadata": {},
   "source": [
    "Обратите внимание на то, что приписывание нового значения элементу работает только со списком, так как список — изменяемый объект. А с кортежем и строкой не получится:"
   ]
  },
  {
   "cell_type": "code",
   "execution_count": 48,
   "id": "e484c175-0e83-412c-a7ce-081d7d0b90b5",
   "metadata": {},
   "outputs": [
    {
     "name": "stdout",
     "output_type": "stream",
     "text": [
      "ZENDE BE GŪR\n"
     ]
    },
    {
     "ename": "TypeError",
     "evalue": "'tuple' object does not support item assignment",
     "output_type": "error",
     "traceback": [
      "\u001b[1;31m---------------------------------------------------------------------------\u001b[0m",
      "\u001b[1;31mTypeError\u001b[0m                                 Traceback (most recent call last)",
      "Cell \u001b[1;32mIn[48], line 5\u001b[0m\n\u001b[0;32m      3\u001b[0m \u001b[38;5;28;01mfor\u001b[39;00m i \u001b[38;5;129;01min\u001b[39;00m \u001b[38;5;28mrange\u001b[39m(\u001b[38;5;28mlen\u001b[39m(corpus_list)):\n\u001b[0;32m      4\u001b[0m     \u001b[38;5;28mprint\u001b[39m(corpus_list[i])\n\u001b[1;32m----> 5\u001b[0m     \u001b[43mcorpus_list\u001b[49m\u001b[43m[\u001b[49m\u001b[43mi\u001b[49m\u001b[43m]\u001b[49m \u001b[38;5;241m=\u001b[39m corpus_list[i]\u001b[38;5;241m.\u001b[39mupper()\n\u001b[0;32m      6\u001b[0m     \u001b[38;5;28mprint\u001b[39m(corpus_list[i])\n\u001b[0;32m      8\u001b[0m \u001b[38;5;28mprint\u001b[39m(corpus_list)\n",
      "\u001b[1;31mTypeError\u001b[0m: 'tuple' object does not support item assignment"
     ]
    }
   ],
   "source": [
    "corpus_list = tuple(corpus_list)\n",
    "\n",
    "for i in range(len(corpus_list)):\n",
    "    print(corpus_list[i])\n",
    "    corpus_list[i] = corpus_list[i].upper()\n",
    "    print(corpus_list[i])\n",
    "\n",
    "print(corpus_list)"
   ]
  },
  {
   "cell_type": "markdown",
   "id": "cf8ac83a-ca89-4703-9033-be92a5489df9",
   "metadata": {},
   "source": [
    "Подытожим, какие факторы влияют на выбор цикла:\n",
    "- нужно пройтись по имеющемуся итерируемому объекту (списку, кортежу, строке)\n",
    "  - и при этом знать индекс изнутри цикла (например, нужно напечатать индекс или поменять содержимое изнутри цикла):<br>*конструкция **`for i in range(len(spisok))`***\n",
    "  - и при этом не нужно знать индекс изнутри цикла:<br>*обычный **`for element in spisok`***\n",
    "- в остальных случаях:<br>*придётся использовать **`while`***"
   ]
  },
  {
   "cell_type": "markdown",
   "id": "afa14546-4f7b-4a92-8a31-b582978aae87",
   "metadata": {},
   "source": [
    "## Решение ошибок"
   ]
  },
  {
   "cell_type": "markdown",
   "id": "afb59147-977c-4919-8b19-4d3008d87c35",
   "metadata": {},
   "source": [
    "Для каждого из упражнений:\n",
    "1. Попробуйте найти ошибку, не запуская код\n",
    "2. Запустите код, изучите, как питон сообщает об ошибке, и разберитесь, в чём она заключается"
   ]
  },
  {
   "cell_type": "markdown",
   "id": "60942697-0095-45f9-b27a-0d4f21e90be5",
   "metadata": {
    "jp-MarkdownHeadingCollapsed": true
   },
   "source": [
    "#### Упражнение 1"
   ]
  },
  {
   "cell_type": "code",
   "execution_count": null,
   "id": "c268408d-a8ee-4485-a183-60dee9ad91e3",
   "metadata": {},
   "outputs": [],
   "source": [
    "spisok = \"0.0, 0.5, 1.0, 1.5, 2.0, 2.5, 3.0, 3.5, 4.0, 4.5\"\n",
    "spisok = spisok.split(\", \")\n",
    "sum, i = 0, 0\n",
    "while True:\n",
    "    sum += float(spisok[i])\n",
    "    print(f\"Итерация №{i}, сумма: {sum}\")\n",
    "    i += 1"
   ]
  },
  {
   "cell_type": "markdown",
   "id": "3c259fa5-31cf-4978-968d-1f1dd4417881",
   "metadata": {
    "jp-MarkdownHeadingCollapsed": true
   },
   "source": [
    "#### Упражнение 2"
   ]
  },
  {
   "cell_type": "code",
   "execution_count": null,
   "id": "86b0b785-bdca-4c79-92ae-cc7ce8897981",
   "metadata": {},
   "outputs": [],
   "source": [
    "spisok = \"0.0, 0.5, 1.0, 1.5, 2.0, 2.5, 3.0, 3.5, 4.0, 4.5\"\n",
    "spisok = spisok.split(\", \")\n",
    "sum, i = 0, 0\n",
    "while i < len(spisok):\n",
    "    sum += float(spisok[i])\n",
    "    print(f\"Итерация №{i}, сумма: {sum}\")\n",
    "    i += 1"
   ]
  },
  {
   "cell_type": "markdown",
   "id": "1f24f64f-7d20-4395-af84-d2d80920a6e0",
   "metadata": {
    "jp-MarkdownHeadingCollapsed": true
   },
   "source": [
    "#### Упражнение 3"
   ]
  },
  {
   "cell_type": "code",
   "execution_count": null,
   "id": "cf904827-f36b-404f-9a57-731b64f3eac5",
   "metadata": {},
   "outputs": [],
   "source": [
    "spisok = \"0.0, 0.5, 1.0, 1.5, 2.0, 2.5, 3.0, 3.5, 4.0, 4.5\"\n",
    "spisok = spisok.split(\", \")\n",
    "sum, i = 0, 0\n",
    "while i < length(spisok):\n",
    "    sum += float(spisok[i])\n",
    "    print(f\"Итерация №{i}, сумма: {sum}\")\n",
    "    i += 1"
   ]
  },
  {
   "cell_type": "markdown",
   "id": "fd104542-8461-4a2e-9fe2-b9518fdf4059",
   "metadata": {
    "jp-MarkdownHeadingCollapsed": true
   },
   "source": [
    "#### Упражнение 4"
   ]
  },
  {
   "cell_type": "code",
   "execution_count": null,
   "id": "6ec863e5-58da-4fd8-84c8-f682c317acf0",
   "metadata": {},
   "outputs": [],
   "source": [
    "spisok = \"0.0, 0.5, 1.0, 1.5, 2.0, 2.5, 3.0, 3.5, 4.0, 4.5\"\n",
    "spisok = split(spisok, \", \")\n",
    "sum, i = 0, 0\n",
    "while i < len(spisok):\n",
    "    sum += float(spisok[i])\n",
    "    print(f\"Итерация №{i}, сумма: {sum}\")\n",
    "    i += 1"
   ]
  },
  {
   "cell_type": "markdown",
   "id": "3494c537-d954-4476-a415-320ec253aad7",
   "metadata": {
    "jp-MarkdownHeadingCollapsed": true
   },
   "source": [
    "#### Упражнение 5"
   ]
  },
  {
   "cell_type": "code",
   "execution_count": null,
   "id": "262f38ad-6d93-43d7-b820-90cc02ab0008",
   "metadata": {},
   "outputs": [],
   "source": [
    "spisok = \"0.0, 0.5, 1.0, 1.5, 2.0, 2.5, 3.0, 3.5, 4.0, 4.5\"\n",
    "spisok = spisok.split(\", \")\n",
    "sum, i = 0, 0\n",
    "while i < spisok.len():\n",
    "    sum += float(spisok[i])\n",
    "    print(f\"Итерация №{i}, сумма: {sum}\")\n",
    "    i += 1"
   ]
  },
  {
   "cell_type": "markdown",
   "id": "5445f861-37d7-4b2e-a2c1-9c625be5849f",
   "metadata": {
    "jp-MarkdownHeadingCollapsed": true
   },
   "source": [
    "#### Упражнение 6"
   ]
  },
  {
   "cell_type": "code",
   "execution_count": null,
   "id": "9ff88938-bcd1-4c5c-9449-f162316e9e10",
   "metadata": {},
   "outputs": [],
   "source": [
    "spisok = \"0.0, 0.5, 1.0, 1.5, 2.0, 2.5, 3.0, 3.5, 4.0, 4.5\"\n",
    "spisok = spisok.split(\", \")\n",
    "sum, i = 0, 0\n",
    "while i < len(spisok):\n",
    "    sum += float(spisok[i])\n",
    "    print(f\"Итерация №{i}, сумма: {summ}\")\n",
    "    i += 1"
   ]
  },
  {
   "cell_type": "markdown",
   "id": "e3a20747-a534-4cfd-86e1-9206a97bd15f",
   "metadata": {
    "jp-MarkdownHeadingCollapsed": true
   },
   "source": [
    "#### Упражнение 7"
   ]
  },
  {
   "cell_type": "code",
   "execution_count": null,
   "id": "8581b741-b6fe-4e55-a911-2dc63564cf7a",
   "metadata": {},
   "outputs": [],
   "source": [
    "spisok = \"0.0, 0.5, 1.0, 1.5, 2.0, 2.5, 3.0, 3.5, 4.0, 4.5\"\n",
    "spisok = spisok.split(\", \")\n",
    "sum, i = 0, 0\n",
    "while i < len(spisok):\n",
    "    sum += flaot(spisok[i])\n",
    "    print(f\"Итерация №{i}, сумма: {sum}\")\n",
    "    i += 1"
   ]
  },
  {
   "cell_type": "markdown",
   "id": "99030596-6cb3-4c37-abb5-22949741b978",
   "metadata": {
    "jp-MarkdownHeadingCollapsed": true
   },
   "source": [
    "#### Упражнение 8"
   ]
  },
  {
   "cell_type": "code",
   "execution_count": null,
   "id": "6c28e91e-fc59-46b0-a419-9a67dd56587a",
   "metadata": {},
   "outputs": [],
   "source": [
    "spisok = \"0,0, 0,5, 1,0, 1,5, 2,0, 2,5, 3,0, 3,5, 4,0, 4,5\"\n",
    "spisok = spisok.split(\", \")\n",
    "sum, i = 0, 0\n",
    "while i < len(spisok):\n",
    "    sum += float(spisok[i])\n",
    "    print(f\"Итерация №{i}, сумма: {sum}\")\n",
    "    i += 1"
   ]
  },
  {
   "cell_type": "markdown",
   "id": "3dcfab20-a32c-48aa-bafc-2f661e0654da",
   "metadata": {
    "jp-MarkdownHeadingCollapsed": true
   },
   "source": [
    "#### Упражнение 9"
   ]
  },
  {
   "cell_type": "code",
   "execution_count": null,
   "id": "154f7206-676a-4fbd-8a59-d575abf042ed",
   "metadata": {},
   "outputs": [],
   "source": [
    "spisok = \"0.0, 0.5, 1.0, 1.5, 2.0, 2.5 3.0  3.5, 4.0, 4.5\"\n",
    "spisok = spisok.split(\", \")\n",
    "sum, i = 0, 0\n",
    "while i < len(spisok):\n",
    "    sum += float(spisok[i])\n",
    "    print(f\"Итерация №{i}, сумма: {sum}\")\n",
    "    i += 1"
   ]
  },
  {
   "cell_type": "markdown",
   "id": "90bfba82-832d-454f-ae11-66ec3bb48b4f",
   "metadata": {
    "jp-MarkdownHeadingCollapsed": true
   },
   "source": [
    "#### Упражнение 10"
   ]
  },
  {
   "cell_type": "code",
   "execution_count": null,
   "id": "6e7d042f-449b-4cda-bb60-4e771ca440c3",
   "metadata": {},
   "outputs": [],
   "source": [
    "spisok = \"0.0, 0.5, 1.0, 1.5, 2.0, 2.5, 3.0, 3.5, 4.0, 4.5\"\n",
    "spisok = spisok.split(\", \")\n",
    "sum, i = 0, 0\n",
    "while i < len(spisok):\n",
    "    sum += float(spisok[i])\n",
    "    print(f\"Итерация №{i}, сумма: {sum})\n",
    "    i += 1"
   ]
  },
  {
   "cell_type": "markdown",
   "id": "62e50f52-4dee-4a07-8ad9-b93c4e6a9386",
   "metadata": {
    "jp-MarkdownHeadingCollapsed": true
   },
   "source": [
    "#### Упражнение 11"
   ]
  },
  {
   "cell_type": "code",
   "execution_count": null,
   "id": "ab7c3b95-1e35-4b3d-a4d7-72cb29d480f8",
   "metadata": {},
   "outputs": [],
   "source": [
    "spisok = \"0.0, 0.5, 1.0, 1.5, 2.0, 2.5, 3.0, 3.5, 4.0, 4.5\"\n",
    "spisok = spisok.split(\", \")\n",
    "sum, i = 0, 0\n",
    "while i < len(spisok):\n",
    "    sum += float(spisok[i])\n",
    "    print(f'Итерация №{i}, сумма: {sum}\")\n",
    "    i += 1"
   ]
  },
  {
   "cell_type": "markdown",
   "id": "81ce313f-c4a0-4656-bc80-602bd13b9ab6",
   "metadata": {
    "jp-MarkdownHeadingCollapsed": true
   },
   "source": [
    "#### Упражнение 12"
   ]
  },
  {
   "cell_type": "code",
   "execution_count": null,
   "id": "72f7c7c8-7d76-44a6-ac6d-e7110ee1cb61",
   "metadata": {},
   "outputs": [],
   "source": [
    "spisok = 0.0, 0.5, 1.0, 1.5, 2.0, 2.5, 3.0, 3.5, 4.0, 4.5\"\n",
    "spisok = spisok.split(\", \")\n",
    "sum, i = 0, 0\n",
    "while i < len(spisok):\n",
    "    sum += float(spisok[i])\n",
    "    print(f\"Итерация №{i}, сумма: {sum}\")\n",
    "    i += 1"
   ]
  },
  {
   "cell_type": "markdown",
   "id": "1d2d4191-8be3-40ed-904a-961663077541",
   "metadata": {
    "jp-MarkdownHeadingCollapsed": true
   },
   "source": [
    "#### Упражнение 13"
   ]
  },
  {
   "cell_type": "code",
   "execution_count": null,
   "id": "3fb36034-c5cc-44b8-bb77-329a4dd67cd4",
   "metadata": {},
   "outputs": [],
   "source": [
    "spisok = \"0.0, 0.5, 1.0, 1.5, 2.0, 2.5, 3.0, 3.5, 4.0, 4.5\"\n",
    "spisok = spisok.split(\", \")\n",
    "sum i = 0, 0\n",
    "while i < len(spisok):\n",
    "    sum += float(spisok[i])\n",
    "    print(f\"Итерация №{i], сумма: {sum}\")\n",
    "    i += 1"
   ]
  },
  {
   "cell_type": "markdown",
   "id": "69d1e6a4-bff9-4443-9d8e-cc00984433cd",
   "metadata": {
    "jp-MarkdownHeadingCollapsed": true
   },
   "source": [
    "#### Упражнение 14"
   ]
  },
  {
   "cell_type": "code",
   "execution_count": null,
   "id": "e84ab202-34de-4492-a180-75e8298a52ed",
   "metadata": {},
   "outputs": [],
   "source": [
    "spisok = \"0.0, 0.5, 1.0, 1.5, 2.0, 2.5, 3.0, 3.5, 4.0, 4.5\"\n",
    "spisok = spisok.split(\", \")\n",
    "sum, i = 0, 0\n",
    "whilei < len(spisok):\n",
    "    sum += float(spisok[i])\n",
    "    print(f\"Итерация №{i}, сумма: {sum}\")\n",
    "    i += 1"
   ]
  },
  {
   "cell_type": "markdown",
   "id": "64fd94d1-5d7e-4101-9d4a-c6fcd4dffb9b",
   "metadata": {
    "jp-MarkdownHeadingCollapsed": true
   },
   "source": [
    "#### Упражнение 15"
   ]
  },
  {
   "cell_type": "code",
   "execution_count": null,
   "id": "64ea665b-9173-45dd-acc3-f05207b97780",
   "metadata": {},
   "outputs": [],
   "source": [
    "spisok = \"0.0, 0.5, 1.0, 1.5, 2.0, 2.5, 3.0, 3.5, 4.0, 4.5\"\n",
    "spisok = spisok.split(\", \")\n",
    "sum, i = 0, 0\n",
    "while i < len(spisok):\n",
    "sum += float(spisok[i])\n",
    "    print(f\"Итерация №{i}, сумма: {sum}\")\n",
    "    i += 1"
   ]
  },
  {
   "cell_type": "markdown",
   "id": "64cb6deb-3bd6-479f-9b43-fa3961cdd642",
   "metadata": {
    "jp-MarkdownHeadingCollapsed": true
   },
   "source": [
    "#### Упражнение 16"
   ]
  },
  {
   "cell_type": "code",
   "execution_count": null,
   "id": "d49789bd-735a-4c4f-9951-d2f0e7cac0a6",
   "metadata": {},
   "outputs": [],
   "source": [
    "spisok = \"0.0, 0.5, 1.0, 1.5, 2.0, 2.5, 3.0, 3.5, 4.0, 4.5\"\n",
    "spisok = spisok.split(\", \")\n",
    "sum, i = 0, 0\n",
    "while i < len(spisok):\n",
    "    sum += float(spisok[i])\n",
    "    print(f\"Итерация №{i}, сумма: {sum}\")\n",
    "    i += 1"
   ]
  },
  {
   "cell_type": "markdown",
   "id": "a321f1a4-81d3-4ba8-af4c-2661a5f8a7a4",
   "metadata": {
    "jp-MarkdownHeadingCollapsed": true
   },
   "source": [
    "#### Упражнение 17"
   ]
  },
  {
   "cell_type": "code",
   "execution_count": null,
   "id": "960a9586-fc1d-449e-bad3-74bb46688a5d",
   "metadata": {},
   "outputs": [],
   "source": [
    "spisok = \"0.0, 0.5, 1.0, 1.5, 2.0, 2.5, 3.0, 3.5, 4.0, 4.5\"\n",
    "spisok = spisok.split(\", \")\n",
    "sum, i = 0, 0\n",
    "while i < len(spisok):\n",
    "   sum += float(spisok[i])\n",
    "    print(f\"Итерация №{i}, сумма: {sum}\")\n",
    "    i += 1"
   ]
  },
  {
   "cell_type": "markdown",
   "id": "8cb5c30f-0ed9-4efc-ad68-9bb855c88249",
   "metadata": {
    "jp-MarkdownHeadingCollapsed": true
   },
   "source": [
    "#### Упражнение 18"
   ]
  },
  {
   "cell_type": "code",
   "execution_count": null,
   "id": "89f1ba57-4062-44ef-9563-ef2418906b6b",
   "metadata": {},
   "outputs": [],
   "source": [
    "spisok = \"0.0, 0.5, 1.0, 1.5, 2.0, 2.5, 3.0, 3.5, 4.0, 4.5\"\n",
    "spisok = spisok.split(\", \")\n",
    "sum, i = 0, 0\n",
    "while i < len(spisok):\n",
    "    sum + = float(spisok[i])\n",
    "    print(f\"Итерация №{i}, сумма: {sum}\")\n",
    "    i += 1"
   ]
  },
  {
   "cell_type": "markdown",
   "id": "ffaf2eb5-0426-47a0-be64-633dd9490b14",
   "metadata": {
    "jp-MarkdownHeadingCollapsed": true
   },
   "source": [
    "#### Упражнение 19"
   ]
  },
  {
   "cell_type": "code",
   "execution_count": null,
   "id": "d6d42569-2b8e-47b4-9915-2e5954ea5fdd",
   "metadata": {},
   "outputs": [],
   "source": [
    "spisok = \"0.0, 0.5, 1.0, 1.5, 2.0, 2.5, 3.0, 3.5, 4.0, 4.5\"\n",
    "spisok = spisok.split(\", \")\n",
    "sum, i = 0, 0\n",
    "while i < len(spisok)\n",
    "    sum += float(spisok[i])\n",
    "    print(f\"Итерация №{i}, сумма: {sum}\")\n",
    "    i += 1"
   ]
  },
  {
   "cell_type": "markdown",
   "id": "a0a5b3f8-bcbf-40fa-91e9-c22a801446e8",
   "metadata": {
    "jp-MarkdownHeadingCollapsed": true
   },
   "source": [
    "#### Упражнение 20"
   ]
  },
  {
   "cell_type": "code",
   "execution_count": null,
   "id": "819b9ba1-cbba-43df-b57c-d7e4916c80ed",
   "metadata": {},
   "outputs": [],
   "source": [
    "spisok = \"0.0, 0.5, 1.0, 1.5, 2.0, 2.5, 3.0, 3.5, 4.0, 4.5\"\n",
    "spisok = spisok.split(\", \")\n",
    "sum, i = 0, 0\n",
    "while i < len(spisok]:\n",
    "    sum += float(spisok[i])\n",
    "    print(f\"Итерация №{i}, сумма: {sum}\")\n",
    "    i += 1"
   ]
  },
  {
   "cell_type": "markdown",
   "id": "3182ab79-4c60-4cb1-b78f-0c1fa9ac0824",
   "metadata": {
    "jp-MarkdownHeadingCollapsed": true
   },
   "source": [
    "#### Упражнение 21"
   ]
  },
  {
   "cell_type": "code",
   "execution_count": null,
   "id": "bc4de210-480e-40b2-afef-1caf9ec1ec88",
   "metadata": {},
   "outputs": [],
   "source": [
    "spisok = \"0.0, 0.5, 1.0, 1.5, 2.0, 2.5, 3.0, 3.5, 4.0, 4.5\"\n",
    "spisok = spisok.split(\", \")\n",
    "sum, i = 0, 0\n",
    "while i < len(spisok):\n",
    "    sum += float(spisok[i)\n",
    "    print(f\"Итерация №{i], сумма: {sum}\")\n",
    "    i += 1"
   ]
  },
  {
   "cell_type": "markdown",
   "id": "64830a29-d560-48cd-9df7-9e6622ee0bc3",
   "metadata": {
    "jp-MarkdownHeadingCollapsed": true
   },
   "source": [
    "#### Упражнение 22"
   ]
  },
  {
   "cell_type": "code",
   "execution_count": null,
   "id": "61376dab-530e-4068-9c30-6b9ed12edf0d",
   "metadata": {},
   "outputs": [],
   "source": [
    "spisok = \"0.0, 0.5, 1.0, 1.5, 2.0, 2.5, 3.0, 3.5, 4.0, 4.5\"\n",
    "spisok = spisok.split(\", \")\n",
    "sum, i = 0, 0\n",
    "while i < len(spisok):\n",
    "    sum += float(spisok[i])\n",
    "    print(f\"Итерация №{i}, сумма: {sum}\")\n",
    "    i += 1"
   ]
  }
 ],
 "metadata": {
  "kernelspec": {
   "display_name": "Python 3 (ipykernel)",
   "language": "python",
   "name": "python3"
  },
  "language_info": {
   "codemirror_mode": {
    "name": "ipython",
    "version": 3
   },
   "file_extension": ".py",
   "mimetype": "text/x-python",
   "name": "python",
   "nbconvert_exporter": "python",
   "pygments_lexer": "ipython3",
   "version": "3.11.4"
  }
 },
 "nbformat": 4,
 "nbformat_minor": 5
}
