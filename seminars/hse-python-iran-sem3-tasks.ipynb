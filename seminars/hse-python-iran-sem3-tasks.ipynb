{
 "cells": [
  {
   "cell_type": "markdown",
   "id": "b63b0d7c-1930-4de0-b11c-11ce67fc855c",
   "metadata": {},
   "source": [
    "# Дополнительные задачи №3"
   ]
  },
  {
   "cell_type": "markdown",
   "id": "b22984e0-ab59-4cb5-9705-2260bcc0ce2a",
   "metadata": {},
   "source": [
    "### Задача 3.1. Ещё раз к вопросу о гласных в словах"
   ]
  },
  {
   "cell_type": "markdown",
   "id": "a379e92f-204c-4d16-8b35-3f69c10b6eec",
   "metadata": {},
   "source": [
    "1. Спросить у пользователя персидское слово (в транскрипции латиницей).\n",
    "2. Вывести на экран данные о слове:\n",
    "   - сколько в нём гласных\n",
    "   - сколько в нём согласных (считаем, что всё, что не гласные, — это согласные)\n",
    "\n",
    "Например:\n",
    "\n",
    "```\n",
    "> āb\n",
    "Гласных: 1\n",
    "Согласных: 1\n",
    "\n",
    "> nevisande\n",
    "Гласных: 4\n",
    "Согласных: 5\n",
    "```"
   ]
  },
  {
   "cell_type": "code",
   "execution_count": null,
   "id": "55bb6a36-fa44-4501-a304-2e5573c2480c",
   "metadata": {},
   "outputs": [],
   "source": [
    "word = "
   ]
  },
  {
   "cell_type": "code",
   "execution_count": null,
   "id": "23726df8-0784-4d57-b5e3-7d0728e37f7c",
   "metadata": {},
   "outputs": [],
   "source": [
    "#ваше решение\n"
   ]
  },
  {
   "cell_type": "markdown",
   "id": "ba52ae8e-d9ca-4172-a3da-9db9be7f13db",
   "metadata": {},
   "source": [
    "Вот на всякий случай список персидских гласных в транскрипции: a, ā, e, i, o, u."
   ]
  }
 ],
 "metadata": {
  "kernelspec": {
   "display_name": "Python 3 (ipykernel)",
   "language": "python",
   "name": "python3"
  },
  "language_info": {
   "codemirror_mode": {
    "name": "ipython",
    "version": 3
   },
   "file_extension": ".py",
   "mimetype": "text/x-python",
   "name": "python",
   "nbconvert_exporter": "python",
   "pygments_lexer": "ipython3",
   "version": "3.11.4"
  }
 },
 "nbformat": 4,
 "nbformat_minor": 5
}
