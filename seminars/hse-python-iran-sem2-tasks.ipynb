{
 "cells": [
  {
   "cell_type": "markdown",
   "id": "b63b0d7c-1930-4de0-b11c-11ce67fc855c",
   "metadata": {},
   "source": [
    "# Дополнительные задачи №2"
   ]
  },
  {
   "cell_type": "markdown",
   "id": "b22984e0-ab59-4cb5-9705-2260bcc0ce2a",
   "metadata": {},
   "source": [
    "### Задача 2.1. Персидское спряжение"
   ]
  },
  {
   "cell_type": "markdown",
   "id": "a379e92f-204c-4d16-8b35-3f69c10b6eec",
   "metadata": {},
   "source": [
    "1. Спросить у пользователя персидскую глагольную форму (в транскрипции латиницей) в простом прошедшем времени или форме инфинитива.\n",
    "2. Вывести на экран данные о форме глагола:\n",
    "   - если глагол в форме инфинитива (то есть кончается на -*an*), то вывести: *INF* (и больше ничего не выводить)\n",
    "   - если глагол в имперфективной форме (то есть начинается на *mi*-), то вывести: *IPFV*\n",
    "   - лицо и число глагольной формы в формате *3SG*\n",
    "\n",
    "Все данные должны быть выведены в одну строчку. Если вместе выводится и глосса *IPFV*, и лицо и число, то между ними должна стоять точка.\n",
    "\n",
    "(В этом задании мы ожидаем, что пользователь будет давать на вход глагольные окончания как в литературном персидском и ничего не сокращает, то есть, например, пишет не *miše*, а *mišavad*.)\n",
    "\n",
    "Например:\n",
    "\n",
    "```\n",
    "> kardam\n",
    "1SG\n",
    "\n",
    "> foruxt\n",
    "3SG\n",
    "\n",
    "> mineveštid\n",
    "IPFV.2PL\n",
    "\n",
    "> gereftan\n",
    "INF\n",
    "```"
   ]
  },
  {
   "cell_type": "code",
   "execution_count": null,
   "id": "55bb6a36-fa44-4501-a304-2e5573c2480c",
   "metadata": {},
   "outputs": [],
   "source": [
    "verb = \"mikardam\""
   ]
  },
  {
   "cell_type": "code",
   "execution_count": null,
   "id": "cd5b58d3-7b41-4cb2-b50e-2ff6838cd1b0",
   "metadata": {},
   "outputs": [],
   "source": [
    "# ваше решение\n"
   ]
  },
  {
   "cell_type": "markdown",
   "id": "ba52ae8e-d9ca-4172-a3da-9db9be7f13db",
   "metadata": {},
   "source": [
    "Вот на всякий случай табличка с окончаниями:"
   ]
  },
  {
   "cell_type": "markdown",
   "id": "48fde1ac-6651-46b9-a150-206b282b64c9",
   "metadata": {},
   "source": [
    "|   | SG | PL  |\n",
    "|---|----|-----|\n",
    "| 1 | am | im  |\n",
    "| 2 | i  | id  |\n",
    "| 3 | —  | and |"
   ]
  }
 ],
 "metadata": {
  "kernelspec": {
   "display_name": "Python 3 (ipykernel)",
   "language": "python",
   "name": "python3"
  },
  "language_info": {
   "codemirror_mode": {
    "name": "ipython",
    "version": 3
   },
   "file_extension": ".py",
   "mimetype": "text/x-python",
   "name": "python",
   "nbconvert_exporter": "python",
   "pygments_lexer": "ipython3",
   "version": "3.11.4"
  }
 },
 "nbformat": 4,
 "nbformat_minor": 5
}
