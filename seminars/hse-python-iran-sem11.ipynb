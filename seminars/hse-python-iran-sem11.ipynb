{
 "cells": [
  {
   "cell_type": "markdown",
   "id": "cea17432-ea86-4cb1-bed1-bdd795b70aa0",
   "metadata": {},
   "source": [
    "# Семинар 11"
   ]
  },
  {
   "cell_type": "markdown",
   "id": "a018fc0c-0ac0-4831-9380-4294fefb7135",
   "metadata": {
    "jp-MarkdownHeadingCollapsed": true
   },
   "source": [
    "## Работа с текстовыми файлами (продолжение)"
   ]
  },
  {
   "cell_type": "markdown",
   "id": "7c46561f-6599-470f-9858-b2d6070dd099",
   "metadata": {},
   "source": [
    "### Запись файлов"
   ]
  },
  {
   "cell_type": "markdown",
   "id": "cba612d7-c302-452f-a847-306d1f932e58",
   "metadata": {},
   "source": [
    "Если для чтения файлов используется метод `.read()`, то для **записи файлов** — метод `.write()`. Его нужно вызывать от объекта-файла и подавать в него строку, которую мы хотим записать в файл. Делать это нужно в режиме `\"w\"`:"
   ]
  },
  {
   "cell_type": "code",
   "execution_count": 1,
   "id": "a806aa00-109c-41f4-bda3-83cc2e76d4ec",
   "metadata": {},
   "outputs": [],
   "source": [
    "text = \"Ура! Наконец-то я, текст, буду в файле!\"\n",
    "\n",
    "with open(\"new_file.txt\", \"w\", encoding=\"utf-8\") as f:\n",
    "    f.write(text)"
   ]
  },
  {
   "cell_type": "markdown",
   "id": "d9112725-e154-4560-951b-8d6a769d118b",
   "metadata": {},
   "source": [
    "Проверим, что текст сохранился:"
   ]
  },
  {
   "cell_type": "code",
   "execution_count": 2,
   "id": "0462916a-1607-4544-a392-e54a99e5d696",
   "metadata": {},
   "outputs": [
    {
     "name": "stdout",
     "output_type": "stream",
     "text": [
      "Ура! Наконец-то я, текст, буду в файле!\n"
     ]
    }
   ],
   "source": [
    "with open(\"new_file.txt\", \"r\", encoding=\"utf-8\") as f:\n",
    "    print(f.read())"
   ]
  },
  {
   "cell_type": "markdown",
   "id": "c46ea03f-5750-45f5-be1b-8cc799e707ac",
   "metadata": {},
   "source": [
    "**Внимание**! В режиме записи (`\"w\"`) файл всегда перезаписывается с нуля. Когда вы вызываете функцию `open()` в режиме записи (`\"w\"`), файл перезаписывается как пустой. Заметьте, что это происходит не в тот момент, когда вы вызываете `f.write()`! То есть даже если после подключения к файлу ничего не происходит, он всё равно перезаписывается:"
   ]
  },
  {
   "cell_type": "code",
   "execution_count": 3,
   "id": "88a5535b-5ceb-4b5f-9363-a09f57a2baa4",
   "metadata": {},
   "outputs": [
    {
     "name": "stdout",
     "output_type": "stream",
     "text": [
      "\n",
      "<class 'str'>\n",
      "0\n"
     ]
    }
   ],
   "source": [
    "with open(\"new_file.txt\", \"w\", encoding=\"utf-8\") as f:\n",
    "    nenuzhnaya_peremennaya = True\n",
    "\n",
    "with open(\"new_file.txt\", \"r\", encoding=\"utf-8\") as f:\n",
    "    content = f.read()\n",
    "print(content)\n",
    "print(type(content))\n",
    "print(len(content))"
   ]
  },
  {
   "cell_type": "markdown",
   "id": "65d90afd-3306-4890-989b-545d525badc0",
   "metadata": {},
   "source": [
    "Если попытаться записать файл в режиме чтения `\"r\"`, то ничего не получится:"
   ]
  },
  {
   "cell_type": "code",
   "execution_count": 4,
   "id": "cef088b0-43a6-4850-baab-8cfaa55c1394",
   "metadata": {},
   "outputs": [
    {
     "ename": "UnsupportedOperation",
     "evalue": "not writable",
     "output_type": "error",
     "traceback": [
      "\u001b[1;31m---------------------------------------------------------------------------\u001b[0m",
      "\u001b[1;31mUnsupportedOperation\u001b[0m                      Traceback (most recent call last)",
      "Cell \u001b[1;32mIn[4], line 2\u001b[0m\n\u001b[0;32m      1\u001b[0m \u001b[38;5;28;01mwith\u001b[39;00m \u001b[38;5;28mopen\u001b[39m(\u001b[38;5;124m\"\u001b[39m\u001b[38;5;124mnew_file.txt\u001b[39m\u001b[38;5;124m\"\u001b[39m, \u001b[38;5;124m\"\u001b[39m\u001b[38;5;124mr\u001b[39m\u001b[38;5;124m\"\u001b[39m, encoding\u001b[38;5;241m=\u001b[39m\u001b[38;5;124m\"\u001b[39m\u001b[38;5;124mutf-8\u001b[39m\u001b[38;5;124m\"\u001b[39m) \u001b[38;5;28;01mas\u001b[39;00m f:\n\u001b[1;32m----> 2\u001b[0m     \u001b[43mf\u001b[49m\u001b[38;5;241;43m.\u001b[39;49m\u001b[43mwrite\u001b[49m\u001b[43m(\u001b[49m\u001b[43mtext\u001b[49m\u001b[43m)\u001b[49m\n",
      "\u001b[1;31mUnsupportedOperation\u001b[0m: not writable"
     ]
    }
   ],
   "source": [
    "with open(\"new_file.txt\", \"r\", encoding=\"utf-8\") as f:\n",
    "    f.write(text)"
   ]
  },
  {
   "cell_type": "markdown",
   "id": "36c80ab1-8680-4629-ae97-2dca34816200",
   "metadata": {},
   "source": [
    "То же самое — если попытаться прочитать файл в режиме записи `\"w\"`:"
   ]
  },
  {
   "cell_type": "code",
   "execution_count": 5,
   "id": "7de74795-7a71-41df-921a-61981d55abe9",
   "metadata": {},
   "outputs": [
    {
     "ename": "UnsupportedOperation",
     "evalue": "not readable",
     "output_type": "error",
     "traceback": [
      "\u001b[1;31m---------------------------------------------------------------------------\u001b[0m",
      "\u001b[1;31mUnsupportedOperation\u001b[0m                      Traceback (most recent call last)",
      "Cell \u001b[1;32mIn[5], line 2\u001b[0m\n\u001b[0;32m      1\u001b[0m \u001b[38;5;28;01mwith\u001b[39;00m \u001b[38;5;28mopen\u001b[39m(\u001b[38;5;124m\"\u001b[39m\u001b[38;5;124mnew_file.txt\u001b[39m\u001b[38;5;124m\"\u001b[39m, \u001b[38;5;124m\"\u001b[39m\u001b[38;5;124mw\u001b[39m\u001b[38;5;124m\"\u001b[39m, encoding\u001b[38;5;241m=\u001b[39m\u001b[38;5;124m\"\u001b[39m\u001b[38;5;124mutf-8\u001b[39m\u001b[38;5;124m\"\u001b[39m) \u001b[38;5;28;01mas\u001b[39;00m f:\n\u001b[1;32m----> 2\u001b[0m     \u001b[38;5;28mprint\u001b[39m(\u001b[43mf\u001b[49m\u001b[38;5;241;43m.\u001b[39;49m\u001b[43mread\u001b[49m\u001b[43m(\u001b[49m\u001b[43m)\u001b[49m)\n",
      "\u001b[1;31mUnsupportedOperation\u001b[0m: not readable"
     ]
    }
   ],
   "source": [
    "with open(\"new_file.txt\", \"w\", encoding=\"utf-8\") as f:\n",
    "    print(f.read())"
   ]
  },
  {
   "cell_type": "markdown",
   "id": "e8401e33-1c33-4067-a729-22c174c893ca",
   "metadata": {},
   "source": [
    "## Обработка естественного языка"
   ]
  },
  {
   "cell_type": "markdown",
   "id": "bc8b7d03-cb52-4bda-b63f-0f43feab7530",
   "metadata": {},
   "source": [
    "Сфера практических задач, которые связаны с обработкой текстовых материалов, обычно именуется **«(автоматическая) обработка естественного языка»**, или сокращённо «автобрея», а также ***Natural Language Processing***, или сокращённо NLP.\n",
    "\n",
    "Вот самые распространённые и важные задачи NLP. Они нужны как в больших известных коммерческих программах, которые мы используем каждый день, так и в сугубо научных целях — для обработки текстов и других языковых данных:\n",
    "\n",
    "- **токенизация**, то есть деление текста на токены\n",
    "    - `\"Маленькой ёлочке холодно зимой\"` → `[\"маленькой\", \"ёлочке\", \"холодно\", \"зимой\"]`\n",
    "    - мы уже умеем делать токенизацию некоторыми простыми способами (например, сначала `text.split()`, а потом для каждого слова `word.strip()` — но научимся делать это более эффективно\n",
    "- **лемматизация**, то есть приведение разных словоформ одной лексемы к лемме (начальной форме слова)\n",
    "    - `\"Маленькой ёлочке холодно зимой\"` → `[\"маленький\", \"ёлочка\", \"холодно\", \"зима\"]`\n",
    "- **стемминг** — похоже на лемматизацию, но вместо леммы получается основа слова (англ. *stem*)\n",
    "    - `\"Маленькой ёлочке холодно зимой\"` → `[\"маленьк\", \"ёлочк\", \"холодн\", \"зим\"]`\n",
    "- **частеречный тэггинг** (*POS-tagging*) — определение частей речи\n",
    "    - `\"Маленькой ёлочке холодно зимой\"` → `[\"ADJ\", \"N\", \"ADV\", \"N\"]`\n",
    "- **выделение морфологических признаков** (*POS-tagging*) — определение падежа, числа, лица, времени и прочих грамматических признаков\n",
    "    - `\"Маленькой ёлочке холодно зимой\"` → `[[\"SG\", \"FEM\", \"DAT\"], [\"SG\", \"DAT\"], [], [\"SG\", \"INS\"]]`\n",
    "- **синтаксический анализ** — выделение связей-зависимостей между словами / синтаксических групп\n",
    "\n",
    "А также некоторые более продвинутые задачи (большинство из них для нас слишком сложны, но некоторые мы в этом курсе рассмотрим):\n",
    "- **выделение частотных слов**\n",
    "- **векторизация** — превращение текста из последовательности символов в *вектор* (последовательность чисел, которая хранит некоторую информацию о тексте)\n",
    "- **классификация текстов** — например, определение жанра текста (сказка / текст закона / деловое письмо…), спама (спам / нормальное письмо), тональности текста (положительно окрашенный / нейтральный / отрицательный…), авторства (Маккартни / Леннон / Старр…)\n",
    "- **спелл-чекинг**\n",
    "- **извлечение информации** — извлечение из текста фактов, имён, названий, дат\n",
    "- **суммаризация**, автоматический пересказ текста\n",
    "- **машинный перевод** (в онлайн-переводчиках)\n",
    "- **генерация текста** (в чат-ботах)\n",
    "\n",
    "Подробнее про NLP можно прочитать в куче интернет-ресурсов, например, **[здесь](https://neerc.ifmo.ru/wiki/index.php?title=%D0%9E%D0%B1%D1%80%D0%B0%D0%B1%D0%BE%D1%82%D0%BA%D0%B0_%D0%B5%D1%81%D1%82%D0%B5%D1%81%D1%82%D0%B2%D0%B5%D0%BD%D0%BD%D0%BE%D0%B3%D0%BE_%D1%8F%D0%B7%D1%8B%D0%BA%D0%B0)**."
   ]
  },
  {
   "cell_type": "markdown",
   "id": "4c46cdb3-5cd1-41d1-b2f1-afd2f6deebe0",
   "metadata": {},
   "source": [
    "### Регулярные выражения"
   ]
  },
  {
   "cell_type": "markdown",
   "id": "0e4e1cf1-47d7-45f7-a556-8b84a978b942",
   "metadata": {},
   "source": [
    "Один из инструментов, который постепенно подводит нас к обработке естественного языка — это **регулярные выражения**, или попросту *регулярки* (англ. *regular expressions*, сокращённо *RE*). Регулярные выражения — это мини-язык программирования, который позволяет искать в тексте не только подстроки, но и некоторые «шаблоны»-маски. Например, с помощью регулярных выражения можно попросить: найди все сочетания согласного и гласного. Или все слова, которые начинаются на «био». Обычными способами мы можем найти только те подстроки, которые нам полностью известны, поэтому регулярки часто бывают полезны. Вот подробный **[гайд по регуляркам](https://habr.com/ru/articles/349860/#Primery_regulyarnyh_vyrazheniy)**.\n",
    "\n",
    "Чтобы использовать регулярки в питоне, нужно импортировать модуль **`re`**:"
   ]
  },
  {
   "cell_type": "code",
   "execution_count": 6,
   "id": "d96d72e5-c896-4ad7-9a3c-23b8d7268b7c",
   "metadata": {},
   "outputs": [],
   "source": [
    "import re"
   ]
  },
  {
   "cell_type": "markdown",
   "id": "cdb6a278-e3fb-4541-81fc-8a4897909f91",
   "metadata": {},
   "source": [
    "Загрузим известный нам текст про Гарри Поттера:"
   ]
  },
  {
   "cell_type": "code",
   "execution_count": 7,
   "id": "f7bdfd17-2fa7-45db-8b34-57fc4a64242f",
   "metadata": {},
   "outputs": [
    {
     "name": "stdout",
     "output_type": "stream",
     "text": [
      "Мистер и миссис Дурсль, живший в доме номер четыре по Бирючинной улице, с гордостью говорили, что они, слава богу, совершенно нормальны. Они были последними людьми, от которых можно было ожидать чего-то странного или таинственного, потому что они просто не держались за такую ерунду.\n",
      "\n",
      "Мистер Дурсль был директором фирмы «Граннингс», которая производила дрели. Это был крупный, мускулистый мужчина, почти без шеи имевший очень большие усы. Миссис Дурсль была худой блондинкой с почти вдвое более длино\n"
     ]
    }
   ],
   "source": [
    "with open(\"sem10-hpps_ru_ch1.txt\", \"r\", encoding=\"utf-8\") as f:\n",
    "    text = f.read()\n",
    "\n",
    "print(text[:500])"
   ]
  },
  {
   "cell_type": "markdown",
   "id": "fb22f62f-3ae1-481a-8e22-8c99b5640adf",
   "metadata": {},
   "source": [
    "_____"
   ]
  },
  {
   "cell_type": "markdown",
   "id": "64f6dba3-7df3-48a0-8428-554bfd24a202",
   "metadata": {},
   "source": [
    "#### Функции `re.search()` и `re.finditer()`"
   ]
  },
  {
   "cell_type": "markdown",
   "id": "73d07a67-4752-482f-bb28-3094c74462c2",
   "metadata": {},
   "source": [
    "Функция **`re.search()`** из модуля `re` поможет найти первое вхождение какой-то подстроки в текст. В неё подаётся два аргумента: подстрока, которую нужно найти, и строка, в которой её нужно найти:"
   ]
  },
  {
   "cell_type": "code",
   "execution_count": 8,
   "id": "da546b3d-6541-4ab7-9f90-0311aee8d917",
   "metadata": {},
   "outputs": [
    {
     "name": "stdout",
     "output_type": "stream",
     "text": [
      "<re.Match object; span=(919, 925), match='Поттер'>\n"
     ]
    }
   ],
   "source": [
    "print(re.search(\"Поттер\", text))"
   ]
  },
  {
   "cell_type": "markdown",
   "id": "624d72ec-3ee2-4a8d-b97c-0d4765c8a006",
   "metadata": {},
   "source": [
    "Если `re.search()` не может ничего найти, она возвращает объект `None`:"
   ]
  },
  {
   "cell_type": "code",
   "execution_count": 9,
   "id": "53d48752-b1a7-4a74-ad73-db2a1d5ee148",
   "metadata": {},
   "outputs": [
    {
     "name": "stdout",
     "output_type": "stream",
     "text": [
      "None\n"
     ]
    }
   ],
   "source": [
    "print(re.search(\"Боромир\", text))"
   ]
  },
  {
   "cell_type": "markdown",
   "id": "d5e3361e-4a03-44b5-b784-1abe0539faf5",
   "metadata": {},
   "source": [
    "Другая функция, **`re.finditer()`**, находит не только первое вхождение, а все вхождения подстроки — в виде специального итерируемого объекта (который можно превратить в список функцией `list()`):"
   ]
  },
  {
   "cell_type": "code",
   "execution_count": 10,
   "id": "06bc4dc1-c5f9-4296-984a-b57e75376c79",
   "metadata": {},
   "outputs": [
    {
     "data": {
      "text/plain": [
       "[<re.Match object; span=(919, 925), match='Поттер'>,\n",
       " <re.Match object; span=(936, 942), match='Поттер'>,\n",
       " <re.Match object; span=(1238, 1244), match='Поттер'>,\n",
       " <re.Match object; span=(1285, 1291), match='Поттер'>,\n",
       " <re.Match object; span=(1421, 1427), match='Поттер'>,\n",
       " <re.Match object; span=(5041, 5047), match='Поттер'>,\n",
       " <re.Match object; span=(5484, 5490), match='Поттер'>,\n",
       " <re.Match object; span=(5571, 5577), match='Поттер'>,\n",
       " <re.Match object; span=(8612, 8618), match='Поттер'>,\n",
       " <re.Match object; span=(9404, 9410), match='Поттер'>,\n",
       " <re.Match object; span=(10125, 10131), match='Поттер'>,\n",
       " <re.Match object; span=(10441, 10447), match='Поттер'>,\n",
       " <re.Match object; span=(10534, 10540), match='Поттер'>,\n",
       " <re.Match object; span=(17055, 17061), match='Поттер'>,\n",
       " <re.Match object; span=(17096, 17102), match='Поттер'>,\n",
       " <re.Match object; span=(17482, 17488), match='Поттер'>,\n",
       " <re.Match object; span=(17633, 17639), match='Поттер'>,\n",
       " <re.Match object; span=(19181, 19187), match='Поттер'>,\n",
       " <re.Match object; span=(19633, 19639), match='Поттер'>,\n",
       " <re.Match object; span=(24743, 24749), match='Поттер'>,\n",
       " <re.Match object; span=(25278, 25284), match='Поттер'>]"
      ]
     },
     "execution_count": 10,
     "metadata": {},
     "output_type": "execute_result"
    }
   ],
   "source": [
    "list(re.finditer(\"Поттер\", text))"
   ]
  },
  {
   "cell_type": "markdown",
   "id": "c24dc3f9-66b0-45e9-8d79-f4242e636192",
   "metadata": {},
   "source": [
    "В результате работы этих функций мы получаем объекты типа `match`. Этот объект хранит информацию о том, какую строку мы нашли, и где в строке (на каких индексах строки подстрока начинается и заканчивается). Например, из результата поиска строки `\"Поттер\"` мы видим, что первое её вхождение находится в диапазоне от 919 до 925 символа строки `text`. Проверим, так ли это, с помощью среза:"
   ]
  },
  {
   "cell_type": "code",
   "execution_count": 11,
   "id": "dd6b9a47-8662-4b73-aa03-2aae6181441d",
   "metadata": {},
   "outputs": [
    {
     "name": "stdout",
     "output_type": "stream",
     "text": [
      "Поттер\n",
      "то-нибудь узнает о Поттерах. Миссис Потт\n"
     ]
    }
   ],
   "source": [
    "print(text[919:925])\n",
    "print(text[900:940])"
   ]
  },
  {
   "cell_type": "markdown",
   "id": "f8a049e9-a9f7-461b-a84b-b66991c6c522",
   "metadata": {},
   "source": [
    "Впрочем, искать обычную подстроку мы и так умели (с помощью метода `str.find()`). В чём настоящая сила регулярок — это в **метасимволах**, которые позволяют ставить условия на поиск символов. Вот некоторые из них:\n",
    "\n",
    "- `.` — любой символ\n",
    "- `X?` — символ X, повторённый 0 или 1 раз\n",
    "- `X*` — символ X, повторённый 0 раз или больше\n",
    "- `X+` — символ X, повторённый 1 раз или больше\n",
    "- `[ABC]` — любой из символов A, B и C\n",
    "- `[^ABC]` — любой из символов, *кроме* A, B и C\n",
    "- `[A-Z]` — любой из символов, расположенных между символами A и Z в [таблице Юникода](https://symbl.cc/ru/unicode-table/)\n",
    "- `(AB|XY)` — либо последовательность символов AB, либо последовательность символов XY"
   ]
  },
  {
   "cell_type": "markdown",
   "id": "2457ff05-5c53-4674-8ba1-e35a8f93bc43",
   "metadata": {},
   "source": [
    "Эти метасимволы можно комбинировать между собой. Таким образом мы можем попробовать найти в тексте, например, все прилагательные в единственном числе, мужском роде и именительном падеже. Для этого напишем регулярку, в которой будет:\n",
    "1. корень прилагательного — последовательность из любых символов кириллического русского алфавита, повторённых 1 или больше раз: **`[а-яё]+`**\n",
    "   - обратите внимание, что буква «ё» в Юникоде находится отдельно от всех остальных букв русской кириллицы, поэтому её нужно отдельно добавлять после диапазона `а-я`\n",
    "2. окончание прилагательного: «ий», «ый» или «ой»: **`[иоы]й`**\n",
    "   - альтернативный вариант: `(ий|ый|ой)` (делает то же самое)\n",
    "  \n",
    "Найдём все подстроки, в которых сначала идёт основа, а затем окончание:"
   ]
  },
  {
   "cell_type": "code",
   "execution_count": 12,
   "id": "e578516a-3ddc-4c79-bb95-ec7a7f5bc552",
   "metadata": {},
   "outputs": [
    {
     "data": {
      "text/plain": [
       "[<re.Match object; span=(0, 7), match='великий'>,\n",
       " <re.Match object; span=(10, 17), match='могучий'>,\n",
       " <re.Match object; span=(18, 28), match='персидский'>,\n",
       " <re.Match object; span=(36, 41), match='самый'>,\n",
       " <re.Match object; span=(42, 52), match='прекрасный'>]"
      ]
     },
     "execution_count": 12,
     "metadata": {},
     "output_type": "execute_result"
    }
   ],
   "source": [
    "list(re.finditer(\"[а-яё]+[иоы]й\", \"великий и могучий персидский язык — самый прекрасный в мире\"))"
   ]
  },
  {
   "cell_type": "markdown",
   "id": "d3002f35-c7b6-4beb-ae00-1ce34ca4cde1",
   "metadata": {},
   "source": [
    "Как, используя регулярки, найти в тексте все словоформы русского слова? Есть несколько вариантов. Например, найдём сначала основу слова, а затем последовательность любых символов, кроме пробела:"
   ]
  },
  {
   "cell_type": "code",
   "execution_count": 13,
   "id": "52599a1e-9faf-4d7b-910c-4e82d1503d21",
   "metadata": {},
   "outputs": [
    {
     "data": {
      "text/plain": [
       "[<re.Match object; span=(919, 928), match='Поттерах.'>,\n",
       " <re.Match object; span=(936, 942), match='Поттер'>,\n",
       " <re.Match object; span=(1238, 1245), match='Поттеры'>,\n",
       " <re.Match object; span=(1285, 1293), match='Поттеров'>,\n",
       " <re.Match object; span=(1421, 1429), match='Поттеров'>,\n",
       " <re.Match object; span=(5041, 5049), match='Поттеры,'>,\n",
       " <re.Match object; span=(5484, 5490), match='Поттер'>,\n",
       " <re.Match object; span=(5571, 5578), match='Поттер,'>,\n",
       " <re.Match object; span=(8612, 8631), match='Поттерах...\\n\\nМиссис'>,\n",
       " <re.Match object; span=(9404, 9412), match='Поттер\".'>,\n",
       " <re.Match object; span=(10125, 10134), match='Поттерам?'>,\n",
       " <re.Match object; span=(10441, 10448), match='Поттеры'>,\n",
       " <re.Match object; span=(10534, 10541), match='Поттеры'>,\n",
       " <re.Match object; span=(17055, 17064), match='Поттеров.'>,\n",
       " <re.Match object; span=(17096, 17103), match='Поттеры'>,\n",
       " <re.Match object; span=(17482, 17491), match='Поттеров,'>,\n",
       " <re.Match object; span=(17633, 17641), match='Поттера,'>,\n",
       " <re.Match object; span=(19181, 19187), match='Поттер'>,\n",
       " <re.Match object; span=(19633, 19641), match='Поттера,'>,\n",
       " <re.Match object; span=(24743, 24750), match='Поттер,'>,\n",
       " <re.Match object; span=(25278, 25285), match='Поттера'>]"
      ]
     },
     "execution_count": 13,
     "metadata": {},
     "output_type": "execute_result"
    }
   ],
   "source": [
    "list(re.finditer(\"Поттер[^ ]*\", text))"
   ]
  },
  {
   "cell_type": "markdown",
   "id": "10618831-7cde-4e8b-bbae-df661bf8eef7",
   "metadata": {},
   "source": [
    "Небольшая проблема в том, что к нашим словам «приклеились» знаки препинания — они-то ведь тоже не пробелы (а ещё слово «Миссис»). Для некоторых задач это хорошо, для других нам нужны только сами словоформы без пунктуации. Если нужны только словоформы, можно сделать иначе — описать все символы, которые могут быть в окончании. По идее, это все русские кириллические буквы (ну или можно перечислить все буквы, которые реально встречаются в окончаниях существительных):"
   ]
  },
  {
   "cell_type": "code",
   "execution_count": 14,
   "id": "4c78b527-4a81-4115-a1c4-f7c2433c14d4",
   "metadata": {},
   "outputs": [
    {
     "data": {
      "text/plain": [
       "[<re.Match object; span=(919, 927), match='Поттерах'>,\n",
       " <re.Match object; span=(936, 942), match='Поттер'>,\n",
       " <re.Match object; span=(1238, 1245), match='Поттеры'>,\n",
       " <re.Match object; span=(1285, 1293), match='Поттеров'>,\n",
       " <re.Match object; span=(1421, 1429), match='Поттеров'>,\n",
       " <re.Match object; span=(5041, 5048), match='Поттеры'>,\n",
       " <re.Match object; span=(5484, 5490), match='Поттер'>,\n",
       " <re.Match object; span=(5571, 5577), match='Поттер'>,\n",
       " <re.Match object; span=(8612, 8620), match='Поттерах'>,\n",
       " <re.Match object; span=(9404, 9410), match='Поттер'>,\n",
       " <re.Match object; span=(10125, 10133), match='Поттерам'>,\n",
       " <re.Match object; span=(10441, 10448), match='Поттеры'>,\n",
       " <re.Match object; span=(10534, 10541), match='Поттеры'>,\n",
       " <re.Match object; span=(17055, 17063), match='Поттеров'>,\n",
       " <re.Match object; span=(17096, 17103), match='Поттеры'>,\n",
       " <re.Match object; span=(17482, 17490), match='Поттеров'>,\n",
       " <re.Match object; span=(17633, 17640), match='Поттера'>,\n",
       " <re.Match object; span=(19181, 19187), match='Поттер'>,\n",
       " <re.Match object; span=(19633, 19640), match='Поттера'>,\n",
       " <re.Match object; span=(24743, 24749), match='Поттер'>,\n",
       " <re.Match object; span=(25278, 25285), match='Поттера'>]"
      ]
     },
     "execution_count": 14,
     "metadata": {},
     "output_type": "execute_result"
    }
   ],
   "source": [
    "list(re.finditer(\"Поттер[а-яё]*\", text))"
   ]
  },
  {
   "cell_type": "markdown",
   "id": "ec006d54-c2fa-4d5c-9148-e859a8bb4ffc",
   "metadata": {},
   "source": [
    "Заметьте, что в примере выше мы используем звёздочку-астериск: `[а-яё]*`, а не плюсик `+`. Это потому, что звёздочка ищет последовательности от 0 и больше раз, а значит, она найдёт в том числе те подстроки, где окончание нулевое (то есть в том числе нулевую последовательность символов). А плюсик ищет от 1 и больше раз, так что с ним найдутся только *не*нулевые окончания. Тогда в выдаче не будет просто формы «Поттер»:"
   ]
  },
  {
   "cell_type": "code",
   "execution_count": 15,
   "id": "825001b0-0901-44ad-945f-e34d56e774f4",
   "metadata": {},
   "outputs": [
    {
     "data": {
      "text/plain": [
       "[<re.Match object; span=(919, 927), match='Поттерах'>,\n",
       " <re.Match object; span=(1238, 1245), match='Поттеры'>,\n",
       " <re.Match object; span=(1285, 1293), match='Поттеров'>,\n",
       " <re.Match object; span=(1421, 1429), match='Поттеров'>,\n",
       " <re.Match object; span=(5041, 5048), match='Поттеры'>,\n",
       " <re.Match object; span=(8612, 8620), match='Поттерах'>,\n",
       " <re.Match object; span=(10125, 10133), match='Поттерам'>,\n",
       " <re.Match object; span=(10441, 10448), match='Поттеры'>,\n",
       " <re.Match object; span=(10534, 10541), match='Поттеры'>,\n",
       " <re.Match object; span=(17055, 17063), match='Поттеров'>,\n",
       " <re.Match object; span=(17096, 17103), match='Поттеры'>,\n",
       " <re.Match object; span=(17482, 17490), match='Поттеров'>,\n",
       " <re.Match object; span=(17633, 17640), match='Поттера'>,\n",
       " <re.Match object; span=(19633, 19640), match='Поттера'>,\n",
       " <re.Match object; span=(25278, 25285), match='Поттера'>]"
      ]
     },
     "execution_count": 15,
     "metadata": {},
     "output_type": "execute_result"
    }
   ],
   "source": [
    "list(re.finditer(\"Поттер[а-яё]+\", text))"
   ]
  },
  {
   "cell_type": "markdown",
   "id": "8c13e34f-6699-4372-bad6-39e6358138f2",
   "metadata": {},
   "source": [
    "Чтобы найти все словоформы фамилии «Дурсль», придётся сократить основу до «Дурсл-» (иначе не найдутся косвенные формы «Дурслей», «Дурслях» и прочие):"
   ]
  },
  {
   "cell_type": "code",
   "execution_count": 16,
   "id": "3a1fbd4e-2f36-4b06-ad70-d2e2624202a5",
   "metadata": {},
   "outputs": [
    {
     "data": {
      "text/plain": [
       "[<re.Match object; span=(16, 22), match='Дурсль'>,\n",
       " <re.Match object; span=(292, 298), match='Дурсль'>,\n",
       " <re.Match object; span=(446, 452), match='Дурсль'>,\n",
       " <re.Match object; span=(648, 655), match='Дурслей'>,\n",
       " <re.Match object; span=(749, 756), match='Дурслей'>,\n",
       " <re.Match object; span=(963, 969), match='Дурсль'>,\n",
       " <re.Match object; span=(1033, 1039), match='Дурсль'>,\n",
       " <re.Match object; span=(1178, 1184), match='Дурсли'>,\n",
       " <re.Match object; span=(1265, 1271), match='Дурсли'>,\n",
       " <re.Match object; span=(1517, 1523), match='Дурсль'>,\n",
       " <re.Match object; span=(1724, 1730), match='Дурсль'>,\n",
       " <re.Match object; span=(1803, 1809), match='Дурсль'>,\n",
       " <re.Match object; span=(1979, 1985), match='Дурсль'>,\n",
       " <re.Match object; span=(2021, 2027), match='Дурсль'>,\n",
       " <re.Match object; span=(2178, 2184), match='Дурсль'>,\n",
       " <re.Match object; span=(2381, 2387), match='Дурсль'>,\n",
       " <re.Match object; span=(2616, 2622), match='Дурсль'>,\n",
       " <re.Match object; span=(2682, 2688), match='Дурсль'>,\n",
       " <re.Match object; span=(2903, 2909), match='Дурсль'>,\n",
       " <re.Match object; span=(3262, 3268), match='Дурсль'>,\n",
       " <re.Match object; span=(3565, 3571), match='Дурсль'>,\n",
       " <re.Match object; span=(3737, 3743), match='Дурсля'>,\n",
       " <re.Match object; span=(3911, 3917), match='Дурсль'>,\n",
       " <re.Match object; span=(3993, 3999), match='Дурсль'>,\n",
       " <re.Match object; span=(4395, 4401), match='Дурсль'>,\n",
       " <re.Match object; span=(5106, 5112), match='Дурсль'>,\n",
       " <re.Match object; span=(5785, 5791), match='Дурсль'>,\n",
       " <re.Match object; span=(6243, 6249), match='Дурсль'>,\n",
       " <re.Match object; span=(6695, 6701), match='Дурсля'>,\n",
       " <re.Match object; span=(6727, 6733), match='Дурсль'>,\n",
       " <re.Match object; span=(7338, 7344), match='Дурсль'>,\n",
       " <re.Match object; span=(7473, 7479), match='Дурсль'>,\n",
       " <re.Match object; span=(8483, 8489), match='Дурсль'>,\n",
       " <re.Match object; span=(8632, 8638), match='Дурсль'>,\n",
       " <re.Match object; span=(8863, 8869), match='Дурсль'>,\n",
       " <re.Match object; span=(9057, 9063), match='Дурсль'>,\n",
       " <re.Match object; span=(9178, 9184), match='Дурсль'>,\n",
       " <re.Match object; span=(9293, 9299), match='Дурсль'>,\n",
       " <re.Match object; span=(9342, 9348), match='Дурсли'>,\n",
       " <re.Match object; span=(9597, 9603), match='Дурсль'>,\n",
       " <re.Match object; span=(9747, 9753), match='Дурсль'>,\n",
       " <re.Match object; span=(9893, 9899), match='Дурсль'>,\n",
       " <re.Match object; span=(9922, 9928), match='Дурсль'>,\n",
       " <re.Match object; span=(10248, 10254), match='Дурсли'>,\n",
       " <re.Match object; span=(10279, 10285), match='Дурсль'>,\n",
       " <re.Match object; span=(10310, 10316), match='Дурсль'>,\n",
       " <re.Match object; span=(10526, 10532), match='Дурсль'>,\n",
       " <re.Match object; span=(10804, 10810), match='Дурсль'>,\n",
       " <re.Match object; span=(12796, 12802), match='Дурсль'>,\n",
       " <re.Match object; span=(14039, 14046), match='Дурслей'>,\n",
       " <re.Match object; span=(22454, 22461), match='Дурслей'>,\n",
       " <re.Match object; span=(24982, 24988), match='Дурсль'>]"
      ]
     },
     "execution_count": 16,
     "metadata": {},
     "output_type": "execute_result"
    }
   ],
   "source": [
    "list(re.finditer(\"Дурсл[а-яё]*\", text))"
   ]
  },
  {
   "cell_type": "markdown",
   "id": "a803cd2e-8901-4bad-9218-3438c3d38747",
   "metadata": {},
   "source": [
    "#### Практические задачи"
   ]
  },
  {
   "cell_type": "markdown",
   "id": "335a93cc-4a73-47af-a6ab-057f09f542c3",
   "metadata": {},
   "source": [
    "##### Задача 11.1"
   ]
  },
  {
   "cell_type": "markdown",
   "id": "75d71719-6abb-4dfc-a413-985e11c9e095",
   "metadata": {},
   "source": [
    "Как найти в `text` все слова, начинающиеся с большой буквы?"
   ]
  },
  {
   "cell_type": "code",
   "execution_count": null,
   "id": "ce879970-76ad-413a-8088-681f843aaca1",
   "metadata": {},
   "outputs": [],
   "source": [
    "# ваше решение"
   ]
  },
  {
   "cell_type": "markdown",
   "id": "832e0e1f-22e9-4cd1-b965-cab594979a33",
   "metadata": {},
   "source": [
    "##### Задача 11.2"
   ]
  },
  {
   "cell_type": "markdown",
   "id": "a38b1acd-7203-4416-8662-059629b2bec4",
   "metadata": {},
   "source": [
    "Как найти все слова с корнем «верн» («повернулась», «верну», «развернувшиеся»)?"
   ]
  },
  {
   "cell_type": "code",
   "execution_count": null,
   "id": "f7445984-c505-447e-9cbd-bb373c8364d4",
   "metadata": {},
   "outputs": [],
   "source": [
    "# ваше решение"
   ]
  },
  {
   "cell_type": "markdown",
   "id": "b28738fc-97f1-41bf-8f5b-300a85945a51",
   "metadata": {},
   "source": [
    "##### Задача 11.3"
   ]
  },
  {
   "cell_type": "markdown",
   "id": "5c669142-17cd-42f0-a12a-225e367b5042",
   "metadata": {},
   "source": [
    "Как найти все слова, обёрнутые кавычками `«»` (например, `«Фольксваген»`)?"
   ]
  },
  {
   "cell_type": "code",
   "execution_count": null,
   "id": "8b523ef1-dddf-42f5-9393-d790c2d4697a",
   "metadata": {},
   "outputs": [],
   "source": [
    "# ваше решение"
   ]
  },
  {
   "cell_type": "markdown",
   "id": "81336b56-0bb2-4da7-aa47-0fabf0d9898c",
   "metadata": {},
   "source": [
    "##### Задача 11.4"
   ]
  },
  {
   "cell_type": "markdown",
   "id": "16468487-64fd-4317-8843-2256f9cf7f8f",
   "metadata": {},
   "source": [
    "Как найти все слова с дефисом (например, «как-нибудь», «Сами-Знаете-Кто»)?"
   ]
  },
  {
   "cell_type": "code",
   "execution_count": null,
   "id": "2b0f205a-f1f0-4fd5-91fb-599cbb104027",
   "metadata": {},
   "outputs": [],
   "source": [
    "# ваше решение"
   ]
  },
  {
   "cell_type": "markdown",
   "id": "6562734e-61fb-4a46-bd2e-1a44888298af",
   "metadata": {},
   "source": [
    "#### Экранирование"
   ]
  },
  {
   "cell_type": "markdown",
   "id": "55f4205e-9988-4631-b120-657c1432e25d",
   "metadata": {},
   "source": [
    "В регулярках используются метасимволы — символы, имеющие специальное функциональное значение. Иногда это приводит к проблемам. Например, если мы хотим найти все слова, заканчивающиеся на точку, питон воспримет точку как метасимвол со значением «любой символ»:"
   ]
  },
  {
   "cell_type": "code",
   "execution_count": 17,
   "id": "2ce7aa24-8ba1-4762-924e-9096802b13c0",
   "metadata": {},
   "outputs": [
    {
     "data": {
      "text/plain": [
       "[<re.Match object; span=(0, 7), match='Мистер '>,\n",
       " <re.Match object; span=(7, 9), match='и '>,\n",
       " <re.Match object; span=(9, 16), match='миссис '>,\n",
       " <re.Match object; span=(16, 23), match='Дурсль,'>,\n",
       " <re.Match object; span=(24, 31), match='живший '>,\n",
       " <re.Match object; span=(31, 33), match='в '>,\n",
       " <re.Match object; span=(33, 38), match='доме '>,\n",
       " <re.Match object; span=(38, 44), match='номер '>,\n",
       " <re.Match object; span=(44, 51), match='четыре '>,\n",
       " <re.Match object; span=(51, 54), match='по '>]"
      ]
     },
     "execution_count": 17,
     "metadata": {},
     "output_type": "execute_result"
    }
   ],
   "source": [
    "spisok = list(re.finditer(\"[А-ЯЁа-яё]+.\", text))\n",
    "spisok[:10]"
   ]
  },
  {
   "cell_type": "markdown",
   "id": "18ae7565-ff8f-4883-b353-f1f00dafad45",
   "metadata": {},
   "source": [
    "Решением этой проблемы служит специальный механизм, называемый **экранированием**. Метасимволы можно *экранировать*, и тогда они будут восприниматься как обычные символы. Чтобы экранировать символ, нужно поставить перед ним обратную косую черту (бэкслэш) `\\`. Тогда мы найдём только слова с точкой на конце:"
   ]
  },
  {
   "cell_type": "code",
   "execution_count": 18,
   "id": "70097d33-e386-44e6-99d0-453657e11274",
   "metadata": {},
   "outputs": [
    {
     "data": {
      "text/plain": [
       "[<re.Match object; span=(126, 136), match='нормальны.'>,\n",
       " <re.Match object; span=(276, 283), match='ерунду.'>,\n",
       " <re.Match object; span=(353, 359), match='дрели.'>,\n",
       " <re.Match object; span=(434, 438), match='усы.'>,\n",
       " <re.Match object; span=(636, 645), match='соседями.'>,\n",
       " <re.Match object; span=(735, 745), match='рождалось.'>,\n",
       " <re.Match object; span=(856, 865), match='раскроет.'>,\n",
       " <re.Match object; span=(919, 928), match='Поттерах.'>,\n",
       " <re.Match object; span=(1168, 1177), match='возможно.'>,\n",
       " <re.Match object; span=(1258, 1264), match='улице.'>]"
      ]
     },
     "execution_count": 18,
     "metadata": {},
     "output_type": "execute_result"
    }
   ],
   "source": [
    "spisok = list(re.finditer(\"[А-ЯЁа-яё]+\\.\", text))\n",
    "spisok[:10]"
   ]
  },
  {
   "cell_type": "markdown",
   "id": "976e4d87-6c54-4590-bfd1-266e7b98f06e",
   "metadata": {},
   "source": [
    "Если использовать некоторые метасимволы без экранирования, может даже возникнуть ошибка. Например, если без экранирования поискать вопросительные знаки. Ошибка возникает из-за того, что метасимвол `?` используется для поиска 0 или 1 вхождения символа, который находится слева от него (например, `[аеиоу]?`) — а в нашем запросе слева от него ничего нету:"
   ]
  },
  {
   "cell_type": "code",
   "execution_count": 19,
   "id": "b72664c2-e94b-4f94-a380-b497c8abf276",
   "metadata": {},
   "outputs": [
    {
     "ename": "error",
     "evalue": "nothing to repeat at position 0",
     "output_type": "error",
     "traceback": [
      "\u001b[1;31m---------------------------------------------------------------------------\u001b[0m",
      "\u001b[1;31merror\u001b[0m                                     Traceback (most recent call last)",
      "Cell \u001b[1;32mIn[19], line 1\u001b[0m\n\u001b[1;32m----> 1\u001b[0m \u001b[38;5;28mlist\u001b[39m(\u001b[43mre\u001b[49m\u001b[38;5;241;43m.\u001b[39;49m\u001b[43mfinditer\u001b[49m\u001b[43m(\u001b[49m\u001b[38;5;124;43m\"\u001b[39;49m\u001b[38;5;124;43m?\u001b[39;49m\u001b[38;5;124;43m\"\u001b[39;49m\u001b[43m,\u001b[49m\u001b[43m \u001b[49m\u001b[43mtext\u001b[49m\u001b[43m)\u001b[49m)\n",
      "File \u001b[1;32mC:\\Program Files\\Python311\\Lib\\re\\__init__.py:223\u001b[0m, in \u001b[0;36mfinditer\u001b[1;34m(pattern, string, flags)\u001b[0m\n\u001b[0;32m    218\u001b[0m \u001b[38;5;28;01mdef\u001b[39;00m \u001b[38;5;21mfinditer\u001b[39m(pattern, string, flags\u001b[38;5;241m=\u001b[39m\u001b[38;5;241m0\u001b[39m):\n\u001b[0;32m    219\u001b[0m \u001b[38;5;250m    \u001b[39m\u001b[38;5;124;03m\"\"\"Return an iterator over all non-overlapping matches in the\u001b[39;00m\n\u001b[0;32m    220\u001b[0m \u001b[38;5;124;03m    string.  For each match, the iterator returns a Match object.\u001b[39;00m\n\u001b[0;32m    221\u001b[0m \n\u001b[0;32m    222\u001b[0m \u001b[38;5;124;03m    Empty matches are included in the result.\"\"\"\u001b[39;00m\n\u001b[1;32m--> 223\u001b[0m     \u001b[38;5;28;01mreturn\u001b[39;00m \u001b[43m_compile\u001b[49m\u001b[43m(\u001b[49m\u001b[43mpattern\u001b[49m\u001b[43m,\u001b[49m\u001b[43m \u001b[49m\u001b[43mflags\u001b[49m\u001b[43m)\u001b[49m\u001b[38;5;241m.\u001b[39mfinditer(string)\n",
      "File \u001b[1;32mC:\\Program Files\\Python311\\Lib\\re\\__init__.py:294\u001b[0m, in \u001b[0;36m_compile\u001b[1;34m(pattern, flags)\u001b[0m\n\u001b[0;32m    288\u001b[0m     \u001b[38;5;28;01mimport\u001b[39;00m \u001b[38;5;21;01mwarnings\u001b[39;00m\n\u001b[0;32m    289\u001b[0m     warnings\u001b[38;5;241m.\u001b[39mwarn(\u001b[38;5;124m\"\u001b[39m\u001b[38;5;124mThe re.TEMPLATE/re.T flag is deprecated \u001b[39m\u001b[38;5;124m\"\u001b[39m\n\u001b[0;32m    290\u001b[0m               \u001b[38;5;124m\"\u001b[39m\u001b[38;5;124mas it is an undocumented flag \u001b[39m\u001b[38;5;124m\"\u001b[39m\n\u001b[0;32m    291\u001b[0m               \u001b[38;5;124m\"\u001b[39m\u001b[38;5;124mwithout an obvious purpose. \u001b[39m\u001b[38;5;124m\"\u001b[39m\n\u001b[0;32m    292\u001b[0m               \u001b[38;5;124m\"\u001b[39m\u001b[38;5;124mDon\u001b[39m\u001b[38;5;124m'\u001b[39m\u001b[38;5;124mt use it.\u001b[39m\u001b[38;5;124m\"\u001b[39m,\n\u001b[0;32m    293\u001b[0m               \u001b[38;5;167;01mDeprecationWarning\u001b[39;00m)\n\u001b[1;32m--> 294\u001b[0m p \u001b[38;5;241m=\u001b[39m \u001b[43m_compiler\u001b[49m\u001b[38;5;241;43m.\u001b[39;49m\u001b[43mcompile\u001b[49m\u001b[43m(\u001b[49m\u001b[43mpattern\u001b[49m\u001b[43m,\u001b[49m\u001b[43m \u001b[49m\u001b[43mflags\u001b[49m\u001b[43m)\u001b[49m\n\u001b[0;32m    295\u001b[0m \u001b[38;5;28;01mif\u001b[39;00m \u001b[38;5;129;01mnot\u001b[39;00m (flags \u001b[38;5;241m&\u001b[39m DEBUG):\n\u001b[0;32m    296\u001b[0m     \u001b[38;5;28;01mif\u001b[39;00m \u001b[38;5;28mlen\u001b[39m(_cache) \u001b[38;5;241m>\u001b[39m\u001b[38;5;241m=\u001b[39m _MAXCACHE:\n\u001b[0;32m    297\u001b[0m         \u001b[38;5;66;03m# Drop the oldest item\u001b[39;00m\n",
      "File \u001b[1;32mC:\\Program Files\\Python311\\Lib\\re\\_compiler.py:743\u001b[0m, in \u001b[0;36mcompile\u001b[1;34m(p, flags)\u001b[0m\n\u001b[0;32m    741\u001b[0m \u001b[38;5;28;01mif\u001b[39;00m isstring(p):\n\u001b[0;32m    742\u001b[0m     pattern \u001b[38;5;241m=\u001b[39m p\n\u001b[1;32m--> 743\u001b[0m     p \u001b[38;5;241m=\u001b[39m \u001b[43m_parser\u001b[49m\u001b[38;5;241;43m.\u001b[39;49m\u001b[43mparse\u001b[49m\u001b[43m(\u001b[49m\u001b[43mp\u001b[49m\u001b[43m,\u001b[49m\u001b[43m \u001b[49m\u001b[43mflags\u001b[49m\u001b[43m)\u001b[49m\n\u001b[0;32m    744\u001b[0m \u001b[38;5;28;01melse\u001b[39;00m:\n\u001b[0;32m    745\u001b[0m     pattern \u001b[38;5;241m=\u001b[39m \u001b[38;5;28;01mNone\u001b[39;00m\n",
      "File \u001b[1;32mC:\\Program Files\\Python311\\Lib\\re\\_parser.py:980\u001b[0m, in \u001b[0;36mparse\u001b[1;34m(str, flags, state)\u001b[0m\n\u001b[0;32m    977\u001b[0m state\u001b[38;5;241m.\u001b[39mflags \u001b[38;5;241m=\u001b[39m flags\n\u001b[0;32m    978\u001b[0m state\u001b[38;5;241m.\u001b[39mstr \u001b[38;5;241m=\u001b[39m \u001b[38;5;28mstr\u001b[39m\n\u001b[1;32m--> 980\u001b[0m p \u001b[38;5;241m=\u001b[39m \u001b[43m_parse_sub\u001b[49m\u001b[43m(\u001b[49m\u001b[43msource\u001b[49m\u001b[43m,\u001b[49m\u001b[43m \u001b[49m\u001b[43mstate\u001b[49m\u001b[43m,\u001b[49m\u001b[43m \u001b[49m\u001b[43mflags\u001b[49m\u001b[43m \u001b[49m\u001b[38;5;241;43m&\u001b[39;49m\u001b[43m \u001b[49m\u001b[43mSRE_FLAG_VERBOSE\u001b[49m\u001b[43m,\u001b[49m\u001b[43m \u001b[49m\u001b[38;5;241;43m0\u001b[39;49m\u001b[43m)\u001b[49m\n\u001b[0;32m    981\u001b[0m p\u001b[38;5;241m.\u001b[39mstate\u001b[38;5;241m.\u001b[39mflags \u001b[38;5;241m=\u001b[39m fix_flags(\u001b[38;5;28mstr\u001b[39m, p\u001b[38;5;241m.\u001b[39mstate\u001b[38;5;241m.\u001b[39mflags)\n\u001b[0;32m    983\u001b[0m \u001b[38;5;28;01mif\u001b[39;00m source\u001b[38;5;241m.\u001b[39mnext \u001b[38;5;129;01mis\u001b[39;00m \u001b[38;5;129;01mnot\u001b[39;00m \u001b[38;5;28;01mNone\u001b[39;00m:\n",
      "File \u001b[1;32mC:\\Program Files\\Python311\\Lib\\re\\_parser.py:455\u001b[0m, in \u001b[0;36m_parse_sub\u001b[1;34m(source, state, verbose, nested)\u001b[0m\n\u001b[0;32m    453\u001b[0m start \u001b[38;5;241m=\u001b[39m source\u001b[38;5;241m.\u001b[39mtell()\n\u001b[0;32m    454\u001b[0m \u001b[38;5;28;01mwhile\u001b[39;00m \u001b[38;5;28;01mTrue\u001b[39;00m:\n\u001b[1;32m--> 455\u001b[0m     itemsappend(\u001b[43m_parse\u001b[49m\u001b[43m(\u001b[49m\u001b[43msource\u001b[49m\u001b[43m,\u001b[49m\u001b[43m \u001b[49m\u001b[43mstate\u001b[49m\u001b[43m,\u001b[49m\u001b[43m \u001b[49m\u001b[43mverbose\u001b[49m\u001b[43m,\u001b[49m\u001b[43m \u001b[49m\u001b[43mnested\u001b[49m\u001b[43m \u001b[49m\u001b[38;5;241;43m+\u001b[39;49m\u001b[43m \u001b[49m\u001b[38;5;241;43m1\u001b[39;49m\u001b[43m,\u001b[49m\n\u001b[0;32m    456\u001b[0m \u001b[43m                       \u001b[49m\u001b[38;5;129;43;01mnot\u001b[39;49;00m\u001b[43m \u001b[49m\u001b[43mnested\u001b[49m\u001b[43m \u001b[49m\u001b[38;5;129;43;01mand\u001b[39;49;00m\u001b[43m \u001b[49m\u001b[38;5;129;43;01mnot\u001b[39;49;00m\u001b[43m \u001b[49m\u001b[43mitems\u001b[49m\u001b[43m)\u001b[49m)\n\u001b[0;32m    457\u001b[0m     \u001b[38;5;28;01mif\u001b[39;00m \u001b[38;5;129;01mnot\u001b[39;00m sourcematch(\u001b[38;5;124m\"\u001b[39m\u001b[38;5;124m|\u001b[39m\u001b[38;5;124m\"\u001b[39m):\n\u001b[0;32m    458\u001b[0m         \u001b[38;5;28;01mbreak\u001b[39;00m\n",
      "File \u001b[1;32mC:\\Program Files\\Python311\\Lib\\re\\_parser.py:682\u001b[0m, in \u001b[0;36m_parse\u001b[1;34m(source, state, verbose, nested, first)\u001b[0m\n\u001b[0;32m    680\u001b[0m     item \u001b[38;5;241m=\u001b[39m \u001b[38;5;28;01mNone\u001b[39;00m\n\u001b[0;32m    681\u001b[0m \u001b[38;5;28;01mif\u001b[39;00m \u001b[38;5;129;01mnot\u001b[39;00m item \u001b[38;5;129;01mor\u001b[39;00m item[\u001b[38;5;241m0\u001b[39m][\u001b[38;5;241m0\u001b[39m] \u001b[38;5;129;01mis\u001b[39;00m AT:\n\u001b[1;32m--> 682\u001b[0m     \u001b[38;5;28;01mraise\u001b[39;00m source\u001b[38;5;241m.\u001b[39merror(\u001b[38;5;124m\"\u001b[39m\u001b[38;5;124mnothing to repeat\u001b[39m\u001b[38;5;124m\"\u001b[39m,\n\u001b[0;32m    683\u001b[0m                        source\u001b[38;5;241m.\u001b[39mtell() \u001b[38;5;241m-\u001b[39m here \u001b[38;5;241m+\u001b[39m \u001b[38;5;28mlen\u001b[39m(this))\n\u001b[0;32m    684\u001b[0m \u001b[38;5;28;01mif\u001b[39;00m item[\u001b[38;5;241m0\u001b[39m][\u001b[38;5;241m0\u001b[39m] \u001b[38;5;129;01min\u001b[39;00m _REPEATCODES:\n\u001b[0;32m    685\u001b[0m     \u001b[38;5;28;01mraise\u001b[39;00m source\u001b[38;5;241m.\u001b[39merror(\u001b[38;5;124m\"\u001b[39m\u001b[38;5;124mmultiple repeat\u001b[39m\u001b[38;5;124m\"\u001b[39m,\n\u001b[0;32m    686\u001b[0m                        source\u001b[38;5;241m.\u001b[39mtell() \u001b[38;5;241m-\u001b[39m here \u001b[38;5;241m+\u001b[39m \u001b[38;5;28mlen\u001b[39m(this))\n",
      "\u001b[1;31merror\u001b[0m: nothing to repeat at position 0"
     ]
    }
   ],
   "source": [
    "list(re.finditer(\"?\", text))"
   ]
  },
  {
   "cell_type": "markdown",
   "id": "0f00ffe7-3279-497a-804d-d8b9b0985dce",
   "metadata": {},
   "source": [
    "Исправим с помощью экранирования:"
   ]
  },
  {
   "cell_type": "code",
   "execution_count": 20,
   "id": "529bb63a-62a5-4f25-b9e5-d3db4a290a71",
   "metadata": {},
   "outputs": [
    {
     "data": {
      "text/plain": [
       "[<re.Match object; span=(2573, 2574), match='?'>,\n",
       " <re.Match object; span=(7453, 7454), match='?'>,\n",
       " <re.Match object; span=(8055, 8056), match='?'>,\n",
       " <re.Match object; span=(8539, 8540), match='?'>,\n",
       " <re.Match object; span=(8557, 8558), match='?'>,\n",
       " <re.Match object; span=(8593, 8594), match='?'>,\n",
       " <re.Match object; span=(8836, 8837), match='?'>,\n",
       " <re.Match object; span=(9011, 9012), match='?'>,\n",
       " <re.Match object; span=(9159, 9160), match='?'>,\n",
       " <re.Match object; span=(9551, 9552), match='?'>]"
      ]
     },
     "execution_count": 20,
     "metadata": {},
     "output_type": "execute_result"
    }
   ],
   "source": [
    "spisok = list(re.finditer(\"\\?\", text))\n",
    "spisok[:10]"
   ]
  },
  {
   "cell_type": "markdown",
   "id": "acd154a9-23a2-48dc-aca4-64c48a3aad47",
   "metadata": {},
   "source": [
    "#### Атрибуты объекта *match*"
   ]
  },
  {
   "cell_type": "markdown",
   "id": "6312cf7c-f065-49eb-9c65-ac71a74d284a",
   "metadata": {},
   "source": [
    "Научимся работать с объектом типа *match*. Как вынуть из него найденную подстроку? Или те самые индексы начала и конца подстроки в тексте? Если попробовать просто конвертировать этот объект в тип `str`, получится не очень:"
   ]
  },
  {
   "cell_type": "code",
   "execution_count": 21,
   "id": "7bf6abf6-e870-43ab-bdd1-b68f765c79e8",
   "metadata": {},
   "outputs": [
    {
     "name": "stdout",
     "output_type": "stream",
     "text": [
      "<re.Match object; span=(919, 927), match='Поттерах'>\n",
      "<class 're.Match'>\n",
      "<re.Match object; span=(919, 927), match='Поттерах'>\n"
     ]
    }
   ],
   "source": [
    "result = re.search(\"Поттер[а-яё]+\", text)\n",
    "\n",
    "print(result)\n",
    "print(type(result))\n",
    "\n",
    "print(str(result))"
   ]
  },
  {
   "cell_type": "markdown",
   "id": "2e7bce39-9b83-4ac0-afae-75981ad810c2",
   "metadata": {},
   "source": [
    "На самом деле для этого есть особые методы:\n",
    "- `.group()` — найденная подстрока (мы пока что не понимаем, почему она называется «group», но наверное поймём чуть позже)\n",
    "- `.span()` — кортеж с двумя индексами: началом и концом подстроки\n",
    "- `.start()` — индекс-начало подстроки\n",
    "- `.end()` — индекс-конец подстроки"
   ]
  },
  {
   "cell_type": "code",
   "execution_count": 22,
   "id": "ddc42629-17b9-4406-819a-f69b1edd21c5",
   "metadata": {},
   "outputs": [
    {
     "name": "stdout",
     "output_type": "stream",
     "text": [
      "Поттерах\n",
      "<class 'str'>\n"
     ]
    }
   ],
   "source": [
    "result_stroka = result.group()\n",
    "print(result_stroka)\n",
    "print(type(result_stroka))"
   ]
  },
  {
   "cell_type": "code",
   "execution_count": 23,
   "id": "807e1f07-d257-43ed-8ffc-2b6b0a2d8d5d",
   "metadata": {},
   "outputs": [
    {
     "name": "stdout",
     "output_type": "stream",
     "text": [
      "(919, 927)\n",
      "<class 'tuple'>\n"
     ]
    }
   ],
   "source": [
    "result_span = result.span()\n",
    "print(result_span)\n",
    "print(type(result_span))"
   ]
  },
  {
   "cell_type": "code",
   "execution_count": 24,
   "id": "6468549c-bc5d-4041-a4be-19f611ca1808",
   "metadata": {},
   "outputs": [
    {
     "name": "stdout",
     "output_type": "stream",
     "text": [
      "919\n",
      "927\n"
     ]
    }
   ],
   "source": [
    "print(result.start())\n",
    "print(result.end())"
   ]
  },
  {
   "cell_type": "markdown",
   "id": "1d22f89d-d61e-46ab-8a47-e755c2375f4d",
   "metadata": {},
   "source": [
    "#### Функции `re.findall()`, `re.sub()` и `re.split()`"
   ]
  },
  {
   "cell_type": "markdown",
   "id": "831557f7-b12c-472e-8c77-f25666af4aa2",
   "metadata": {},
   "source": [
    "Есть ещё несколько функций, которые помогут нам более эффективно работать с регулярками. К примеру, функция **`re.findall()`** похожа на `re.finditer()`, но возвращает сразу список со строками. Зачастую это легче, чем получать из `re.finditer()` итератор и из каждого элемента извлекать `.group()`. Но так, к сожалению, мы не видим индексы вхождений:"
   ]
  },
  {
   "cell_type": "code",
   "execution_count": 25,
   "id": "7a31cf66-4fc3-4d8b-89eb-6110540104ef",
   "metadata": {},
   "outputs": [
    {
     "data": {
      "text/plain": [
       "['Поттерах',\n",
       " 'Поттеры',\n",
       " 'Поттеров',\n",
       " 'Поттеров',\n",
       " 'Поттеры',\n",
       " 'Поттерах',\n",
       " 'Поттерам',\n",
       " 'Поттеры',\n",
       " 'Поттеры',\n",
       " 'Поттеров',\n",
       " 'Поттеры',\n",
       " 'Поттеров',\n",
       " 'Поттера',\n",
       " 'Поттера',\n",
       " 'Поттера']"
      ]
     },
     "execution_count": 25,
     "metadata": {},
     "output_type": "execute_result"
    }
   ],
   "source": [
    "re.findall(\"Поттер[а-яё]+\", text)"
   ]
  },
  {
   "cell_type": "markdown",
   "id": "69ec6bea-3c15-4d9b-b42f-d6ae9a960656",
   "metadata": {},
   "source": [
    "А ещё есть уже знакомые нам функции в новом обличье. Например, мы знаем метод `str.replace()`, который помогал заменять одни подстроки на другие, а теперь ещё познакомимся с функцией **`re.sub()`** (от англ. *substitute* ‘заменить’). Она делает то же самое, что `str.replace()`, но в ней можно использовать регулярки. С помощью неё можно, например, вычеркнуть Дурслей из истории и заменить все вхождения этой фамилии на нижнее подчёркивание. В функцию сначала подаётся строка, которую надо найти, потом строка-замена, и в конце — строка, в которой надо искать (для краткости я вывожу на экран только первые 1000 символов):"
   ]
  },
  {
   "cell_type": "code",
   "execution_count": 26,
   "id": "126c07e3-afbe-45ee-b15e-e7a8a018e227",
   "metadata": {},
   "outputs": [
    {
     "name": "stdout",
     "output_type": "stream",
     "text": [
      "Мистер и миссис ____, живший в доме номер четыре по Бирючинной улице, с гордостью говорили, что они, слава богу, совершенно нормальны. Они были последними людьми, от которых можно было ожидать чего-то странного или таинственного, потому что они просто не держались за такую ерунду.\n",
      "\n",
      "Мистер ____ был директором фирмы «Граннингс», которая производила дрели. Это был крупный, мускулистый мужчина, почти без шеи имевший очень большие усы. Миссис ____ была худой блондинкой с почти вдвое более длиной шеей, чем обычно, и это было очень кстати, поскольку она проводила много времени, перегибаясь через садовые изгороди и подглядывая за соседями. У ____ был маленький сын по имени Дадли, и, по их мнению, лучшего мальчика никогда не рождалось.\n",
      "\n",
      "У ____ было все, что они хотели, но у них также была тайна, и больше всего они боялись, что кто-нибудь ее раскроет. Они думали, что не вынесут, если кто-нибудь узнает о Поттерах. Миссис Поттер была сестрой миссис ____, но они не встречались уже несколько лет; на\n"
     ]
    }
   ],
   "source": [
    "print(re.sub(\"Дурсл[а-яё]+\", \"____\", text)[:1000])"
   ]
  },
  {
   "cell_type": "markdown",
   "id": "eb328244-c5d7-4616-b6a2-45f33214d58a",
   "metadata": {},
   "source": [
    "Ещё один улучшенный вариант известного нам инструмента — функция **`re.split()`**. Это то же самое, что `str.split()`, но в ней можно использовать регулярки. К примеру, разделим текст по знакам препинания: запятым, точкам и так далее:"
   ]
  },
  {
   "cell_type": "code",
   "execution_count": 27,
   "id": "6b34d95c-eefb-4b4c-9055-c14d4d3f4a38",
   "metadata": {
    "scrolled": true
   },
   "outputs": [
    {
     "data": {
      "text/plain": [
       "['Мистер и миссис Дурсль',\n",
       " ' живший в доме номер четыре по Бирючинной улице',\n",
       " ' с гордостью говорили',\n",
       " ' что они',\n",
       " ' слава богу',\n",
       " ' совершенно нормальны',\n",
       " ' Они были последними людьми',\n",
       " ' от которых можно было ожидать чего-то странного или таинственного',\n",
       " ' потому что они просто не держались за такую ерунду',\n",
       " 'Мистер Дурсль был директором фирмы «Граннингс»',\n",
       " ' которая производила дрели',\n",
       " ' Это был крупный',\n",
       " ' мускулистый мужчина',\n",
       " ' почти без шеи имевший очень большие усы',\n",
       " ' Миссис Дурсль была худой блондинкой с почти вдвое более длиной шеей',\n",
       " ' чем обычно',\n",
       " ' и это было очень кстати',\n",
       " ' поскольку она проводила много времени',\n",
       " ' перегибаясь через садовые изгороди и подглядывая за соседями',\n",
       " ' У Дурслей был маленький сын по имени Дадли',\n",
       " ' и',\n",
       " ' по их мнению',\n",
       " ' лучшего мальчика никогда не рождалось',\n",
       " 'У Дурслей было все',\n",
       " ' что они хотели',\n",
       " ' но у них также была тайна',\n",
       " ' и больше всего они боялись',\n",
       " ' что кто-нибудь ее раскроет',\n",
       " ' Они думали',\n",
       " ' что не вынесут']"
      ]
     },
     "execution_count": 27,
     "metadata": {},
     "output_type": "execute_result"
    }
   ],
   "source": [
    "re.split(\"[,\\.\\!\\?\\n]+\", text)[:30]"
   ]
  },
  {
   "cell_type": "markdown",
   "id": "c01c4654-6623-407f-b37d-81d70e76f9e4",
   "metadata": {},
   "source": [
    "#### Практические задачи"
   ]
  },
  {
   "cell_type": "markdown",
   "id": "1c927ac9-b241-4e38-9e46-f64c8d3c644c",
   "metadata": {},
   "source": [
    "##### Задача 11.5"
   ]
  },
  {
   "cell_type": "markdown",
   "id": "6a7d8444-6005-45bf-9051-de4d6d38d899",
   "metadata": {},
   "source": [
    "Как найти в `text` все слова *и выражения*, обёрнутые кавычками `«»` (например, `«Фольксваген»`, `«Сами-Знаете-Кто»`, `«Всемирная сеть»`)?"
   ]
  },
  {
   "cell_type": "code",
   "execution_count": null,
   "id": "c85e8551-fa56-44fe-a91a-06b127b825f3",
   "metadata": {},
   "outputs": [],
   "source": [
    "# ваше решение"
   ]
  },
  {
   "cell_type": "markdown",
   "id": "b985d376-e00b-4678-9c0a-4a9f76648138",
   "metadata": {},
   "source": [
    "##### Задача 11.6"
   ]
  },
  {
   "cell_type": "markdown",
   "id": "c2b8fe62-dda0-4b53-b33d-6e19bf4bb01c",
   "metadata": {},
   "source": [
    "Сколько в `text` форм глагола «быть» (включая формы прошедшего времени «была», «были», «было», «был», формы будущего времени «буду», «будем», «будешь» и т.д. и императив «будь»)? Подсчитайте количество и выведите все их на экран.\n",
    "\n",
    "(Авторский ответ: **96**.)\n",
    "\n",
    "*Заметьте, что в выдаче наверняка будет несколько ошибочных результатов — например, слово «будто». Мы не можем отсеять их регулярками (точнее, можем, но это сложно), но потом изучим другие методы для более качественного поиска.*"
   ]
  },
  {
   "cell_type": "code",
   "execution_count": null,
   "id": "f1c2e5de-6aa6-4ffb-8a57-d0f62dccab20",
   "metadata": {
    "scrolled": true
   },
   "outputs": [],
   "source": [
    "# ваше решение"
   ]
  },
  {
   "cell_type": "markdown",
   "id": "f8875415-3ede-4e60-87c6-f048c2a5e3a9",
   "metadata": {},
   "source": [
    "##### Задача 11.7"
   ]
  },
  {
   "cell_type": "markdown",
   "id": "e1f24ddb-2352-4193-ad03-91f4c4a0c011",
   "metadata": {},
   "source": [
    "Сделаем учебный материал для изучающих русский язык, где им нужно будет самим поставить глагол в нужную форму в зависимости от контекста. Для этого замените в `text` все формы глагола «быть» на форму «БЫТЬ» капсом в скобках:\n",
    "- `было` → `(БЫТЬ)`\n",
    "- `буду` → `(БЫТЬ)`\n",
    "- …\n",
    "\n",
    "Выведите на экран первые 1000 символов получившегося изменённого текста."
   ]
  },
  {
   "cell_type": "code",
   "execution_count": null,
   "id": "bd5e1368-27ed-417d-9526-26f7c597c783",
   "metadata": {},
   "outputs": [],
   "source": [
    "# ваше решение"
   ]
  },
  {
   "cell_type": "markdown",
   "id": "8e86f5e8-de57-4b56-9d76-619470a9f560",
   "metadata": {},
   "source": [
    "##### Задача 11.8"
   ]
  },
  {
   "cell_type": "markdown",
   "id": "939a7a03-9f6d-45aa-97ce-ed15540bb48b",
   "metadata": {},
   "source": [
    "В японском языке очень простая слоговая структура: **(C)V(n)**. Слог может состоять или только из гласного (V), или из согласного и гласного (CV), а ещё в конце любого слога может быть согласный /n/ (остальные согласные не могут быть в конце). К примеру, этим правилам следуют японские слова *a-ri-ga-to* ‘спасибо’, *Nin-ten-do* ‘Нинтендо’, *su-mi-ma-sen* ‘извините’, *fu-ji* ‘Фудзи’. Но им не следуют всякие не-японские слова, например, английские *hello*, *goat*, *spray*. (Это несколько упрощённая картина японской фонологии — в ней нет удвоенных согласных, дифтонгов и ещё кое-чего, но мы ограничимся ей для простоты.)\n",
    "\n",
    "Напишите функцию `can_be_japanese()`, которая будет принимать на вход слово и определять, может ли оно (в теории) быть японским словом — судя по его слоговой структуре. Эта функция должна выдать `True` на все японские примеры выше и `False` на все не-японские примеры выше. В рамках задачи будем считать согласными и гласными символы стандартной латиницы (которых, конечно, недостаточно для записи настоящего японского). Они уже даны вам в виде строк ниже."
   ]
  },
  {
   "cell_type": "code",
   "execution_count": null,
   "id": "e2ee1b45-19c5-47a8-8b83-5ff919882064",
   "metadata": {},
   "outputs": [],
   "source": [
    "consonants = \"bcdfghjklmnprstqvwxyz\"\n",
    "vowels = \"aeiou\"\n",
    "\n",
    "# ваше решение\n",
    "    \n",
    "\n",
    "\n",
    "################################\n",
    "\n",
    "for stroka in (\"arigato\", \"nintendo\", \"sumamisen\", \"fuji\", \"hello\", \"goat\", \"spray\"):\n",
    "    print(stroka)\n",
    "    print(can_be_japanese(stroka))"
   ]
  },
  {
   "cell_type": "markdown",
   "id": "61336766-1c4d-4bdd-aafe-2cc91cf72f5b",
   "metadata": {},
   "source": [
    "##### Задача 11.9"
   ]
  },
  {
   "cell_type": "markdown",
   "id": "87a97c60-eaae-48c8-a89b-289758f5855c",
   "metadata": {},
   "source": [
    "Напишите функцию `find_dates()`, которая будет:\n",
    "- принимать на вход текст (типа `str`)\n",
    "- искать в тексте все подстроки типа `\"DD-MM-YYYY\"`, которые могут быть датами формата `день-месяц-год`\n",
    "    - обратите внимание: функция должна находить любые годы нашей эры (от 1 года н. э. до очень больших чисел из будущего, типа 99999 год н. э.)\n",
    "    - нужно учитывать, что не все последовательности чисел формата `\"XX-XX-XXXX\"` могут быть настоящими датами (см. пример с IP-адресом ниже)\n",
    "    - однозначные дни и номера месяцев могут записываться с нулём в начале, а могут без (март может записываться как `03` или как `3`)\n",
    "- возвращать список с этими датами (в виде строк)"
   ]
  },
  {
   "cell_type": "code",
   "execution_count": null,
   "id": "b47f0496-70c1-40a9-8105-1517e1ead60f",
   "metadata": {},
   "outputs": [],
   "source": [
    "text = \"\"\"Как говорят, 10.06.754 начал править Аль-Мансур, второй аббасидский халиф. \n",
    "5.3.1953 умер Сталин. 10.02.2025 проходит наша пара. \n",
    "А вот 64.64.64 — это часть моего IPv4-адреса. А 96.98 — это цена доллара.\"\"\"\n",
    "print(text)"
   ]
  },
  {
   "cell_type": "markdown",
   "id": "b83e1fae-708e-4522-a84d-fe8c17a75ca2",
   "metadata": {},
   "source": [
    "Ожидаемый результат работы функции:\n",
    "```\n",
    "> find_dates(text)\n",
    "[\"10.06.754\", \"5.3.1953\", \"10.02.2025\"]\n",
    "```"
   ]
  },
  {
   "cell_type": "code",
   "execution_count": null,
   "id": "3e0406de-4723-4045-98a6-20b393ea7cdd",
   "metadata": {},
   "outputs": [],
   "source": [
    "# ваше решение\n",
    "\n",
    "\n",
    "\n",
    "################################\n",
    "\n",
    "print(find_dates(text))"
   ]
  }
 ],
 "metadata": {
  "kernelspec": {
   "display_name": "Python 3 (ipykernel)",
   "language": "python",
   "name": "python3"
  },
  "language_info": {
   "codemirror_mode": {
    "name": "ipython",
    "version": 3
   },
   "file_extension": ".py",
   "mimetype": "text/x-python",
   "name": "python",
   "nbconvert_exporter": "python",
   "pygments_lexer": "ipython3",
   "version": "3.11.4"
  }
 },
 "nbformat": 4,
 "nbformat_minor": 5
}
