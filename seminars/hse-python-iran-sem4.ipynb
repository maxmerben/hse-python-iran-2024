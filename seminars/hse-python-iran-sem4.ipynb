{
 "cells": [
  {
   "cell_type": "markdown",
   "id": "cea17432-ea86-4cb1-bed1-bdd795b70aa0",
   "metadata": {},
   "source": [
    "# Семинар 4"
   ]
  },
  {
   "cell_type": "markdown",
   "id": "df19d5c1-5086-4f1f-84e7-39fc0857388d",
   "metadata": {},
   "source": [
    "## Списки"
   ]
  },
  {
   "cell_type": "markdown",
   "id": "3a86663b-b0f1-42a9-932f-aac5c6546add",
   "metadata": {},
   "source": [
    "**Списки** — новый для нас тип данных. Список — это такой объект, в котором можно хранить другие объекты. Например, чтобы сохранить в списке последовательность из числа $2$, числа $0.5$ и строки `\"редиска\"`, нужно записать их через запятую, а до и после поставить квадратные скобки:\n",
    "\n",
    "```\n",
    "[2, 0.5, \"редиска\"]\n",
    "```"
   ]
  },
  {
   "cell_type": "markdown",
   "id": "96b584b1-c788-4999-93b6-7d5ed83e8ce3",
   "metadata": {},
   "source": [
    "Списки во многом похожи на строки, с которыми вы уже знакомы. И тот, и другой тип данных — **итерируемые**, то есть по ним можно итерировать, пройтись по элементу с первого до последнего. Они состоят из более мелких элементов, расположенных в определённом порядке. Однако если в строке элементами являются отдельные символы (тоже строки типа `str`, но размером в 1 символ), то элементами списка могут быть любые объекты: числа разных типов (`int`, `float`), строки (`str`), логические выражения (`bool`) и многое другое, чего мы ещё не знаем. Заметьте, что в питоне объекты разных типов могут сосуществовать внутри одного списка (в других языках программирования бывает иначе). Все элементы списка упорядочены (то есть порядок объектов важен при создании списка). В питоне тип «список» называется `list`.\n",
    "\n",
    "Во многом списки — это обычные объекты, такие же, как строки и числа. Например, список можно записать в переменную и вывести на экран:"
   ]
  },
  {
   "cell_type": "code",
   "execution_count": 1,
   "id": "7468d1cc-7a2f-47e5-8e6a-f1eae09c1a70",
   "metadata": {},
   "outputs": [
    {
     "name": "stdout",
     "output_type": "stream",
     "text": [
      "Список: ['Persian', 'Polish', 'Portuguese', 'Punjabi']\n",
      "Тип: <class 'list'>\n"
     ]
    }
   ],
   "source": [
    "languages = [\"Persian\", \"Polish\", \"Portuguese\", \"Punjabi\"]\n",
    "print(\"Список:\", languages)\n",
    "print(\"Тип:\", type(languages))"
   ]
  },
  {
   "cell_type": "markdown",
   "id": "dd837d87-727a-4d25-a951-f8844feb76fd",
   "metadata": {},
   "source": [
    "Заметьте, что объекты, которые подаются внутрь списка, — это обычные объекты. Их можно создать с помощью функций и выражений, но помните, что при создании объекта само выражение не сохраняется. Питон сразу вычисляет значение выражения и хранит именно его:"
   ]
  },
  {
   "cell_type": "code",
   "execution_count": 2,
   "id": "239dc4e9-c5ec-42ca-9c1a-b4c3254664e4",
   "metadata": {},
   "outputs": [
    {
     "name": "stdout",
     "output_type": "stream",
     "text": [
      "87.0\n"
     ]
    }
   ],
   "source": [
    "x = float(6 + 9**2)\n",
    "print(x)        # в переменной хранится значение числа, а не математическое выражение, из которого оно вычислено"
   ]
  },
  {
   "cell_type": "code",
   "execution_count": 3,
   "id": "abbeb3ac-91c6-44d9-aac6-5a0502339af1",
   "metadata": {},
   "outputs": [
    {
     "name": "stdout",
     "output_type": "stream",
     "text": [
      "[87.0, 50, True]\n"
     ]
    }
   ],
   "source": [
    "spisok = [float(6 + 9**2), len(\"bahār\") * 10, \"боб\" in \"абоба\"]\n",
    "print(spisok)   # элементы списка — значения, а не выражения, из которых они вычислены"
   ]
  },
  {
   "cell_type": "markdown",
   "id": "f08a6b6b-f85b-4afd-adc9-bea768c389ef",
   "metadata": {},
   "source": [
    "Как и в случае со строками, объекты внутри списка можно «доставать» с помощью индексов (и срезов):"
   ]
  },
  {
   "cell_type": "code",
   "execution_count": 4,
   "id": "deeb13b1-4189-41cc-9262-a0d8f94557a3",
   "metadata": {},
   "outputs": [
    {
     "name": "stdout",
     "output_type": "stream",
     "text": [
      "Persian\n",
      "Portuguese\n",
      "['Portuguese', 'Punjabi']\n"
     ]
    }
   ],
   "source": [
    "print(languages[0])     # элемент с индексом 0\n",
    "print(languages[-2])    # второй элемент с конца\n",
    "print(languages[2:4])   # от второго (вкл.) до четвёртого (невкл.)"
   ]
  },
  {
   "cell_type": "markdown",
   "id": "12571661-c3b2-4fbf-9835-3c173b9cbaef",
   "metadata": {},
   "source": [
    "На этом сходства со строками не заканчиваются. Мы так же можем узнать длину (количество объектов) с помощью функции `len()` или узнать, входит ли объект в список, с помощью оператора `in`:"
   ]
  },
  {
   "cell_type": "code",
   "execution_count": 5,
   "id": "f517f114-d9f6-45c3-9ac5-208754fff688",
   "metadata": {},
   "outputs": [
    {
     "data": {
      "text/plain": [
       "4"
      ]
     },
     "execution_count": 5,
     "metadata": {},
     "output_type": "execute_result"
    }
   ],
   "source": [
    "len(languages)"
   ]
  },
  {
   "cell_type": "code",
   "execution_count": 6,
   "id": "f6ae181a-6d07-4034-b23c-c30ea16c225d",
   "metadata": {},
   "outputs": [
    {
     "name": "stdout",
     "output_type": "stream",
     "text": [
      "True\n",
      "False\n"
     ]
    }
   ],
   "source": [
    "print(\"Portuguese\" in languages)\n",
    "print(\"Pashto\" in languages)"
   ]
  },
  {
   "cell_type": "markdown",
   "id": "23f1dbfe-b960-4dfb-a208-ab2ef211ad11",
   "metadata": {},
   "source": [
    "А ещё можно использовать оператор `+`, чтобы «сложить» два списка, объединив их содержимое. Заметьте, что содержимое соединяется в том порядке, в котором списки подаются оператору `+` (не перемешивается и не сортируется):"
   ]
  },
  {
   "cell_type": "code",
   "execution_count": 7,
   "id": "5d6529c8-6f05-463b-a901-a7ff6df997a1",
   "metadata": {},
   "outputs": [
    {
     "name": "stdout",
     "output_type": "stream",
     "text": [
      "['Persian', 'Polish', 'Portuguese', 'Punjabi', 'Aragonese', 'Cherokee', 'Ossetic']\n"
     ]
    }
   ],
   "source": [
    "more_languages = languages + [\"Aragonese\", \"Cherokee\", \"Ossetic\"]\n",
    "print(more_languages)"
   ]
  },
  {
   "cell_type": "code",
   "execution_count": 8,
   "id": "0d11d24a-0692-4315-b6a2-51754d07b538",
   "metadata": {},
   "outputs": [
    {
     "name": "stdout",
     "output_type": "stream",
     "text": [
      "[4, 5, 6, 1, 'zwei', 3]\n"
     ]
    }
   ],
   "source": [
    "print([4, 5, 6] + [1, \"zwei\", 3])"
   ]
  },
  {
   "cell_type": "markdown",
   "id": "c9d1a30c-bc53-4e8f-be73-a97cf976afd5",
   "metadata": {},
   "source": [
    "### Списки в списках"
   ]
  },
  {
   "cell_type": "markdown",
   "id": "4be5d2e2-38b6-40ea-a58e-179ea26a0b23",
   "metadata": {},
   "source": [
    "Однако у списков есть и ключевое отличие от строк. Списки **рекурсивны**: один список может содержать другой список. Например, так:"
   ]
  },
  {
   "cell_type": "code",
   "execution_count": 9,
   "id": "72d85435-d57c-4430-8e8c-cd7dfedcfd0d",
   "metadata": {},
   "outputs": [
    {
     "name": "stdout",
     "output_type": "stream",
     "text": [
      "[['А', 'Б', 'В', 'Г', 'Д'], ['A', 'B', 'C']]\n"
     ]
    }
   ],
   "source": [
    "spiski_v_spiske = [[\"А\", \"Б\", \"В\", \"Г\", \"Д\"], [\"A\", \"B\", \"C\"]]\n",
    "print(spiski_v_spiske)"
   ]
  },
  {
   "cell_type": "markdown",
   "id": "313c9591-7716-4226-bba4-9802268fb5fa",
   "metadata": {},
   "source": [
    "Обратите внимание, что положить два списка в один — не то же самое, что объединить их! Если мы применим к внутренним спискам из примера выше оператор `+`, результат вывода на экран будет выглядеть иначе:"
   ]
  },
  {
   "cell_type": "code",
   "execution_count": 10,
   "id": "e19b4c5f-810b-4083-8446-40c443b0ae05",
   "metadata": {},
   "outputs": [
    {
     "name": "stdout",
     "output_type": "stream",
     "text": [
      "['А', 'Б', 'В', 'Г', 'Д', 'A', 'B', 'C']\n"
     ]
    }
   ],
   "source": [
    "spisok_plus = [\"А\", \"Б\", \"В\", \"Г\", \"Д\"] + [\"A\", \"B\", \"C\"]\n",
    "print(spisok_plus)"
   ]
  },
  {
   "cell_type": "markdown",
   "id": "09591507-917f-4778-8d21-e194e289aa1b",
   "metadata": {},
   "source": [
    "В чём разница? В том, что в списке `spiski_v_spiske` элементами списка являются другие списки. А вот элементами `spisok_plus` являются строки (буквы). В этом легко убедиться, вызвав элемент списка по индексу:"
   ]
  },
  {
   "cell_type": "code",
   "execution_count": 11,
   "id": "6ad5cfbe-a5a5-4a23-ad7b-e4384241706a",
   "metadata": {},
   "outputs": [
    {
     "name": "stdout",
     "output_type": "stream",
     "text": [
      "['A', 'B', 'C']\n",
      "<class 'list'>\n"
     ]
    }
   ],
   "source": [
    "print(spiski_v_spiske[1])\n",
    "print(type(spiski_v_spiske[1]))"
   ]
  },
  {
   "cell_type": "code",
   "execution_count": 12,
   "id": "fe58e081-c2ec-487a-96e1-a17b842f0be3",
   "metadata": {},
   "outputs": [
    {
     "name": "stdout",
     "output_type": "stream",
     "text": [
      "Б\n",
      "<class 'str'>\n"
     ]
    }
   ],
   "source": [
    "print(spisok_plus[1])\n",
    "print(type(spisok_plus[1]))"
   ]
  },
  {
   "cell_type": "markdown",
   "id": "515a7aaf-67e9-409e-80e1-b3cacffa3a41",
   "metadata": {},
   "source": [
    "«Глубина» списка может быть очень высокой (но, конечно, не бесконечной). На практике списки с глубиной реже 3–4 вложений обычно редки.\n",
    "\n",
    "Такие вложенные структуры могут оказаться довольно громоздкими. Иногда их может быть удобнее записывать в несколько строк. При объявлении списка можно перенести строку после открытия квадратной скобки или после очередной запятой. Например, вот такую сложнючую структуру:"
   ]
  },
  {
   "cell_type": "code",
   "execution_count": 13,
   "id": "e56f928e-ff16-4e7a-a5ee-1e554002ed79",
   "metadata": {},
   "outputs": [],
   "source": [
    "matrix = [[1, 2, 3, 4, 5], [2, 4, 6, 8, 10], [3, 6, 9, 12, 15], [4, 8, 12, 16, 20], [5, 10, 15, 20, 25]]"
   ]
  },
  {
   "cell_type": "markdown",
   "id": "af32168b-d17b-477a-8c34-2717891656a9",
   "metadata": {},
   "source": [
    "…можно записать иначе:"
   ]
  },
  {
   "cell_type": "code",
   "execution_count": 14,
   "id": "028327d0-d6b2-4c52-b8cf-05974226fd03",
   "metadata": {},
   "outputs": [],
   "source": [
    "matrix = [\n",
    "    [1, 2, 3, 4, 5],\n",
    "    [2, 4, 6, 8, 10],\n",
    "    [3, 6, 9, 12, 15],\n",
    "    [4, 8, 12, 16, 20],\n",
    "    [5, 10, 15, 20, 25]\n",
    "]"
   ]
  },
  {
   "cell_type": "markdown",
   "id": "1b3a95f8-217b-406d-a993-179c393ade9d",
   "metadata": {},
   "source": [
    "…а ещё можно сделать вот так:"
   ]
  },
  {
   "cell_type": "code",
   "execution_count": 15,
   "id": "fc1390e5-47be-4cdf-8687-a6256d8804ac",
   "metadata": {},
   "outputs": [],
   "source": [
    "nikolai1_title = [\"Всероссийский\", \"Московский\", \"Киевский\",\n",
    "                  \"Владимирский\", \"Новгородский\", \"Царь Казанский\",\n",
    "                  \"Царь Астраханский\", \"Царь Польский\",\n",
    "                  \"Царь Сибирский\", \"Царь Херсониса-Таврического\"]"
   ]
  },
  {
   "cell_type": "markdown",
   "id": "ccf57a49-b09f-4745-968a-12b4ab18bce1",
   "metadata": {},
   "source": [
    "Такие списки абсолютно рабочие и ничем не отличаются от обычных:"
   ]
  },
  {
   "cell_type": "code",
   "execution_count": 16,
   "id": "63eb85a6-a4fa-4c88-b9c7-da9f764cd3a8",
   "metadata": {},
   "outputs": [
    {
     "name": "stdout",
     "output_type": "stream",
     "text": [
      "Царь Херсониса-Таврического\n"
     ]
    }
   ],
   "source": [
    "print(nikolai1_title[9])"
   ]
  },
  {
   "cell_type": "markdown",
   "id": "6fd064aa-e429-4c33-b07e-cdfdbb3c285f",
   "metadata": {},
   "source": [
    "Как заглянуть «вглубь» вложенного списка? С помощью нескольких индексов сразу. Допустим, мы хотим взять первый список внутри списка `matrix` и достать из него третий элемент. Для простоты начала возьмём первый список и запишем в отдельную переменную. Ну а уже потом возьмём элемент с нужным индексом из этой переменной:"
   ]
  },
  {
   "cell_type": "code",
   "execution_count": 17,
   "id": "2062ded3-eaca-4e41-9045-a622788f4d77",
   "metadata": {},
   "outputs": [
    {
     "data": {
      "text/plain": [
       "[[1, 2, 3, 4, 5],\n",
       " [2, 4, 6, 8, 10],\n",
       " [3, 6, 9, 12, 15],\n",
       " [4, 8, 12, 16, 20],\n",
       " [5, 10, 15, 20, 25]]"
      ]
     },
     "execution_count": 17,
     "metadata": {},
     "output_type": "execute_result"
    }
   ],
   "source": [
    "matrix"
   ]
  },
  {
   "cell_type": "code",
   "execution_count": 18,
   "id": "6c4d6d66-cc32-4ce3-9154-1e8745ac08e2",
   "metadata": {},
   "outputs": [
    {
     "name": "stdout",
     "output_type": "stream",
     "text": [
      "[1, 2, 3, 4, 5]\n"
     ]
    }
   ],
   "source": [
    "first_line = matrix[0]\n",
    "print(first_line)"
   ]
  },
  {
   "cell_type": "code",
   "execution_count": 19,
   "id": "413dd6e6-55f3-42fd-a1ab-7444442a83c2",
   "metadata": {},
   "outputs": [
    {
     "name": "stdout",
     "output_type": "stream",
     "text": [
      "3\n"
     ]
    }
   ],
   "source": [
    "print(first_line[2])"
   ]
  },
  {
   "cell_type": "markdown",
   "id": "fd5ea7ec-1af0-4f8d-91c3-6bde22a91100",
   "metadata": {},
   "source": [
    "Можно сделать это и проще, сначала вызвать индекс $0$ от `matrix`, а потом вызвать индекс $2$ от получившейся строки, не приписывая её в отдельную переменную. Это похоже на то, как мы вкладываем функции одну в другую без дополнительных переменных:"
   ]
  },
  {
   "cell_type": "code",
   "execution_count": 20,
   "id": "2ef6f654-7340-4c39-9709-bfdfbfefef6d",
   "metadata": {},
   "outputs": [
    {
     "name": "stdout",
     "output_type": "stream",
     "text": [
      "3\n"
     ]
    }
   ],
   "source": [
    "print(matrix[0][2])   # вызови индекс 0 от matrix, а потом вызови индекс 2 от matrix[0]"
   ]
  },
  {
   "cell_type": "markdown",
   "id": "7a1c4209-e90b-46cd-a157-236ab6cca691",
   "metadata": {},
   "source": [
    "Такие индексы можно «стакать» до тех пор, пока позволяет структура списка. Это можно показать на какой-нибудь очень сложной структуре (например, на структуре [вложенных снов](https://www.reddit.com/r/movies/comments/22oidr/the_architecture_of_inception/) из фильма «Начало»). Сначала создадим её (ниже представлены два способа её создать, «красивый», то есть с отступами, и «компактный»):"
   ]
  },
  {
   "cell_type": "code",
   "execution_count": 21,
   "id": "af519e7e-c7a5-4fa5-b98d-5f8a0a8ea712",
   "metadata": {},
   "outputs": [],
   "source": [
    "inception_dreams = [\n",
    "    \"Юсуф\",\n",
    "    [\n",
    "        \"Артур\",\n",
    "        [\n",
    "            \"Имс\", \"Ариадна\", \"Кобб\", \"Фишер\"\n",
    "        ]\n",
    "    ]\n",
    "]"
   ]
  },
  {
   "cell_type": "code",
   "execution_count": 22,
   "id": "aecc5a94-1aa7-4ca9-8584-a16184069b3c",
   "metadata": {},
   "outputs": [],
   "source": [
    "inception_dreams = [\"Юсуф\", [\"Артур\", [\"Имс\", \"Ариадна\", \"Кобб\", \"Фишер\"]]]"
   ]
  },
  {
   "cell_type": "markdown",
   "id": "49f138ea-cad8-4239-9738-926e64c3dda6",
   "metadata": {},
   "source": [
    "Как, например, достать до строки `\"Кобб\"`? Очень просто, если расставлять индексы согласно структуре списка:"
   ]
  },
  {
   "cell_type": "code",
   "execution_count": 23,
   "id": "1de6bd6b-616f-48ec-8cc8-487975ee129b",
   "metadata": {},
   "outputs": [
    {
     "name": "stdout",
     "output_type": "stream",
     "text": [
      "['Юсуф', ['Артур', ['Имс', 'Ариадна', 'Кобб', 'Фишер']]]\n",
      "['Артур', ['Имс', 'Ариадна', 'Кобб', 'Фишер']]\n",
      "['Имс', 'Ариадна', 'Кобб', 'Фишер']\n",
      "Кобб\n"
     ]
    }
   ],
   "source": [
    "print(inception_dreams)\n",
    "print(inception_dreams[1])\n",
    "print(inception_dreams[1][1])\n",
    "print(inception_dreams[1][1][2])"
   ]
  },
  {
   "cell_type": "markdown",
   "id": "453dca75-884a-40f0-bf99-590f0b1ad669",
   "metadata": {},
   "source": [
    "Так как строка — тоже объект итерируемый, можно пойти и на уровень глубже — если нужно достать определённую букву:"
   ]
  },
  {
   "cell_type": "code",
   "execution_count": 24,
   "id": "61e2c97f-7a88-4451-b869-7aa8575e65be",
   "metadata": {},
   "outputs": [
    {
     "name": "stdout",
     "output_type": "stream",
     "text": [
      "К\n"
     ]
    }
   ],
   "source": [
    "print(inception_dreams[1][1][2][0])   # первая буква строки \"Кобб\""
   ]
  },
  {
   "cell_type": "markdown",
   "id": "008e6df3-080c-4cb0-9eb5-db0b851c7c00",
   "metadata": {},
   "source": [
    "### Создание списков"
   ]
  },
  {
   "cell_type": "markdown",
   "id": "dd3e87b1-dca4-471c-b094-e75aba2b3ae3",
   "metadata": {},
   "source": [
    "Выше вы уже увидели один способ создания нового списка — просто объявить элементы списка в квадратных скобках. Однако есть и другой способ. Как и у других типов данных, у списков есть специальная функция, которая позволяет насильно конвертировать некоторые объекты в списки. Называется она `list()`. В эту функцию нужно подавать только итерируемые объекты. Так как пока что мы не знаем никаких других итерируемых объектов, кроме строк и собственно списков, это означает, что мы можем подавать туда строки. Если подать в `list()` строку, то функция воспримет каждый элемент строки как отдельный элемент нового списка:"
   ]
  },
  {
   "cell_type": "code",
   "execution_count": 25,
   "id": "45e5d0f2-08fa-4243-b116-6c06248f355d",
   "metadata": {},
   "outputs": [
    {
     "name": "stdout",
     "output_type": "stream",
     "text": [
      "YMCA\n",
      "<class 'str'>\n",
      "['Y', 'M', 'C', 'A']\n",
      "<class 'list'>\n",
      "Y\n"
     ]
    }
   ],
   "source": [
    "stroka = \"YMCA\"\n",
    "print(stroka)\n",
    "print(type(stroka))\n",
    "\n",
    "spisok = list(stroka)\n",
    "print(spisok)\n",
    "print(type(spisok))\n",
    "print(spisok[0])"
   ]
  },
  {
   "cell_type": "markdown",
   "id": "f318e68e-4b40-4280-8854-99ea2a83b36d",
   "metadata": {},
   "source": [
    "А что будет, если мы просто положим строку внутрь квадратных скобок? В таком случае строка станет цельным элементом нового списка. Обратите внимание на различие: скобки `[...]` нужны, чтобы **положить** объект(ы) в список, а функция `list()` нужна, чтобы **превратить** объект в список. Именно поэтому с не-итерируемыми объектами (у которых нет элементов) она не работает:"
   ]
  },
  {
   "cell_type": "code",
   "execution_count": 26,
   "id": "409f44a9-5f1e-4bab-aa47-af8c9751417f",
   "metadata": {},
   "outputs": [
    {
     "name": "stdout",
     "output_type": "stream",
     "text": [
      "[0.0001]\n"
     ]
    }
   ],
   "source": [
    "print([0.0001])"
   ]
  },
  {
   "cell_type": "code",
   "execution_count": 27,
   "id": "cf572df5-a141-4a0e-a527-ebc6708a2192",
   "metadata": {},
   "outputs": [
    {
     "ename": "TypeError",
     "evalue": "'float' object is not iterable",
     "output_type": "error",
     "traceback": [
      "\u001b[1;31m---------------------------------------------------------------------------\u001b[0m",
      "\u001b[1;31mTypeError\u001b[0m                                 Traceback (most recent call last)",
      "Cell \u001b[1;32mIn[27], line 1\u001b[0m\n\u001b[1;32m----> 1\u001b[0m \u001b[38;5;28mprint\u001b[39m(\u001b[38;5;28;43mlist\u001b[39;49m\u001b[43m(\u001b[49m\u001b[38;5;241;43m0.0001\u001b[39;49m\u001b[43m)\u001b[49m)\n",
      "\u001b[1;31mTypeError\u001b[0m: 'float' object is not iterable"
     ]
    }
   ],
   "source": [
    "print(list(0.0001))"
   ]
  },
  {
   "cell_type": "markdown",
   "id": "f1c4a1cf-8443-4bf0-997d-3b84d373cd85",
   "metadata": {},
   "source": [
    "Списки могут быть пустыми, то есть не содержать вообще никаких элементов. Такие списки можно создать и скобками, и функцией `list()`. (Пустые списки недолго будут оставаться пустыми, скоро мы научимся их наполнять.)"
   ]
  },
  {
   "cell_type": "code",
   "execution_count": 28,
   "id": "6ddb9d17-bc2e-428f-a55b-fe28f9bec71c",
   "metadata": {},
   "outputs": [
    {
     "name": "stdout",
     "output_type": "stream",
     "text": [
      "[]\n",
      "<class 'list'>\n",
      "0\n"
     ]
    }
   ],
   "source": [
    "empty_list = []\n",
    "print(empty_list)\n",
    "print(type(empty_list))\n",
    "print(len(empty_list))"
   ]
  },
  {
   "cell_type": "code",
   "execution_count": 29,
   "id": "d0644be1-9553-4649-b2c8-50bb1ddbae31",
   "metadata": {},
   "outputs": [
    {
     "name": "stdout",
     "output_type": "stream",
     "text": [
      "[]\n",
      "<class 'list'>\n",
      "0\n"
     ]
    }
   ],
   "source": [
    "empty_list = list()\n",
    "print(empty_list)\n",
    "print(type(empty_list))\n",
    "print(len(empty_list))"
   ]
  },
  {
   "cell_type": "markdown",
   "id": "c75530bc-6301-4eb9-8a6d-45e397345eb6",
   "metadata": {},
   "source": [
    "Есть ещё один простой способ создавать списки из строк: метод `.split()`. Этот метод позволяет разделить строку на множество строк, используя некоторый  «разделитель». По умолчанию разделитель — это, например, пробел:"
   ]
  },
  {
   "cell_type": "code",
   "execution_count": 30,
   "id": "358560da-8291-42a4-aaeb-3d12d7a7c0b4",
   "metadata": {},
   "outputs": [
    {
     "name": "stdout",
     "output_type": "stream",
     "text": [
      "['ой,', 'а', 'как', 'же', 'мне', 'разделить', 'эту', 'строку', 'на', 'слова…']\n",
      "<class 'list'>\n",
      "разделить\n"
     ]
    }
   ],
   "source": [
    "sentence = \"ой, а как же мне разделить эту строку на слова…\"\n",
    "\n",
    "words = sentence.split()\n",
    "print(words)\n",
    "print(type(words))\n",
    "print(words[5])"
   ]
  },
  {
   "cell_type": "markdown",
   "id": "82cf1d13-d6a8-46f4-9626-91e4ecfc9a31",
   "metadata": {},
   "source": [
    "_____"
   ]
  },
  {
   "cell_type": "markdown",
   "id": "0f85b0ec-c579-4ff5-87e8-aa7a76a7cf49",
   "metadata": {},
   "source": [
    "**Внимание!** Вы уже немного познакомились с понятием «функция». Сейчас мы впервые столкнулись с похожим, но не идентичным термином «метод». Вот чем они отличаются:\n",
    "- **Функции** — команды, которые совершают определённые действия. В функцию можно подать аргументы (сколько и каких аргументов нужно, зависит от функции). Пишется функция так: `<название>(<аргумент1>, <аргумент2>, ...)`. Например: `print(\"текст\")`\n",
    "- **Методы** очень похожи на функции. Они тоже совершают действия, и в них тоже можно подавать аргументы. Отличие в том, что методы приписаны к определённому типу данных и работают только с объектами этого типа. К примеру, функция `print()` может напечатать любые объекты, а вот метод `.split()` применим только к строкам. (Это не значит, что все функции могут принимать все типы объектов! Но у функций бывает по-разному, а методы строго приписаны к своему типу.)\n",
    "  - Соответственно этому у методов *другой синтаксис*. Для вызова метода мы сначала вызываем объект, к которому метод применяется, а затем пишем точку и только потом название метода. Далее, как и с функциями, ставим скобки:"
   ]
  },
  {
   "cell_type": "code",
   "execution_count": 31,
   "id": "75358827-e788-41b0-ab2c-d631b217b00d",
   "metadata": {},
   "outputs": [
    {
     "data": {
      "text/plain": [
       "['Фуфелшмерц', 'Пакость', 'Инкорпорейтед']"
      ]
     },
     "execution_count": 31,
     "metadata": {},
     "output_type": "execute_result"
    }
   ],
   "source": [
    "\"Фуфелшмерц Пакость Инкорпорейтед\".split()"
   ]
  },
  {
   "cell_type": "markdown",
   "id": "50515b62-f41f-4a9f-8f1d-1cc6c6f393b8",
   "metadata": {},
   "source": [
    "Если мы перепутаем метод с функцией и попытаемся вызвать метод как функцию, то питон нас не поймёт:"
   ]
  },
  {
   "cell_type": "code",
   "execution_count": 32,
   "id": "45748ea3-9605-47b0-bcaa-488f8f03258e",
   "metadata": {},
   "outputs": [
    {
     "ename": "NameError",
     "evalue": "name 'split' is not defined",
     "output_type": "error",
     "traceback": [
      "\u001b[1;31m---------------------------------------------------------------------------\u001b[0m",
      "\u001b[1;31mNameError\u001b[0m                                 Traceback (most recent call last)",
      "Cell \u001b[1;32mIn[32], line 1\u001b[0m\n\u001b[1;32m----> 1\u001b[0m \u001b[43msplit\u001b[49m(\u001b[38;5;124m\"\u001b[39m\u001b[38;5;124mФуфелшмерц Пакость Инкорпорейтед\u001b[39m\u001b[38;5;124m\"\u001b[39m)\n",
      "\u001b[1;31mNameError\u001b[0m: name 'split' is not defined"
     ]
    }
   ],
   "source": [
    "split(\"Фуфелшмерц Пакость Инкорпорейтед\")"
   ]
  },
  {
   "cell_type": "markdown",
   "id": "7b0fa407-adc8-4e4a-bc62-53e9b4bda996",
   "metadata": {},
   "source": [
    "_____"
   ]
  },
  {
   "cell_type": "markdown",
   "id": "0820cdeb-70f5-43fe-8c04-7e7dcfbc5cb3",
   "metadata": {},
   "source": [
    "В «разделители» метода `.split()` по умолчанию входит не только пробел, но и другие так называемые «**пробельные символы**». Это, например, специальная сочетание символов, обозначающее переход на новую строку `\\n` (от англ. *new line*), и сочетание символов, обозначающее табуляцию `\\t` (от англ. *tab*). Эти сочетания отражают то, как компьютер «на самом деле» видит красную строку и табуляцию. Например, если использовать комбинацию `\\n` внутри строки, то при выводе на экран вы увидите два абзаца:"
   ]
  },
  {
   "cell_type": "code",
   "execution_count": 33,
   "id": "ae2af88e-cb4f-4e5d-a41b-12915de8a1cc",
   "metadata": {},
   "outputs": [
    {
     "name": "stdout",
     "output_type": "stream",
     "text": [
      "НАЗВАНИЕ\n",
      "Подзаголовок\n"
     ]
    }
   ],
   "source": [
    "paragraph = \"НАЗВАНИЕ\\nПодзаголовок\"   # обратите внимание, что \\n не обрамляется пробелами\n",
    "print(paragraph)"
   ]
  },
  {
   "cell_type": "code",
   "execution_count": 34,
   "id": "fc3e8d84-84df-4319-93d3-bc0284a6d9ec",
   "metadata": {},
   "outputs": [
    {
     "name": "stdout",
     "output_type": "stream",
     "text": [
      "['НАЗВАНИЕ', 'Подзаголовок']\n"
     ]
    }
   ],
   "source": [
    "print(paragraph.split())"
   ]
  },
  {
   "cell_type": "markdown",
   "id": "b27defbc-079c-450b-975c-0562deb3a7fa",
   "metadata": {},
   "source": [
    "С методом `split()` можно использовать и собственные «разделители» — для этого их нужно подать в метод в качестве аргументов. Например, если указать дефис, можно будет разделить сложные слова на части:"
   ]
  },
  {
   "cell_type": "code",
   "execution_count": 35,
   "id": "6481ceb4-8d36-4f31-b762-ee7a6eda8f4d",
   "metadata": {},
   "outputs": [
    {
     "name": "stdout",
     "output_type": "stream",
     "text": [
      "['иван', 'да', 'марья']\n"
     ]
    }
   ],
   "source": [
    "stroka = \"иван-да-марья\"\n",
    "print(stroka.split(\"-\"))"
   ]
  },
  {
   "cell_type": "markdown",
   "id": "7a46a0cb-29c8-44a4-9b36-7705ddc8f82e",
   "metadata": {},
   "source": [
    "Без специального аргумента сделать это не выйдет. Обратите внимание на то, что даже если разделитель не встретился в строке ни разу, метод `.split()` всё равно вернёт список (а не исходную строку):"
   ]
  },
  {
   "cell_type": "code",
   "execution_count": 36,
   "id": "a5e6cb93-e410-4a94-b7e8-9210e1a2c4cf",
   "metadata": {},
   "outputs": [
    {
     "name": "stdout",
     "output_type": "stream",
     "text": [
      "['иван-да-марья']\n"
     ]
    }
   ],
   "source": [
    "stroka = \"иван-да-марья\"\n",
    "print(stroka.split())"
   ]
  },
  {
   "cell_type": "code",
   "execution_count": 37,
   "id": "7460c5d4-f287-41fa-814b-29f5db050e30",
   "metadata": {},
   "outputs": [
    {
     "name": "stdout",
     "output_type": "stream",
     "text": [
      "['прекрасный день, моя Анфиса! жаль, нет ни одного дефиса']\n"
     ]
    }
   ],
   "source": [
    "stroka = \"прекрасный день, моя Анфиса! жаль, нет ни одного дефиса\"\n",
    "print(stroka.split(\"-\"))"
   ]
  },
  {
   "cell_type": "markdown",
   "id": "6048bf26-33e7-472e-80c3-31163e9ec4ca",
   "metadata": {},
   "source": [
    "### Распаковка списков с помощью `*`"
   ]
  },
  {
   "cell_type": "markdown",
   "id": "c35e150b-10ee-4dc3-b213-e5653eba1bbf",
   "metadata": {},
   "source": [
    "В питоне у астериска («звёздочки») `*`, помимо умножения, есть и другая функция: **распаковка** итерируемых объектов. Слово «распаковка» здесь значит, что мы «вынимаем» объекты из списка и начинаем обращаться к ним как к отдельным объектам, а не списку объектов. Практический смысл этого действия легко показать на выводе с функцией `print()`. Если подать в эту функцию список, то он и напечатает его как список, то есть как цельный объект. Например, укажет квадратные скобки:"
   ]
  },
  {
   "cell_type": "code",
   "execution_count": 38,
   "id": "d64469fb-fbfb-48c3-b9df-872f3aa6e4f8",
   "metadata": {},
   "outputs": [
    {
     "name": "stdout",
     "output_type": "stream",
     "text": [
      "['Persian', 'Polish', 'Portuguese', 'Punjabi']\n"
     ]
    }
   ],
   "source": [
    "print(languages)"
   ]
  },
  {
   "cell_type": "markdown",
   "id": "b784830e-f104-4876-a544-5d4612fbd87c",
   "metadata": {},
   "source": [
    "Если мы хотим распечатать этот список более естетично (например, указать собственный сепаратор `sep`), то со списком сделать этого не получится. Точнее, всё работает, но происходит не то, что мы хотим. Функция `print()` исправно печатает сепаратор между всеми объектами, в неё поданными, — но так как мы подали в неё *один объект* (список `languages`), сепаратор нигде не появляется:"
   ]
  },
  {
   "cell_type": "code",
   "execution_count": 39,
   "id": "3885ed6e-ff95-4a5f-99e3-9dff0bc1ec1e",
   "metadata": {},
   "outputs": [
    {
     "name": "stdout",
     "output_type": "stream",
     "text": [
      "['Persian', 'Polish', 'Portuguese', 'Punjabi']\n"
     ]
    }
   ],
   "source": [
    "print(languages, sep=\"---\")"
   ]
  },
  {
   "cell_type": "markdown",
   "id": "104da63f-aaa3-43ca-b2e6-f45561d56b91",
   "metadata": {},
   "source": [
    "Зато мы увидим сепаратор, если подадим два списка:"
   ]
  },
  {
   "cell_type": "code",
   "execution_count": 40,
   "id": "2cd44865-fba4-46af-9b9a-09e611b37646",
   "metadata": {},
   "outputs": [
    {
     "name": "stdout",
     "output_type": "stream",
     "text": [
      "['Persian', 'Polish', 'Portuguese', 'Punjabi']---['Всероссийский', 'Московский', 'Киевский', 'Владимирский', 'Новгородский', 'Царь Казанский', 'Царь Астраханский', 'Царь Польский', 'Царь Сибирский', 'Царь Херсониса-Таврического']\n"
     ]
    }
   ],
   "source": [
    "print(languages, nikolai1_title, sep=\"---\")"
   ]
  },
  {
   "cell_type": "markdown",
   "id": "1e8e8535-1514-494e-9eb8-d0b05b1249b2",
   "metadata": {},
   "source": [
    "Однако если мы всё-таки хотим увидеть сепаратор между *элементами списка*, то для этого эти элементы нужно предварительно распаковать и начать работать с ними как с отдельными объектами, а потом уже подать в `print()`. Сделать это можно, добавив астериск `*` перед списком. Без указания сепаратора будет использоваться дефолтный сепаратор функции `print()`, то есть пробел:"
   ]
  },
  {
   "cell_type": "code",
   "execution_count": 41,
   "id": "3bf22b09-d731-4abb-a426-6b798e2f9e2c",
   "metadata": {},
   "outputs": [
    {
     "name": "stdout",
     "output_type": "stream",
     "text": [
      "Persian Polish Portuguese Punjabi\n",
      "Persian---Polish---Portuguese---Punjabi\n"
     ]
    }
   ],
   "source": [
    "print(*languages)\n",
    "print(*languages, sep=\"---\")"
   ]
  },
  {
   "cell_type": "markdown",
   "id": "f7e9523a-8405-430a-b4c4-1847d826412a",
   "metadata": {},
   "source": [
    "Астериск можно использовать несколько раз:"
   ]
  },
  {
   "cell_type": "code",
   "execution_count": 42,
   "id": "6bf803c5-6405-4d71-a8aa-aa8c883d1bcd",
   "metadata": {},
   "outputs": [
    {
     "name": "stdout",
     "output_type": "stream",
     "text": [
      "Persian\n",
      "Polish\n",
      "Portuguese\n",
      "Punjabi\n",
      "Всероссийский\n",
      "Московский\n",
      "Киевский\n",
      "Владимирский\n",
      "Новгородский\n",
      "Царь Казанский\n",
      "Царь Астраханский\n",
      "Царь Польский\n",
      "Царь Сибирский\n",
      "Царь Херсониса-Таврического\n"
     ]
    }
   ],
   "source": [
    "print(*languages, *nikolai1_title, sep=\"\\n\")"
   ]
  },
  {
   "cell_type": "markdown",
   "id": "78c74682-207f-43c3-b468-110f973e47cb",
   "metadata": {},
   "source": [
    "Это может быть полезно не только при выводе с помощью `print()`, но и, например, при создании списка из других списков. В этом случае эффект такой же, как и со «сложением» списков:"
   ]
  },
  {
   "cell_type": "code",
   "execution_count": 43,
   "id": "ef486fae-054d-44ac-8bae-b603e96f8fbb",
   "metadata": {},
   "outputs": [
    {
     "data": {
      "text/plain": [
       "['Persian',\n",
       " 'Polish',\n",
       " 'Portuguese',\n",
       " 'Punjabi',\n",
       " 'Всероссийский',\n",
       " 'Московский',\n",
       " 'Киевский',\n",
       " 'Владимирский',\n",
       " 'Новгородский',\n",
       " 'Царь Казанский',\n",
       " 'Царь Астраханский',\n",
       " 'Царь Польский',\n",
       " 'Царь Сибирский',\n",
       " 'Царь Херсониса-Таврического']"
      ]
     },
     "execution_count": 43,
     "metadata": {},
     "output_type": "execute_result"
    }
   ],
   "source": [
    "[*languages, *nikolai1_title]"
   ]
  },
  {
   "cell_type": "markdown",
   "id": "e035d500-fa84-4d13-954b-e4d74abd869e",
   "metadata": {},
   "source": [
    "Сравните:"
   ]
  },
  {
   "cell_type": "code",
   "execution_count": 44,
   "id": "ab320c39-88ed-4a8b-b53f-713f49643731",
   "metadata": {},
   "outputs": [
    {
     "data": {
      "text/plain": [
       "[['Persian', 'Polish', 'Portuguese', 'Punjabi'],\n",
       " ['Всероссийский',\n",
       "  'Московский',\n",
       "  'Киевский',\n",
       "  'Владимирский',\n",
       "  'Новгородский',\n",
       "  'Царь Казанский',\n",
       "  'Царь Астраханский',\n",
       "  'Царь Польский',\n",
       "  'Царь Сибирский',\n",
       "  'Царь Херсониса-Таврического']]"
      ]
     },
     "execution_count": 44,
     "metadata": {},
     "output_type": "execute_result"
    }
   ],
   "source": [
    "[languages, nikolai1_title]"
   ]
  },
  {
   "cell_type": "markdown",
   "id": "99b176ff-c08c-4119-a953-32affa9bc367",
   "metadata": {},
   "source": [
    "Со «звёздочкой» можно придумать много всякого креатива. Например, зацените напоследок:"
   ]
  },
  {
   "cell_type": "code",
   "execution_count": 46,
   "id": "d80eb6bc-d7d3-4d0d-bc77-7c4925091643",
   "metadata": {},
   "outputs": [
    {
     "name": "stdout",
     "output_type": "stream",
     "text": [
      "0\n",
      "[1, 3, 9, 12, 23]\n"
     ]
    }
   ],
   "source": [
    "first, *others = 0, 1, 3, 9, 12, 23\n",
    "print(first)\n",
    "print(others)"
   ]
  },
  {
   "cell_type": "markdown",
   "id": "fd8bc537-278a-4098-83da-4d23778c4eaa",
   "metadata": {},
   "source": [
    "(См. хорошую [статью](https://tproger.ru/translations/asterisks-in-python-what-they-are-and-how-to-use-them) о разных возможностях использования `*` — если вдруг вам стало жутко интересно.)"
   ]
  }
 ],
 "metadata": {
  "kernelspec": {
   "display_name": "Python 3 (ipykernel)",
   "language": "python",
   "name": "python3"
  },
  "language_info": {
   "codemirror_mode": {
    "name": "ipython",
    "version": 3
   },
   "file_extension": ".py",
   "mimetype": "text/x-python",
   "name": "python",
   "nbconvert_exporter": "python",
   "pygments_lexer": "ipython3",
   "version": "3.11.4"
  }
 },
 "nbformat": 4,
 "nbformat_minor": 5
}
