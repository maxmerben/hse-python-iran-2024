{
 "cells": [
  {
   "cell_type": "markdown",
   "id": "cea17432-ea86-4cb1-bed1-bdd795b70aa0",
   "metadata": {},
   "source": [
    "# Семинар 6"
   ]
  },
  {
   "cell_type": "markdown",
   "id": "69cf16d0-65fc-44a9-9d6e-f175e92aea96",
   "metadata": {},
   "source": [
    "## Множества"
   ]
  },
  {
   "cell_type": "markdown",
   "id": "3f56c445-cc4b-4146-821d-5d3cd0a611bb",
   "metadata": {},
   "source": [
    "**Множества** — ещё один тип данных. Они очень похожи на списки и кортежи, но кое-чем отличаются. Про множества можно думать так: это такие особенные списки, в которых\n",
    "1. **все объекты уникальны** (в отличие от списков и кортежей, в которых объекты могут повторяться)\n",
    "2. **объекты «не упорядочены»** (то есть у них нет индексов, в отличие от списков и кортежей)\n",
    "\n",
    "Создаётся множество так:\n",
    "\n",
    "```\n",
    "m = {ЭЛЕМЕНТ1, ЭЛЕМЕНТ2, ЭЛЕМЕНТ3, …}\n",
    "```\n",
    "\n",
    "В питоне множества обозначаются словом `set`, а с помощью функции `set()` можно превратить другие итерируемые объекты (строки, списки, кортежи) в множества."
   ]
  },
  {
   "cell_type": "markdown",
   "id": "1aa67024-c553-4cb7-a8f7-e9bea0af0c62",
   "metadata": {},
   "source": [
    "Попробуем создать список исторических названий Петербурга, а потом превратим в множество:"
   ]
  },
  {
   "cell_type": "code",
   "execution_count": 1,
   "id": "771742da-6f76-4a34-ad0c-755b6e7f89e4",
   "metadata": {},
   "outputs": [
    {
     "name": "stdout",
     "output_type": "stream",
     "text": [
      "['Санкт-Петербург', 'Петроград', 'Ленинград', 'Санкт-Петербург']\n",
      "{'Ленинград', 'Петроград', 'Санкт-Петербург'}\n"
     ]
    }
   ],
   "source": [
    "piter_names = [\"Санкт-Петербург\", \"Петроград\", \"Ленинград\", \"Санкт-Петербург\"]\n",
    "print(piter_names)\n",
    "piter_names = set(piter_names)\n",
    "print(piter_names)"
   ]
  },
  {
   "cell_type": "markdown",
   "id": "6082bee5-62cd-4c15-842a-5d1423a81fb4",
   "metadata": {},
   "source": [
    "Этот пример иллюстрирует оба свойства множеств.\n",
    "1. Так как объекты множества **уникальны**, в оригинальном списке имя «Санкт-Петербург» повторяется дважды, а во множестве — только один раз.\n",
    "2. Обратите внимание на то, что при выводе функцией `print()` названия печатаются не в том порядке, в котором мы их подавали. Это при обучении питона часто называют «неупорядоченностью», но это немного некорректно:\n",
    "   - На самом деле питон, разумеется, хранит элементы множества в некотором порядке — просто этот порядок он определяет сам, так, как ему удобнее, чтобы хранить и обрабатывать содержимое множества было легче для компьютера. Важно, что **пользователь не может предсказать порядок элементов** множества **и не может обращаться к этому порядку**! Я бы назвал это свойство множества **«непредсказуемостью» порядка** элементов, а не «неупорядоченностью».\n",
    "   - Из-за этого свойства мы не можем обращаться к элементам множества по индексам (ведь индексы от $0$ до $…$ предполагали бы, что элементы упорядочены). Чтобы обратиться к элементу по индексу, придётся сначала сделать из множества список:"
   ]
  },
  {
   "cell_type": "code",
   "execution_count": 2,
   "id": "1426d76f-022d-4940-bb85-a22480a5b753",
   "metadata": {},
   "outputs": [
    {
     "name": "stdout",
     "output_type": "stream",
     "text": [
      "{'Ленинград', 'Петроград', 'Санкт-Петербург'}\n"
     ]
    },
    {
     "ename": "TypeError",
     "evalue": "'set' object is not subscriptable",
     "output_type": "error",
     "traceback": [
      "\u001b[1;31m---------------------------------------------------------------------------\u001b[0m",
      "\u001b[1;31mTypeError\u001b[0m                                 Traceback (most recent call last)",
      "Cell \u001b[1;32mIn[2], line 2\u001b[0m\n\u001b[0;32m      1\u001b[0m \u001b[38;5;28mprint\u001b[39m(piter_names)\n\u001b[1;32m----> 2\u001b[0m \u001b[38;5;28mprint\u001b[39m(\u001b[43mpiter_names\u001b[49m\u001b[43m[\u001b[49m\u001b[38;5;241;43m1\u001b[39;49m\u001b[43m]\u001b[49m)\n",
      "\u001b[1;31mTypeError\u001b[0m: 'set' object is not subscriptable"
     ]
    }
   ],
   "source": [
    "print(piter_names)\n",
    "print(piter_names[1])"
   ]
  },
  {
   "cell_type": "code",
   "execution_count": 3,
   "id": "de5d1198-60a5-4a2d-9a87-d55209f6eb2c",
   "metadata": {},
   "outputs": [
    {
     "name": "stdout",
     "output_type": "stream",
     "text": [
      "Петроград\n"
     ]
    }
   ],
   "source": [
    "print(list(piter_names)[1])"
   ]
  },
  {
   "cell_type": "markdown",
   "id": "3cce5551-8692-4948-ba31-44b0304fd855",
   "metadata": {},
   "source": [
    "Несмотря на то, что у множества нет индексов, а порядок элементов непредсказуем, с ними можно делать много вещей, которые можно делать со списками. Например, пройтись циклом или узнать, есть ли в множестве определённый элемент, командой `in`:"
   ]
  },
  {
   "cell_type": "code",
   "execution_count": 4,
   "id": "f7aa1125-e1ef-43ca-b3eb-b6203bd6d698",
   "metadata": {},
   "outputs": [
    {
     "name": "stdout",
     "output_type": "stream",
     "text": [
      "ЛЕНИНГРАД\n",
      "ПЕТРОГРАД\n",
      "САНКТ-ПЕТЕРБУРГ\n"
     ]
    }
   ],
   "source": [
    "for city_name in piter_names:\n",
    "    print(city_name.upper())"
   ]
  },
  {
   "cell_type": "code",
   "execution_count": 5,
   "id": "715b8f50-5684-41ea-a5dd-2459c783aff2",
   "metadata": {},
   "outputs": [
    {
     "name": "stdout",
     "output_type": "stream",
     "text": [
      "True\n",
      "False\n"
     ]
    }
   ],
   "source": [
    "print(\"Ленинград\" in piter_names)\n",
    "print(\"Питер\" in piter_names)"
   ]
  },
  {
   "cell_type": "markdown",
   "id": "4f819af9-3094-44b8-8cbb-8dd2ba697a2d",
   "metadata": {},
   "source": [
    "В множество можно добавить новые элементы с помощью метода `.add()`. Обратите внимание, что так как порядок элементов *непредсказуем*, добавленный элемент можно оказаться в любом месте внутри множества:"
   ]
  },
  {
   "cell_type": "code",
   "execution_count": 6,
   "id": "b514b051-ad72-405c-b72e-b7cd627055c1",
   "metadata": {},
   "outputs": [
    {
     "name": "stdout",
     "output_type": "stream",
     "text": [
      "{'Ленинград', 'Болото-Сити', 'Петроград', 'Санкт-Петербург'}\n"
     ]
    }
   ],
   "source": [
    "piter_names.add(\"Болото-Сити\")\n",
    "print(piter_names)"
   ]
  },
  {
   "cell_type": "markdown",
   "id": "4bace4f3-1560-44c1-bd02-d723ae40eb03",
   "metadata": {},
   "source": [
    "А удалить элемент с определённым значением можно с помощью известного вам метода `.remove()` (который мы уже видели для списков):"
   ]
  },
  {
   "cell_type": "code",
   "execution_count": 7,
   "id": "03bb7704-682f-4527-af32-15b6f0d3d41a",
   "metadata": {},
   "outputs": [
    {
     "name": "stdout",
     "output_type": "stream",
     "text": [
      "{'Болото-Сити', 'Петроград', 'Санкт-Петербург'}\n"
     ]
    }
   ],
   "source": [
    "piter_names.remove(\"Ленинград\")\n",
    "print(piter_names)"
   ]
  },
  {
   "cell_type": "markdown",
   "id": "74e4b8ba-239a-4393-9507-44f6761f6014",
   "metadata": {},
   "source": [
    "### Методы взаимодействия множеств"
   ]
  },
  {
   "cell_type": "markdown",
   "id": "147ca4f2-4574-4d2d-a714-d259ab7ca6e9",
   "metadata": {},
   "source": [
    "Содержимое нескольких множеств можно легко сравнивать между собой. Например, сделаем множества всех целых отрицательных чисел не меньше $-4$, всех целых положительных чисел не больше $4$ и всех чётных чисел в том же диапазоне (от $-4$ до $4$). А потом нарисуем эти множества в виде [кругов Эйлера](https://ru.wikipedia.org/wiki/%D0%94%D0%B8%D0%B0%D0%B3%D1%80%D0%B0%D0%BC%D0%BC%D0%B0_%D0%AD%D0%B9%D0%BB%D0%B5%D1%80%D0%B0):"
   ]
  },
  {
   "cell_type": "code",
   "execution_count": 8,
   "id": "58906057-e056-4b80-a299-af19bea87428",
   "metadata": {},
   "outputs": [
    {
     "name": "stdout",
     "output_type": "stream",
     "text": [
      "{-4, -3, -2, -1}\n",
      "{1, 2, 3, 4}\n",
      "{0, 2, 4, -4, -2}\n"
     ]
    }
   ],
   "source": [
    "negative_numbers = {-4, -3, -2, -1}   # <--- отрицательные числа\n",
    "positive_numbers = {1, 2, 3, 4}       # <--- положительные числа\n",
    "even_numbers = {-4, -2, 0, 2, 4}      # <--- чётные числа\n",
    "\n",
    "print(negative_numbers, positive_numbers, even_numbers, sep=\"\\n\")"
   ]
  },
  {
   "cell_type": "markdown",
   "id": "b8a72321-dc4e-4b98-9b5e-bbd4efa63cec",
   "metadata": {},
   "source": [
    "<img src=\"https://sun9-68.userapi.com/impg/wXBp-rbspqRbIQW178DKlZwXM5_esiHLA6tCEg/Vis4NbrnGXw.jpg?size=1233x894&quality=96&sign=ef7119023d880fa8b2251379de2d2f34&type=album\" alt=\"диаграмма Эйлера\" width=\"300\"/>"
   ]
  },
  {
   "cell_type": "markdown",
   "id": "1a5228c8-595f-41f8-867d-0aa6e008c9ef",
   "metadata": {},
   "source": [
    "Видно, что множество `positive_numbers` пересекается с `even_numbers` (так как числа $2$ и $4$ — одновременно и положительные, и чётные), и то же верно для пары `negative_numbers` пересекается с `even_numbers`. А вот множества `positive_numbers` и `negative_numbers` не пересекаются — ведь ни одно число не является одновременно и отрицательным, и положительным. Ещё у каждого множества есть такие элементы, которые принадлежат только ему. Например, в множестве `even_numbers` есть число $0$, которое чётно, но не принадлежит ни отрицательным, ни положительным числам.\n",
    "\n",
    "_____"
   ]
  },
  {
   "cell_type": "markdown",
   "id": "e5836260-9f9d-42df-b792-37b0bfac5248",
   "metadata": {},
   "source": [
    "Итак, попробуем сравнить эти множества. Для этого используется несколько операторов. Оператор `|` (этот символ на клавиатуре обычно можно найти где-то справа около буквы «Э») поможет найти все элементы двух или более множеств. Логически это то же самое, что оператор «ИЛИ» (`or`), выдаются все элементы, которые есть ИЛИ в одном, ИЛИ в другом множестве:"
   ]
  },
  {
   "cell_type": "code",
   "execution_count": 9,
   "id": "62a37a11-74db-4638-a806-437f02b2f74e",
   "metadata": {},
   "outputs": [
    {
     "name": "stdout",
     "output_type": "stream",
     "text": [
      "{0, 1, 2, 3, 4, -4, -2}\n"
     ]
    }
   ],
   "source": [
    "print(positive_numbers | even_numbers)   # <--- положительные или чётные числа"
   ]
  },
  {
   "cell_type": "code",
   "execution_count": 10,
   "id": "9049e993-d690-4299-87ba-cd5db5520d2e",
   "metadata": {},
   "outputs": [
    {
     "name": "stdout",
     "output_type": "stream",
     "text": [
      "{0, 1, 2, 3, 4, -1, -4, -3, -2}\n"
     ]
    }
   ],
   "source": [
    "print(positive_numbers | negative_numbers | even_numbers)"
   ]
  },
  {
   "cell_type": "markdown",
   "id": "86f4d541-475c-411d-ab07-3ac183b49a55",
   "metadata": {},
   "source": [
    "Оператор `&` поможет найти только те элементы, которые находятся на пересечении множеств. Это логический аналог оператора «И» (`and`):"
   ]
  },
  {
   "cell_type": "code",
   "execution_count": 11,
   "id": "5eef77ff-45bd-4d78-8044-5378881ba867",
   "metadata": {},
   "outputs": [
    {
     "name": "stdout",
     "output_type": "stream",
     "text": [
      "{2, 4}\n"
     ]
    }
   ],
   "source": [
    "print(positive_numbers & even_numbers)   # <--- положительные И чётные числа"
   ]
  },
  {
   "cell_type": "code",
   "execution_count": 12,
   "id": "46e12557-e2cf-48bd-92dd-7c89faeaa43f",
   "metadata": {},
   "outputs": [
    {
     "name": "stdout",
     "output_type": "stream",
     "text": [
      "set()\n"
     ]
    }
   ],
   "source": [
    "print(positive_numbers & negative_numbers)   # <--- положительные и отрицательные числа не пересекаются, поэтому множество пустое"
   ]
  },
  {
   "cell_type": "markdown",
   "id": "3fb27d34-90ab-4d93-8039-ffeeaf8255e1",
   "metadata": {},
   "source": [
    "Оператор `-` (дефис) находит разницу между двумя множествами. Он выдаёт все элементы, которые есть в одном множестве, но отсутствуют в другом — то есть буквально вычитает из первого множества второе. Например, можно «вычесть» из положительных чисел чётные. Останутся только нечётные положительные числа:"
   ]
  },
  {
   "cell_type": "code",
   "execution_count": 13,
   "id": "c0916ab7-e603-406d-9492-5dd5dbc950cc",
   "metadata": {},
   "outputs": [
    {
     "name": "stdout",
     "output_type": "stream",
     "text": [
      "{1, 2, 3, 4}\n",
      "{1, 3}\n"
     ]
    }
   ],
   "source": [
    "print(positive_numbers)\n",
    "print(positive_numbers - even_numbers)"
   ]
  },
  {
   "cell_type": "markdown",
   "id": "01a262f9-1d26-4a9b-8856-03cef07f5b49",
   "metadata": {},
   "source": [
    "Обратите внимание, что операции «И» и «ИЛИ» обладают свойством коммутативности: это значит, что выражение `a | b` равнозначно `b | a`, а выражение `a & b` равнозначно `b & a` (так же, как в арифметике $2 × 5 = 5 × 2$, а $2 + 5 = 5 + 2$). Однако операция «логического вычитания» не обладает этим свойством, как и операция арифметического вычитания: $2-5 ≠ 5-2$. Поэтому важно понимать, из какого множества вычитается какое. Первым (до оператора) мы пишем множество, *из которого* вычитаем, а вторым (после оператора) — то, *чьё содержимое вычитаем*. В общем, всё как в арифметике:"
   ]
  },
  {
   "cell_type": "code",
   "execution_count": 14,
   "id": "fd65bf43-cbbc-45c2-b29b-3cb7847c622d",
   "metadata": {},
   "outputs": [
    {
     "name": "stdout",
     "output_type": "stream",
     "text": [
      "{1, 3}\n",
      "{0, -4, -2}\n"
     ]
    }
   ],
   "source": [
    "print(positive_numbers - even_numbers)   # <--- все положительные числа, кроме чётных\n",
    "print(even_numbers - positive_numbers)   # <--- все чётные числа, кроме положительных"
   ]
  },
  {
   "cell_type": "markdown",
   "id": "aa1259e6-41cc-4a4a-a8df-c7c9a88ebafb",
   "metadata": {},
   "source": [
    "Последний оператор в этом списке пишется как `^` (чтобы набрать этот символ, перейдите на английскую раскладку и зажмите Shift + «6»). Этот оператор выдаст так называемую «симметричную разницу», то есть все элементы из первого и второго множеств, кроме тех, что находятся на пересечении:"
   ]
  },
  {
   "cell_type": "code",
   "execution_count": 15,
   "id": "aacf215f-18b4-4bbb-992c-119898e29346",
   "metadata": {},
   "outputs": [
    {
     "name": "stdout",
     "output_type": "stream",
     "text": [
      "{1, 2, 3, 4}\n",
      "{1, 3}\n",
      "{2, 4}\n",
      "{0, 1, 3, -4, -2}\n"
     ]
    }
   ],
   "source": [
    "print(positive_numbers)\n",
    "print(positive_numbers - even_numbers)   # <--- все положительные числа, кроме чётных\n",
    "print(positive_numbers & even_numbers)   # <--- пересечение положительных и чётных чисел\n",
    "print(positive_numbers ^ even_numbers)   # <--- все положительные и все чётные, кроме пересечения"
   ]
  },
  {
   "cell_type": "markdown",
   "id": "66008e46-f0ee-4af3-acea-da3a30eac584",
   "metadata": {},
   "source": [
    "Для каждого из операторов есть также соответствующий метод множеств, который можно использовать в той же функции. Например, для `-` такой метод называется `.difference()`, потому что этот оператор буквально возвращает разницу между двумя множествами. При этом метод применяется к тому множеству, *из которого* вычитается объект, а то, *которое* вычитается, подаётся как аргумент:"
   ]
  },
  {
   "cell_type": "code",
   "execution_count": 16,
   "id": "3b54d47a-2ca3-4219-b7f5-0722cf054657",
   "metadata": {},
   "outputs": [
    {
     "name": "stdout",
     "output_type": "stream",
     "text": [
      "{1, 3}\n",
      "{1, 3}\n"
     ]
    }
   ],
   "source": [
    "print(positive_numbers - even_numbers)\n",
    "print(positive_numbers.difference(even_numbers))"
   ]
  },
  {
   "cell_type": "markdown",
   "id": "3d42a19b-73d6-40c6-b005-a8fa09971401",
   "metadata": {},
   "source": [
    "Вот список всех этих операторов и аналогичных им методов:\n",
    "- объединение всех элементов нескольких множеств\n",
    "  - оператор `|`\n",
    "  - метод `.union()`\n",
    "- пересечение нескольких множеств\n",
    "  - оператор `&`\n",
    "  - метод `.intersection()`\n",
    "- разница («вычитание»)\n",
    "  - оператор `-`\n",
    "  - метод `.difference()`\n",
    "- симметричная разница\n",
    "  - оператор `^`\n",
    "  - метод `.symmetric_difference()`"
   ]
  },
  {
   "cell_type": "markdown",
   "id": "267d6ac9-018f-4b0a-9f02-b7a23af52204",
   "metadata": {},
   "source": [
    "Все операторы и аналогичные им методы возвращают новые множества. Их можно напечатать, пройтись по ним циклам или записать в переменную — в общем, это просто обычные множества (так же, как при сложении или вычитании двух чисел получается обычное число). А ещё можно использовать скобки, чтобы указать на порядок применения операций. Например, сначала сложим вместе все положительные и отрицательные числа, а потом вычтем эту «сумму» из множества чётных чисел:"
   ]
  },
  {
   "cell_type": "code",
   "execution_count": 18,
   "id": "1df707e6-f1d0-4b2a-9513-394d7f46f6d0",
   "metadata": {},
   "outputs": [
    {
     "name": "stdout",
     "output_type": "stream",
     "text": [
      "{0}\n",
      "<class 'set'>\n"
     ]
    }
   ],
   "source": [
    "even_without_pos_neg = even_numbers - (positive_numbers | negative_numbers)\n",
    "print(even_without_pos_neg)\n",
    "print(type(even_without_pos_neg))"
   ]
  },
  {
   "cell_type": "markdown",
   "id": "974a8463-e804-4ce7-8384-ddd71fc60bac",
   "metadata": {},
   "source": [
    "Остался, предсказуемо, только $0$ (все остальные чётные числа либо положительные, либо отрицательные)."
   ]
  }
 ],
 "metadata": {
  "kernelspec": {
   "display_name": "Python 3 (ipykernel)",
   "language": "python",
   "name": "python3"
  },
  "language_info": {
   "codemirror_mode": {
    "name": "ipython",
    "version": 3
   },
   "file_extension": ".py",
   "mimetype": "text/x-python",
   "name": "python",
   "nbconvert_exporter": "python",
   "pygments_lexer": "ipython3",
   "version": "3.11.4"
  }
 },
 "nbformat": 4,
 "nbformat_minor": 5
}
