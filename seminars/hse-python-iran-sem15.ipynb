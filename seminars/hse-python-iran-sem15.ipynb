{
 "cells": [
  {
   "cell_type": "markdown",
   "id": "cea17432-ea86-4cb1-bed1-bdd795b70aa0",
   "metadata": {},
   "source": [
    "# Семинар 15"
   ]
  },
  {
   "cell_type": "markdown",
   "id": "384ab864-f3a9-4dfd-8483-d90174c727f1",
   "metadata": {
    "jp-MarkdownHeadingCollapsed": true
   },
   "source": [
    "## Визуализация данных"
   ]
  },
  {
   "cell_type": "markdown",
   "id": "4798b48c-79cc-45c0-8b64-336640371aab",
   "metadata": {},
   "source": [
    "Какие бывают типы данных?\n",
    "- **численные**\n",
    "  - дискретные: $2001, 2004, 2009, 2017$\n",
    "  - непрерывные: $0.27, 10.3, 278.95, 9.54$\n",
    "\n",
    "> Дискретные переменные — такие, значения которых обязательно находятся на определённых интервалах. Например, такая переменная, как «год», дискретна, потому что года бывают только целыми числами, и не может быть какого-нибудь $2017.5$ года. Число рублей может быть не целым, но и у него есть интервальные ограничения, потому что минимально возможным значением рубля будет $0.01$ (= 1 копейка), и на вашей банковской карточке не может быть, скажем, $750.0052$ рубля. А вот если речь про процент голосов за кандидата на выборах или массу тела — у таких переменных нет ограничений по каким-либо интервалам.\n",
    "\n",
    "- **категориальные**\n",
    "  - ранжированные: пн, вт, ср, чт, пт, сб, вс\n",
    "  - неранжированные: арабский, персидский, английский, русский"
   ]
  },
  {
   "cell_type": "markdown",
   "id": "c41ec04e-e0ab-4201-a0ea-83525c786e70",
   "metadata": {},
   "source": [
    "_____"
   ]
  },
  {
   "cell_type": "markdown",
   "id": "f39dc6c6-d16e-40e0-8250-9b7afe6fb27a",
   "metadata": {},
   "source": [
    "Самые распространённые типы диаграмм:\n",
    "\n",
    "- столбчатая диаграмма (***bar plot***)\n",
    "- гистограмма (***histogram***)\n",
    "- точечная диаграмма (***scatter plot***)\n",
    "- линейный график (***line plot***)\n",
    "- тепловая карта (***heatmap***)\n",
    "- ящик с усами (***box plot***)\n",
    "\n",
    "Все их можно рисовать в питоне. Рассмотрим некоторые из них! Но сначала нам придётся пройти быстрый мини-курс по `pandas`."
   ]
  },
  {
   "cell_type": "markdown",
   "id": "48fe1a36-c32a-4b92-ad32-6973408e615c",
   "metadata": {},
   "source": [
    "## Быстрое введение в **`pandas`**"
   ]
  },
  {
   "cell_type": "markdown",
   "id": "8b458393-738b-4f8a-92c1-ae6c1f6d84a9",
   "metadata": {},
   "source": [
    "Библиотека **`pandas`** — очень известный и широко используемый инструмент для работы с **табличными данными**. Для построения диаграмм она нам будет очень полезна. Эту библиотеку принято импортировать под псевдонимом **`pd`**:"
   ]
  },
  {
   "cell_type": "code",
   "execution_count": 1,
   "id": "9847e504-834e-42c6-919a-a47e804d14c1",
   "metadata": {},
   "outputs": [],
   "source": [
    "import pandas as pd"
   ]
  },
  {
   "cell_type": "markdown",
   "id": "dc3526f9-9f41-4b04-a4cc-2511ab278cc9",
   "metadata": {},
   "source": [
    "### Создание датафрейма"
   ]
  },
  {
   "cell_type": "markdown",
   "id": "65bc9df9-9f4f-4a96-b068-49e0ff4a4f02",
   "metadata": {
    "jp-MarkdownHeadingCollapsed": true
   },
   "source": [
    "#### Датафрейм из словаря со списками"
   ]
  },
  {
   "cell_type": "markdown",
   "id": "a37ed6b9-4b83-4f66-8308-1d63d8d2ef3d",
   "metadata": {},
   "source": [
    "Основной класс объектов в `pandas` — **`pd.DataFrame`**, то есть **датафрейм**, или попросту таблица. Создать датафрейм можно разными способами, в том числе из словаря, в котором ключи — это будущие названия столбцов, а значения хранят будущие значения ячеек:"
   ]
  },
  {
   "cell_type": "code",
   "execution_count": 2,
   "id": "b182eb46-720f-4732-b361-e8fde265eec8",
   "metadata": {},
   "outputs": [],
   "source": [
    "slovar = {\n",
    "    \"language\": [\"Arabic\", \"English\", \"Persian\", \"Russian\"],\n",
    "    \"default_order\": [\"VSO\", \"SVO\", \"SOV\", \"SVO\"]\n",
    "}"
   ]
  },
  {
   "cell_type": "code",
   "execution_count": 3,
   "id": "51e42c7c-74a8-4eb6-a2b4-aa35577990b8",
   "metadata": {},
   "outputs": [
    {
     "data": {
      "text/html": [
       "<div>\n",
       "<style scoped>\n",
       "    .dataframe tbody tr th:only-of-type {\n",
       "        vertical-align: middle;\n",
       "    }\n",
       "\n",
       "    .dataframe tbody tr th {\n",
       "        vertical-align: top;\n",
       "    }\n",
       "\n",
       "    .dataframe thead th {\n",
       "        text-align: right;\n",
       "    }\n",
       "</style>\n",
       "<table border=\"1\" class=\"dataframe\">\n",
       "  <thead>\n",
       "    <tr style=\"text-align: right;\">\n",
       "      <th></th>\n",
       "      <th>language</th>\n",
       "      <th>default_order</th>\n",
       "    </tr>\n",
       "  </thead>\n",
       "  <tbody>\n",
       "    <tr>\n",
       "      <th>0</th>\n",
       "      <td>Arabic</td>\n",
       "      <td>VSO</td>\n",
       "    </tr>\n",
       "    <tr>\n",
       "      <th>1</th>\n",
       "      <td>English</td>\n",
       "      <td>SVO</td>\n",
       "    </tr>\n",
       "    <tr>\n",
       "      <th>2</th>\n",
       "      <td>Persian</td>\n",
       "      <td>SOV</td>\n",
       "    </tr>\n",
       "    <tr>\n",
       "      <th>3</th>\n",
       "      <td>Russian</td>\n",
       "      <td>SVO</td>\n",
       "    </tr>\n",
       "  </tbody>\n",
       "</table>\n",
       "</div>"
      ],
      "text/plain": [
       "  language default_order\n",
       "0   Arabic           VSO\n",
       "1  English           SVO\n",
       "2  Persian           SOV\n",
       "3  Russian           SVO"
      ]
     },
     "execution_count": 3,
     "metadata": {},
     "output_type": "execute_result"
    }
   ],
   "source": [
    "slovar = pd.DataFrame(slovar)\n",
    "slovar"
   ]
  },
  {
   "cell_type": "markdown",
   "id": "b552f298-d63e-45c2-be49-3d9439327877",
   "metadata": {},
   "source": [
    "Слева от первого столбца вы видите **индексы** ($0, 1, 2, 3$). Они в чём-то похожи на индексы списка (по умолчанию идут от $0$ до конца таблицы), а в чём-то — на ключи словаря (в теории могут быть не только числами от $0$ до конца таблицы, а вообще любыми числами или даже строками)."
   ]
  },
  {
   "cell_type": "markdown",
   "id": "d9385059-5155-4e17-8fe3-b58e2010d028",
   "metadata": {
    "jp-MarkdownHeadingCollapsed": true
   },
   "source": [
    "#### Датафрейм из списка со словарями"
   ]
  },
  {
   "cell_type": "markdown",
   "id": "8a9097e5-2e4f-47f8-9d5d-aeae4aaf0ac4",
   "metadata": {},
   "source": [
    "Датафрейм можно также сделать из списка со словарями. Ключи словарей должны быть одни и те же — это будут названия столбцов, а значения будут значениями ячеек.\n",
    "\n",
    "Такой формат данных мы уже видели в 6 домашке. Вернёмся к тому [датасету](https://github.com/maxmerben/hse-python-iran-2024/blob/main/other/sem6.2-poems.json) с персидскими поэмами и загрузим его:"
   ]
  },
  {
   "cell_type": "code",
   "execution_count": 4,
   "id": "2579485f-a65c-4579-adae-e5a28f4262e3",
   "metadata": {},
   "outputs": [],
   "source": [
    "import json\n",
    "with open(\"sem6.2-poems.json\", \"r\", encoding=\"utf-8-sig\") as f:\n",
    "    poems = json.load(f)"
   ]
  },
  {
   "cell_type": "code",
   "execution_count": 5,
   "id": "318f4aed-830b-4ea3-b3ed-5c5cfbe7fb93",
   "metadata": {},
   "outputs": [
    {
     "data": {
      "text/plain": [
       "[{'author': 'Xāqāni',\n",
       "  'century': 6,\n",
       "  'text': 'آفاق به پای آه ما فرسنگی است    وز نالهٔ ما سپهر دود آهنگی است    بر پای امید ماست هر جا خاری است    بر شیشهٔ عمر ماست هر جا سنگی است'},\n",
       " {'author': 'Xayyām',\n",
       "  'century': 6,\n",
       "  'text': '* ساقی غمِ من بلند\\u200cآوازه شده\\u200cاست،    سرمستیِ من برون ز اندازه شده\\u200cاست؛    با مویِ سپیدْ سرخوشم کز میِ تو؛    پیرانه\\u200cسرم بهارِ دل تازه شده\\u200cاست.'}]"
      ]
     },
     "execution_count": 5,
     "metadata": {},
     "output_type": "execute_result"
    }
   ],
   "source": [
    "poems[0:2]"
   ]
  },
  {
   "cell_type": "markdown",
   "id": "829592d9-cd7c-4321-91fb-0877e6842b35",
   "metadata": {},
   "source": [
    "Сделаем из него датафрейм:"
   ]
  },
  {
   "cell_type": "code",
   "execution_count": 6,
   "id": "349628cb-3b62-4fa0-99a1-ecd881832f42",
   "metadata": {},
   "outputs": [
    {
     "data": {
      "text/html": [
       "<div>\n",
       "<style scoped>\n",
       "    .dataframe tbody tr th:only-of-type {\n",
       "        vertical-align: middle;\n",
       "    }\n",
       "\n",
       "    .dataframe tbody tr th {\n",
       "        vertical-align: top;\n",
       "    }\n",
       "\n",
       "    .dataframe thead th {\n",
       "        text-align: right;\n",
       "    }\n",
       "</style>\n",
       "<table border=\"1\" class=\"dataframe\">\n",
       "  <thead>\n",
       "    <tr style=\"text-align: right;\">\n",
       "      <th></th>\n",
       "      <th>author</th>\n",
       "      <th>century</th>\n",
       "      <th>text</th>\n",
       "    </tr>\n",
       "  </thead>\n",
       "  <tbody>\n",
       "    <tr>\n",
       "      <th>0</th>\n",
       "      <td>Xāqāni</td>\n",
       "      <td>6</td>\n",
       "      <td>آفاق به پای آه ما فرسنگی است    وز نالهٔ ما سپ...</td>\n",
       "    </tr>\n",
       "    <tr>\n",
       "      <th>1</th>\n",
       "      <td>Xayyām</td>\n",
       "      <td>6</td>\n",
       "      <td>* ساقی غمِ من بلند‌آوازه شده‌است،    سرمستیِ م...</td>\n",
       "    </tr>\n",
       "    <tr>\n",
       "      <th>2</th>\n",
       "      <td>Hāfez</td>\n",
       "      <td>8</td>\n",
       "      <td>ای که در کشتن ما هیچ مدارا نکنی    سود و سرمای...</td>\n",
       "    </tr>\n",
       "    <tr>\n",
       "      <th>3</th>\n",
       "      <td>Hāfez</td>\n",
       "      <td>8</td>\n",
       "      <td>ای که بر ماه از خط مشکین نقاب انداختی    لطف ک...</td>\n",
       "    </tr>\n",
       "    <tr>\n",
       "      <th>4</th>\n",
       "      <td>Xayyām</td>\n",
       "      <td>6</td>\n",
       "      <td>ای دوست بیا تا غم فردا نخوریم    وین یکدم عمر ...</td>\n",
       "    </tr>\n",
       "    <tr>\n",
       "      <th>...</th>\n",
       "      <td>...</td>\n",
       "      <td>...</td>\n",
       "      <td>...</td>\n",
       "    </tr>\n",
       "    <tr>\n",
       "      <th>295</th>\n",
       "      <td>Xayyām</td>\n",
       "      <td>6</td>\n",
       "      <td>عمریست مرا تیره و کاریست نه راست    محنت همه ا...</td>\n",
       "    </tr>\n",
       "    <tr>\n",
       "      <th>296</th>\n",
       "      <td>Hāfez</td>\n",
       "      <td>8</td>\n",
       "      <td>ناگهان پرده برانداخته‌ای یعنی چه    مست از خان...</td>\n",
       "    </tr>\n",
       "    <tr>\n",
       "      <th>297</th>\n",
       "      <td>Xāqāni</td>\n",
       "      <td>6</td>\n",
       "      <td>طبع تو دمساز نیست چاره چه سازم    کین تو کمتر ...</td>\n",
       "    </tr>\n",
       "    <tr>\n",
       "      <th>298</th>\n",
       "      <td>Xāqāni</td>\n",
       "      <td>6</td>\n",
       "      <td>شاهد سرمست من صبح درآمد ز خواب    کرد صراحی طل...</td>\n",
       "    </tr>\n",
       "    <tr>\n",
       "      <th>299</th>\n",
       "      <td>Xāqāni</td>\n",
       "      <td>6</td>\n",
       "      <td>غصه بر هر دلی که کار کند    آب چشم آتشین نثار ...</td>\n",
       "    </tr>\n",
       "  </tbody>\n",
       "</table>\n",
       "<p>300 rows × 3 columns</p>\n",
       "</div>"
      ],
      "text/plain": [
       "     author  century                                               text\n",
       "0    Xāqāni        6  آفاق به پای آه ما فرسنگی است    وز نالهٔ ما سپ...\n",
       "1    Xayyām        6  * ساقی غمِ من بلند‌آوازه شده‌است،    سرمستیِ م...\n",
       "2     Hāfez        8  ای که در کشتن ما هیچ مدارا نکنی    سود و سرمای...\n",
       "3     Hāfez        8  ای که بر ماه از خط مشکین نقاب انداختی    لطف ک...\n",
       "4    Xayyām        6  ای دوست بیا تا غم فردا نخوریم    وین یکدم عمر ...\n",
       "..      ...      ...                                                ...\n",
       "295  Xayyām        6  عمریست مرا تیره و کاریست نه راست    محنت همه ا...\n",
       "296   Hāfez        8  ناگهان پرده برانداخته‌ای یعنی چه    مست از خان...\n",
       "297  Xāqāni        6  طبع تو دمساز نیست چاره چه سازم    کین تو کمتر ...\n",
       "298  Xāqāni        6  شاهد سرمست من صبح درآمد ز خواب    کرد صراحی طل...\n",
       "299  Xāqāni        6  غصه بر هر دلی که کار کند    آب چشم آتشین نثار ...\n",
       "\n",
       "[300 rows x 3 columns]"
      ]
     },
     "execution_count": 6,
     "metadata": {},
     "output_type": "execute_result"
    }
   ],
   "source": [
    "poems = pd.DataFrame(poems)\n",
    "poems"
   ]
  },
  {
   "cell_type": "markdown",
   "id": "62acd1f8-1317-4f68-ac53-3a171f95f46e",
   "metadata": {
    "jp-MarkdownHeadingCollapsed": true
   },
   "source": [
    "#### Датафрейм из _csv_-таблицы"
   ]
  },
  {
   "cell_type": "markdown",
   "id": "670a4330-8c78-4e69-8502-c59cde376c08",
   "metadata": {},
   "source": [
    "Самый каноничный способ создания датафрейма — загрузка данных из *csv*-файла. Для этого используется функция **`pd.read_csv()`**, в которую подаётся название файла (файл должен лежать в той же папке, где тетрадка). Функция `open`, кодировки и вся возня со структурой *csv* вообще не нужны, `pandas` делает всё за нас."
   ]
  },
  {
   "cell_type": "markdown",
   "id": "a2b68b57-94d2-4294-9553-2fd93ce4cb31",
   "metadata": {},
   "source": [
    "В датасете ниже (**[ссылка](https://github.com/maxmerben/hse-python-iran-2024/blob/main/other/sem15-temperature.csv)**, [исходные данные](https://www.kaggle.com/datasets/berkeleyearth/climate-change-earth-surface-temperature-data)) собраны средние замеры температуры летом с 1850 по 2013 годы в некоторых городах Земли:"
   ]
  },
  {
   "cell_type": "code",
   "execution_count": 7,
   "id": "ab39aa7d-7859-4f11-bd77-4d7484d2c086",
   "metadata": {},
   "outputs": [
    {
     "data": {
      "text/html": [
       "<div>\n",
       "<style scoped>\n",
       "    .dataframe tbody tr th:only-of-type {\n",
       "        vertical-align: middle;\n",
       "    }\n",
       "\n",
       "    .dataframe tbody tr th {\n",
       "        vertical-align: top;\n",
       "    }\n",
       "\n",
       "    .dataframe thead th {\n",
       "        text-align: right;\n",
       "    }\n",
       "</style>\n",
       "<table border=\"1\" class=\"dataframe\">\n",
       "  <thead>\n",
       "    <tr style=\"text-align: right;\">\n",
       "      <th></th>\n",
       "      <th>year</th>\n",
       "      <th>city</th>\n",
       "      <th>temp</th>\n",
       "    </tr>\n",
       "  </thead>\n",
       "  <tbody>\n",
       "    <tr>\n",
       "      <th>0</th>\n",
       "      <td>1850</td>\n",
       "      <td>Baghdad</td>\n",
       "      <td>33.436000</td>\n",
       "    </tr>\n",
       "    <tr>\n",
       "      <th>1</th>\n",
       "      <td>1850</td>\n",
       "      <td>Calcutta</td>\n",
       "      <td>29.244000</td>\n",
       "    </tr>\n",
       "    <tr>\n",
       "      <th>2</th>\n",
       "      <td>1850</td>\n",
       "      <td>Delhi</td>\n",
       "      <td>31.568333</td>\n",
       "    </tr>\n",
       "    <tr>\n",
       "      <th>3</th>\n",
       "      <td>1850</td>\n",
       "      <td>Mashhad</td>\n",
       "      <td>23.158000</td>\n",
       "    </tr>\n",
       "    <tr>\n",
       "      <th>4</th>\n",
       "      <td>1850</td>\n",
       "      <td>Moscow</td>\n",
       "      <td>18.205333</td>\n",
       "    </tr>\n",
       "    <tr>\n",
       "      <th>...</th>\n",
       "      <td>...</td>\n",
       "      <td>...</td>\n",
       "      <td>...</td>\n",
       "    </tr>\n",
       "    <tr>\n",
       "      <th>802</th>\n",
       "      <td>2013</td>\n",
       "      <td>Baghdad</td>\n",
       "      <td>35.219333</td>\n",
       "    </tr>\n",
       "    <tr>\n",
       "      <th>803</th>\n",
       "      <td>2013</td>\n",
       "      <td>Calcutta</td>\n",
       "      <td>30.052333</td>\n",
       "    </tr>\n",
       "    <tr>\n",
       "      <th>804</th>\n",
       "      <td>2013</td>\n",
       "      <td>Delhi</td>\n",
       "      <td>31.339667</td>\n",
       "    </tr>\n",
       "    <tr>\n",
       "      <th>805</th>\n",
       "      <td>2013</td>\n",
       "      <td>Mashhad</td>\n",
       "      <td>25.448000</td>\n",
       "    </tr>\n",
       "    <tr>\n",
       "      <th>806</th>\n",
       "      <td>2013</td>\n",
       "      <td>Moscow</td>\n",
       "      <td>18.113000</td>\n",
       "    </tr>\n",
       "  </tbody>\n",
       "</table>\n",
       "<p>807 rows × 3 columns</p>\n",
       "</div>"
      ],
      "text/plain": [
       "     year      city       temp\n",
       "0    1850   Baghdad  33.436000\n",
       "1    1850  Calcutta  29.244000\n",
       "2    1850     Delhi  31.568333\n",
       "3    1850   Mashhad  23.158000\n",
       "4    1850    Moscow  18.205333\n",
       "..    ...       ...        ...\n",
       "802  2013   Baghdad  35.219333\n",
       "803  2013  Calcutta  30.052333\n",
       "804  2013     Delhi  31.339667\n",
       "805  2013   Mashhad  25.448000\n",
       "806  2013    Moscow  18.113000\n",
       "\n",
       "[807 rows x 3 columns]"
      ]
     },
     "execution_count": 7,
     "metadata": {},
     "output_type": "execute_result"
    }
   ],
   "source": [
    "filename = \"sem15-temperature.csv\"\n",
    "\n",
    "temp = pd.read_csv(filename)\n",
    "temp"
   ]
  },
  {
   "cell_type": "markdown",
   "id": "8f7fda94-a7d2-426c-b769-f14b82b9869e",
   "metadata": {
    "jp-MarkdownHeadingCollapsed": true
   },
   "source": [
    "### Работа с датафреймами"
   ]
  },
  {
   "cell_type": "markdown",
   "id": "94db186e-ad7c-404c-be26-dabcb7d5cc66",
   "metadata": {},
   "source": [
    "Рассмотрим несколько ключевых возможностей в работе с датафреймами `pandas`.\n",
    "\n",
    "Вывести только верх таблицы — **`df.head()`**:"
   ]
  },
  {
   "cell_type": "code",
   "execution_count": 8,
   "id": "b8a1bc50-237a-4654-9027-285622230320",
   "metadata": {},
   "outputs": [
    {
     "data": {
      "text/html": [
       "<div>\n",
       "<style scoped>\n",
       "    .dataframe tbody tr th:only-of-type {\n",
       "        vertical-align: middle;\n",
       "    }\n",
       "\n",
       "    .dataframe tbody tr th {\n",
       "        vertical-align: top;\n",
       "    }\n",
       "\n",
       "    .dataframe thead th {\n",
       "        text-align: right;\n",
       "    }\n",
       "</style>\n",
       "<table border=\"1\" class=\"dataframe\">\n",
       "  <thead>\n",
       "    <tr style=\"text-align: right;\">\n",
       "      <th></th>\n",
       "      <th>year</th>\n",
       "      <th>city</th>\n",
       "      <th>temp</th>\n",
       "    </tr>\n",
       "  </thead>\n",
       "  <tbody>\n",
       "    <tr>\n",
       "      <th>0</th>\n",
       "      <td>1850</td>\n",
       "      <td>Baghdad</td>\n",
       "      <td>33.436000</td>\n",
       "    </tr>\n",
       "    <tr>\n",
       "      <th>1</th>\n",
       "      <td>1850</td>\n",
       "      <td>Calcutta</td>\n",
       "      <td>29.244000</td>\n",
       "    </tr>\n",
       "    <tr>\n",
       "      <th>2</th>\n",
       "      <td>1850</td>\n",
       "      <td>Delhi</td>\n",
       "      <td>31.568333</td>\n",
       "    </tr>\n",
       "    <tr>\n",
       "      <th>3</th>\n",
       "      <td>1850</td>\n",
       "      <td>Mashhad</td>\n",
       "      <td>23.158000</td>\n",
       "    </tr>\n",
       "    <tr>\n",
       "      <th>4</th>\n",
       "      <td>1850</td>\n",
       "      <td>Moscow</td>\n",
       "      <td>18.205333</td>\n",
       "    </tr>\n",
       "  </tbody>\n",
       "</table>\n",
       "</div>"
      ],
      "text/plain": [
       "   year      city       temp\n",
       "0  1850   Baghdad  33.436000\n",
       "1  1850  Calcutta  29.244000\n",
       "2  1850     Delhi  31.568333\n",
       "3  1850   Mashhad  23.158000\n",
       "4  1850    Moscow  18.205333"
      ]
     },
     "execution_count": 8,
     "metadata": {},
     "output_type": "execute_result"
    }
   ],
   "source": [
    "temp.head()"
   ]
  },
  {
   "cell_type": "markdown",
   "id": "e5713ec9-30c5-4f0c-a39a-f6433d3128be",
   "metadata": {},
   "source": [
    "В `df.head()` можно подать число строк, которое вы хотите видеть (по умолчанию 5):"
   ]
  },
  {
   "cell_type": "code",
   "execution_count": 9,
   "id": "836fd6b0-cda7-4926-800e-2815ff38759d",
   "metadata": {},
   "outputs": [
    {
     "data": {
      "text/html": [
       "<div>\n",
       "<style scoped>\n",
       "    .dataframe tbody tr th:only-of-type {\n",
       "        vertical-align: middle;\n",
       "    }\n",
       "\n",
       "    .dataframe tbody tr th {\n",
       "        vertical-align: top;\n",
       "    }\n",
       "\n",
       "    .dataframe thead th {\n",
       "        text-align: right;\n",
       "    }\n",
       "</style>\n",
       "<table border=\"1\" class=\"dataframe\">\n",
       "  <thead>\n",
       "    <tr style=\"text-align: right;\">\n",
       "      <th></th>\n",
       "      <th>year</th>\n",
       "      <th>city</th>\n",
       "      <th>temp</th>\n",
       "    </tr>\n",
       "  </thead>\n",
       "  <tbody>\n",
       "    <tr>\n",
       "      <th>0</th>\n",
       "      <td>1850</td>\n",
       "      <td>Baghdad</td>\n",
       "      <td>33.436</td>\n",
       "    </tr>\n",
       "    <tr>\n",
       "      <th>1</th>\n",
       "      <td>1850</td>\n",
       "      <td>Calcutta</td>\n",
       "      <td>29.244</td>\n",
       "    </tr>\n",
       "  </tbody>\n",
       "</table>\n",
       "</div>"
      ],
      "text/plain": [
       "   year      city    temp\n",
       "0  1850   Baghdad  33.436\n",
       "1  1850  Calcutta  29.244"
      ]
     },
     "execution_count": 9,
     "metadata": {},
     "output_type": "execute_result"
    }
   ],
   "source": [
    "temp.head(2)"
   ]
  },
  {
   "cell_type": "markdown",
   "id": "59b7322c-2574-4d0e-af8b-296890ebd3ba",
   "metadata": {},
   "source": [
    "_____"
   ]
  },
  {
   "cell_type": "markdown",
   "id": "9a32a28b-ca57-4552-a58b-c99f4eb843dd",
   "metadata": {},
   "source": [
    "Получить число строк можно обычной функцией `len()`:"
   ]
  },
  {
   "cell_type": "code",
   "execution_count": 10,
   "id": "e3e9b3c5-7a2c-4908-8787-aed445999931",
   "metadata": {},
   "outputs": [
    {
     "data": {
      "text/plain": [
       "807"
      ]
     },
     "execution_count": 10,
     "metadata": {},
     "output_type": "execute_result"
    }
   ],
   "source": [
    "len(temp)"
   ]
  },
  {
   "cell_type": "markdown",
   "id": "47174d4b-0e46-4145-b6e1-e8a64a0ec19f",
   "metadata": {},
   "source": [
    "Но есть и специализированный способ, который даёт больше информации. Можно запросить у датафрейма атрибут **`df.shape`**, который вернёт кортеж вида: (**кол-во строк, кол-во столбцов**). (Напомним: атрибут — свойство объекта, которое запрашивается как метод, но без скобок.)"
   ]
  },
  {
   "cell_type": "code",
   "execution_count": 11,
   "id": "3a3a1087-780b-4877-ba99-4a289fcba560",
   "metadata": {},
   "outputs": [
    {
     "name": "stdout",
     "output_type": "stream",
     "text": [
      "(807, 3)\n",
      "кол-во строк:     807\n",
      "кол-во столбцов:  3\n"
     ]
    }
   ],
   "source": [
    "print(temp.shape)\n",
    "print(\"кол-во строк:    \", temp.shape[0])\n",
    "print(\"кол-во столбцов: \", temp.shape[1])"
   ]
  },
  {
   "cell_type": "markdown",
   "id": "0714e1f5-8db7-4850-8e2d-fe192727e697",
   "metadata": {},
   "source": [
    "_____"
   ]
  },
  {
   "cell_type": "markdown",
   "id": "290705b0-55e4-49ef-8827-4a7d6074be58",
   "metadata": {},
   "source": [
    "Из датафрейма можно **вытащить отдельный столбец**. Для этого надо запросить столбец по названию так, как будто это ключ словаря:"
   ]
  },
  {
   "cell_type": "code",
   "execution_count": 12,
   "id": "2b129bb1-193d-4803-8938-55652a111fd8",
   "metadata": {},
   "outputs": [
    {
     "data": {
      "text/plain": [
       "0       Baghdad\n",
       "1      Calcutta\n",
       "2         Delhi\n",
       "3       Mashhad\n",
       "4        Moscow\n",
       "         ...   \n",
       "802     Baghdad\n",
       "803    Calcutta\n",
       "804       Delhi\n",
       "805     Mashhad\n",
       "806      Moscow\n",
       "Name: city, Length: 807, dtype: object"
      ]
     },
     "execution_count": 12,
     "metadata": {},
     "output_type": "execute_result"
    }
   ],
   "source": [
    "temp[\"city\"]"
   ]
  },
  {
   "cell_type": "markdown",
   "id": "c0f905c8-5aab-41d5-8c29-b268b167d1a6",
   "metadata": {},
   "source": [
    "В результате этого `pandas` выдаёт объект **`Series`**. По сути это просто столбец датафрейма. У него, как видите, сохраняются индексы — поэтому из `Series` можно добраться до значения конкретной ячейки, используя индексацию:"
   ]
  },
  {
   "cell_type": "code",
   "execution_count": 13,
   "id": "7687e46b-65ce-4636-9cb1-be75e8f72e1e",
   "metadata": {},
   "outputs": [
    {
     "name": "stdout",
     "output_type": "stream",
     "text": [
      "Baghdad\n",
      "1850\n",
      "Delhi\n",
      "2013\n"
     ]
    }
   ],
   "source": [
    "print(temp[\"city\"][0])\n",
    "print(temp[\"year\"][0])\n",
    "\n",
    "print(temp[\"city\"][804])\n",
    "print(temp[\"year\"][804])"
   ]
  },
  {
   "cell_type": "markdown",
   "id": "82f0eab1-a7a2-4dfa-b3e1-7af206a47bd3",
   "metadata": {},
   "source": [
    "_____"
   ]
  },
  {
   "cell_type": "markdown",
   "id": "af297238-e4c6-477d-86cb-cf36a27e38b7",
   "metadata": {},
   "source": [
    "От объекта `Series` можно вызвать метод **`.unique()`**, который будет выдавать все уникальные значения этого столбца датафрейма. (В результате получается объект `np.ndarray` (англ. *array* ‘массив’) из библиотеки `numpy`. Не суть важно, что это за объект, де-факто это улучшенная версия списка. Мы можем для простоты считать, что это список.)"
   ]
  },
  {
   "cell_type": "code",
   "execution_count": 18,
   "id": "9510fbc6-12ac-4401-ab87-09671efad619",
   "metadata": {},
   "outputs": [
    {
     "name": "stdout",
     "output_type": "stream",
     "text": [
      "['Baghdad' 'Calcutta' 'Delhi' 'Mashhad' 'Moscow']\n",
      "<class 'numpy.ndarray'>\n",
      "Delhi\n"
     ]
    }
   ],
   "source": [
    "unique_cities = temp[\"city\"].unique()\n",
    "\n",
    "print(unique_cities)\n",
    "print(type(unique_cities))\n",
    "\n",
    "print(unique_cities[2])"
   ]
  },
  {
   "cell_type": "markdown",
   "id": "98f7ddd7-5c0e-4e68-aa4a-27704ba4c0e8",
   "metadata": {},
   "source": [
    "Есть также метод **`.value_counts()`**, который не просто находит уникальные значения, но ещё и подсчитывает количество их употреблений:"
   ]
  },
  {
   "cell_type": "code",
   "execution_count": 19,
   "id": "8a30f628-f486-4a46-8c12-15c71870f3d5",
   "metadata": {},
   "outputs": [
    {
     "data": {
      "text/plain": [
       "city\n",
       "Baghdad     164\n",
       "Mashhad     164\n",
       "Moscow      164\n",
       "Calcutta    163\n",
       "Delhi       152\n",
       "Name: count, dtype: int64"
      ]
     },
     "execution_count": 19,
     "metadata": {},
     "output_type": "execute_result"
    }
   ],
   "source": [
    "counts = temp[\"city\"].value_counts()\n",
    "counts"
   ]
  },
  {
   "cell_type": "markdown",
   "id": "a56c66b5-b8cd-4881-83b1-8e3c6c7dad4e",
   "metadata": {},
   "source": [
    "_____"
   ]
  },
  {
   "cell_type": "markdown",
   "id": "d9edcc20-3167-4596-9ca1-6debd2d98a51",
   "metadata": {},
   "source": [
    "Данные датафрейма можно **отфильтровать** по некоторому условию. Это условие (в виде логического выражения) нужно записать в квадратные скобки. В логическом выражении должны сравниваться один из столбцов и какое-то значение (число, строка, другой столбец и так далее). В сравнении можно использовать привычные нам операторы `==`, `!=`, `>`, `<`, `>=`, `<=`. Например, выберем только строки с данными из Мешхеда:"
   ]
  },
  {
   "cell_type": "code",
   "execution_count": 14,
   "id": "98cdfc8b-a855-4559-8d8e-56eeb61d06d0",
   "metadata": {},
   "outputs": [
    {
     "data": {
      "text/html": [
       "<div>\n",
       "<style scoped>\n",
       "    .dataframe tbody tr th:only-of-type {\n",
       "        vertical-align: middle;\n",
       "    }\n",
       "\n",
       "    .dataframe tbody tr th {\n",
       "        vertical-align: top;\n",
       "    }\n",
       "\n",
       "    .dataframe thead th {\n",
       "        text-align: right;\n",
       "    }\n",
       "</style>\n",
       "<table border=\"1\" class=\"dataframe\">\n",
       "  <thead>\n",
       "    <tr style=\"text-align: right;\">\n",
       "      <th></th>\n",
       "      <th>year</th>\n",
       "      <th>city</th>\n",
       "      <th>temp</th>\n",
       "    </tr>\n",
       "  </thead>\n",
       "  <tbody>\n",
       "    <tr>\n",
       "      <th>3</th>\n",
       "      <td>1850</td>\n",
       "      <td>Mashhad</td>\n",
       "      <td>23.158000</td>\n",
       "    </tr>\n",
       "    <tr>\n",
       "      <th>8</th>\n",
       "      <td>1851</td>\n",
       "      <td>Mashhad</td>\n",
       "      <td>23.634667</td>\n",
       "    </tr>\n",
       "    <tr>\n",
       "      <th>13</th>\n",
       "      <td>1852</td>\n",
       "      <td>Mashhad</td>\n",
       "      <td>23.391333</td>\n",
       "    </tr>\n",
       "    <tr>\n",
       "      <th>18</th>\n",
       "      <td>1853</td>\n",
       "      <td>Mashhad</td>\n",
       "      <td>23.652667</td>\n",
       "    </tr>\n",
       "    <tr>\n",
       "      <th>23</th>\n",
       "      <td>1854</td>\n",
       "      <td>Mashhad</td>\n",
       "      <td>22.687333</td>\n",
       "    </tr>\n",
       "    <tr>\n",
       "      <th>...</th>\n",
       "      <td>...</td>\n",
       "      <td>...</td>\n",
       "      <td>...</td>\n",
       "    </tr>\n",
       "    <tr>\n",
       "      <th>785</th>\n",
       "      <td>2009</td>\n",
       "      <td>Mashhad</td>\n",
       "      <td>24.794333</td>\n",
       "    </tr>\n",
       "    <tr>\n",
       "      <th>790</th>\n",
       "      <td>2010</td>\n",
       "      <td>Mashhad</td>\n",
       "      <td>25.727667</td>\n",
       "    </tr>\n",
       "    <tr>\n",
       "      <th>795</th>\n",
       "      <td>2011</td>\n",
       "      <td>Mashhad</td>\n",
       "      <td>25.946667</td>\n",
       "    </tr>\n",
       "    <tr>\n",
       "      <th>800</th>\n",
       "      <td>2012</td>\n",
       "      <td>Mashhad</td>\n",
       "      <td>24.990667</td>\n",
       "    </tr>\n",
       "    <tr>\n",
       "      <th>805</th>\n",
       "      <td>2013</td>\n",
       "      <td>Mashhad</td>\n",
       "      <td>25.448000</td>\n",
       "    </tr>\n",
       "  </tbody>\n",
       "</table>\n",
       "<p>164 rows × 3 columns</p>\n",
       "</div>"
      ],
      "text/plain": [
       "     year     city       temp\n",
       "3    1850  Mashhad  23.158000\n",
       "8    1851  Mashhad  23.634667\n",
       "13   1852  Mashhad  23.391333\n",
       "18   1853  Mashhad  23.652667\n",
       "23   1854  Mashhad  22.687333\n",
       "..    ...      ...        ...\n",
       "785  2009  Mashhad  24.794333\n",
       "790  2010  Mashhad  25.727667\n",
       "795  2011  Mashhad  25.946667\n",
       "800  2012  Mashhad  24.990667\n",
       "805  2013  Mashhad  25.448000\n",
       "\n",
       "[164 rows x 3 columns]"
      ]
     },
     "execution_count": 14,
     "metadata": {},
     "output_type": "execute_result"
    }
   ],
   "source": [
    "temp[temp[\"city\"] == \"Mashhad\"]"
   ]
  },
  {
   "cell_type": "markdown",
   "id": "be1f1d6d-2ce2-452c-849a-837e4146414b",
   "metadata": {},
   "source": [
    "В результате получается новый датафрейм, который можно записать в переменную:"
   ]
  },
  {
   "cell_type": "code",
   "execution_count": 15,
   "id": "241745f0-b4cb-40e1-8a19-1f15e956a73f",
   "metadata": {},
   "outputs": [
    {
     "name": "stdout",
     "output_type": "stream",
     "text": [
      "[2001 2002 2003 2004 2005 2006 2007 2008 2009 2010 2011 2012 2013]\n"
     ]
    },
    {
     "data": {
      "text/html": [
       "<div>\n",
       "<style scoped>\n",
       "    .dataframe tbody tr th:only-of-type {\n",
       "        vertical-align: middle;\n",
       "    }\n",
       "\n",
       "    .dataframe tbody tr th {\n",
       "        vertical-align: top;\n",
       "    }\n",
       "\n",
       "    .dataframe thead th {\n",
       "        text-align: right;\n",
       "    }\n",
       "</style>\n",
       "<table border=\"1\" class=\"dataframe\">\n",
       "  <thead>\n",
       "    <tr style=\"text-align: right;\">\n",
       "      <th></th>\n",
       "      <th>year</th>\n",
       "      <th>city</th>\n",
       "      <th>temp</th>\n",
       "    </tr>\n",
       "  </thead>\n",
       "  <tbody>\n",
       "    <tr>\n",
       "      <th>742</th>\n",
       "      <td>2001</td>\n",
       "      <td>Baghdad</td>\n",
       "      <td>36.098333</td>\n",
       "    </tr>\n",
       "    <tr>\n",
       "      <th>743</th>\n",
       "      <td>2001</td>\n",
       "      <td>Calcutta</td>\n",
       "      <td>29.220333</td>\n",
       "    </tr>\n",
       "    <tr>\n",
       "      <th>744</th>\n",
       "      <td>2001</td>\n",
       "      <td>Delhi</td>\n",
       "      <td>31.196667</td>\n",
       "    </tr>\n",
       "  </tbody>\n",
       "</table>\n",
       "</div>"
      ],
      "text/plain": [
       "     year      city       temp\n",
       "742  2001   Baghdad  36.098333\n",
       "743  2001  Calcutta  29.220333\n",
       "744  2001     Delhi  31.196667"
      ]
     },
     "execution_count": 15,
     "metadata": {},
     "output_type": "execute_result"
    }
   ],
   "source": [
    "temp_filtered = temp[temp[\"year\"] > 2000]\n",
    "\n",
    "print(temp_filtered[\"year\"].unique())\n",
    "\n",
    "temp_filtered.head(3)"
   ]
  },
  {
   "cell_type": "markdown",
   "id": "89f209a0-6eb3-45cb-b6c9-dd0534f2c611",
   "metadata": {},
   "source": [
    "При фильтрации нельзя использовать оператор `in`, но можно вызвать от столбца датафрейма (`Series`) метод **`.isin()`**, который делает то же самое:"
   ]
  },
  {
   "cell_type": "code",
   "execution_count": 16,
   "id": "061aa7cf-cac4-437f-9036-d36a40cb92ac",
   "metadata": {},
   "outputs": [
    {
     "ename": "ValueError",
     "evalue": "The truth value of a Series is ambiguous. Use a.empty, a.bool(), a.item(), a.any() or a.all().",
     "output_type": "error",
     "traceback": [
      "\u001b[1;31m---------------------------------------------------------------------------\u001b[0m",
      "\u001b[1;31mValueError\u001b[0m                                Traceback (most recent call last)",
      "\u001b[1;32m~\\AppData\\Local\\Temp\\ipykernel_11956\\1581666738.py\u001b[0m in \u001b[0;36m?\u001b[1;34m()\u001b[0m\n\u001b[1;32m----> 1\u001b[1;33m \u001b[0mtemp\u001b[0m\u001b[1;33m[\u001b[0m\u001b[0mtemp\u001b[0m\u001b[1;33m[\u001b[0m\u001b[1;34m\"city\"\u001b[0m\u001b[1;33m]\u001b[0m \u001b[1;32min\u001b[0m \u001b[1;33m[\u001b[0m\u001b[1;34m\"Calcutta\"\u001b[0m\u001b[1;33m,\u001b[0m \u001b[1;34m\"Delhi\"\u001b[0m\u001b[1;33m]\u001b[0m\u001b[1;33m]\u001b[0m\u001b[1;33m\u001b[0m\u001b[1;33m\u001b[0m\u001b[0m\n\u001b[0m",
      "\u001b[1;32m~\\AppData\\Roaming\\Python\\Python311\\site-packages\\pandas\\core\\generic.py\u001b[0m in \u001b[0;36m?\u001b[1;34m(self)\u001b[0m\n\u001b[0;32m   1575\u001b[0m     \u001b[1;33m@\u001b[0m\u001b[0mfinal\u001b[0m\u001b[1;33m\u001b[0m\u001b[1;33m\u001b[0m\u001b[0m\n\u001b[0;32m   1576\u001b[0m     \u001b[1;32mdef\u001b[0m \u001b[0m__nonzero__\u001b[0m\u001b[1;33m(\u001b[0m\u001b[0mself\u001b[0m\u001b[1;33m)\u001b[0m \u001b[1;33m->\u001b[0m \u001b[0mNoReturn\u001b[0m\u001b[1;33m:\u001b[0m\u001b[1;33m\u001b[0m\u001b[1;33m\u001b[0m\u001b[0m\n\u001b[1;32m-> 1577\u001b[1;33m         raise ValueError(\n\u001b[0m\u001b[0;32m   1578\u001b[0m             \u001b[1;34mf\"The truth value of a {type(self).__name__} is ambiguous. \"\u001b[0m\u001b[1;33m\u001b[0m\u001b[1;33m\u001b[0m\u001b[0m\n\u001b[0;32m   1579\u001b[0m             \u001b[1;34m\"Use a.empty, a.bool(), a.item(), a.any() or a.all().\"\u001b[0m\u001b[1;33m\u001b[0m\u001b[1;33m\u001b[0m\u001b[0m\n\u001b[0;32m   1580\u001b[0m         )\n",
      "\u001b[1;31mValueError\u001b[0m: The truth value of a Series is ambiguous. Use a.empty, a.bool(), a.item(), a.any() or a.all()."
     ]
    }
   ],
   "source": [
    "temp[temp[\"city\"] in [\"Calcutta\", \"Delhi\"]]"
   ]
  },
  {
   "cell_type": "code",
   "execution_count": 17,
   "id": "bbcaee8d-f173-43db-aaff-bdf997e745ef",
   "metadata": {},
   "outputs": [
    {
     "data": {
      "text/html": [
       "<div>\n",
       "<style scoped>\n",
       "    .dataframe tbody tr th:only-of-type {\n",
       "        vertical-align: middle;\n",
       "    }\n",
       "\n",
       "    .dataframe tbody tr th {\n",
       "        vertical-align: top;\n",
       "    }\n",
       "\n",
       "    .dataframe thead th {\n",
       "        text-align: right;\n",
       "    }\n",
       "</style>\n",
       "<table border=\"1\" class=\"dataframe\">\n",
       "  <thead>\n",
       "    <tr style=\"text-align: right;\">\n",
       "      <th></th>\n",
       "      <th>year</th>\n",
       "      <th>city</th>\n",
       "      <th>temp</th>\n",
       "    </tr>\n",
       "  </thead>\n",
       "  <tbody>\n",
       "    <tr>\n",
       "      <th>1</th>\n",
       "      <td>1850</td>\n",
       "      <td>Calcutta</td>\n",
       "      <td>29.244000</td>\n",
       "    </tr>\n",
       "    <tr>\n",
       "      <th>2</th>\n",
       "      <td>1850</td>\n",
       "      <td>Delhi</td>\n",
       "      <td>31.568333</td>\n",
       "    </tr>\n",
       "    <tr>\n",
       "      <th>6</th>\n",
       "      <td>1851</td>\n",
       "      <td>Calcutta</td>\n",
       "      <td>29.221333</td>\n",
       "    </tr>\n",
       "    <tr>\n",
       "      <th>7</th>\n",
       "      <td>1851</td>\n",
       "      <td>Delhi</td>\n",
       "      <td>31.361333</td>\n",
       "    </tr>\n",
       "    <tr>\n",
       "      <th>11</th>\n",
       "      <td>1852</td>\n",
       "      <td>Calcutta</td>\n",
       "      <td>28.947000</td>\n",
       "    </tr>\n",
       "    <tr>\n",
       "      <th>...</th>\n",
       "      <td>...</td>\n",
       "      <td>...</td>\n",
       "      <td>...</td>\n",
       "    </tr>\n",
       "    <tr>\n",
       "      <th>794</th>\n",
       "      <td>2011</td>\n",
       "      <td>Delhi</td>\n",
       "      <td>31.329667</td>\n",
       "    </tr>\n",
       "    <tr>\n",
       "      <th>798</th>\n",
       "      <td>2012</td>\n",
       "      <td>Calcutta</td>\n",
       "      <td>30.467000</td>\n",
       "    </tr>\n",
       "    <tr>\n",
       "      <th>799</th>\n",
       "      <td>2012</td>\n",
       "      <td>Delhi</td>\n",
       "      <td>32.873333</td>\n",
       "    </tr>\n",
       "    <tr>\n",
       "      <th>803</th>\n",
       "      <td>2013</td>\n",
       "      <td>Calcutta</td>\n",
       "      <td>30.052333</td>\n",
       "    </tr>\n",
       "    <tr>\n",
       "      <th>804</th>\n",
       "      <td>2013</td>\n",
       "      <td>Delhi</td>\n",
       "      <td>31.339667</td>\n",
       "    </tr>\n",
       "  </tbody>\n",
       "</table>\n",
       "<p>315 rows × 3 columns</p>\n",
       "</div>"
      ],
      "text/plain": [
       "     year      city       temp\n",
       "1    1850  Calcutta  29.244000\n",
       "2    1850     Delhi  31.568333\n",
       "6    1851  Calcutta  29.221333\n",
       "7    1851     Delhi  31.361333\n",
       "11   1852  Calcutta  28.947000\n",
       "..    ...       ...        ...\n",
       "794  2011     Delhi  31.329667\n",
       "798  2012  Calcutta  30.467000\n",
       "799  2012     Delhi  32.873333\n",
       "803  2013  Calcutta  30.052333\n",
       "804  2013     Delhi  31.339667\n",
       "\n",
       "[315 rows x 3 columns]"
      ]
     },
     "execution_count": 17,
     "metadata": {},
     "output_type": "execute_result"
    }
   ],
   "source": [
    "temp[temp[\"city\"].isin([\"Calcutta\", \"Delhi\"])]"
   ]
  },
  {
   "cell_type": "markdown",
   "id": "6668e515-db0f-4f03-a090-d4fa7d6a8bac",
   "metadata": {},
   "source": [
    "_____"
   ]
  },
  {
   "cell_type": "markdown",
   "id": "189dffd6-6699-4e26-81bd-3f2b358a4e9c",
   "metadata": {},
   "source": [
    "Датафрейм можно не только открыть из *csv*-файла, но и **сохранить в *csv*-файл**. Для этого используется метод **`df.to_csv()`** — его нужно вызвать от датафрейма и подать в него название файла, в который надо сохранить данные. Ещё можно подать аргумент `index`, который указывает, надо ли сохранять индекс в отдельный столбец (по умолчанию `index=True`, то есть индекс сохраняется):"
   ]
  },
  {
   "cell_type": "code",
   "execution_count": 20,
   "id": "381f288d-5ca0-4699-a6d1-6eaaf096f338",
   "metadata": {},
   "outputs": [
    {
     "data": {
      "text/html": [
       "<div>\n",
       "<style scoped>\n",
       "    .dataframe tbody tr th:only-of-type {\n",
       "        vertical-align: middle;\n",
       "    }\n",
       "\n",
       "    .dataframe tbody tr th {\n",
       "        vertical-align: top;\n",
       "    }\n",
       "\n",
       "    .dataframe thead th {\n",
       "        text-align: right;\n",
       "    }\n",
       "</style>\n",
       "<table border=\"1\" class=\"dataframe\">\n",
       "  <thead>\n",
       "    <tr style=\"text-align: right;\">\n",
       "      <th></th>\n",
       "      <th>language</th>\n",
       "      <th>default_order</th>\n",
       "    </tr>\n",
       "  </thead>\n",
       "  <tbody>\n",
       "    <tr>\n",
       "      <th>0</th>\n",
       "      <td>Arabic</td>\n",
       "      <td>VSO</td>\n",
       "    </tr>\n",
       "    <tr>\n",
       "      <th>1</th>\n",
       "      <td>English</td>\n",
       "      <td>SVO</td>\n",
       "    </tr>\n",
       "    <tr>\n",
       "      <th>2</th>\n",
       "      <td>Persian</td>\n",
       "      <td>SOV</td>\n",
       "    </tr>\n",
       "    <tr>\n",
       "      <th>3</th>\n",
       "      <td>Russian</td>\n",
       "      <td>SVO</td>\n",
       "    </tr>\n",
       "  </tbody>\n",
       "</table>\n",
       "</div>"
      ],
      "text/plain": [
       "  language default_order\n",
       "0   Arabic           VSO\n",
       "1  English           SVO\n",
       "2  Persian           SOV\n",
       "3  Russian           SVO"
      ]
     },
     "execution_count": 20,
     "metadata": {},
     "output_type": "execute_result"
    }
   ],
   "source": [
    "slovar"
   ]
  },
  {
   "cell_type": "code",
   "execution_count": 21,
   "id": "ac23b63e-ae27-4ae0-8115-5463ce65d93c",
   "metadata": {},
   "outputs": [],
   "source": [
    "slovar.to_csv(\"slovar.csv\", index=False)"
   ]
  },
  {
   "cell_type": "markdown",
   "id": "bc5bf649-54fa-496f-b035-0b7aea71052c",
   "metadata": {},
   "source": [
    "_____"
   ]
  },
  {
   "cell_type": "markdown",
   "id": "b6e1425d-3a3b-479d-b72a-9c3856a49eb6",
   "metadata": {},
   "source": [
    "> Мы рассмотрели только самые основы работы с `pandas`. Эта библиотека представляет из себя мощный инструмент, необходимый всем, кто работает с табличными данными. Если вы будете использовать питон для исследований или любых других дел по окончанию этого курса, очень рекомендую вам побольше узнать о ней и попрактиковаться — это сохранит вам много времени и сил в такой работе. Вот два милых гайда, которые вам помогут:\n",
    "> - **[гайд №1](https://www.learndatasci.com/tutorials/python-pandas-tutorial-complete-introduction-for-beginners)** (много важных продвинутых вещей на одной странице)\n",
    "> - **[гайд №2](https://www.kaggle.com/learn/pandas)** (мини-самоучитель с простыми заданиями для тренировки)"
   ]
  },
  {
   "cell_type": "markdown",
   "id": "c3c50b6c-7dee-4e85-ba3c-67584424f745",
   "metadata": {},
   "source": [
    "## Библиотека **`matplotlib`**"
   ]
  },
  {
   "cell_type": "markdown",
   "id": "4b9561da-8bd8-47b6-9958-5978d90c84fc",
   "metadata": {},
   "source": [
    "Рассмотрим некоторые инструменты для построения диаграмм из библиотеки **`matplotlib`**. Это огромная библиотека, которая позволяет очень мощно кастомизировать диаграммы. Она не так проста в использовании, но нам важно понимать её основы, потому что это дефолтный способ строить диаграммы в питоне. (Кроме того, альтернативные библиотеки для построения диаграмм пользуются `matplotlib` как внутренним движком, и для них тоже важно знать синтаксис `matplotlib`. Например, так работает более простая и гибкая в использовании библиотека `seaborn`.)\n",
    "\n",
    "Импортируем подмодуль `matplotlib.pyplot` (будем использовать традиционный псевдоним `plt`):"
   ]
  },
  {
   "cell_type": "code",
   "execution_count": 22,
   "id": "94824b9f-86f6-42f5-8198-8c64905c2266",
   "metadata": {},
   "outputs": [],
   "source": [
    "import matplotlib.pyplot as plt"
   ]
  },
  {
   "cell_type": "markdown",
   "id": "41ef5c87-5417-417c-b4cc-afb663cc836c",
   "metadata": {
    "jp-MarkdownHeadingCollapsed": true
   },
   "source": [
    "### Столбчатая диаграмма (*bar plot*)"
   ]
  },
  {
   "cell_type": "markdown",
   "id": "1f92de94-6919-4976-8348-ea8f6b731fff",
   "metadata": {},
   "source": [
    "Прототипическое использование барплота:\n",
    "- ось X: **категориальная переменная**\n",
    "- ось Y: **численная переменная**"
   ]
  },
  {
   "cell_type": "markdown",
   "id": "602fd65c-0526-4372-9c9c-3106faf98ba4",
   "metadata": {},
   "source": [
    "Для построения барплота используется функция **`plt.bar()`**. В неё подаются два обязательных аргумента: `x` (значения категориальной переменной, которую мы хотим расположить на оси X) и `height` (численные значения, соответствующие каждой из категорий). В качестве этих аргументов подойдут любые одномерные итерируемые наборы данных (списки, кортежи, столбцы датафреймов и так далее).\n",
    "\n",
    "После объявления диаграммы принято писать специальную функцию **`plt.show()`**, чтобы вывести её на экран. Но в Jupyter Notebook эту функцию можно и не писать — диаграмма всё равно показывается. Я бы рекомендовал приучиться всегда её использовать, но если вдруг забудется, ничего страшного. (Техническое объяснение того, зачем функция `plt.show()` вообще нужна, можно прочитать [вот здесь](https://stackoverflow.com/questions/66379699/i-dont-understand-what-plt-show-does).)\n",
    "\n",
    "Построим диаграмму, показывающую, сколько иранист:ок пришли на пару 7 марта 2025 года, а сколько не пришли:"
   ]
  },
  {
   "cell_type": "code",
   "execution_count": 23,
   "id": "d0f91c4c-beb6-465c-94a3-95f1c51038ad",
   "metadata": {},
   "outputs": [
    {
     "data": {
      "image/png": "[encoded data removed]",
      "text/plain": [
       "<Figure size 640x480 with 1 Axes>"
      ]
     },
     "metadata": {},
     "output_type": "display_data"
    }
   ],
   "source": [
    "plt.bar(x=[\"пришли\", \"не пришли\"], height=[4, 5])\n",
    "plt.show()"
   ]
  },
  {
   "cell_type": "markdown",
   "id": "305d2763-8282-45f8-be46-97c936319298",
   "metadata": {},
   "source": [
    "В `plt.bar` можно подать много разных дополнительно аргументов. Например, с помощью `width` можно изменить дефолтную ширину столбцов:"
   ]
  },
  {
   "cell_type": "code",
   "execution_count": 24,
   "id": "1425955f-3142-45cb-bfa1-5cb24fe0bde5",
   "metadata": {},
   "outputs": [
    {
     "data": {
      "image/png": "[encoded data removed]",
      "text/plain": [
       "<Figure size 640x480 with 1 Axes>"
      ]
     },
     "metadata": {},
     "output_type": "display_data"
    }
   ],
   "source": [
    "plt.bar(x=[\"пришли\", \"не пришли\"], height=[4, 5], width=0.3)   # ширина = 0.3 от дефолтной\n",
    "plt.show()"
   ]
  },
  {
   "cell_type": "markdown",
   "id": "7d9651fc-6a08-4531-8313-3bb7a7c36c61",
   "metadata": {},
   "source": [
    "До и после объявления диаграммы функцией `plt.bar()` можно объявить ещё несколько вещей. До — отрегулировать параметры всей диаграммы с помощью функции **`plt.figure()`**. Например, в её аргумент `figsize` можно подать кортеж/список вида *(ширина, высота)* (измерямые в дюймах):"
   ]
  },
  {
   "cell_type": "code",
   "execution_count": 26,
   "id": "180e176b-798e-47f1-9193-31b2e6719f63",
   "metadata": {},
   "outputs": [
    {
     "data": {
      "image/png": "[encoded data removed]",
      "text/plain": [
       "<Figure size 200x300 with 1 Axes>"
      ]
     },
     "metadata": {},
     "output_type": "display_data"
    }
   ],
   "source": [
    "plt.figure(figsize=(2, 3))   # ширина диаграммы = 2 дюйма, высота = 3 дюйма\n",
    "\n",
    "plt.bar(x=[\"пришли\", \"не пришли\"], height=[4, 5], width=0.3)\n",
    "plt.show()"
   ]
  },
  {
   "cell_type": "markdown",
   "id": "e51b3ebe-7032-4d1b-a5b9-6815839bc9b2",
   "metadata": {},
   "source": [
    "После объявления диаграммы можно добавить к диаграмме название (`plt.title`), а также названия для оси X (`plt.xlabel`) и оси Y (`plt.ylabel`). Важно, чтобы `plt.show()` при этом оставалась в самом конце!"
   ]
  },
  {
   "cell_type": "code",
   "execution_count": 27,
   "id": "cceb49e2-b96b-40c9-a805-6212168fc42f",
   "metadata": {},
   "outputs": [
    {
     "data": {
      "image/png": "[encoded data removed]",
      "text/plain": [
       "<Figure size 200x300 with 1 Axes>"
      ]
     },
     "metadata": {},
     "output_type": "display_data"
    }
   ],
   "source": [
    "plt.figure(figsize=(2, 3))\n",
    "\n",
    "plt.bar(x=[\"пришли\", \"не пришли\"], height=[4, 5], width=0.3)\n",
    "plt.title(\"Иранисты, кролики, котята\")   # название диаграммы\n",
    "plt.xlabel(\"явка\")                       # название оси X\n",
    "plt.ylabel(\"количество\")                 # название оси Y\n",
    "\n",
    "plt.show()"
   ]
  },
  {
   "cell_type": "markdown",
   "id": "f0807621-8dd7-4df2-8186-4a623858ff50",
   "metadata": {},
   "source": [
    "_____"
   ]
  },
  {
   "cell_type": "markdown",
   "id": "f8f75708-d18c-4150-99be-aa3954b273b0",
   "metadata": {},
   "source": [
    "Вот ещё пара примеров. Возьмём таблицу `poems` (с данными мини-корпуса персидской поэзии) и посчитаем `.value_counts()` по авторам. В получившемся объекте `Series` сами авторы являются индексами (их можно достать, например, атрибутом `.index`). Подадим авторов на ось X, а количество их поэм в корпусе — на ось Y:"
   ]
  },
  {
   "cell_type": "code",
   "execution_count": 34,
   "id": "756c901d-2827-45ab-abad-dbf0b61f0f10",
   "metadata": {},
   "outputs": [
    {
     "name": "stdout",
     "output_type": "stream",
     "text": [
      "Index(['Xāqāni', 'Hāfez', 'Rudaki', 'Xayyām', 'Šahriyār', 'Asadi Tusi'], dtype='object', name='author')\n",
      "author\n",
      "Xāqāni        137\n",
      "Hāfez          53\n",
      "Rudaki         45\n",
      "Xayyām         36\n",
      "Šahriyār       16\n",
      "Asadi Tusi     13\n",
      "Name: count, dtype: int64\n"
     ]
    }
   ],
   "source": [
    "authors = poems[\"author\"].value_counts().index\n",
    "print(authors)\n",
    "\n",
    "values = poems[\"author\"].value_counts()\n",
    "print(values)"
   ]
  },
  {
   "cell_type": "code",
   "execution_count": 35,
   "id": "f4766bb7-2104-4cef-bbed-49bf8aa7b4bc",
   "metadata": {},
   "outputs": [
    {
     "data": {
      "image/png": "[encoded data removed]",
      "text/plain": [
       "<Figure size 600x300 with 1 Axes>"
      ]
     },
     "metadata": {},
     "output_type": "display_data"
    }
   ],
   "source": [
    "plt.figure(figsize=(6, 3))\n",
    "\n",
    "plt.bar(x=authors, height=values, width=0.5)\n",
    "plt.title(\"Количество поэм в корпусе по авторам\")\n",
    "plt.xlabel(\"авторы\")\n",
    "plt.ylabel(\"количество\")\n",
    "\n",
    "plt.show()"
   ]
  },
  {
   "cell_type": "markdown",
   "id": "240e66c1-141b-437b-96e1-b0bab973862c",
   "metadata": {},
   "source": [
    "____"
   ]
  },
  {
   "cell_type": "markdown",
   "id": "79f173f8-8165-451f-a41e-f9038c5a7d09",
   "metadata": {},
   "source": [
    "Ось Y на барплоте может показывать не только количество объектов, но и любые численные данные. Например, давайте отфильтруем датасет с ежегодными замерами температуры по одному году (допустим, 1900-му) и подадим в барплот список городов и их средние летние температуры:"
   ]
  },
  {
   "cell_type": "code",
   "execution_count": 36,
   "id": "c3188af4-fb78-4832-9f1d-6480ffbea7b7",
   "metadata": {},
   "outputs": [
    {
     "data": {
      "text/html": [
       "<div>\n",
       "<style scoped>\n",
       "    .dataframe tbody tr th:only-of-type {\n",
       "        vertical-align: middle;\n",
       "    }\n",
       "\n",
       "    .dataframe tbody tr th {\n",
       "        vertical-align: top;\n",
       "    }\n",
       "\n",
       "    .dataframe thead th {\n",
       "        text-align: right;\n",
       "    }\n",
       "</style>\n",
       "<table border=\"1\" class=\"dataframe\">\n",
       "  <thead>\n",
       "    <tr style=\"text-align: right;\">\n",
       "      <th></th>\n",
       "      <th>year</th>\n",
       "      <th>city</th>\n",
       "      <th>temp</th>\n",
       "    </tr>\n",
       "  </thead>\n",
       "  <tbody>\n",
       "    <tr>\n",
       "      <th>237</th>\n",
       "      <td>1900</td>\n",
       "      <td>Baghdad</td>\n",
       "      <td>33.112333</td>\n",
       "    </tr>\n",
       "    <tr>\n",
       "      <th>238</th>\n",
       "      <td>1900</td>\n",
       "      <td>Calcutta</td>\n",
       "      <td>29.421667</td>\n",
       "    </tr>\n",
       "    <tr>\n",
       "      <th>239</th>\n",
       "      <td>1900</td>\n",
       "      <td>Delhi</td>\n",
       "      <td>32.580000</td>\n",
       "    </tr>\n",
       "    <tr>\n",
       "      <th>240</th>\n",
       "      <td>1900</td>\n",
       "      <td>Mashhad</td>\n",
       "      <td>22.853667</td>\n",
       "    </tr>\n",
       "    <tr>\n",
       "      <th>241</th>\n",
       "      <td>1900</td>\n",
       "      <td>Moscow</td>\n",
       "      <td>16.316333</td>\n",
       "    </tr>\n",
       "  </tbody>\n",
       "</table>\n",
       "</div>"
      ],
      "text/plain": [
       "     year      city       temp\n",
       "237  1900   Baghdad  33.112333\n",
       "238  1900  Calcutta  29.421667\n",
       "239  1900     Delhi  32.580000\n",
       "240  1900   Mashhad  22.853667\n",
       "241  1900    Moscow  16.316333"
      ]
     },
     "execution_count": 36,
     "metadata": {},
     "output_type": "execute_result"
    }
   ],
   "source": [
    "temp = pd.read_csv(\"sem15-temperature.csv\")\n",
    "\n",
    "temp_1900 = temp[temp[\"year\"] == 1900]\n",
    "temp_1900"
   ]
  },
  {
   "cell_type": "code",
   "execution_count": 37,
   "id": "94edecdf-fc15-4dbe-80d1-7981921c96ad",
   "metadata": {},
   "outputs": [
    {
     "data": {
      "image/png": "[encoded data removed]",
      "text/plain": [
       "<Figure size 500x300 with 1 Axes>"
      ]
     },
     "metadata": {},
     "output_type": "display_data"
    }
   ],
   "source": [
    "plt.figure(figsize=(5, 3))\n",
    "\n",
    "plt.bar(x=temp_1900[\"city\"], height=temp_1900[\"temp\"], width=0.5)\n",
    "plt.title(\"Средняя летняя температура в 1900 году\")\n",
    "plt.xlabel(\"города\")\n",
    "plt.ylabel(\"температура (°C)\")\n",
    "\n",
    "plt.show()"
   ]
  },
  {
   "cell_type": "markdown",
   "id": "59c03cc9-b5a5-4857-96da-a975a2b3149f",
   "metadata": {
    "jp-MarkdownHeadingCollapsed": true
   },
   "source": [
    "### Гистограмма (*histogram*)"
   ]
  },
  {
   "cell_type": "markdown",
   "id": "2e8424f5-cfa4-4af2-8858-4030ec8bbe1f",
   "metadata": {},
   "source": [
    "**Гистограмма** показывает распределение непрерывной переменной по оси X. Если вы не знаете или забыли, что такое гистограмма и как она работает, рекомендую посмотреть **[вот это видео](https://youtu.be/c02vjunQsJM?si=uLU0R-dxiPSG27G2)** — или пробежаться по примерам ниже.\n",
    "\n",
    "Прототипическое использование гистограммы:\n",
    "- ось X: **непрерывная численная переменная**\n",
    "- ось Y: **количество данных** (т. е. численная переменная)"
   ]
  },
  {
   "cell_type": "markdown",
   "id": "9e1b7e98-066d-4df0-9188-9bfbcfbd94d5",
   "metadata": {},
   "source": [
    "Давайте загрузим данные о результатах парламентских выборов 2021 года по городу Саратову по избирательным комиссиям (**[ссылка](https://github.com/maxmerben/hse-python-iran-2024/blob/main/other/sem15-saratov2021_elections.csv)**) и построим по ним гистограммы."
   ]
  },
  {
   "cell_type": "code",
   "execution_count": 38,
   "id": "c1e7c179-c36a-41c8-b464-28f2c5f32368",
   "metadata": {},
   "outputs": [],
   "source": [
    "elections = pd.read_csv(\"sem15-saratov2021_elections.csv\")"
   ]
  },
  {
   "cell_type": "code",
   "execution_count": 39,
   "id": "3d675e8c-be96-4d51-92ee-6d01388cba0e",
   "metadata": {},
   "outputs": [
    {
     "data": {
      "text/html": [
       "<div>\n",
       "<style scoped>\n",
       "    .dataframe tbody tr th:only-of-type {\n",
       "        vertical-align: middle;\n",
       "    }\n",
       "\n",
       "    .dataframe tbody tr th {\n",
       "        vertical-align: top;\n",
       "    }\n",
       "\n",
       "    .dataframe thead th {\n",
       "        text-align: right;\n",
       "    }\n",
       "</style>\n",
       "<table border=\"1\" class=\"dataframe\">\n",
       "  <thead>\n",
       "    <tr style=\"text-align: right;\">\n",
       "      <th></th>\n",
       "      <th>УИК</th>\n",
       "      <th>ТИК</th>\n",
       "      <th>избирателей в списках</th>\n",
       "      <th>действительных бюллетеней</th>\n",
       "      <th>КПРФ</th>\n",
       "      <th>Зеленые</th>\n",
       "      <th>ЛДПР</th>\n",
       "      <th>Новые Люди</th>\n",
       "      <th>Единая Россия</th>\n",
       "      <th>Справедливая Россия</th>\n",
       "      <th>...</th>\n",
       "      <th>РПСС</th>\n",
       "      <th>Коммунисты России</th>\n",
       "      <th>Гражданская платформа</th>\n",
       "      <th>Зеленая Альтернатива</th>\n",
       "      <th>Родина</th>\n",
       "      <th>Партия пенсионеров</th>\n",
       "      <th>явка</th>\n",
       "      <th>процент ЕР</th>\n",
       "      <th>сумма не-ЕР</th>\n",
       "      <th>процент не-ЕР</th>\n",
       "    </tr>\n",
       "  </thead>\n",
       "  <tbody>\n",
       "    <tr>\n",
       "      <th>0</th>\n",
       "      <td>1</td>\n",
       "      <td>Волжский</td>\n",
       "      <td>2026</td>\n",
       "      <td>666</td>\n",
       "      <td>206</td>\n",
       "      <td>16</td>\n",
       "      <td>43</td>\n",
       "      <td>50</td>\n",
       "      <td>219</td>\n",
       "      <td>51</td>\n",
       "      <td>...</td>\n",
       "      <td>7</td>\n",
       "      <td>10</td>\n",
       "      <td>3</td>\n",
       "      <td>6</td>\n",
       "      <td>10</td>\n",
       "      <td>13</td>\n",
       "      <td>32.872655</td>\n",
       "      <td>32.882883</td>\n",
       "      <td>447</td>\n",
       "      <td>67.117117</td>\n",
       "    </tr>\n",
       "    <tr>\n",
       "      <th>1</th>\n",
       "      <td>4</td>\n",
       "      <td>Волжский</td>\n",
       "      <td>1067</td>\n",
       "      <td>383</td>\n",
       "      <td>113</td>\n",
       "      <td>11</td>\n",
       "      <td>15</td>\n",
       "      <td>20</td>\n",
       "      <td>133</td>\n",
       "      <td>35</td>\n",
       "      <td>...</td>\n",
       "      <td>7</td>\n",
       "      <td>2</td>\n",
       "      <td>0</td>\n",
       "      <td>8</td>\n",
       "      <td>5</td>\n",
       "      <td>13</td>\n",
       "      <td>35.895033</td>\n",
       "      <td>34.725849</td>\n",
       "      <td>250</td>\n",
       "      <td>65.274151</td>\n",
       "    </tr>\n",
       "    <tr>\n",
       "      <th>2</th>\n",
       "      <td>5</td>\n",
       "      <td>Волжский</td>\n",
       "      <td>1623</td>\n",
       "      <td>606</td>\n",
       "      <td>182</td>\n",
       "      <td>11</td>\n",
       "      <td>34</td>\n",
       "      <td>32</td>\n",
       "      <td>224</td>\n",
       "      <td>52</td>\n",
       "      <td>...</td>\n",
       "      <td>13</td>\n",
       "      <td>9</td>\n",
       "      <td>0</td>\n",
       "      <td>2</td>\n",
       "      <td>6</td>\n",
       "      <td>13</td>\n",
       "      <td>37.338262</td>\n",
       "      <td>36.963696</td>\n",
       "      <td>382</td>\n",
       "      <td>63.036304</td>\n",
       "    </tr>\n",
       "    <tr>\n",
       "      <th>3</th>\n",
       "      <td>6</td>\n",
       "      <td>Волжский</td>\n",
       "      <td>2277</td>\n",
       "      <td>1037</td>\n",
       "      <td>262</td>\n",
       "      <td>21</td>\n",
       "      <td>50</td>\n",
       "      <td>57</td>\n",
       "      <td>475</td>\n",
       "      <td>62</td>\n",
       "      <td>...</td>\n",
       "      <td>8</td>\n",
       "      <td>9</td>\n",
       "      <td>2</td>\n",
       "      <td>13</td>\n",
       "      <td>5</td>\n",
       "      <td>29</td>\n",
       "      <td>45.542380</td>\n",
       "      <td>45.805207</td>\n",
       "      <td>562</td>\n",
       "      <td>54.194793</td>\n",
       "    </tr>\n",
       "    <tr>\n",
       "      <th>4</th>\n",
       "      <td>7</td>\n",
       "      <td>Волжский</td>\n",
       "      <td>1326</td>\n",
       "      <td>567</td>\n",
       "      <td>148</td>\n",
       "      <td>12</td>\n",
       "      <td>22</td>\n",
       "      <td>28</td>\n",
       "      <td>229</td>\n",
       "      <td>51</td>\n",
       "      <td>...</td>\n",
       "      <td>9</td>\n",
       "      <td>11</td>\n",
       "      <td>2</td>\n",
       "      <td>8</td>\n",
       "      <td>7</td>\n",
       "      <td>13</td>\n",
       "      <td>42.760181</td>\n",
       "      <td>40.388007</td>\n",
       "      <td>338</td>\n",
       "      <td>59.611993</td>\n",
       "    </tr>\n",
       "  </tbody>\n",
       "</table>\n",
       "<p>5 rows × 22 columns</p>\n",
       "</div>"
      ],
      "text/plain": [
       "   УИК       ТИК  избирателей в списках  действительных бюллетеней  КПРФ  \\\n",
       "0    1  Волжский                   2026                        666   206   \n",
       "1    4  Волжский                   1067                        383   113   \n",
       "2    5  Волжский                   1623                        606   182   \n",
       "3    6  Волжский                   2277                       1037   262   \n",
       "4    7  Волжский                   1326                        567   148   \n",
       "\n",
       "   Зеленые  ЛДПР  Новые Люди  Единая Россия  Справедливая Россия  ...  РПСС  \\\n",
       "0       16    43          50            219                   51  ...     7   \n",
       "1       11    15          20            133                   35  ...     7   \n",
       "2       11    34          32            224                   52  ...    13   \n",
       "3       21    50          57            475                   62  ...     8   \n",
       "4       12    22          28            229                   51  ...     9   \n",
       "\n",
       "   Коммунисты России  Гражданская платформа  Зеленая Альтернатива  Родина  \\\n",
       "0                 10                      3                     6      10   \n",
       "1                  2                      0                     8       5   \n",
       "2                  9                      0                     2       6   \n",
       "3                  9                      2                    13       5   \n",
       "4                 11                      2                     8       7   \n",
       "\n",
       "   Партия пенсионеров       явка  процент ЕР  сумма не-ЕР  процент не-ЕР  \n",
       "0                  13  32.872655   32.882883          447      67.117117  \n",
       "1                  13  35.895033   34.725849          250      65.274151  \n",
       "2                  13  37.338262   36.963696          382      63.036304  \n",
       "3                  29  45.542380   45.805207          562      54.194793  \n",
       "4                  13  42.760181   40.388007          338      59.611993  \n",
       "\n",
       "[5 rows x 22 columns]"
      ]
     },
     "execution_count": 39,
     "metadata": {},
     "output_type": "execute_result"
    }
   ],
   "source": [
    "elections.head()"
   ]
  },
  {
   "cell_type": "markdown",
   "id": "6712ea80-4d78-4dda-a64d-5c24c9aca85a",
   "metadata": {},
   "source": [
    "Гистограмма строится с помощью функции **`plt.hist()`**. В неё подаётся один аргумент, `x`. Подадим туда один из столбцов датафрейма — например, расположим на оси X явку (процент избиратель:ниц, которые пришли на выборы, от всех потенциальных избиратель:ниц):"
   ]
  },
  {
   "cell_type": "code",
   "execution_count": 43,
   "id": "a78ed55a-2644-4dbb-a656-17549c2acc51",
   "metadata": {},
   "outputs": [
    {
     "data": {
      "image/png": "[encoded data removed]",
      "text/plain": [
       "<Figure size 400x300 with 1 Axes>"
      ]
     },
     "metadata": {},
     "output_type": "display_data"
    }
   ],
   "source": [
    "plt.figure(figsize=(4, 3))\n",
    "\n",
    "plt.hist(x=elections[\"явка\"])\n",
    "plt.title(\"Распределение явки на выборах 2021 года по Саратову\")\n",
    "plt.xlabel(\"явка\")\n",
    "plt.ylabel(\"количество УИКов\")\n",
    "\n",
    "plt.show()"
   ]
  },
  {
   "cell_type": "markdown",
   "id": "60fd7336-2290-43b6-bf9d-dc174ef08e08",
   "metadata": {},
   "source": [
    "Получилась гистограмма, которую надо читать так:\n",
    "- если разделить весь числовой ряд, на котором есть значения явки, на 10 равных интервалов,\n",
    "- то окажется, что в первом интервале $≈25$ УИКов, во втором — $≈138$, и так далее."
   ]
  },
  {
   "cell_type": "markdown",
   "id": "cbeb827f-6db8-485e-959f-971114e276e7",
   "metadata": {},
   "source": [
    "При этом мы видим, что ось X начинается не с $0$, а с $20$ — потому что в датасете не оказалось УИКов, в которых явка была бы меньше $20 \\%$. Если мы хотим это исправить, можно указать границы оси эксплицитно — с помощью функции **`plt.xlim()`** (или **`plt.ylim()`** для оси Y)."
   ]
  },
  {
   "cell_type": "code",
   "execution_count": 42,
   "id": "f63293b2-1c6a-473d-b386-25d7edd525ca",
   "metadata": {},
   "outputs": [
    {
     "data": {
      "image/png": "[encoded data removed]",
      "text/plain": [
       "<Figure size 400x300 with 1 Axes>"
      ]
     },
     "metadata": {},
     "output_type": "display_data"
    }
   ],
   "source": [
    "plt.figure(figsize=(4, 3))\n",
    "\n",
    "plt.hist(x=elections[\"явка\"])\n",
    "plt.title(\"Распределение явки на выборах 2021 года по Саратову\")\n",
    "plt.xlabel(\"явка\")\n",
    "plt.ylabel(\"количество УИКов\")\n",
    "plt.xlim(0, 100)                 # ось X будет ограничена значениями 0 и 100\n",
    "\n",
    "plt.show()"
   ]
  },
  {
   "cell_type": "markdown",
   "id": "2532924d-c81a-4ed4-8fb2-0002df411e5f",
   "metadata": {},
   "source": [
    "По умолчанию гистограмма состоит из десяти интервалов (англ. ***bins***, буквально ‘**корзинки**’), но мы можем сами выбрать нужное количество с помощью аргумента `bins` при построении гистограммы. Если выбрать большее число *bins*, то каждая конкретная «корзинка» будет захватывать более узкий интервал, а значит, и в высоту будет меньше:"
   ]
  },
  {
   "cell_type": "code",
   "execution_count": 44,
   "id": "7fe9adcc-8e26-4ae4-9436-99f5981f2a14",
   "metadata": {},
   "outputs": [
    {
     "data": {
      "image/png": "[encoded data removed]",
      "text/plain": [
       "<Figure size 400x300 with 1 Axes>"
      ]
     },
     "metadata": {},
     "output_type": "display_data"
    }
   ],
   "source": [
    "plt.figure(figsize=(4, 3))\n",
    "\n",
    "plt.hist(x=elections[\"явка\"], bins=80)\n",
    "plt.title(\"Распределение явки на выборах 2021 года по Саратову\")\n",
    "plt.xlabel(\"явка\")\n",
    "plt.ylabel(\"количество УИКов\")\n",
    "plt.xlim(0, 100)\n",
    "\n",
    "plt.show()"
   ]
  },
  {
   "cell_type": "markdown",
   "id": "e161a14b-e492-4bc5-b6d7-d8ceef551572",
   "metadata": {},
   "source": [
    "Наоборот, если выбрать маленькое число корзинок, то они станут толстыми, и каждая из них будет захватывать очень много данных. Слишком большие и слишком маленькие значения `bins` делают гистограмму малоинформативной — надо подбирать золотую середину (обычно это 10–20 корзинок, в зависимости от данных):"
   ]
  },
  {
   "cell_type": "code",
   "execution_count": 45,
   "id": "6d37d43b-26f4-48c3-b51c-e09c84c44e7b",
   "metadata": {},
   "outputs": [
    {
     "data": {
      "image/png": "[encoded data removed]",
      "text/plain": [
       "<Figure size 400x300 with 1 Axes>"
      ]
     },
     "metadata": {},
     "output_type": "display_data"
    }
   ],
   "source": [
    "plt.figure(figsize=(4, 3))\n",
    "\n",
    "plt.hist(x=elections[\"явка\"], bins=5)\n",
    "plt.title(\"Распределение явки на выборах 2021 года по Саратову\")\n",
    "plt.xlabel(\"явка\")\n",
    "plt.ylabel(\"количество УИКов\")\n",
    "plt.xlim(0, 100)\n",
    "\n",
    "plt.show()"
   ]
  },
  {
   "cell_type": "markdown",
   "id": "6bc48c56-05e2-4483-8ab5-b5288f357b5c",
   "metadata": {},
   "source": [
    "_____"
   ]
  },
  {
   "cell_type": "markdown",
   "id": "4a50155d-0bd8-46ca-97a5-8538342f0888",
   "metadata": {},
   "source": [
    "**Обратите внимание на отличия гистограммы от барплота!**\n",
    "\n",
    "* У гистограммы на оси X — (обычно непрерывная) численная переменная, а у барплота — категориальная.\n",
    "* В гистограмму подаётся только одна переменная (на ось X), а ось Y высчитывается автоматически согласно тому, как разные строки данных попадают в интервалы-корзинки. В барплот подаются уже готовые значения оси Y, соответствующие значениям оси X. Поэтому в гистограмме ось Y может показывать только количество данных, а в барплоте — любые численные данные (например, по оси X могут быть города, а по оси Y — температура в них)."
   ]
  },
  {
   "cell_type": "markdown",
   "id": "efb5f2b5-1825-4e1f-b474-1ab7f6aa4e0d",
   "metadata": {
    "jp-MarkdownHeadingCollapsed": true
   },
   "source": [
    "### Точечная диаграмма (*scatter plot*)"
   ]
  },
  {
   "cell_type": "markdown",
   "id": "593eed4b-aaa8-4e36-aef3-2257f684cb86",
   "metadata": {},
   "source": [
    "Прототипическое использование скаттерплота:\n",
    "- ось X: **непрерывная численная переменная**\n",
    "- ось Y: **непрерывная численная переменная**"
   ]
  },
  {
   "cell_type": "markdown",
   "id": "f3e30fb9-d9bb-4e5f-99ef-e9c5482b63aa",
   "metadata": {},
   "source": [
    "Построим точечную диаграмму, которая будет показывать среднюю летнюю температуру в Мешхеде за последние полтора века. По оси X будет год (слева направо), а по оси Y — температура. Сначала отфильтруем все данные по Мешхеду, а потом подадим в функцию **`plt.scatter()`** соответствующие столбцы из отфильтованного датафрейма:"
   ]
  },
  {
   "cell_type": "code",
   "execution_count": 46,
   "id": "85396c30-ebc6-4b6b-a9e0-e8c251562d43",
   "metadata": {},
   "outputs": [
    {
     "data": {
      "text/html": [
       "<div>\n",
       "<style scoped>\n",
       "    .dataframe tbody tr th:only-of-type {\n",
       "        vertical-align: middle;\n",
       "    }\n",
       "\n",
       "    .dataframe tbody tr th {\n",
       "        vertical-align: top;\n",
       "    }\n",
       "\n",
       "    .dataframe thead th {\n",
       "        text-align: right;\n",
       "    }\n",
       "</style>\n",
       "<table border=\"1\" class=\"dataframe\">\n",
       "  <thead>\n",
       "    <tr style=\"text-align: right;\">\n",
       "      <th></th>\n",
       "      <th>year</th>\n",
       "      <th>city</th>\n",
       "      <th>temp</th>\n",
       "    </tr>\n",
       "  </thead>\n",
       "  <tbody>\n",
       "    <tr>\n",
       "      <th>3</th>\n",
       "      <td>1850</td>\n",
       "      <td>Mashhad</td>\n",
       "      <td>23.158000</td>\n",
       "    </tr>\n",
       "    <tr>\n",
       "      <th>8</th>\n",
       "      <td>1851</td>\n",
       "      <td>Mashhad</td>\n",
       "      <td>23.634667</td>\n",
       "    </tr>\n",
       "    <tr>\n",
       "      <th>13</th>\n",
       "      <td>1852</td>\n",
       "      <td>Mashhad</td>\n",
       "      <td>23.391333</td>\n",
       "    </tr>\n",
       "    <tr>\n",
       "      <th>18</th>\n",
       "      <td>1853</td>\n",
       "      <td>Mashhad</td>\n",
       "      <td>23.652667</td>\n",
       "    </tr>\n",
       "    <tr>\n",
       "      <th>23</th>\n",
       "      <td>1854</td>\n",
       "      <td>Mashhad</td>\n",
       "      <td>22.687333</td>\n",
       "    </tr>\n",
       "  </tbody>\n",
       "</table>\n",
       "</div>"
      ],
      "text/plain": [
       "    year     city       temp\n",
       "3   1850  Mashhad  23.158000\n",
       "8   1851  Mashhad  23.634667\n",
       "13  1852  Mashhad  23.391333\n",
       "18  1853  Mashhad  23.652667\n",
       "23  1854  Mashhad  22.687333"
      ]
     },
     "execution_count": 46,
     "metadata": {},
     "output_type": "execute_result"
    }
   ],
   "source": [
    "temp_mashhad = temp[temp[\"city\"] == \"Mashhad\"]\n",
    "temp_mashhad.head()"
   ]
  },
  {
   "cell_type": "code",
   "execution_count": 47,
   "id": "884a1013-4e42-4cce-8525-8856d781b6c8",
   "metadata": {},
   "outputs": [
    {
     "data": {
      "image/png": "[encoded data removed]",
      "text/plain": [
       "<Figure size 600x400 with 1 Axes>"
      ]
     },
     "metadata": {},
     "output_type": "display_data"
    }
   ],
   "source": [
    "plt.figure(figsize=(6, 4))\n",
    "\n",
    "plt.scatter(x=temp_mashhad[\"year\"], y=temp_mashhad[\"temp\"])\n",
    "plt.title(\"Средняя летняя температура в Мешхеде\")\n",
    "plt.xlabel(\"год\")\n",
    "plt.ylabel(\"температура (°C)\")\n",
    "\n",
    "plt.show()"
   ]
  },
  {
   "cell_type": "markdown",
   "id": "68dfcd96-fd70-4f37-8c58-31df7d691d54",
   "metadata": {},
   "source": [
    "Все эти диаграммы можно **сохранять на компьютер как изображения** привычных форматов (*jpeg*, *png* и прочие). Делается это функцией **`plt.savefig()`**. В неё нужно подать название будущего файла, а также — опционально — разрешение картинки в виде числа DPI (*dots per inch*, то есть ‘пикселей на дюйм’). Это значение будет определять качество сохраняемой картинки (обычно 200–300 DPI хватает для чёткого качества; дефолтное значение может давать слегка шакальную картинку).\n",
    "\n",
    "Функция `plt.savefig()` должна располагаться после всех украшений диаграммы, но обязательно перед `plt.show()`. Изображение появится тут же, в той папке, где находится тетрадка:"
   ]
  },
  {
   "cell_type": "code",
   "execution_count": 48,
   "id": "4de44154-24b1-4b10-880e-22da37548277",
   "metadata": {},
   "outputs": [
    {
     "data": {
      "image/png": "[encoded data removed]",
      "text/plain": [
       "<Figure size 600x400 with 1 Axes>"
      ]
     },
     "metadata": {},
     "output_type": "display_data"
    }
   ],
   "source": [
    "plt.figure(figsize=(6, 4))\n",
    "\n",
    "plt.scatter(x=temp_mashhad[\"year\"], y=temp_mashhad[\"temp\"])\n",
    "plt.title(\"Средняя летняя температура в Мешхеде\")\n",
    "plt.xlabel(\"год\")\n",
    "plt.ylabel(\"температура (°C)\")\n",
    "\n",
    "plt.savefig(\"mashhad-temp.png\", dpi=300)\n",
    "plt.show()"
   ]
  },
  {
   "cell_type": "markdown",
   "id": "d1bbd220-b59d-4540-b04e-b0c448021f16",
   "metadata": {
    "jp-MarkdownHeadingCollapsed": true
   },
   "source": [
    "## Дополнительные материалы: **`seaborn`**"
   ]
  },
  {
   "cell_type": "markdown",
   "id": "5a2532ce-a235-4f7d-b411-7f84c0f46628",
   "metadata": {},
   "source": [
    "Выше мы обсуждали только самую дефолтную и немного громоздкую библиотеку для визуализации, `matplotlib`. В этих дополнительных материалах я немного похвастаюсь возможностями другой популярной библиотеки, **`seaborn`**. Она опирается на `matplotlib` как на внутренний движок и использует её функции, но заменяет его во многих аспектах, в которых тот слишком неудобен. Рассмотрите примеры ниже и оцените простоту и интуитивность синтаксиса. Если они вдохновят вас изучить основы `seaborn` самостоятельно (это несложно!), вот несколько ссылок, которые вам помогут:\n",
    "\n",
    "- **[введение в `seaborn`](https://seaborn.pydata.org/tutorial/introduction.html)**\n",
    "- **[примеры диаграмм в `seaborn`](https://seaborn.pydata.org/examples/index.html)**"
   ]
  },
  {
   "cell_type": "code",
   "execution_count": 49,
   "id": "7c0bf0c6-e061-463f-bd6d-1ec7333448ee",
   "metadata": {},
   "outputs": [],
   "source": [
    "import seaborn as sns"
   ]
  },
  {
   "cell_type": "code",
   "execution_count": 59,
   "id": "f47198fb-2d25-4ea7-aea2-6fef6e8c477f",
   "metadata": {},
   "outputs": [
    {
     "data": {
      "image/png": "[encoded data removed]",
      "text/plain": [
       "<Figure size 746.5x400 with 1 Axes>"
      ]
     },
     "metadata": {},
     "output_type": "display_data"
    }
   ],
   "source": [
    "sns.relplot(\n",
    "    data=elections,\n",
    "    x=\"явка\", y=\"процент ЕР\",\n",
    "    hue=\"ТИК\",                          # цвет (hue) точки будет зависеть от переменной «ТИК»\n",
    "    size=\"действительных бюллетеней\",   # размер точки будет зависеть от переменной «действ…»\n",
    "    height=4,                           # высота диаграммы = 4 дюйма\n",
    "    aspect=1.2                          # отношение ширины диаграммы к высоте\n",
    ")\n",
    "\n",
    "plt.title(\"Парламентские выборы 2021 года в Саратове\")\n",
    "plt.xlim(0, 100)\n",
    "plt.ylim(0, 100)\n",
    "\n",
    "plt.show()"
   ]
  },
  {
   "cell_type": "markdown",
   "id": "596d16a9-2aa8-4ea1-b83c-24a5239343d4",
   "metadata": {},
   "source": [
    "_____"
   ]
  },
  {
   "cell_type": "markdown",
   "id": "4bcae60e-0919-4632-a783-0e02d179ce76",
   "metadata": {},
   "source": [
    "Второй пример — из датасета с данными о физиологических особенностях некоторых подвидов пингвинчиков (длина клюва, «глубина» клюва, длина крыла, масса тела и пол). (Кстати, зацените, в `seaborn` есть встроенные датасеты, на которых можно упражняться в визуализации; их можно загрузить прямо из питона функцией `load_dataset()`.)"
   ]
  },
  {
   "cell_type": "code",
   "execution_count": 51,
   "id": "ab2284bb-1aff-4377-8c4c-1719bc5a769d",
   "metadata": {},
   "outputs": [],
   "source": [
    "penguins = sns.load_dataset(\"penguins\")"
   ]
  },
  {
   "cell_type": "code",
   "execution_count": 52,
   "id": "9e329920-df69-441a-96f6-6b2b396f2bf7",
   "metadata": {},
   "outputs": [
    {
     "data": {
      "text/html": [
       "<div>\n",
       "<style scoped>\n",
       "    .dataframe tbody tr th:only-of-type {\n",
       "        vertical-align: middle;\n",
       "    }\n",
       "\n",
       "    .dataframe tbody tr th {\n",
       "        vertical-align: top;\n",
       "    }\n",
       "\n",
       "    .dataframe thead th {\n",
       "        text-align: right;\n",
       "    }\n",
       "</style>\n",
       "<table border=\"1\" class=\"dataframe\">\n",
       "  <thead>\n",
       "    <tr style=\"text-align: right;\">\n",
       "      <th></th>\n",
       "      <th>species</th>\n",
       "      <th>island</th>\n",
       "      <th>bill_length_mm</th>\n",
       "      <th>bill_depth_mm</th>\n",
       "      <th>flipper_length_mm</th>\n",
       "      <th>body_mass_g</th>\n",
       "      <th>sex</th>\n",
       "    </tr>\n",
       "  </thead>\n",
       "  <tbody>\n",
       "    <tr>\n",
       "      <th>0</th>\n",
       "      <td>Adelie</td>\n",
       "      <td>Torgersen</td>\n",
       "      <td>39.1</td>\n",
       "      <td>18.7</td>\n",
       "      <td>181.0</td>\n",
       "      <td>3750.0</td>\n",
       "      <td>Male</td>\n",
       "    </tr>\n",
       "    <tr>\n",
       "      <th>1</th>\n",
       "      <td>Adelie</td>\n",
       "      <td>Torgersen</td>\n",
       "      <td>39.5</td>\n",
       "      <td>17.4</td>\n",
       "      <td>186.0</td>\n",
       "      <td>3800.0</td>\n",
       "      <td>Female</td>\n",
       "    </tr>\n",
       "    <tr>\n",
       "      <th>2</th>\n",
       "      <td>Adelie</td>\n",
       "      <td>Torgersen</td>\n",
       "      <td>40.3</td>\n",
       "      <td>18.0</td>\n",
       "      <td>195.0</td>\n",
       "      <td>3250.0</td>\n",
       "      <td>Female</td>\n",
       "    </tr>\n",
       "    <tr>\n",
       "      <th>3</th>\n",
       "      <td>Adelie</td>\n",
       "      <td>Torgersen</td>\n",
       "      <td>NaN</td>\n",
       "      <td>NaN</td>\n",
       "      <td>NaN</td>\n",
       "      <td>NaN</td>\n",
       "      <td>NaN</td>\n",
       "    </tr>\n",
       "    <tr>\n",
       "      <th>4</th>\n",
       "      <td>Adelie</td>\n",
       "      <td>Torgersen</td>\n",
       "      <td>36.7</td>\n",
       "      <td>19.3</td>\n",
       "      <td>193.0</td>\n",
       "      <td>3450.0</td>\n",
       "      <td>Female</td>\n",
       "    </tr>\n",
       "  </tbody>\n",
       "</table>\n",
       "</div>"
      ],
      "text/plain": [
       "  species     island  bill_length_mm  bill_depth_mm  flipper_length_mm  \\\n",
       "0  Adelie  Torgersen            39.1           18.7              181.0   \n",
       "1  Adelie  Torgersen            39.5           17.4              186.0   \n",
       "2  Adelie  Torgersen            40.3           18.0              195.0   \n",
       "3  Adelie  Torgersen             NaN            NaN                NaN   \n",
       "4  Adelie  Torgersen            36.7           19.3              193.0   \n",
       "\n",
       "   body_mass_g     sex  \n",
       "0       3750.0    Male  \n",
       "1       3800.0  Female  \n",
       "2       3250.0  Female  \n",
       "3          NaN     NaN  \n",
       "4       3450.0  Female  "
      ]
     },
     "execution_count": 52,
     "metadata": {},
     "output_type": "execute_result"
    }
   ],
   "source": [
    "penguins.head()"
   ]
  },
  {
   "cell_type": "code",
   "execution_count": 58,
   "id": "e5eb6a5e-f821-4038-b0c9-9f6398cc46d3",
   "metadata": {},
   "outputs": [
    {
     "data": {
      "image/png": "[encoded data removed]",
      "text/plain": [
       "<Figure size 550.25x300 with 1 Axes>"
      ]
     },
     "metadata": {},
     "output_type": "display_data"
    }
   ],
   "source": [
    "sns.catplot(\n",
    "    data=penguins,\n",
    "    x=\"species\", y=\"body_mass_g\",\n",
    "    kind=\"bar\",     # тип диаграммы (bar plot)\n",
    "    hue=\"sex\",      # группировка, показанная цветом (hue)\n",
    "    height=3,       # высота диаграммы = 3 дюйма\n",
    "    aspect=1.5      # отношение ширины диаграммы к высоте\n",
    ")\n",
    "plt.title(\"Масса тела пингвинчиков\")\n",
    "plt.xlabel(\"разновидность пингвинчика\")\n",
    "plt.ylabel(\"масса (г)\")\n",
    "\n",
    "plt.show()"
   ]
  },
  {
   "cell_type": "markdown",
   "id": "3b1fabc7-dcbd-4286-95ab-741dfc9132f8",
   "metadata": {},
   "source": [
    "_____"
   ]
  },
  {
   "cell_type": "markdown",
   "id": "d5ca12e1-e567-4d9e-9200-a20b9a420b0e",
   "metadata": {},
   "source": [
    "Ещё один потрясающий тип визуализации, который может легко сделать `seaborn`, — это тепловая карта, или **хитмэп** (а в `matplotlib`, кстати, его сделать очень трудно). Хитмэп используется, когда нужно показать сетку из двух категориальных переменных, на пересечениях которых находятся числа. Эти числа будут наглядно показываться цветом — чем больше значение, тем «теплее» цвет. Например, можно сделать нечто подобное:"
   ]
  },
  {
   "cell_type": "code",
   "execution_count": 56,
   "id": "7ad7f2ef-0aeb-4150-8d6d-e2c1c4683cc1",
   "metadata": {},
   "outputs": [
    {
     "data": {
      "text/html": [
       "<div>\n",
       "<style scoped>\n",
       "    .dataframe tbody tr th:only-of-type {\n",
       "        vertical-align: middle;\n",
       "    }\n",
       "\n",
       "    .dataframe tbody tr th {\n",
       "        vertical-align: top;\n",
       "    }\n",
       "\n",
       "    .dataframe thead th {\n",
       "        text-align: right;\n",
       "    }\n",
       "</style>\n",
       "<table border=\"1\" class=\"dataframe\">\n",
       "  <thead>\n",
       "    <tr style=\"text-align: right;\">\n",
       "      <th></th>\n",
       "      <th>антични:цы</th>\n",
       "      <th>библеист:ки</th>\n",
       "      <th>индолог:ини</th>\n",
       "      <th>иранист:ки</th>\n",
       "    </tr>\n",
       "  </thead>\n",
       "  <tbody>\n",
       "    <tr>\n",
       "      <th>мальчики</th>\n",
       "      <td>3</td>\n",
       "      <td>6</td>\n",
       "      <td>4</td>\n",
       "      <td>2</td>\n",
       "    </tr>\n",
       "    <tr>\n",
       "      <th>девочки</th>\n",
       "      <td>8</td>\n",
       "      <td>6</td>\n",
       "      <td>5</td>\n",
       "      <td>6</td>\n",
       "    </tr>\n",
       "  </tbody>\n",
       "</table>\n",
       "</div>"
      ],
      "text/plain": [
       "          антични:цы  библеист:ки  индолог:ини  иранист:ки\n",
       "мальчики           3            6            4           2\n",
       "девочки            8            6            5           6"
      ]
     },
     "execution_count": 56,
     "metadata": {},
     "output_type": "execute_result"
    }
   ],
   "source": [
    "students = pd.DataFrame({\n",
    "    \"антични:цы\":  {\"мальчики\": 3, \"девочки\": 8},\n",
    "    \"библеист:ки\": {\"мальчики\": 6, \"девочки\": 6},\n",
    "    \"индолог:ини\": {\"мальчики\": 4, \"девочки\": 5},\n",
    "    \"иранист:ки\":  {\"мальчики\": 2, \"девочки\": 6}\n",
    "})\n",
    "students"
   ]
  },
  {
   "cell_type": "code",
   "execution_count": 57,
   "id": "ca439be7-32a0-4149-9f1a-0925e1d63eb6",
   "metadata": {},
   "outputs": [
    {
     "data": {
      "image/png": "[encoded data removed]",
      "text/plain": [
       "<Figure size 400x160 with 2 Axes>"
      ]
     },
     "metadata": {},
     "output_type": "display_data"
    }
   ],
   "source": [
    "plt.figure(figsize=(4, 1.6))\n",
    "\n",
    "sns.heatmap(students, annot=True)\n",
    "plt.title(\"Студент:ки второго курса ИКВИА\")\n",
    "\n",
    "plt.show()"
   ]
  }
 ],
 "metadata": {
  "kernelspec": {
   "display_name": "Python 3 (ipykernel)",
   "language": "python",
   "name": "python3"
  },
  "language_info": {
   "codemirror_mode": {
    "name": "ipython",
    "version": 3
   },
   "file_extension": ".py",
   "mimetype": "text/x-python",
   "name": "python",
   "nbconvert_exporter": "python",
   "pygments_lexer": "ipython3",
   "version": "3.11.4"
  }
 },
 "nbformat": 4,
 "nbformat_minor": 5
}
