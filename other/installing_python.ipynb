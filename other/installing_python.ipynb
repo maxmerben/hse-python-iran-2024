{
 "cells": [
  {
   "cell_type": "markdown",
   "id": "4ec7f680-0bc3-4169-ad83-ab7dc789abb1",
   "metadata": {},
   "source": [
    "# Подготовка рабочей среды"
   ]
  },
  {
   "cell_type": "markdown",
   "id": "d62a16e1-25e4-4242-8532-7f8e801f3ab3",
   "metadata": {},
   "source": [
    "Чтобы начать учиться программировать на Python, нам потребуется скачать (1) собственно Python и (2) программу-«оболочку», в которой нам будет удобно писать код. Сделать это можно несколькими способами. Выберите один из них:\n",
    "\n",
    "1. [Скачать **Anaconda**](https://www.anaconda.com/download). Anaconda — это программа «всё в одном», сразу обеспечит всё нужное. В ней уже есть и Python, и «оболочка». Это решение предлагается в онлайн-курсе Вышки, и в одном из учебных [видео](https://edu.hse.ru/mod/page/view.php?id=502433) курса подробно описан процесс установки. Мне не очень нравится этот путь, потому что Anaconda включает в себя много штук, которые, возможно, вам никогда не пригодятся (или пригодятся когда-нибудь уже после нашего курса), но будут зачем-то храниться на вашем жёстком диске. Если вам это тоже не нравится, предлагаю такие альтернативы:\n",
    "3. Скачать **Miniconda**. Это как обычная Anaconda, но внутри только нужное. [Подробнее об отличиях](https://docs.anaconda.com/distro-or-miniconda/). А вот [видео-гайд](https://www.youtube.com/watch?v=Mrws6ZN5aoc) про установку Miniconda.\n",
    "4. Просто отдельно (а) [скачать **Python**](https://www.python.org/downloads/) и (б) затем скачать «оболочку» **Jupyter Notebook**. Рекомендую [вот этот видео-гайд](https://www.youtube.com/watch?v=VIaur9G-0tc). Результат будет примерно такой же, как с Miniconda, но ещё меньше лишнего.\n",
    "\n",
    "Если у вас совсем не хватает места, пишите в чат, есть ещё более экономные решения!"
   ]
  }
 ],
 "metadata": {
  "kernelspec": {
   "display_name": "Python 3 (ipykernel)",
   "language": "python",
   "name": "python3"
  },
  "language_info": {
   "codemirror_mode": {
    "name": "ipython",
    "version": 3
   },
   "file_extension": ".py",
   "mimetype": "text/x-python",
   "name": "python",
   "nbconvert_exporter": "python",
   "pygments_lexer": "ipython3",
   "version": "3.11.4"
  }
 },
 "nbformat": 4,
 "nbformat_minor": 5
}
